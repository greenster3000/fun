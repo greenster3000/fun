{
 "cells": [
  {
   "cell_type": "code",
   "execution_count": 2,
   "metadata": {
    "collapsed": true
   },
   "outputs": [],
   "source": [
    "import pandas as pd\n",
    "import numpy as np\n",
    "import os"
   ]
  },
  {
   "cell_type": "code",
   "execution_count": 3,
   "metadata": {
    "collapsed": false
   },
   "outputs": [],
   "source": [
    "df = pd.read_csv(\"../processed/pl_to_20180924.csv\", \n",
    "                usecols=['season', 'Date', 'HomeTeam', 'AwayTeam', 'FTHG', 'FTAG', \n",
    "                         'FTR', 'HS', 'AS', 'HST', 'AST'],\n",
    "                parse_dates=['Date'],\n",
    "                dtype={\"season\": \"str\"})"
   ]
  },
  {
   "cell_type": "code",
   "execution_count": 4,
   "metadata": {
    "collapsed": false
   },
   "outputs": [
    {
     "data": {
      "text/html": [
       "<div>\n",
       "<style>\n",
       "    .dataframe thead tr:only-child th {\n",
       "        text-align: right;\n",
       "    }\n",
       "\n",
       "    .dataframe thead th {\n",
       "        text-align: left;\n",
       "    }\n",
       "\n",
       "    .dataframe tbody tr th {\n",
       "        vertical-align: top;\n",
       "    }\n",
       "</style>\n",
       "<table border=\"1\" class=\"dataframe\">\n",
       "  <thead>\n",
       "    <tr style=\"text-align: right;\">\n",
       "      <th></th>\n",
       "      <th>AS</th>\n",
       "      <th>AST</th>\n",
       "      <th>AwayTeam</th>\n",
       "      <th>Date</th>\n",
       "      <th>FTAG</th>\n",
       "      <th>FTHG</th>\n",
       "      <th>FTR</th>\n",
       "      <th>HS</th>\n",
       "      <th>HST</th>\n",
       "      <th>HomeTeam</th>\n",
       "      <th>season</th>\n",
       "    </tr>\n",
       "  </thead>\n",
       "  <tbody>\n",
       "    <tr>\n",
       "      <th>0</th>\n",
       "      <td>13.0</td>\n",
       "      <td>6.0</td>\n",
       "      <td>Bolton</td>\n",
       "      <td>2005-08-13</td>\n",
       "      <td>2.0</td>\n",
       "      <td>2.0</td>\n",
       "      <td>D</td>\n",
       "      <td>3.0</td>\n",
       "      <td>2.0</td>\n",
       "      <td>Aston Villa</td>\n",
       "      <td>0506</td>\n",
       "    </tr>\n",
       "    <tr>\n",
       "      <th>1</th>\n",
       "      <td>12.0</td>\n",
       "      <td>5.0</td>\n",
       "      <td>Man United</td>\n",
       "      <td>2005-08-13</td>\n",
       "      <td>2.0</td>\n",
       "      <td>0.0</td>\n",
       "      <td>A</td>\n",
       "      <td>10.0</td>\n",
       "      <td>5.0</td>\n",
       "      <td>Everton</td>\n",
       "      <td>0506</td>\n",
       "    </tr>\n",
       "    <tr>\n",
       "      <th>2</th>\n",
       "      <td>7.0</td>\n",
       "      <td>4.0</td>\n",
       "      <td>Birmingham</td>\n",
       "      <td>2005-08-13</td>\n",
       "      <td>0.0</td>\n",
       "      <td>0.0</td>\n",
       "      <td>D</td>\n",
       "      <td>15.0</td>\n",
       "      <td>7.0</td>\n",
       "      <td>Fulham</td>\n",
       "      <td>0506</td>\n",
       "    </tr>\n",
       "    <tr>\n",
       "      <th>3</th>\n",
       "      <td>13.0</td>\n",
       "      <td>3.0</td>\n",
       "      <td>West Brom</td>\n",
       "      <td>2005-08-13</td>\n",
       "      <td>0.0</td>\n",
       "      <td>0.0</td>\n",
       "      <td>D</td>\n",
       "      <td>15.0</td>\n",
       "      <td>8.0</td>\n",
       "      <td>Man City</td>\n",
       "      <td>0506</td>\n",
       "    </tr>\n",
       "    <tr>\n",
       "      <th>4</th>\n",
       "      <td>16.0</td>\n",
       "      <td>7.0</td>\n",
       "      <td>Liverpool</td>\n",
       "      <td>2005-08-13</td>\n",
       "      <td>0.0</td>\n",
       "      <td>0.0</td>\n",
       "      <td>D</td>\n",
       "      <td>4.0</td>\n",
       "      <td>2.0</td>\n",
       "      <td>Middlesbrough</td>\n",
       "      <td>0506</td>\n",
       "    </tr>\n",
       "  </tbody>\n",
       "</table>\n",
       "</div>"
      ],
      "text/plain": [
       "     AS  AST    AwayTeam       Date  FTAG  FTHG FTR    HS  HST       HomeTeam  \\\n",
       "0  13.0  6.0      Bolton 2005-08-13   2.0   2.0   D   3.0  2.0    Aston Villa   \n",
       "1  12.0  5.0  Man United 2005-08-13   2.0   0.0   A  10.0  5.0        Everton   \n",
       "2   7.0  4.0  Birmingham 2005-08-13   0.0   0.0   D  15.0  7.0         Fulham   \n",
       "3  13.0  3.0   West Brom 2005-08-13   0.0   0.0   D  15.0  8.0       Man City   \n",
       "4  16.0  7.0   Liverpool 2005-08-13   0.0   0.0   D   4.0  2.0  Middlesbrough   \n",
       "\n",
       "  season  \n",
       "0   0506  \n",
       "1   0506  \n",
       "2   0506  \n",
       "3   0506  \n",
       "4   0506  "
      ]
     },
     "execution_count": 4,
     "metadata": {},
     "output_type": "execute_result"
    }
   ],
   "source": [
    "df.head()"
   ]
  },
  {
   "cell_type": "code",
   "execution_count": 5,
   "metadata": {
    "collapsed": false
   },
   "outputs": [
    {
     "data": {
      "text/plain": [
       "6520"
      ]
     },
     "execution_count": 5,
     "metadata": {},
     "output_type": "execute_result"
    }
   ],
   "source": [
    "len(df)"
   ]
  },
  {
   "cell_type": "code",
   "execution_count": 6,
   "metadata": {
    "collapsed": false
   },
   "outputs": [
    {
     "data": {
      "text/plain": [
       "AS                 float64\n",
       "AST                float64\n",
       "AwayTeam            object\n",
       "Date        datetime64[ns]\n",
       "FTAG               float64\n",
       "FTHG               float64\n",
       "FTR                 object\n",
       "HS                 float64\n",
       "HST                float64\n",
       "HomeTeam            object\n",
       "season              object\n",
       "dtype: object"
      ]
     },
     "execution_count": 6,
     "metadata": {},
     "output_type": "execute_result"
    }
   ],
   "source": [
    "df.dtypes"
   ]
  },
  {
   "cell_type": "markdown",
   "metadata": {},
   "source": [
    "Thinking now, given the problems with teams disappearing and reappearing through relegation and promotion, we may be better off treating each season on its own, the concatenating together"
   ]
  },
  {
   "cell_type": "code",
   "execution_count": 134,
   "metadata": {
    "collapsed": true
   },
   "outputs": [],
   "source": [
    "df_a = pd.read_csv(\"../data/16.csv\")"
   ]
  },
  {
   "cell_type": "code",
   "execution_count": 147,
   "metadata": {
    "collapsed": false
   },
   "outputs": [
    {
     "data": {
      "text/plain": [
       "Index(['Div', 'Date', 'HomeTeam', 'AwayTeam', 'FTHG', 'FTAG', 'FTR', 'HTHG',\n",
       "       'HTAG', 'HTR', 'Referee', 'HS', 'AS', 'HST', 'AST', 'HF', 'AF', 'HC',\n",
       "       'AC', 'HY', 'AY', 'HR', 'AR', 'B365H', 'B365D', 'B365A', 'BWH', 'BWD',\n",
       "       'BWA', 'IWH', 'IWD', 'IWA', 'LBH', 'LBD', 'LBA', 'PSH', 'PSD', 'PSA',\n",
       "       'WHH', 'WHD', 'WHA', 'VCH', 'VCD', 'VCA', 'Bb1X2', 'BbMxH', 'BbAvH',\n",
       "       'BbMxD', 'BbAvD', 'BbMxA', 'BbAvA', 'BbOU', 'BbMx>2.5', 'BbAv>2.5',\n",
       "       'BbMx<2.5', 'BbAv<2.5', 'BbAH', 'BbAHh', 'BbMxAHH', 'BbAvAHH',\n",
       "       'BbMxAHA', 'BbAvAHA', 'PSCH', 'PSCD', 'PSCA'],\n",
       "      dtype='object')"
      ]
     },
     "execution_count": 147,
     "metadata": {},
     "output_type": "execute_result"
    }
   ],
   "source": [
    "df_a.columns"
   ]
  },
  {
   "cell_type": "code",
   "execution_count": 168,
   "metadata": {
    "collapsed": false
   },
   "outputs": [],
   "source": [
    "df = pd.read_csv(\"../data/16.csv\", usecols=['Date', 'HomeTeam', 'AwayTeam', 'FTHG', 'FTAG', \n",
    "                         'FTR', 'HS', 'AS', 'HST', 'AST', 'BbMxH', 'BbMxD', 'BbMxA', 'FTR'], parse_dates=['Date'], dayfirst=True)"
   ]
  },
  {
   "cell_type": "code",
   "execution_count": 169,
   "metadata": {
    "collapsed": false
   },
   "outputs": [],
   "source": [
    "df.sort_values([\"Date\"], inplace=True)"
   ]
  },
  {
   "cell_type": "code",
   "execution_count": 7,
   "metadata": {
    "collapsed": true
   },
   "outputs": [],
   "source": [
    "cols = ['Date', 'HomeTeam', 'AwayTeam', \n",
    "        'FTHG', 'FTAG', 'HS', 'AS', 'HST', 'AST',\n",
    "        'FTR',\n",
    "        'season']\n",
    "bet_cols = ['BbMxH', 'BbMxD', 'BbMxA']"
   ]
  },
  {
   "cell_type": "code",
   "execution_count": 8,
   "metadata": {
    "collapsed": false
   },
   "outputs": [
    {
     "name": "stdout",
     "output_type": "stream",
     "text": [
      "reading 01.csv\n",
      "reading 02.csv\n",
      "reading 03.csv\n",
      "reading 04.csv\n",
      "reading 05.csv\n",
      "reading 06.csv\n",
      "reading 07.csv\n",
      "reading 08.csv\n",
      "reading 09.csv\n",
      "reading 10.csv\n",
      "reading 11.csv\n",
      "reading 12.csv\n",
      "reading 13.csv\n",
      "reading 14.csv\n",
      "reading 15.csv\n",
      "reading 16.csv\n",
      "reading 17.csv\n",
      "reading 18.csv\n",
      "reading 19.csv\n"
     ]
    }
   ],
   "source": [
    "df_list = []\n",
    "cols = ['Date', 'HomeTeam', 'AwayTeam', \n",
    "        'FTHG', 'FTAG', 'HS', 'AS', 'HST', 'AST',\n",
    "        'FTR']\n",
    "bet_cols = ['BbMxH', 'BbMxD', 'BbMxA']\n",
    "for file in sorted(os.listdir(\"../data/\")):\n",
    "    if file == \"01.csv\" or file == \"02.csv\" or file == \"03.csv\" or file == \"04.csv\" or file == \"05.csv\":\n",
    "        print(\"reading \" + file)\n",
    "        df = pd.read_csv(\"../data/\" + file, \n",
    "                         usecols= cols,\n",
    "                         parse_dates=['Date'], \n",
    "                         dayfirst=True)\n",
    "    elif file != \"01.csv\":\n",
    "        print(\"reading \" + file)\n",
    "        df = pd.read_csv(\"../data/\" + file, \n",
    "                         usecols= cols + bet_cols,\n",
    "                         parse_dates=['Date'], \n",
    "                         dayfirst=True)\n",
    "        \n",
    "    for i, row in enumerate(df.itertuples()):\n",
    "        \n",
    "        home_team = row.HomeTeam\n",
    "        away_team = row.AwayTeam\n",
    "        match_date = row.Date\n",
    "\n",
    "        hr = df[((df.HomeTeam == home_team) | (df.AwayTeam == home_team)) & \n",
    "                    (df.Date < match_date)].tail(6)\n",
    "        ar = df[((df.HomeTeam == away_team) | (df.AwayTeam == away_team)) & \n",
    "                    (df.Date < match_date)].tail(6)\n",
    "        if (len(hr) >= 6) & (len(ar) >= 6):\n",
    "            htgf_last_6 = hr[hr.HomeTeam == home_team].FTHG.sum() + hr[hr.AwayTeam == home_team].FTAG.sum()\n",
    "            htga_last_6 = hr[hr.HomeTeam == home_team].FTAG.sum() + hr[hr.AwayTeam == home_team].FTHG.sum()\n",
    "            htsf_last_6 = hr[hr.HomeTeam == home_team].HS.sum() + hr[hr.AwayTeam == home_team].AS.sum()\n",
    "            htsa_last_6 = hr[hr.HomeTeam == home_team].AS.sum() + hr[hr.AwayTeam == home_team].HS.sum()\n",
    "            htstf_last_6 = hr[hr.HomeTeam == home_team].HST.sum() + hr[hr.AwayTeam == home_team].AST.sum()\n",
    "            htsta_last_6 = hr[hr.HomeTeam == home_team].AST.sum() + hr[hr.AwayTeam == home_team].HST.sum()\n",
    "\n",
    "            atgf_last_6 = ar[ar.HomeTeam == away_team].FTHG.sum() + ar[ar.AwayTeam == away_team].FTAG.sum()\n",
    "            atga_last_6 = ar[ar.HomeTeam == away_team].FTAG.sum() + ar[ar.AwayTeam == away_team].FTHG.sum()\n",
    "            atsf_last_6 = ar[ar.HomeTeam == away_team].HS.sum() + ar[ar.AwayTeam == away_team].AS.sum()\n",
    "            atsa_last_6 = ar[ar.HomeTeam == away_team].AS.sum() + ar[ar.AwayTeam == away_team].HS.sum()\n",
    "            atstf_last_6 = ar[ar.HomeTeam == away_team].HST.sum() + ar[ar.AwayTeam == away_team].AST.sum()\n",
    "            atsta_last_6 = ar[ar.HomeTeam == away_team].AST.sum() + ar[ar.AwayTeam == away_team].HST.sum()\n",
    "\n",
    "            df.loc[i, \"htgf_last_6\"] = htgf_last_6\n",
    "            df.loc[i, \"htga_last_6\"] = htga_last_6\n",
    "            df.loc[i, \"htsf_last_6\"] = htsf_last_6\n",
    "            df.loc[i, \"htsa_last_6\"] = htsa_last_6\n",
    "            df.loc[i, \"htstf_last_6\"] = htstf_last_6\n",
    "            df.loc[i, \"htsta_last_6\"] = htsta_last_6\n",
    "\n",
    "            df.loc[i, \"atgf_last_6\"] = atgf_last_6\n",
    "            df.loc[i, \"atga_last_6\"] = atga_last_6\n",
    "            df.loc[i, \"atsf_last_6\"] = atsf_last_6\n",
    "            df.loc[i, \"atsa_last_6\"] = atsa_last_6\n",
    "            df.loc[i, \"atstf_last_6\"] = atstf_last_6\n",
    "            df.loc[i, \"atsta_last_6\"] = atsta_last_6\n",
    "\n",
    "    df_list.append(df)"
   ]
  },
  {
   "cell_type": "code",
   "execution_count": 9,
   "metadata": {
    "collapsed": true
   },
   "outputs": [],
   "source": [
    "result = pd.concat(df_list).sort_values(\"Date\")"
   ]
  },
  {
   "cell_type": "code",
   "execution_count": 26,
   "metadata": {
    "collapsed": false
   },
   "outputs": [],
   "source": [
    "result.dropna(subset=['atsta_last_6'], inplace=True)"
   ]
  },
  {
   "cell_type": "code",
   "execution_count": 27,
   "metadata": {
    "collapsed": false
   },
   "outputs": [
    {
     "data": {
      "text/plain": [
       "Index(['AS', 'AST', 'AwayTeam', 'BbMxA', 'BbMxD', 'BbMxH', 'Date', 'FTAG',\n",
       "       'FTHG', 'FTR', 'HS', 'HST', 'HomeTeam', 'atga_last_6', 'atgf_last_6',\n",
       "       'atsa_last_6', 'atsf_last_6', 'atsta_last_6', 'atstf_last_6',\n",
       "       'htga_last_6', 'htgf_last_6', 'htsa_last_6', 'htsf_last_6',\n",
       "       'htsta_last_6', 'htstf_last_6'],\n",
       "      dtype='object')"
      ]
     },
     "execution_count": 27,
     "metadata": {},
     "output_type": "execute_result"
    }
   ],
   "source": [
    "result.columns"
   ]
  },
  {
   "cell_type": "code",
   "execution_count": 28,
   "metadata": {
    "collapsed": true
   },
   "outputs": [],
   "source": [
    "result_features_labels = result[['Date', 'atga_last_6', 'atgf_last_6',\n",
    "       'atsa_last_6', 'atsf_last_6', 'atsta_last_6', 'atstf_last_6',\n",
    "       'htga_last_6', 'htgf_last_6', 'htsa_last_6', 'htsf_last_6',\n",
    "       'htsta_last_6', 'htstf_last_6', 'FTR']]"
   ]
  },
  {
   "cell_type": "code",
   "execution_count": 29,
   "metadata": {
    "collapsed": false
   },
   "outputs": [],
   "source": [
    "train = result_features_labels[result_features_labels.Date < pd.datetime(2014, 6, 1)]"
   ]
  },
  {
   "cell_type": "code",
   "execution_count": 30,
   "metadata": {
    "collapsed": true
   },
   "outputs": [],
   "source": [
    "test = result_features_labels[result_features_labels.Date >= pd.datetime(2014, 6, 1)]"
   ]
  },
  {
   "cell_type": "code",
   "execution_count": 36,
   "metadata": {
    "collapsed": false
   },
   "outputs": [
    {
     "name": "stderr",
     "output_type": "stream",
     "text": [
      "/home/alexander/anaconda/envs/py36/lib/python3.6/site-packages/ipykernel_launcher.py:1: SettingWithCopyWarning: \n",
      "A value is trying to be set on a copy of a slice from a DataFrame\n",
      "\n",
      "See the caveats in the documentation: http://pandas.pydata.org/pandas-docs/stable/indexing.html#indexing-view-versus-copy\n",
      "  \"\"\"Entry point for launching an IPython kernel.\n"
     ]
    }
   ],
   "source": [
    "test.drop(['Date'], inplace=True, axis=1)"
   ]
  },
  {
   "cell_type": "code",
   "execution_count": 37,
   "metadata": {
    "collapsed": false
   },
   "outputs": [
    {
     "name": "stderr",
     "output_type": "stream",
     "text": [
      "/home/alexander/anaconda/envs/py36/lib/python3.6/site-packages/ipykernel_launcher.py:1: SettingWithCopyWarning: \n",
      "A value is trying to be set on a copy of a slice from a DataFrame\n",
      "\n",
      "See the caveats in the documentation: http://pandas.pydata.org/pandas-docs/stable/indexing.html#indexing-view-versus-copy\n",
      "  \"\"\"Entry point for launching an IPython kernel.\n"
     ]
    }
   ],
   "source": [
    "train.drop(['Date'], inplace=True, axis=1)"
   ]
  },
  {
   "cell_type": "code",
   "execution_count": 38,
   "metadata": {
    "collapsed": true
   },
   "outputs": [],
   "source": [
    "train.to_csv(\"../processed/train_last_6.csv\")"
   ]
  },
  {
   "cell_type": "code",
   "execution_count": 39,
   "metadata": {
    "collapsed": true
   },
   "outputs": [],
   "source": [
    "test.to_csv(\"../processed/test_last_6.csv\")"
   ]
  },
  {
   "cell_type": "markdown",
   "metadata": {},
   "source": [
    "Check that in the first 228 rows of each season, each team has played 6 matches, then restrict to this"
   ]
  },
  {
   "cell_type": "code",
   "execution_count": 160,
   "metadata": {
    "collapsed": true
   },
   "outputs": [],
   "source": [
    "from collections import Counter"
   ]
  },
  {
   "cell_type": "code",
   "execution_count": 166,
   "metadata": {
    "collapsed": false
   },
   "outputs": [
    {
     "name": "stdout",
     "output_type": "stream",
     "text": [
      "reading 02.csv\n",
      "[('Charlton', 12)]\n",
      "reading 03.csv\n",
      "[('Aston Villa', 13)]\n",
      "reading 04.csv\n",
      "[('Fulham', 12)]\n",
      "reading 05.csv\n",
      "[('Aston Villa', 12)]\n",
      "reading 06.csv\n",
      "[('Sunderland', 13)]\n",
      "reading 07.csv\n",
      "[('Bolton', 12)]\n",
      "reading 08.csv\n",
      "[('Aston Villa', 12)]\n",
      "reading 09.csv\n",
      "[('Arsenal', 12)]\n",
      "reading 10.csv\n",
      "[('Aston Villa', 12)]\n",
      "reading 11.csv\n",
      "[('Aston Villa', 12)]\n",
      "reading 12.csv\n",
      "[('Blackburn', 12)]\n",
      "reading 13.csv\n",
      "[('Newcastle', 12)]\n",
      "reading 14.csv\n",
      "[('Liverpool', 12)]\n",
      "reading 15.csv\n",
      "[('Man United', 12)]\n",
      "reading 16.csv\n",
      "[('Chelsea', 12)]\n",
      "reading 17.csv\n",
      "[('Burnley', 13)]\n",
      "reading 18.csv\n",
      "[('Chelsea', 12)]\n",
      "reading 19.csv\n",
      "[('Watford', 4)]\n"
     ]
    }
   ],
   "source": [
    "for file in sorted(os.listdir(\"../data/\")):\n",
    "    if file[0] in ['0', '1'] and file != \"01.csv\":\n",
    "        print(\"reading \" + file)\n",
    "        temp = pd.read_csv(\"../data/\" + file, \n",
    "                                   usecols=list(range(48)), \n",
    "                                   encoding=\"latin-1\")\n",
    "        \n",
    "        print(a.most_common(1))"
   ]
  },
  {
   "cell_type": "code",
   "execution_count": null,
   "metadata": {
    "collapsed": true
   },
   "outputs": [],
   "source": []
  }
 ],
 "metadata": {
  "kernelspec": {
   "display_name": "Python 3",
   "language": "python",
   "name": "python3"
  },
  "language_info": {
   "codemirror_mode": {
    "name": "ipython",
    "version": 3
   },
   "file_extension": ".py",
   "mimetype": "text/x-python",
   "name": "python",
   "nbconvert_exporter": "python",
   "pygments_lexer": "ipython3",
   "version": "3.6.2"
  }
 },
 "nbformat": 4,
 "nbformat_minor": 0
}
