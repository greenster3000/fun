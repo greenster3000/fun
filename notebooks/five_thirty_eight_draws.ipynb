{
 "cells": [
  {
   "cell_type": "code",
   "execution_count": 146,
   "metadata": {
    "collapsed": true
   },
   "outputs": [],
   "source": [
    "import pandas as pd\n",
    "import numpy as np\n",
    "% matplotlib inline\n",
    "import matplotlib.pyplot as plt"
   ]
  },
  {
   "cell_type": "code",
   "execution_count": 147,
   "metadata": {
    "collapsed": true
   },
   "outputs": [],
   "source": [
    "df = pd.read_csv(\"../data/spi_matches.csv\", parse_dates=[\"date\"])"
   ]
  },
  {
   "cell_type": "code",
   "execution_count": 148,
   "metadata": {
    "collapsed": false
   },
   "outputs": [
    {
     "data": {
      "text/plain": [
       "21126"
      ]
     },
     "execution_count": 148,
     "metadata": {},
     "output_type": "execute_result"
    }
   ],
   "source": [
    "len(df)"
   ]
  },
  {
   "cell_type": "code",
   "execution_count": 141,
   "metadata": {
    "collapsed": false,
    "scrolled": true
   },
   "outputs": [
    {
     "data": {
      "text/html": [
       "<div>\n",
       "<style>\n",
       "    .dataframe thead tr:only-child th {\n",
       "        text-align: right;\n",
       "    }\n",
       "\n",
       "    .dataframe thead th {\n",
       "        text-align: left;\n",
       "    }\n",
       "\n",
       "    .dataframe tbody tr th {\n",
       "        vertical-align: top;\n",
       "    }\n",
       "</style>\n",
       "<table border=\"1\" class=\"dataframe\">\n",
       "  <thead>\n",
       "    <tr style=\"text-align: right;\">\n",
       "      <th></th>\n",
       "      <th>date</th>\n",
       "      <th>league_id</th>\n",
       "      <th>league</th>\n",
       "      <th>team1</th>\n",
       "      <th>team2</th>\n",
       "      <th>spi1</th>\n",
       "      <th>spi2</th>\n",
       "      <th>prob1</th>\n",
       "      <th>prob2</th>\n",
       "      <th>probtie</th>\n",
       "      <th>...</th>\n",
       "      <th>importance1</th>\n",
       "      <th>importance2</th>\n",
       "      <th>score1</th>\n",
       "      <th>score2</th>\n",
       "      <th>xg1</th>\n",
       "      <th>xg2</th>\n",
       "      <th>nsxg1</th>\n",
       "      <th>nsxg2</th>\n",
       "      <th>adj_score1</th>\n",
       "      <th>adj_score2</th>\n",
       "    </tr>\n",
       "  </thead>\n",
       "  <tbody>\n",
       "    <tr>\n",
       "      <th>18104</th>\n",
       "      <td>2019-02-09</td>\n",
       "      <td>1843</td>\n",
       "      <td>French Ligue 1</td>\n",
       "      <td>Amiens</td>\n",
       "      <td>Caen</td>\n",
       "      <td>51.91</td>\n",
       "      <td>51.70</td>\n",
       "      <td>0.4400</td>\n",
       "      <td>0.2478</td>\n",
       "      <td>0.3122</td>\n",
       "      <td>...</td>\n",
       "      <td>NaN</td>\n",
       "      <td>NaN</td>\n",
       "      <td>NaN</td>\n",
       "      <td>NaN</td>\n",
       "      <td>NaN</td>\n",
       "      <td>NaN</td>\n",
       "      <td>NaN</td>\n",
       "      <td>NaN</td>\n",
       "      <td>NaN</td>\n",
       "      <td>NaN</td>\n",
       "    </tr>\n",
       "    <tr>\n",
       "      <th>18344</th>\n",
       "      <td>2019-02-16</td>\n",
       "      <td>1843</td>\n",
       "      <td>French Ligue 1</td>\n",
       "      <td>Angers</td>\n",
       "      <td>Nice</td>\n",
       "      <td>58.31</td>\n",
       "      <td>63.22</td>\n",
       "      <td>0.3936</td>\n",
       "      <td>0.2956</td>\n",
       "      <td>0.3108</td>\n",
       "      <td>...</td>\n",
       "      <td>NaN</td>\n",
       "      <td>NaN</td>\n",
       "      <td>NaN</td>\n",
       "      <td>NaN</td>\n",
       "      <td>NaN</td>\n",
       "      <td>NaN</td>\n",
       "      <td>NaN</td>\n",
       "      <td>NaN</td>\n",
       "      <td>NaN</td>\n",
       "      <td>NaN</td>\n",
       "    </tr>\n",
       "    <tr>\n",
       "      <th>18594</th>\n",
       "      <td>2019-02-23</td>\n",
       "      <td>1843</td>\n",
       "      <td>French Ligue 1</td>\n",
       "      <td>Amiens</td>\n",
       "      <td>Nice</td>\n",
       "      <td>51.91</td>\n",
       "      <td>63.22</td>\n",
       "      <td>0.3283</td>\n",
       "      <td>0.3522</td>\n",
       "      <td>0.3195</td>\n",
       "      <td>...</td>\n",
       "      <td>NaN</td>\n",
       "      <td>NaN</td>\n",
       "      <td>NaN</td>\n",
       "      <td>NaN</td>\n",
       "      <td>NaN</td>\n",
       "      <td>NaN</td>\n",
       "      <td>NaN</td>\n",
       "      <td>NaN</td>\n",
       "      <td>NaN</td>\n",
       "      <td>NaN</td>\n",
       "    </tr>\n",
       "    <tr>\n",
       "      <th>18843</th>\n",
       "      <td>2019-03-02</td>\n",
       "      <td>1843</td>\n",
       "      <td>French Ligue 1</td>\n",
       "      <td>Bordeaux</td>\n",
       "      <td>Montpellier</td>\n",
       "      <td>61.33</td>\n",
       "      <td>65.99</td>\n",
       "      <td>0.3970</td>\n",
       "      <td>0.2878</td>\n",
       "      <td>0.3152</td>\n",
       "      <td>...</td>\n",
       "      <td>NaN</td>\n",
       "      <td>NaN</td>\n",
       "      <td>NaN</td>\n",
       "      <td>NaN</td>\n",
       "      <td>NaN</td>\n",
       "      <td>NaN</td>\n",
       "      <td>NaN</td>\n",
       "      <td>NaN</td>\n",
       "      <td>NaN</td>\n",
       "      <td>NaN</td>\n",
       "    </tr>\n",
       "    <tr>\n",
       "      <th>19352</th>\n",
       "      <td>2019-03-16</td>\n",
       "      <td>1843</td>\n",
       "      <td>French Ligue 1</td>\n",
       "      <td>Reims</td>\n",
       "      <td>Nantes</td>\n",
       "      <td>57.79</td>\n",
       "      <td>64.57</td>\n",
       "      <td>0.3711</td>\n",
       "      <td>0.3157</td>\n",
       "      <td>0.3132</td>\n",
       "      <td>...</td>\n",
       "      <td>NaN</td>\n",
       "      <td>NaN</td>\n",
       "      <td>NaN</td>\n",
       "      <td>NaN</td>\n",
       "      <td>NaN</td>\n",
       "      <td>NaN</td>\n",
       "      <td>NaN</td>\n",
       "      <td>NaN</td>\n",
       "      <td>NaN</td>\n",
       "      <td>NaN</td>\n",
       "    </tr>\n",
       "    <tr>\n",
       "      <th>19857</th>\n",
       "      <td>2019-04-06</td>\n",
       "      <td>1843</td>\n",
       "      <td>French Ligue 1</td>\n",
       "      <td>Nice</td>\n",
       "      <td>Montpellier</td>\n",
       "      <td>63.22</td>\n",
       "      <td>65.99</td>\n",
       "      <td>0.4101</td>\n",
       "      <td>0.2646</td>\n",
       "      <td>0.3253</td>\n",
       "      <td>...</td>\n",
       "      <td>NaN</td>\n",
       "      <td>NaN</td>\n",
       "      <td>NaN</td>\n",
       "      <td>NaN</td>\n",
       "      <td>NaN</td>\n",
       "      <td>NaN</td>\n",
       "      <td>NaN</td>\n",
       "      <td>NaN</td>\n",
       "      <td>NaN</td>\n",
       "      <td>NaN</td>\n",
       "    </tr>\n",
       "    <tr>\n",
       "      <th>20856</th>\n",
       "      <td>2019-05-11</td>\n",
       "      <td>1843</td>\n",
       "      <td>French Ligue 1</td>\n",
       "      <td>Caen</td>\n",
       "      <td>Reims</td>\n",
       "      <td>51.70</td>\n",
       "      <td>57.79</td>\n",
       "      <td>0.3806</td>\n",
       "      <td>0.3032</td>\n",
       "      <td>0.3162</td>\n",
       "      <td>...</td>\n",
       "      <td>NaN</td>\n",
       "      <td>NaN</td>\n",
       "      <td>NaN</td>\n",
       "      <td>NaN</td>\n",
       "      <td>NaN</td>\n",
       "      <td>NaN</td>\n",
       "      <td>NaN</td>\n",
       "      <td>NaN</td>\n",
       "      <td>NaN</td>\n",
       "      <td>NaN</td>\n",
       "    </tr>\n",
       "    <tr>\n",
       "      <th>20975</th>\n",
       "      <td>2019-05-18</td>\n",
       "      <td>1843</td>\n",
       "      <td>French Ligue 1</td>\n",
       "      <td>Montpellier</td>\n",
       "      <td>Nantes</td>\n",
       "      <td>65.99</td>\n",
       "      <td>64.57</td>\n",
       "      <td>0.4499</td>\n",
       "      <td>0.2358</td>\n",
       "      <td>0.3142</td>\n",
       "      <td>...</td>\n",
       "      <td>NaN</td>\n",
       "      <td>NaN</td>\n",
       "      <td>NaN</td>\n",
       "      <td>NaN</td>\n",
       "      <td>NaN</td>\n",
       "      <td>NaN</td>\n",
       "      <td>NaN</td>\n",
       "      <td>NaN</td>\n",
       "      <td>NaN</td>\n",
       "      <td>NaN</td>\n",
       "    </tr>\n",
       "  </tbody>\n",
       "</table>\n",
       "<p>8 rows × 22 columns</p>\n",
       "</div>"
      ],
      "text/plain": [
       "            date  league_id          league        team1        team2   spi1  \\\n",
       "18104 2019-02-09       1843  French Ligue 1       Amiens         Caen  51.91   \n",
       "18344 2019-02-16       1843  French Ligue 1       Angers         Nice  58.31   \n",
       "18594 2019-02-23       1843  French Ligue 1       Amiens         Nice  51.91   \n",
       "18843 2019-03-02       1843  French Ligue 1     Bordeaux  Montpellier  61.33   \n",
       "19352 2019-03-16       1843  French Ligue 1        Reims       Nantes  57.79   \n",
       "19857 2019-04-06       1843  French Ligue 1         Nice  Montpellier  63.22   \n",
       "20856 2019-05-11       1843  French Ligue 1         Caen        Reims  51.70   \n",
       "20975 2019-05-18       1843  French Ligue 1  Montpellier       Nantes  65.99   \n",
       "\n",
       "        spi2   prob1   prob2  probtie     ...      importance1  importance2  \\\n",
       "18104  51.70  0.4400  0.2478   0.3122     ...              NaN          NaN   \n",
       "18344  63.22  0.3936  0.2956   0.3108     ...              NaN          NaN   \n",
       "18594  63.22  0.3283  0.3522   0.3195     ...              NaN          NaN   \n",
       "18843  65.99  0.3970  0.2878   0.3152     ...              NaN          NaN   \n",
       "19352  64.57  0.3711  0.3157   0.3132     ...              NaN          NaN   \n",
       "19857  65.99  0.4101  0.2646   0.3253     ...              NaN          NaN   \n",
       "20856  57.79  0.3806  0.3032   0.3162     ...              NaN          NaN   \n",
       "20975  64.57  0.4499  0.2358   0.3142     ...              NaN          NaN   \n",
       "\n",
       "       score1  score2  xg1  xg2  nsxg1  nsxg2  adj_score1  adj_score2  \n",
       "18104     NaN     NaN  NaN  NaN    NaN    NaN         NaN         NaN  \n",
       "18344     NaN     NaN  NaN  NaN    NaN    NaN         NaN         NaN  \n",
       "18594     NaN     NaN  NaN  NaN    NaN    NaN         NaN         NaN  \n",
       "18843     NaN     NaN  NaN  NaN    NaN    NaN         NaN         NaN  \n",
       "19352     NaN     NaN  NaN  NaN    NaN    NaN         NaN         NaN  \n",
       "19857     NaN     NaN  NaN  NaN    NaN    NaN         NaN         NaN  \n",
       "20856     NaN     NaN  NaN  NaN    NaN    NaN         NaN         NaN  \n",
       "20975     NaN     NaN  NaN  NaN    NaN    NaN         NaN         NaN  \n",
       "\n",
       "[8 rows x 22 columns]"
      ]
     },
     "execution_count": 141,
     "metadata": {},
     "output_type": "execute_result"
    }
   ],
   "source": [
    "df_fra_pred = df[(df.score1.isnull()) & (df.league == \"French Ligue 1\") & (df.probtie > 0.31)]\n",
    "df_fra_pred"
   ]
  },
  {
   "cell_type": "code",
   "execution_count": 4,
   "metadata": {
    "collapsed": false
   },
   "outputs": [
    {
     "data": {
      "text/html": [
       "<div>\n",
       "<style>\n",
       "    .dataframe thead tr:only-child th {\n",
       "        text-align: right;\n",
       "    }\n",
       "\n",
       "    .dataframe thead th {\n",
       "        text-align: left;\n",
       "    }\n",
       "\n",
       "    .dataframe tbody tr th {\n",
       "        vertical-align: top;\n",
       "    }\n",
       "</style>\n",
       "<table border=\"1\" class=\"dataframe\">\n",
       "  <thead>\n",
       "    <tr style=\"text-align: right;\">\n",
       "      <th></th>\n",
       "      <th>date</th>\n",
       "      <th>league_id</th>\n",
       "      <th>league</th>\n",
       "      <th>team1</th>\n",
       "      <th>team2</th>\n",
       "      <th>spi1</th>\n",
       "      <th>spi2</th>\n",
       "      <th>prob1</th>\n",
       "      <th>prob2</th>\n",
       "      <th>probtie</th>\n",
       "      <th>...</th>\n",
       "      <th>importance1</th>\n",
       "      <th>importance2</th>\n",
       "      <th>score1</th>\n",
       "      <th>score2</th>\n",
       "      <th>xg1</th>\n",
       "      <th>xg2</th>\n",
       "      <th>nsxg1</th>\n",
       "      <th>nsxg2</th>\n",
       "      <th>adj_score1</th>\n",
       "      <th>adj_score2</th>\n",
       "    </tr>\n",
       "  </thead>\n",
       "  <tbody>\n",
       "    <tr>\n",
       "      <th>17738</th>\n",
       "      <td>2019-01-29</td>\n",
       "      <td>2411</td>\n",
       "      <td>Barclays Premier League</td>\n",
       "      <td>Huddersfield Town</td>\n",
       "      <td>Everton</td>\n",
       "      <td>58.79</td>\n",
       "      <td>70.97</td>\n",
       "      <td>0.3073</td>\n",
       "      <td>0.3890</td>\n",
       "      <td>0.3037</td>\n",
       "      <td>...</td>\n",
       "      <td>16.7</td>\n",
       "      <td>1.1</td>\n",
       "      <td>NaN</td>\n",
       "      <td>NaN</td>\n",
       "      <td>NaN</td>\n",
       "      <td>NaN</td>\n",
       "      <td>NaN</td>\n",
       "      <td>NaN</td>\n",
       "      <td>NaN</td>\n",
       "      <td>NaN</td>\n",
       "    </tr>\n",
       "    <tr>\n",
       "      <th>18539</th>\n",
       "      <td>2019-02-23</td>\n",
       "      <td>2411</td>\n",
       "      <td>Barclays Premier League</td>\n",
       "      <td>Newcastle</td>\n",
       "      <td>Huddersfield Town</td>\n",
       "      <td>64.47</td>\n",
       "      <td>58.79</td>\n",
       "      <td>0.4972</td>\n",
       "      <td>0.1939</td>\n",
       "      <td>0.3089</td>\n",
       "      <td>...</td>\n",
       "      <td>NaN</td>\n",
       "      <td>NaN</td>\n",
       "      <td>NaN</td>\n",
       "      <td>NaN</td>\n",
       "      <td>NaN</td>\n",
       "      <td>NaN</td>\n",
       "      <td>NaN</td>\n",
       "      <td>NaN</td>\n",
       "      <td>NaN</td>\n",
       "      <td>NaN</td>\n",
       "    </tr>\n",
       "    <tr>\n",
       "      <th>18716</th>\n",
       "      <td>2019-02-26</td>\n",
       "      <td>2411</td>\n",
       "      <td>Barclays Premier League</td>\n",
       "      <td>Huddersfield Town</td>\n",
       "      <td>Wolverhampton</td>\n",
       "      <td>58.79</td>\n",
       "      <td>68.51</td>\n",
       "      <td>0.3208</td>\n",
       "      <td>0.3610</td>\n",
       "      <td>0.3183</td>\n",
       "      <td>...</td>\n",
       "      <td>NaN</td>\n",
       "      <td>NaN</td>\n",
       "      <td>NaN</td>\n",
       "      <td>NaN</td>\n",
       "      <td>NaN</td>\n",
       "      <td>NaN</td>\n",
       "      <td>NaN</td>\n",
       "      <td>NaN</td>\n",
       "      <td>NaN</td>\n",
       "      <td>NaN</td>\n",
       "    </tr>\n",
       "    <tr>\n",
       "      <th>18817</th>\n",
       "      <td>2019-03-02</td>\n",
       "      <td>2411</td>\n",
       "      <td>Barclays Premier League</td>\n",
       "      <td>Brighton and Hove Albion</td>\n",
       "      <td>Huddersfield Town</td>\n",
       "      <td>63.02</td>\n",
       "      <td>58.79</td>\n",
       "      <td>0.4830</td>\n",
       "      <td>0.2050</td>\n",
       "      <td>0.3120</td>\n",
       "      <td>...</td>\n",
       "      <td>NaN</td>\n",
       "      <td>NaN</td>\n",
       "      <td>NaN</td>\n",
       "      <td>NaN</td>\n",
       "      <td>NaN</td>\n",
       "      <td>NaN</td>\n",
       "      <td>NaN</td>\n",
       "      <td>NaN</td>\n",
       "      <td>NaN</td>\n",
       "      <td>NaN</td>\n",
       "    </tr>\n",
       "    <tr>\n",
       "      <th>19785</th>\n",
       "      <td>2019-04-06</td>\n",
       "      <td>2411</td>\n",
       "      <td>Barclays Premier League</td>\n",
       "      <td>Huddersfield Town</td>\n",
       "      <td>Leicester City</td>\n",
       "      <td>58.79</td>\n",
       "      <td>69.87</td>\n",
       "      <td>0.3067</td>\n",
       "      <td>0.3804</td>\n",
       "      <td>0.3128</td>\n",
       "      <td>...</td>\n",
       "      <td>NaN</td>\n",
       "      <td>NaN</td>\n",
       "      <td>NaN</td>\n",
       "      <td>NaN</td>\n",
       "      <td>NaN</td>\n",
       "      <td>NaN</td>\n",
       "      <td>NaN</td>\n",
       "      <td>NaN</td>\n",
       "      <td>NaN</td>\n",
       "      <td>NaN</td>\n",
       "    </tr>\n",
       "    <tr>\n",
       "      <th>19818</th>\n",
       "      <td>2019-04-06</td>\n",
       "      <td>2411</td>\n",
       "      <td>Barclays Premier League</td>\n",
       "      <td>Newcastle</td>\n",
       "      <td>Crystal Palace</td>\n",
       "      <td>64.47</td>\n",
       "      <td>71.31</td>\n",
       "      <td>0.3601</td>\n",
       "      <td>0.3371</td>\n",
       "      <td>0.3028</td>\n",
       "      <td>...</td>\n",
       "      <td>NaN</td>\n",
       "      <td>NaN</td>\n",
       "      <td>NaN</td>\n",
       "      <td>NaN</td>\n",
       "      <td>NaN</td>\n",
       "      <td>NaN</td>\n",
       "      <td>NaN</td>\n",
       "      <td>NaN</td>\n",
       "      <td>NaN</td>\n",
       "      <td>NaN</td>\n",
       "    </tr>\n",
       "    <tr>\n",
       "      <th>20472</th>\n",
       "      <td>2019-04-27</td>\n",
       "      <td>2411</td>\n",
       "      <td>Barclays Premier League</td>\n",
       "      <td>Brighton and Hove Albion</td>\n",
       "      <td>Newcastle</td>\n",
       "      <td>63.02</td>\n",
       "      <td>64.47</td>\n",
       "      <td>0.4194</td>\n",
       "      <td>0.2735</td>\n",
       "      <td>0.3071</td>\n",
       "      <td>...</td>\n",
       "      <td>NaN</td>\n",
       "      <td>NaN</td>\n",
       "      <td>NaN</td>\n",
       "      <td>NaN</td>\n",
       "      <td>NaN</td>\n",
       "      <td>NaN</td>\n",
       "      <td>NaN</td>\n",
       "      <td>NaN</td>\n",
       "      <td>NaN</td>\n",
       "      <td>NaN</td>\n",
       "    </tr>\n",
       "  </tbody>\n",
       "</table>\n",
       "<p>7 rows × 22 columns</p>\n",
       "</div>"
      ],
      "text/plain": [
       "            date  league_id                   league  \\\n",
       "17738 2019-01-29       2411  Barclays Premier League   \n",
       "18539 2019-02-23       2411  Barclays Premier League   \n",
       "18716 2019-02-26       2411  Barclays Premier League   \n",
       "18817 2019-03-02       2411  Barclays Premier League   \n",
       "19785 2019-04-06       2411  Barclays Premier League   \n",
       "19818 2019-04-06       2411  Barclays Premier League   \n",
       "20472 2019-04-27       2411  Barclays Premier League   \n",
       "\n",
       "                          team1              team2   spi1   spi2   prob1  \\\n",
       "17738         Huddersfield Town            Everton  58.79  70.97  0.3073   \n",
       "18539                 Newcastle  Huddersfield Town  64.47  58.79  0.4972   \n",
       "18716         Huddersfield Town      Wolverhampton  58.79  68.51  0.3208   \n",
       "18817  Brighton and Hove Albion  Huddersfield Town  63.02  58.79  0.4830   \n",
       "19785         Huddersfield Town     Leicester City  58.79  69.87  0.3067   \n",
       "19818                 Newcastle     Crystal Palace  64.47  71.31  0.3601   \n",
       "20472  Brighton and Hove Albion          Newcastle  63.02  64.47  0.4194   \n",
       "\n",
       "        prob2  probtie     ...      importance1  importance2  score1  score2  \\\n",
       "17738  0.3890   0.3037     ...             16.7          1.1     NaN     NaN   \n",
       "18539  0.1939   0.3089     ...              NaN          NaN     NaN     NaN   \n",
       "18716  0.3610   0.3183     ...              NaN          NaN     NaN     NaN   \n",
       "18817  0.2050   0.3120     ...              NaN          NaN     NaN     NaN   \n",
       "19785  0.3804   0.3128     ...              NaN          NaN     NaN     NaN   \n",
       "19818  0.3371   0.3028     ...              NaN          NaN     NaN     NaN   \n",
       "20472  0.2735   0.3071     ...              NaN          NaN     NaN     NaN   \n",
       "\n",
       "       xg1  xg2  nsxg1  nsxg2  adj_score1  adj_score2  \n",
       "17738  NaN  NaN    NaN    NaN         NaN         NaN  \n",
       "18539  NaN  NaN    NaN    NaN         NaN         NaN  \n",
       "18716  NaN  NaN    NaN    NaN         NaN         NaN  \n",
       "18817  NaN  NaN    NaN    NaN         NaN         NaN  \n",
       "19785  NaN  NaN    NaN    NaN         NaN         NaN  \n",
       "19818  NaN  NaN    NaN    NaN         NaN         NaN  \n",
       "20472  NaN  NaN    NaN    NaN         NaN         NaN  \n",
       "\n",
       "[7 rows x 22 columns]"
      ]
     },
     "execution_count": 4,
     "metadata": {},
     "output_type": "execute_result"
    }
   ],
   "source": [
    "df_prem_pred = df[(df.score1.isnull()) & (df.league == \"Barclays Premier League\") & (df.probtie > 0.3)]\n",
    "df_prem_pred"
   ]
  },
  {
   "cell_type": "code",
   "execution_count": 6,
   "metadata": {
    "collapsed": false
   },
   "outputs": [
    {
     "data": {
      "text/html": [
       "<div>\n",
       "<style>\n",
       "    .dataframe thead tr:only-child th {\n",
       "        text-align: right;\n",
       "    }\n",
       "\n",
       "    .dataframe thead th {\n",
       "        text-align: left;\n",
       "    }\n",
       "\n",
       "    .dataframe tbody tr th {\n",
       "        vertical-align: top;\n",
       "    }\n",
       "</style>\n",
       "<table border=\"1\" class=\"dataframe\">\n",
       "  <thead>\n",
       "    <tr style=\"text-align: right;\">\n",
       "      <th></th>\n",
       "      <th>date</th>\n",
       "      <th>league_id</th>\n",
       "      <th>league</th>\n",
       "      <th>team1</th>\n",
       "      <th>team2</th>\n",
       "      <th>spi1</th>\n",
       "      <th>spi2</th>\n",
       "      <th>prob1</th>\n",
       "      <th>prob2</th>\n",
       "      <th>probtie</th>\n",
       "      <th>...</th>\n",
       "      <th>importance1</th>\n",
       "      <th>importance2</th>\n",
       "      <th>score1</th>\n",
       "      <th>score2</th>\n",
       "      <th>xg1</th>\n",
       "      <th>xg2</th>\n",
       "      <th>nsxg1</th>\n",
       "      <th>nsxg2</th>\n",
       "      <th>adj_score1</th>\n",
       "      <th>adj_score2</th>\n",
       "    </tr>\n",
       "  </thead>\n",
       "  <tbody>\n",
       "    <tr>\n",
       "      <th>18886</th>\n",
       "      <td>2019-03-03</td>\n",
       "      <td>1866</td>\n",
       "      <td>Russian Premier Liga</td>\n",
       "      <td>FC Ufa</td>\n",
       "      <td>Dinamo Moscow</td>\n",
       "      <td>47.52</td>\n",
       "      <td>54.81</td>\n",
       "      <td>0.3716</td>\n",
       "      <td>0.2671</td>\n",
       "      <td>0.3614</td>\n",
       "      <td>...</td>\n",
       "      <td>39.8</td>\n",
       "      <td>7.9</td>\n",
       "      <td>NaN</td>\n",
       "      <td>NaN</td>\n",
       "      <td>NaN</td>\n",
       "      <td>NaN</td>\n",
       "      <td>NaN</td>\n",
       "      <td>NaN</td>\n",
       "      <td>NaN</td>\n",
       "      <td>NaN</td>\n",
       "    </tr>\n",
       "    <tr>\n",
       "      <th>18887</th>\n",
       "      <td>2019-03-03</td>\n",
       "      <td>1866</td>\n",
       "      <td>Russian Premier Liga</td>\n",
       "      <td>Rubin Kazan</td>\n",
       "      <td>Terek Grozny</td>\n",
       "      <td>55.98</td>\n",
       "      <td>50.90</td>\n",
       "      <td>0.4788</td>\n",
       "      <td>0.1825</td>\n",
       "      <td>0.3386</td>\n",
       "      <td>...</td>\n",
       "      <td>22.6</td>\n",
       "      <td>5.9</td>\n",
       "      <td>NaN</td>\n",
       "      <td>NaN</td>\n",
       "      <td>NaN</td>\n",
       "      <td>NaN</td>\n",
       "      <td>NaN</td>\n",
       "      <td>NaN</td>\n",
       "      <td>NaN</td>\n",
       "      <td>NaN</td>\n",
       "    </tr>\n",
       "    <tr>\n",
       "      <th>19384</th>\n",
       "      <td>2019-03-17</td>\n",
       "      <td>1866</td>\n",
       "      <td>Russian Premier Liga</td>\n",
       "      <td>FC Ufa</td>\n",
       "      <td>Terek Grozny</td>\n",
       "      <td>47.52</td>\n",
       "      <td>50.90</td>\n",
       "      <td>0.3739</td>\n",
       "      <td>0.2641</td>\n",
       "      <td>0.3620</td>\n",
       "      <td>...</td>\n",
       "      <td>NaN</td>\n",
       "      <td>NaN</td>\n",
       "      <td>NaN</td>\n",
       "      <td>NaN</td>\n",
       "      <td>NaN</td>\n",
       "      <td>NaN</td>\n",
       "      <td>NaN</td>\n",
       "      <td>NaN</td>\n",
       "      <td>NaN</td>\n",
       "      <td>NaN</td>\n",
       "    </tr>\n",
       "    <tr>\n",
       "      <th>19385</th>\n",
       "      <td>2019-03-17</td>\n",
       "      <td>1866</td>\n",
       "      <td>Russian Premier Liga</td>\n",
       "      <td>Rubin Kazan</td>\n",
       "      <td>Rostov</td>\n",
       "      <td>55.98</td>\n",
       "      <td>52.69</td>\n",
       "      <td>0.4297</td>\n",
       "      <td>0.1918</td>\n",
       "      <td>0.3785</td>\n",
       "      <td>...</td>\n",
       "      <td>NaN</td>\n",
       "      <td>NaN</td>\n",
       "      <td>NaN</td>\n",
       "      <td>NaN</td>\n",
       "      <td>NaN</td>\n",
       "      <td>NaN</td>\n",
       "      <td>NaN</td>\n",
       "      <td>NaN</td>\n",
       "      <td>NaN</td>\n",
       "      <td>NaN</td>\n",
       "    </tr>\n",
       "    <tr>\n",
       "      <th>19894</th>\n",
       "      <td>2019-04-07</td>\n",
       "      <td>1866</td>\n",
       "      <td>Russian Premier Liga</td>\n",
       "      <td>FC Ufa</td>\n",
       "      <td>Rostov</td>\n",
       "      <td>47.52</td>\n",
       "      <td>52.69</td>\n",
       "      <td>0.3465</td>\n",
       "      <td>0.2573</td>\n",
       "      <td>0.3962</td>\n",
       "      <td>...</td>\n",
       "      <td>NaN</td>\n",
       "      <td>NaN</td>\n",
       "      <td>NaN</td>\n",
       "      <td>NaN</td>\n",
       "      <td>NaN</td>\n",
       "      <td>NaN</td>\n",
       "      <td>NaN</td>\n",
       "      <td>NaN</td>\n",
       "      <td>NaN</td>\n",
       "      <td>NaN</td>\n",
       "    </tr>\n",
       "    <tr>\n",
       "      <th>20290</th>\n",
       "      <td>2019-04-21</td>\n",
       "      <td>1866</td>\n",
       "      <td>Russian Premier Liga</td>\n",
       "      <td>Gazovik Orenburg</td>\n",
       "      <td>Rostov</td>\n",
       "      <td>50.05</td>\n",
       "      <td>52.69</td>\n",
       "      <td>0.3827</td>\n",
       "      <td>0.2580</td>\n",
       "      <td>0.3593</td>\n",
       "      <td>...</td>\n",
       "      <td>NaN</td>\n",
       "      <td>NaN</td>\n",
       "      <td>NaN</td>\n",
       "      <td>NaN</td>\n",
       "      <td>NaN</td>\n",
       "      <td>NaN</td>\n",
       "      <td>NaN</td>\n",
       "      <td>NaN</td>\n",
       "      <td>NaN</td>\n",
       "      <td>NaN</td>\n",
       "    </tr>\n",
       "    <tr>\n",
       "      <th>20397</th>\n",
       "      <td>2019-04-23</td>\n",
       "      <td>1866</td>\n",
       "      <td>Russian Premier Liga</td>\n",
       "      <td>Rubin Kazan</td>\n",
       "      <td>FC Ufa</td>\n",
       "      <td>55.98</td>\n",
       "      <td>47.52</td>\n",
       "      <td>0.4912</td>\n",
       "      <td>0.1667</td>\n",
       "      <td>0.3421</td>\n",
       "      <td>...</td>\n",
       "      <td>NaN</td>\n",
       "      <td>NaN</td>\n",
       "      <td>NaN</td>\n",
       "      <td>NaN</td>\n",
       "      <td>NaN</td>\n",
       "      <td>NaN</td>\n",
       "      <td>NaN</td>\n",
       "      <td>NaN</td>\n",
       "      <td>NaN</td>\n",
       "      <td>NaN</td>\n",
       "    </tr>\n",
       "    <tr>\n",
       "      <th>20538</th>\n",
       "      <td>2019-04-28</td>\n",
       "      <td>1866</td>\n",
       "      <td>Russian Premier Liga</td>\n",
       "      <td>Dinamo Moscow</td>\n",
       "      <td>Terek Grozny</td>\n",
       "      <td>54.81</td>\n",
       "      <td>50.90</td>\n",
       "      <td>0.4492</td>\n",
       "      <td>0.2078</td>\n",
       "      <td>0.3430</td>\n",
       "      <td>...</td>\n",
       "      <td>NaN</td>\n",
       "      <td>NaN</td>\n",
       "      <td>NaN</td>\n",
       "      <td>NaN</td>\n",
       "      <td>NaN</td>\n",
       "      <td>NaN</td>\n",
       "      <td>NaN</td>\n",
       "      <td>NaN</td>\n",
       "      <td>NaN</td>\n",
       "      <td>NaN</td>\n",
       "    </tr>\n",
       "    <tr>\n",
       "      <th>20539</th>\n",
       "      <td>2019-04-28</td>\n",
       "      <td>1866</td>\n",
       "      <td>Russian Premier Liga</td>\n",
       "      <td>Anzhi Makhachkala</td>\n",
       "      <td>Rostov</td>\n",
       "      <td>34.64</td>\n",
       "      <td>52.69</td>\n",
       "      <td>0.2426</td>\n",
       "      <td>0.4009</td>\n",
       "      <td>0.3565</td>\n",
       "      <td>...</td>\n",
       "      <td>NaN</td>\n",
       "      <td>NaN</td>\n",
       "      <td>NaN</td>\n",
       "      <td>NaN</td>\n",
       "      <td>NaN</td>\n",
       "      <td>NaN</td>\n",
       "      <td>NaN</td>\n",
       "      <td>NaN</td>\n",
       "      <td>NaN</td>\n",
       "      <td>NaN</td>\n",
       "    </tr>\n",
       "    <tr>\n",
       "      <th>20868</th>\n",
       "      <td>2019-05-12</td>\n",
       "      <td>1866</td>\n",
       "      <td>Russian Premier Liga</td>\n",
       "      <td>Dinamo Moscow</td>\n",
       "      <td>Rostov</td>\n",
       "      <td>54.81</td>\n",
       "      <td>52.69</td>\n",
       "      <td>0.4194</td>\n",
       "      <td>0.2027</td>\n",
       "      <td>0.3780</td>\n",
       "      <td>...</td>\n",
       "      <td>NaN</td>\n",
       "      <td>NaN</td>\n",
       "      <td>NaN</td>\n",
       "      <td>NaN</td>\n",
       "      <td>NaN</td>\n",
       "      <td>NaN</td>\n",
       "      <td>NaN</td>\n",
       "      <td>NaN</td>\n",
       "      <td>NaN</td>\n",
       "      <td>NaN</td>\n",
       "    </tr>\n",
       "    <tr>\n",
       "      <th>20983</th>\n",
       "      <td>2019-05-19</td>\n",
       "      <td>1866</td>\n",
       "      <td>Russian Premier Liga</td>\n",
       "      <td>FC Ufa</td>\n",
       "      <td>Gazovik Orenburg</td>\n",
       "      <td>47.52</td>\n",
       "      <td>50.05</td>\n",
       "      <td>0.3885</td>\n",
       "      <td>0.2729</td>\n",
       "      <td>0.3386</td>\n",
       "      <td>...</td>\n",
       "      <td>NaN</td>\n",
       "      <td>NaN</td>\n",
       "      <td>NaN</td>\n",
       "      <td>NaN</td>\n",
       "      <td>NaN</td>\n",
       "      <td>NaN</td>\n",
       "      <td>NaN</td>\n",
       "      <td>NaN</td>\n",
       "      <td>NaN</td>\n",
       "      <td>NaN</td>\n",
       "    </tr>\n",
       "    <tr>\n",
       "      <th>21070</th>\n",
       "      <td>2019-05-26</td>\n",
       "      <td>1866</td>\n",
       "      <td>Russian Premier Liga</td>\n",
       "      <td>Terek Grozny</td>\n",
       "      <td>Rostov</td>\n",
       "      <td>50.90</td>\n",
       "      <td>52.69</td>\n",
       "      <td>0.3817</td>\n",
       "      <td>0.2346</td>\n",
       "      <td>0.3836</td>\n",
       "      <td>...</td>\n",
       "      <td>NaN</td>\n",
       "      <td>NaN</td>\n",
       "      <td>NaN</td>\n",
       "      <td>NaN</td>\n",
       "      <td>NaN</td>\n",
       "      <td>NaN</td>\n",
       "      <td>NaN</td>\n",
       "      <td>NaN</td>\n",
       "      <td>NaN</td>\n",
       "      <td>NaN</td>\n",
       "    </tr>\n",
       "  </tbody>\n",
       "</table>\n",
       "<p>12 rows × 22 columns</p>\n",
       "</div>"
      ],
      "text/plain": [
       "            date  league_id                league              team1  \\\n",
       "18886 2019-03-03       1866  Russian Premier Liga             FC Ufa   \n",
       "18887 2019-03-03       1866  Russian Premier Liga        Rubin Kazan   \n",
       "19384 2019-03-17       1866  Russian Premier Liga             FC Ufa   \n",
       "19385 2019-03-17       1866  Russian Premier Liga        Rubin Kazan   \n",
       "19894 2019-04-07       1866  Russian Premier Liga             FC Ufa   \n",
       "20290 2019-04-21       1866  Russian Premier Liga   Gazovik Orenburg   \n",
       "20397 2019-04-23       1866  Russian Premier Liga        Rubin Kazan   \n",
       "20538 2019-04-28       1866  Russian Premier Liga      Dinamo Moscow   \n",
       "20539 2019-04-28       1866  Russian Premier Liga  Anzhi Makhachkala   \n",
       "20868 2019-05-12       1866  Russian Premier Liga      Dinamo Moscow   \n",
       "20983 2019-05-19       1866  Russian Premier Liga             FC Ufa   \n",
       "21070 2019-05-26       1866  Russian Premier Liga       Terek Grozny   \n",
       "\n",
       "                  team2   spi1   spi2   prob1   prob2  probtie     ...      \\\n",
       "18886     Dinamo Moscow  47.52  54.81  0.3716  0.2671   0.3614     ...       \n",
       "18887      Terek Grozny  55.98  50.90  0.4788  0.1825   0.3386     ...       \n",
       "19384      Terek Grozny  47.52  50.90  0.3739  0.2641   0.3620     ...       \n",
       "19385            Rostov  55.98  52.69  0.4297  0.1918   0.3785     ...       \n",
       "19894            Rostov  47.52  52.69  0.3465  0.2573   0.3962     ...       \n",
       "20290            Rostov  50.05  52.69  0.3827  0.2580   0.3593     ...       \n",
       "20397            FC Ufa  55.98  47.52  0.4912  0.1667   0.3421     ...       \n",
       "20538      Terek Grozny  54.81  50.90  0.4492  0.2078   0.3430     ...       \n",
       "20539            Rostov  34.64  52.69  0.2426  0.4009   0.3565     ...       \n",
       "20868            Rostov  54.81  52.69  0.4194  0.2027   0.3780     ...       \n",
       "20983  Gazovik Orenburg  47.52  50.05  0.3885  0.2729   0.3386     ...       \n",
       "21070            Rostov  50.90  52.69  0.3817  0.2346   0.3836     ...       \n",
       "\n",
       "       importance1  importance2  score1  score2  xg1  xg2  nsxg1  nsxg2  \\\n",
       "18886         39.8          7.9     NaN     NaN  NaN  NaN    NaN    NaN   \n",
       "18887         22.6          5.9     NaN     NaN  NaN  NaN    NaN    NaN   \n",
       "19384          NaN          NaN     NaN     NaN  NaN  NaN    NaN    NaN   \n",
       "19385          NaN          NaN     NaN     NaN  NaN  NaN    NaN    NaN   \n",
       "19894          NaN          NaN     NaN     NaN  NaN  NaN    NaN    NaN   \n",
       "20290          NaN          NaN     NaN     NaN  NaN  NaN    NaN    NaN   \n",
       "20397          NaN          NaN     NaN     NaN  NaN  NaN    NaN    NaN   \n",
       "20538          NaN          NaN     NaN     NaN  NaN  NaN    NaN    NaN   \n",
       "20539          NaN          NaN     NaN     NaN  NaN  NaN    NaN    NaN   \n",
       "20868          NaN          NaN     NaN     NaN  NaN  NaN    NaN    NaN   \n",
       "20983          NaN          NaN     NaN     NaN  NaN  NaN    NaN    NaN   \n",
       "21070          NaN          NaN     NaN     NaN  NaN  NaN    NaN    NaN   \n",
       "\n",
       "       adj_score1  adj_score2  \n",
       "18886         NaN         NaN  \n",
       "18887         NaN         NaN  \n",
       "19384         NaN         NaN  \n",
       "19385         NaN         NaN  \n",
       "19894         NaN         NaN  \n",
       "20290         NaN         NaN  \n",
       "20397         NaN         NaN  \n",
       "20538         NaN         NaN  \n",
       "20539         NaN         NaN  \n",
       "20868         NaN         NaN  \n",
       "20983         NaN         NaN  \n",
       "21070         NaN         NaN  \n",
       "\n",
       "[12 rows x 22 columns]"
      ]
     },
     "execution_count": 6,
     "metadata": {},
     "output_type": "execute_result"
    }
   ],
   "source": [
    "df_rus_pred = df[(df.score1.isnull()) & (df.league == \"Russian Premier Liga\") & (df.probtie > 0.337)]\n",
    "df_rus_pred"
   ]
  },
  {
   "cell_type": "code",
   "execution_count": 7,
   "metadata": {
    "collapsed": false
   },
   "outputs": [
    {
     "data": {
      "text/html": [
       "<div>\n",
       "<style>\n",
       "    .dataframe thead tr:only-child th {\n",
       "        text-align: right;\n",
       "    }\n",
       "\n",
       "    .dataframe thead th {\n",
       "        text-align: left;\n",
       "    }\n",
       "\n",
       "    .dataframe tbody tr th {\n",
       "        vertical-align: top;\n",
       "    }\n",
       "</style>\n",
       "<table border=\"1\" class=\"dataframe\">\n",
       "  <thead>\n",
       "    <tr style=\"text-align: right;\">\n",
       "      <th></th>\n",
       "      <th>date</th>\n",
       "      <th>league_id</th>\n",
       "      <th>league</th>\n",
       "      <th>team1</th>\n",
       "      <th>team2</th>\n",
       "      <th>spi1</th>\n",
       "      <th>spi2</th>\n",
       "      <th>prob1</th>\n",
       "      <th>prob2</th>\n",
       "      <th>probtie</th>\n",
       "      <th>...</th>\n",
       "      <th>importance1</th>\n",
       "      <th>importance2</th>\n",
       "      <th>score1</th>\n",
       "      <th>score2</th>\n",
       "      <th>xg1</th>\n",
       "      <th>xg2</th>\n",
       "      <th>nsxg1</th>\n",
       "      <th>nsxg2</th>\n",
       "      <th>adj_score1</th>\n",
       "      <th>adj_score2</th>\n",
       "    </tr>\n",
       "  </thead>\n",
       "  <tbody>\n",
       "    <tr>\n",
       "      <th>17815</th>\n",
       "      <td>2019-02-02</td>\n",
       "      <td>1856</td>\n",
       "      <td>Italy Serie B</td>\n",
       "      <td>Cosenza</td>\n",
       "      <td>Cittadella</td>\n",
       "      <td>22.18</td>\n",
       "      <td>32.63</td>\n",
       "      <td>0.3029</td>\n",
       "      <td>0.3632</td>\n",
       "      <td>0.3339</td>\n",
       "      <td>...</td>\n",
       "      <td>NaN</td>\n",
       "      <td>NaN</td>\n",
       "      <td>NaN</td>\n",
       "      <td>NaN</td>\n",
       "      <td>NaN</td>\n",
       "      <td>NaN</td>\n",
       "      <td>NaN</td>\n",
       "      <td>NaN</td>\n",
       "      <td>NaN</td>\n",
       "      <td>NaN</td>\n",
       "    </tr>\n",
       "    <tr>\n",
       "      <th>18377</th>\n",
       "      <td>2019-02-17</td>\n",
       "      <td>1856</td>\n",
       "      <td>Italy Serie B</td>\n",
       "      <td>Cosenza</td>\n",
       "      <td>Cremonese</td>\n",
       "      <td>22.18</td>\n",
       "      <td>26.15</td>\n",
       "      <td>0.3642</td>\n",
       "      <td>0.2927</td>\n",
       "      <td>0.3431</td>\n",
       "      <td>...</td>\n",
       "      <td>NaN</td>\n",
       "      <td>NaN</td>\n",
       "      <td>NaN</td>\n",
       "      <td>NaN</td>\n",
       "      <td>NaN</td>\n",
       "      <td>NaN</td>\n",
       "      <td>NaN</td>\n",
       "      <td>NaN</td>\n",
       "      <td>NaN</td>\n",
       "      <td>NaN</td>\n",
       "    </tr>\n",
       "    <tr>\n",
       "      <th>18521</th>\n",
       "      <td>2019-02-23</td>\n",
       "      <td>1856</td>\n",
       "      <td>Italy Serie B</td>\n",
       "      <td>Cremonese</td>\n",
       "      <td>Ascoli</td>\n",
       "      <td>26.15</td>\n",
       "      <td>23.65</td>\n",
       "      <td>0.4399</td>\n",
       "      <td>0.2250</td>\n",
       "      <td>0.3350</td>\n",
       "      <td>...</td>\n",
       "      <td>NaN</td>\n",
       "      <td>NaN</td>\n",
       "      <td>NaN</td>\n",
       "      <td>NaN</td>\n",
       "      <td>NaN</td>\n",
       "      <td>NaN</td>\n",
       "      <td>NaN</td>\n",
       "      <td>NaN</td>\n",
       "      <td>NaN</td>\n",
       "      <td>NaN</td>\n",
       "    </tr>\n",
       "    <tr>\n",
       "      <th>18690</th>\n",
       "      <td>2019-02-24</td>\n",
       "      <td>1856</td>\n",
       "      <td>Italy Serie B</td>\n",
       "      <td>Livorno</td>\n",
       "      <td>F.B.C Unione Venezia</td>\n",
       "      <td>21.60</td>\n",
       "      <td>25.20</td>\n",
       "      <td>0.3669</td>\n",
       "      <td>0.2988</td>\n",
       "      <td>0.3342</td>\n",
       "      <td>...</td>\n",
       "      <td>NaN</td>\n",
       "      <td>NaN</td>\n",
       "      <td>NaN</td>\n",
       "      <td>NaN</td>\n",
       "      <td>NaN</td>\n",
       "      <td>NaN</td>\n",
       "      <td>NaN</td>\n",
       "      <td>NaN</td>\n",
       "      <td>NaN</td>\n",
       "      <td>NaN</td>\n",
       "    </tr>\n",
       "    <tr>\n",
       "      <th>18835</th>\n",
       "      <td>2019-03-02</td>\n",
       "      <td>1856</td>\n",
       "      <td>Italy Serie B</td>\n",
       "      <td>Carpi</td>\n",
       "      <td>Ascoli</td>\n",
       "      <td>17.56</td>\n",
       "      <td>23.65</td>\n",
       "      <td>0.3339</td>\n",
       "      <td>0.3307</td>\n",
       "      <td>0.3355</td>\n",
       "      <td>...</td>\n",
       "      <td>NaN</td>\n",
       "      <td>NaN</td>\n",
       "      <td>NaN</td>\n",
       "      <td>NaN</td>\n",
       "      <td>NaN</td>\n",
       "      <td>NaN</td>\n",
       "      <td>NaN</td>\n",
       "      <td>NaN</td>\n",
       "      <td>NaN</td>\n",
       "      <td>NaN</td>\n",
       "    </tr>\n",
       "    <tr>\n",
       "      <th>19337</th>\n",
       "      <td>2019-03-16</td>\n",
       "      <td>1856</td>\n",
       "      <td>Italy Serie B</td>\n",
       "      <td>F.B.C Unione Venezia</td>\n",
       "      <td>Cremonese</td>\n",
       "      <td>25.20</td>\n",
       "      <td>26.15</td>\n",
       "      <td>0.3997</td>\n",
       "      <td>0.2584</td>\n",
       "      <td>0.3419</td>\n",
       "      <td>...</td>\n",
       "      <td>NaN</td>\n",
       "      <td>NaN</td>\n",
       "      <td>NaN</td>\n",
       "      <td>NaN</td>\n",
       "      <td>NaN</td>\n",
       "      <td>NaN</td>\n",
       "      <td>NaN</td>\n",
       "      <td>NaN</td>\n",
       "      <td>NaN</td>\n",
       "      <td>NaN</td>\n",
       "    </tr>\n",
       "    <tr>\n",
       "      <th>19598</th>\n",
       "      <td>2019-03-30</td>\n",
       "      <td>1856</td>\n",
       "      <td>Italy Serie B</td>\n",
       "      <td>Ascoli</td>\n",
       "      <td>Benevento</td>\n",
       "      <td>23.65</td>\n",
       "      <td>30.58</td>\n",
       "      <td>0.3441</td>\n",
       "      <td>0.3255</td>\n",
       "      <td>0.3304</td>\n",
       "      <td>...</td>\n",
       "      <td>NaN</td>\n",
       "      <td>NaN</td>\n",
       "      <td>NaN</td>\n",
       "      <td>NaN</td>\n",
       "      <td>NaN</td>\n",
       "      <td>NaN</td>\n",
       "      <td>NaN</td>\n",
       "      <td>NaN</td>\n",
       "      <td>NaN</td>\n",
       "      <td>NaN</td>\n",
       "    </tr>\n",
       "    <tr>\n",
       "      <th>19701</th>\n",
       "      <td>2019-04-02</td>\n",
       "      <td>1856</td>\n",
       "      <td>Italy Serie B</td>\n",
       "      <td>F.B.C Unione Venezia</td>\n",
       "      <td>Cittadella</td>\n",
       "      <td>25.20</td>\n",
       "      <td>32.63</td>\n",
       "      <td>0.3364</td>\n",
       "      <td>0.3255</td>\n",
       "      <td>0.3381</td>\n",
       "      <td>...</td>\n",
       "      <td>NaN</td>\n",
       "      <td>NaN</td>\n",
       "      <td>NaN</td>\n",
       "      <td>NaN</td>\n",
       "      <td>NaN</td>\n",
       "      <td>NaN</td>\n",
       "      <td>NaN</td>\n",
       "      <td>NaN</td>\n",
       "      <td>NaN</td>\n",
       "      <td>NaN</td>\n",
       "    </tr>\n",
       "    <tr>\n",
       "      <th>19703</th>\n",
       "      <td>2019-04-02</td>\n",
       "      <td>1856</td>\n",
       "      <td>Italy Serie B</td>\n",
       "      <td>Livorno</td>\n",
       "      <td>Cremonese</td>\n",
       "      <td>21.60</td>\n",
       "      <td>26.15</td>\n",
       "      <td>0.3567</td>\n",
       "      <td>0.3094</td>\n",
       "      <td>0.3339</td>\n",
       "      <td>...</td>\n",
       "      <td>NaN</td>\n",
       "      <td>NaN</td>\n",
       "      <td>NaN</td>\n",
       "      <td>NaN</td>\n",
       "      <td>NaN</td>\n",
       "      <td>NaN</td>\n",
       "      <td>NaN</td>\n",
       "      <td>NaN</td>\n",
       "      <td>NaN</td>\n",
       "      <td>NaN</td>\n",
       "    </tr>\n",
       "    <tr>\n",
       "      <th>20387</th>\n",
       "      <td>2019-04-22</td>\n",
       "      <td>1856</td>\n",
       "      <td>Italy Serie B</td>\n",
       "      <td>Ascoli</td>\n",
       "      <td>F.B.C Unione Venezia</td>\n",
       "      <td>23.65</td>\n",
       "      <td>25.20</td>\n",
       "      <td>0.3920</td>\n",
       "      <td>0.2649</td>\n",
       "      <td>0.3431</td>\n",
       "      <td>...</td>\n",
       "      <td>NaN</td>\n",
       "      <td>NaN</td>\n",
       "      <td>NaN</td>\n",
       "      <td>NaN</td>\n",
       "      <td>NaN</td>\n",
       "      <td>NaN</td>\n",
       "      <td>NaN</td>\n",
       "      <td>NaN</td>\n",
       "      <td>NaN</td>\n",
       "      <td>NaN</td>\n",
       "    </tr>\n",
       "    <tr>\n",
       "      <th>20390</th>\n",
       "      <td>2019-04-22</td>\n",
       "      <td>1856</td>\n",
       "      <td>Italy Serie B</td>\n",
       "      <td>Cosenza</td>\n",
       "      <td>Spezia</td>\n",
       "      <td>22.18</td>\n",
       "      <td>28.69</td>\n",
       "      <td>0.3440</td>\n",
       "      <td>0.3235</td>\n",
       "      <td>0.3325</td>\n",
       "      <td>...</td>\n",
       "      <td>NaN</td>\n",
       "      <td>NaN</td>\n",
       "      <td>NaN</td>\n",
       "      <td>NaN</td>\n",
       "      <td>NaN</td>\n",
       "      <td>NaN</td>\n",
       "      <td>NaN</td>\n",
       "      <td>NaN</td>\n",
       "      <td>NaN</td>\n",
       "      <td>NaN</td>\n",
       "    </tr>\n",
       "    <tr>\n",
       "      <th>20621</th>\n",
       "      <td>2019-05-01</td>\n",
       "      <td>1856</td>\n",
       "      <td>Italy Serie B</td>\n",
       "      <td>Carpi</td>\n",
       "      <td>Cremonese</td>\n",
       "      <td>17.56</td>\n",
       "      <td>26.15</td>\n",
       "      <td>0.3070</td>\n",
       "      <td>0.3597</td>\n",
       "      <td>0.3333</td>\n",
       "      <td>...</td>\n",
       "      <td>NaN</td>\n",
       "      <td>NaN</td>\n",
       "      <td>NaN</td>\n",
       "      <td>NaN</td>\n",
       "      <td>NaN</td>\n",
       "      <td>NaN</td>\n",
       "      <td>NaN</td>\n",
       "      <td>NaN</td>\n",
       "      <td>NaN</td>\n",
       "      <td>NaN</td>\n",
       "    </tr>\n",
       "    <tr>\n",
       "      <th>20626</th>\n",
       "      <td>2019-05-01</td>\n",
       "      <td>1856</td>\n",
       "      <td>Italy Serie B</td>\n",
       "      <td>Cosenza</td>\n",
       "      <td>F.B.C Unione Venezia</td>\n",
       "      <td>22.18</td>\n",
       "      <td>25.20</td>\n",
       "      <td>0.3744</td>\n",
       "      <td>0.2824</td>\n",
       "      <td>0.3432</td>\n",
       "      <td>...</td>\n",
       "      <td>NaN</td>\n",
       "      <td>NaN</td>\n",
       "      <td>NaN</td>\n",
       "      <td>NaN</td>\n",
       "      <td>NaN</td>\n",
       "      <td>NaN</td>\n",
       "      <td>NaN</td>\n",
       "      <td>NaN</td>\n",
       "      <td>NaN</td>\n",
       "      <td>NaN</td>\n",
       "    </tr>\n",
       "    <tr>\n",
       "      <th>20845</th>\n",
       "      <td>2019-05-11</td>\n",
       "      <td>1856</td>\n",
       "      <td>Italy Serie B</td>\n",
       "      <td>Carpi</td>\n",
       "      <td>F.B.C Unione Venezia</td>\n",
       "      <td>17.56</td>\n",
       "      <td>25.20</td>\n",
       "      <td>0.3167</td>\n",
       "      <td>0.3485</td>\n",
       "      <td>0.3349</td>\n",
       "      <td>...</td>\n",
       "      <td>NaN</td>\n",
       "      <td>NaN</td>\n",
       "      <td>NaN</td>\n",
       "      <td>NaN</td>\n",
       "      <td>NaN</td>\n",
       "      <td>NaN</td>\n",
       "      <td>NaN</td>\n",
       "      <td>NaN</td>\n",
       "      <td>NaN</td>\n",
       "      <td>NaN</td>\n",
       "    </tr>\n",
       "  </tbody>\n",
       "</table>\n",
       "<p>14 rows × 22 columns</p>\n",
       "</div>"
      ],
      "text/plain": [
       "            date  league_id         league                 team1  \\\n",
       "17815 2019-02-02       1856  Italy Serie B               Cosenza   \n",
       "18377 2019-02-17       1856  Italy Serie B               Cosenza   \n",
       "18521 2019-02-23       1856  Italy Serie B             Cremonese   \n",
       "18690 2019-02-24       1856  Italy Serie B               Livorno   \n",
       "18835 2019-03-02       1856  Italy Serie B                 Carpi   \n",
       "19337 2019-03-16       1856  Italy Serie B  F.B.C Unione Venezia   \n",
       "19598 2019-03-30       1856  Italy Serie B                Ascoli   \n",
       "19701 2019-04-02       1856  Italy Serie B  F.B.C Unione Venezia   \n",
       "19703 2019-04-02       1856  Italy Serie B               Livorno   \n",
       "20387 2019-04-22       1856  Italy Serie B                Ascoli   \n",
       "20390 2019-04-22       1856  Italy Serie B               Cosenza   \n",
       "20621 2019-05-01       1856  Italy Serie B                 Carpi   \n",
       "20626 2019-05-01       1856  Italy Serie B               Cosenza   \n",
       "20845 2019-05-11       1856  Italy Serie B                 Carpi   \n",
       "\n",
       "                      team2   spi1   spi2   prob1   prob2  probtie  \\\n",
       "17815            Cittadella  22.18  32.63  0.3029  0.3632   0.3339   \n",
       "18377             Cremonese  22.18  26.15  0.3642  0.2927   0.3431   \n",
       "18521                Ascoli  26.15  23.65  0.4399  0.2250   0.3350   \n",
       "18690  F.B.C Unione Venezia  21.60  25.20  0.3669  0.2988   0.3342   \n",
       "18835                Ascoli  17.56  23.65  0.3339  0.3307   0.3355   \n",
       "19337             Cremonese  25.20  26.15  0.3997  0.2584   0.3419   \n",
       "19598             Benevento  23.65  30.58  0.3441  0.3255   0.3304   \n",
       "19701            Cittadella  25.20  32.63  0.3364  0.3255   0.3381   \n",
       "19703             Cremonese  21.60  26.15  0.3567  0.3094   0.3339   \n",
       "20387  F.B.C Unione Venezia  23.65  25.20  0.3920  0.2649   0.3431   \n",
       "20390                Spezia  22.18  28.69  0.3440  0.3235   0.3325   \n",
       "20621             Cremonese  17.56  26.15  0.3070  0.3597   0.3333   \n",
       "20626  F.B.C Unione Venezia  22.18  25.20  0.3744  0.2824   0.3432   \n",
       "20845  F.B.C Unione Venezia  17.56  25.20  0.3167  0.3485   0.3349   \n",
       "\n",
       "          ...      importance1  importance2  score1  score2  xg1  xg2  nsxg1  \\\n",
       "17815     ...              NaN          NaN     NaN     NaN  NaN  NaN    NaN   \n",
       "18377     ...              NaN          NaN     NaN     NaN  NaN  NaN    NaN   \n",
       "18521     ...              NaN          NaN     NaN     NaN  NaN  NaN    NaN   \n",
       "18690     ...              NaN          NaN     NaN     NaN  NaN  NaN    NaN   \n",
       "18835     ...              NaN          NaN     NaN     NaN  NaN  NaN    NaN   \n",
       "19337     ...              NaN          NaN     NaN     NaN  NaN  NaN    NaN   \n",
       "19598     ...              NaN          NaN     NaN     NaN  NaN  NaN    NaN   \n",
       "19701     ...              NaN          NaN     NaN     NaN  NaN  NaN    NaN   \n",
       "19703     ...              NaN          NaN     NaN     NaN  NaN  NaN    NaN   \n",
       "20387     ...              NaN          NaN     NaN     NaN  NaN  NaN    NaN   \n",
       "20390     ...              NaN          NaN     NaN     NaN  NaN  NaN    NaN   \n",
       "20621     ...              NaN          NaN     NaN     NaN  NaN  NaN    NaN   \n",
       "20626     ...              NaN          NaN     NaN     NaN  NaN  NaN    NaN   \n",
       "20845     ...              NaN          NaN     NaN     NaN  NaN  NaN    NaN   \n",
       "\n",
       "       nsxg2  adj_score1  adj_score2  \n",
       "17815    NaN         NaN         NaN  \n",
       "18377    NaN         NaN         NaN  \n",
       "18521    NaN         NaN         NaN  \n",
       "18690    NaN         NaN         NaN  \n",
       "18835    NaN         NaN         NaN  \n",
       "19337    NaN         NaN         NaN  \n",
       "19598    NaN         NaN         NaN  \n",
       "19701    NaN         NaN         NaN  \n",
       "19703    NaN         NaN         NaN  \n",
       "20387    NaN         NaN         NaN  \n",
       "20390    NaN         NaN         NaN  \n",
       "20621    NaN         NaN         NaN  \n",
       "20626    NaN         NaN         NaN  \n",
       "20845    NaN         NaN         NaN  \n",
       "\n",
       "[14 rows x 22 columns]"
      ]
     },
     "execution_count": 7,
     "metadata": {},
     "output_type": "execute_result"
    }
   ],
   "source": [
    "df_italy_b_pred = df[(df.score1.isnull()) & (df.league == \"Italy Serie B\") & (df.probtie > 0.33)]\n",
    "df_italy_b_pred"
   ]
  },
  {
   "cell_type": "code",
   "execution_count": 70,
   "metadata": {
    "collapsed": false
   },
   "outputs": [
    {
     "data": {
      "text/plain": [
       "21126"
      ]
     },
     "execution_count": 70,
     "metadata": {},
     "output_type": "execute_result"
    }
   ],
   "source": [
    "len(df)"
   ]
  },
  {
   "cell_type": "code",
   "execution_count": 71,
   "metadata": {
    "collapsed": true
   },
   "outputs": [],
   "source": [
    "df = df[~df.score1.isnull()]"
   ]
  },
  {
   "cell_type": "code",
   "execution_count": 72,
   "metadata": {
    "collapsed": false
   },
   "outputs": [
    {
     "data": {
      "text/plain": [
       "17517"
      ]
     },
     "execution_count": 72,
     "metadata": {},
     "output_type": "execute_result"
    }
   ],
   "source": [
    "len(df)"
   ]
  },
  {
   "cell_type": "code",
   "execution_count": 170,
   "metadata": {
    "collapsed": true
   },
   "outputs": [],
   "source": [
    "   "
   ]
  },
  {
   "cell_type": "code",
   "execution_count": 77,
   "metadata": {
    "collapsed": true
   },
   "outputs": [],
   "source": [
    "def q1(x):\n",
    "    return x.quantile(0.95)"
   ]
  },
  {
   "cell_type": "code",
   "execution_count": 78,
   "metadata": {
    "collapsed": false
   },
   "outputs": [],
   "source": [
    "percentile_by_league = df.groupby(\"league\").agg({\"probtie\": q1}).reset_index()"
   ]
  },
  {
   "cell_type": "code",
   "execution_count": 79,
   "metadata": {
    "collapsed": false
   },
   "outputs": [],
   "source": [
    "percent_dict = percentile_by_league.set_index(\"league\").T.to_dict(orient=\"records\")[0]"
   ]
  },
  {
   "cell_type": "code",
   "execution_count": 80,
   "metadata": {
    "collapsed": false
   },
   "outputs": [
    {
     "data": {
      "text/plain": [
       "{'Argentina Primera Division': 0.32114,\n",
       " 'Australian A-League': 0.25325,\n",
       " 'Austrian T-Mobile Bundesliga': 0.289365,\n",
       " 'Barclays Premier League': 0.30042,\n",
       " 'Belgian Jupiler League': 0.28256999999999993,\n",
       " 'Brasileiro Série A': 0.2931,\n",
       " 'Chinese Super League': 0.29972,\n",
       " 'Danish SAS-Ligaen': 0.30017999999999995,\n",
       " 'Dutch Eredivisie': 0.29332499999999995,\n",
       " 'English League Championship': 0.30289,\n",
       " 'English League One': 0.30268,\n",
       " 'English League Two': 0.2961599999999999,\n",
       " 'French Ligue 1': 0.31567999999999996,\n",
       " 'French Ligue 2': 0.3361099999999999,\n",
       " 'German 2. Bundesliga': 0.3151,\n",
       " 'German Bundesliga': 0.2935,\n",
       " 'Greek Super League': 0.30435,\n",
       " 'Italy Serie A': 0.30488,\n",
       " 'Italy Serie B': 0.34941999999999995,\n",
       " 'Japanese J League': 0.28462,\n",
       " 'Major League Soccer': 0.27541,\n",
       " 'Mexican Primera Division Torneo Apertura': 0.30787499999999995,\n",
       " 'Mexican Primera Division Torneo Clausura': 0.30804,\n",
       " \"National Women's Soccer League\": 0.29910000000000003,\n",
       " 'Norwegian Tippeligaen': 0.2794,\n",
       " 'Portuguese Liga': 0.31131,\n",
       " 'Russian Premier Liga': 0.33679000000000003,\n",
       " 'Scottish Premiership': 0.29684,\n",
       " 'South African ABSA Premier League': 0.36212,\n",
       " 'Spanish Primera Division': 0.29874500000000004,\n",
       " 'Spanish Segunda Division': 0.35968,\n",
       " 'Swedish Allsvenskan': 0.29112,\n",
       " 'Swiss Raiffeisen Super League': 0.27393999999999996,\n",
       " 'Turkish Turkcell Super Lig': 0.2896,\n",
       " 'UEFA Champions League': 0.28522499999999995,\n",
       " 'UEFA Europa League': 0.30606,\n",
       " 'United Soccer League': 0.311375}"
      ]
     },
     "execution_count": 80,
     "metadata": {},
     "output_type": "execute_result"
    }
   ],
   "source": [
    "percent_dict"
   ]
  },
  {
   "cell_type": "code",
   "execution_count": 81,
   "metadata": {
    "collapsed": true
   },
   "outputs": [],
   "source": [
    "df[\"league_95_percentile\"] = df.league.map(percent_dict)"
   ]
  },
  {
   "cell_type": "code",
   "execution_count": 83,
   "metadata": {
    "collapsed": false
   },
   "outputs": [],
   "source": [
    "df[\"prob_draw_over_95_percentile\"] = df.apply(\n",
    "    lambda row: 1 if row.probtie > row.league_95_percentile else 0,\n",
    "    axis=1)"
   ]
  },
  {
   "cell_type": "code",
   "execution_count": 84,
   "metadata": {
    "collapsed": true
   },
   "outputs": [],
   "source": [
    "df_pred = df[df.prob_draw_over_95_percentile == 1]"
   ]
  },
  {
   "cell_type": "code",
   "execution_count": 85,
   "metadata": {
    "collapsed": false
   },
   "outputs": [
    {
     "name": "stderr",
     "output_type": "stream",
     "text": [
      "/home/alexander/anaconda/envs/py36/lib/python3.6/site-packages/pandas/core/indexing.py:337: SettingWithCopyWarning: \n",
      "A value is trying to be set on a copy of a slice from a DataFrame.\n",
      "Try using .loc[row_indexer,col_indexer] = value instead\n",
      "\n",
      "See the caveats in the documentation: http://pandas.pydata.org/pandas-docs/stable/indexing.html#indexing-view-versus-copy\n",
      "  self.obj[key] = _infer_fill_value(value)\n",
      "/home/alexander/anaconda/envs/py36/lib/python3.6/site-packages/pandas/core/indexing.py:517: SettingWithCopyWarning: \n",
      "A value is trying to be set on a copy of a slice from a DataFrame.\n",
      "Try using .loc[row_indexer,col_indexer] = value instead\n",
      "\n",
      "See the caveats in the documentation: http://pandas.pydata.org/pandas-docs/stable/indexing.html#indexing-view-versus-copy\n",
      "  self.obj[item] = s\n"
     ]
    }
   ],
   "source": [
    "df_pred.loc[:, \"success\"] = df_pred.apply(lambda row: 1 if row.resul  t == \"D\" else 0, axis=1)"
   ]
  },
  {
   "cell_type": "code",
   "execution_count": 86,
   "metadata": {
    "collapsed": false
   },
   "outputs": [
    {
     "data": {
      "text/html": [
       "<div>\n",
       "<style>\n",
       "    .dataframe thead tr:only-child th {\n",
       "        text-align: right;\n",
       "    }\n",
       "\n",
       "    .dataframe thead th {\n",
       "        text-align: left;\n",
       "    }\n",
       "\n",
       "    .dataframe tbody tr th {\n",
       "        vertical-align: top;\n",
       "    }\n",
       "</style>\n",
       "<table border=\"1\" class=\"dataframe\">\n",
       "  <thead>\n",
       "    <tr style=\"text-align: right;\">\n",
       "      <th></th>\n",
       "      <th>league</th>\n",
       "      <th>correct</th>\n",
       "      <th>total</th>\n",
       "      <th>accuracy</th>\n",
       "    </tr>\n",
       "  </thead>\n",
       "  <tbody>\n",
       "    <tr>\n",
       "      <th>7</th>\n",
       "      <td>Danish SAS-Ligaen</td>\n",
       "      <td>4</td>\n",
       "      <td>7</td>\n",
       "      <td>0.571429</td>\n",
       "    </tr>\n",
       "    <tr>\n",
       "      <th>26</th>\n",
       "      <td>Russian Premier Liga</td>\n",
       "      <td>9</td>\n",
       "      <td>19</td>\n",
       "      <td>0.473684</td>\n",
       "    </tr>\n",
       "    <tr>\n",
       "      <th>30</th>\n",
       "      <td>Spanish Segunda Division</td>\n",
       "      <td>16</td>\n",
       "      <td>36</td>\n",
       "      <td>0.444444</td>\n",
       "    </tr>\n",
       "    <tr>\n",
       "      <th>3</th>\n",
       "      <td>Barclays Premier League</td>\n",
       "      <td>22</td>\n",
       "      <td>50</td>\n",
       "      <td>0.440000</td>\n",
       "    </tr>\n",
       "    <tr>\n",
       "      <th>18</th>\n",
       "      <td>Italy Serie B</td>\n",
       "      <td>14</td>\n",
       "      <td>33</td>\n",
       "      <td>0.424242</td>\n",
       "    </tr>\n",
       "    <tr>\n",
       "      <th>2</th>\n",
       "      <td>Austrian T-Mobile Bundesliga</td>\n",
       "      <td>6</td>\n",
       "      <td>15</td>\n",
       "      <td>0.400000</td>\n",
       "    </tr>\n",
       "    <tr>\n",
       "      <th>22</th>\n",
       "      <td>Mexican Primera Division Torneo Clausura</td>\n",
       "      <td>7</td>\n",
       "      <td>18</td>\n",
       "      <td>0.388889</td>\n",
       "    </tr>\n",
       "    <tr>\n",
       "      <th>12</th>\n",
       "      <td>French Ligue 1</td>\n",
       "      <td>19</td>\n",
       "      <td>49</td>\n",
       "      <td>0.387755</td>\n",
       "    </tr>\n",
       "    <tr>\n",
       "      <th>0</th>\n",
       "      <td>Argentina Primera Division</td>\n",
       "      <td>11</td>\n",
       "      <td>29</td>\n",
       "      <td>0.379310</td>\n",
       "    </tr>\n",
       "    <tr>\n",
       "      <th>31</th>\n",
       "      <td>Swedish Allsvenskan</td>\n",
       "      <td>9</td>\n",
       "      <td>24</td>\n",
       "      <td>0.375000</td>\n",
       "    </tr>\n",
       "    <tr>\n",
       "      <th>14</th>\n",
       "      <td>German 2. Bundesliga</td>\n",
       "      <td>8</td>\n",
       "      <td>23</td>\n",
       "      <td>0.347826</td>\n",
       "    </tr>\n",
       "    <tr>\n",
       "      <th>8</th>\n",
       "      <td>Dutch Eredivisie</td>\n",
       "      <td>8</td>\n",
       "      <td>24</td>\n",
       "      <td>0.333333</td>\n",
       "    </tr>\n",
       "    <tr>\n",
       "      <th>4</th>\n",
       "      <td>Belgian Jupiler League</td>\n",
       "      <td>3</td>\n",
       "      <td>9</td>\n",
       "      <td>0.333333</td>\n",
       "    </tr>\n",
       "    <tr>\n",
       "      <th>36</th>\n",
       "      <td>United Soccer League</td>\n",
       "      <td>9</td>\n",
       "      <td>29</td>\n",
       "      <td>0.310345</td>\n",
       "    </tr>\n",
       "    <tr>\n",
       "      <th>5</th>\n",
       "      <td>Brasileiro Série A</td>\n",
       "      <td>11</td>\n",
       "      <td>37</td>\n",
       "      <td>0.297297</td>\n",
       "    </tr>\n",
       "    <tr>\n",
       "      <th>21</th>\n",
       "      <td>Mexican Primera Division Torneo Apertura</td>\n",
       "      <td>5</td>\n",
       "      <td>17</td>\n",
       "      <td>0.294118</td>\n",
       "    </tr>\n",
       "    <tr>\n",
       "      <th>25</th>\n",
       "      <td>Portuguese Liga</td>\n",
       "      <td>7</td>\n",
       "      <td>24</td>\n",
       "      <td>0.291667</td>\n",
       "    </tr>\n",
       "    <tr>\n",
       "      <th>35</th>\n",
       "      <td>UEFA Europa League</td>\n",
       "      <td>5</td>\n",
       "      <td>18</td>\n",
       "      <td>0.277778</td>\n",
       "    </tr>\n",
       "    <tr>\n",
       "      <th>20</th>\n",
       "      <td>Major League Soccer</td>\n",
       "      <td>11</td>\n",
       "      <td>40</td>\n",
       "      <td>0.275000</td>\n",
       "    </tr>\n",
       "    <tr>\n",
       "      <th>29</th>\n",
       "      <td>Spanish Primera Division</td>\n",
       "      <td>13</td>\n",
       "      <td>48</td>\n",
       "      <td>0.270833</td>\n",
       "    </tr>\n",
       "    <tr>\n",
       "      <th>15</th>\n",
       "      <td>German Bundesliga</td>\n",
       "      <td>10</td>\n",
       "      <td>38</td>\n",
       "      <td>0.263158</td>\n",
       "    </tr>\n",
       "    <tr>\n",
       "      <th>24</th>\n",
       "      <td>Norwegian Tippeligaen</td>\n",
       "      <td>6</td>\n",
       "      <td>23</td>\n",
       "      <td>0.260870</td>\n",
       "    </tr>\n",
       "    <tr>\n",
       "      <th>23</th>\n",
       "      <td>National Women's Soccer League</td>\n",
       "      <td>3</td>\n",
       "      <td>12</td>\n",
       "      <td>0.250000</td>\n",
       "    </tr>\n",
       "    <tr>\n",
       "      <th>19</th>\n",
       "      <td>Japanese J League</td>\n",
       "      <td>2</td>\n",
       "      <td>8</td>\n",
       "      <td>0.250000</td>\n",
       "    </tr>\n",
       "    <tr>\n",
       "      <th>9</th>\n",
       "      <td>English League Championship</td>\n",
       "      <td>11</td>\n",
       "      <td>45</td>\n",
       "      <td>0.244444</td>\n",
       "    </tr>\n",
       "    <tr>\n",
       "      <th>11</th>\n",
       "      <td>English League Two</td>\n",
       "      <td>4</td>\n",
       "      <td>17</td>\n",
       "      <td>0.235294</td>\n",
       "    </tr>\n",
       "    <tr>\n",
       "      <th>13</th>\n",
       "      <td>French Ligue 2</td>\n",
       "      <td>7</td>\n",
       "      <td>30</td>\n",
       "      <td>0.233333</td>\n",
       "    </tr>\n",
       "    <tr>\n",
       "      <th>34</th>\n",
       "      <td>UEFA Champions League</td>\n",
       "      <td>4</td>\n",
       "      <td>18</td>\n",
       "      <td>0.222222</td>\n",
       "    </tr>\n",
       "    <tr>\n",
       "      <th>32</th>\n",
       "      <td>Swiss Raiffeisen Super League</td>\n",
       "      <td>3</td>\n",
       "      <td>14</td>\n",
       "      <td>0.214286</td>\n",
       "    </tr>\n",
       "    <tr>\n",
       "      <th>17</th>\n",
       "      <td>Italy Serie A</td>\n",
       "      <td>10</td>\n",
       "      <td>48</td>\n",
       "      <td>0.208333</td>\n",
       "    </tr>\n",
       "    <tr>\n",
       "      <th>10</th>\n",
       "      <td>English League One</td>\n",
       "      <td>3</td>\n",
       "      <td>17</td>\n",
       "      <td>0.176471</td>\n",
       "    </tr>\n",
       "    <tr>\n",
       "      <th>33</th>\n",
       "      <td>Turkish Turkcell Super Lig</td>\n",
       "      <td>4</td>\n",
       "      <td>23</td>\n",
       "      <td>0.173913</td>\n",
       "    </tr>\n",
       "    <tr>\n",
       "      <th>27</th>\n",
       "      <td>Scottish Premiership</td>\n",
       "      <td>3</td>\n",
       "      <td>18</td>\n",
       "      <td>0.166667</td>\n",
       "    </tr>\n",
       "    <tr>\n",
       "      <th>6</th>\n",
       "      <td>Chinese Super League</td>\n",
       "      <td>1</td>\n",
       "      <td>7</td>\n",
       "      <td>0.142857</td>\n",
       "    </tr>\n",
       "    <tr>\n",
       "      <th>28</th>\n",
       "      <td>South African ABSA Premier League</td>\n",
       "      <td>1</td>\n",
       "      <td>7</td>\n",
       "      <td>0.142857</td>\n",
       "    </tr>\n",
       "    <tr>\n",
       "      <th>16</th>\n",
       "      <td>Greek Super League</td>\n",
       "      <td>1</td>\n",
       "      <td>7</td>\n",
       "      <td>0.142857</td>\n",
       "    </tr>\n",
       "    <tr>\n",
       "      <th>1</th>\n",
       "      <td>Australian A-League</td>\n",
       "      <td>0</td>\n",
       "      <td>4</td>\n",
       "      <td>0.000000</td>\n",
       "    </tr>\n",
       "  </tbody>\n",
       "</table>\n",
       "</div>"
      ],
      "text/plain": [
       "                                      league  correct  total  accuracy\n",
       "7                          Danish SAS-Ligaen        4      7  0.571429\n",
       "26                      Russian Premier Liga        9     19  0.473684\n",
       "30                  Spanish Segunda Division       16     36  0.444444\n",
       "3                    Barclays Premier League       22     50  0.440000\n",
       "18                             Italy Serie B       14     33  0.424242\n",
       "2               Austrian T-Mobile Bundesliga        6     15  0.400000\n",
       "22  Mexican Primera Division Torneo Clausura        7     18  0.388889\n",
       "12                            French Ligue 1       19     49  0.387755\n",
       "0                 Argentina Primera Division       11     29  0.379310\n",
       "31                       Swedish Allsvenskan        9     24  0.375000\n",
       "14                      German 2. Bundesliga        8     23  0.347826\n",
       "8                           Dutch Eredivisie        8     24  0.333333\n",
       "4                     Belgian Jupiler League        3      9  0.333333\n",
       "36                      United Soccer League        9     29  0.310345\n",
       "5                         Brasileiro Série A       11     37  0.297297\n",
       "21  Mexican Primera Division Torneo Apertura        5     17  0.294118\n",
       "25                           Portuguese Liga        7     24  0.291667\n",
       "35                        UEFA Europa League        5     18  0.277778\n",
       "20                       Major League Soccer       11     40  0.275000\n",
       "29                  Spanish Primera Division       13     48  0.270833\n",
       "15                         German Bundesliga       10     38  0.263158\n",
       "24                     Norwegian Tippeligaen        6     23  0.260870\n",
       "23            National Women's Soccer League        3     12  0.250000\n",
       "19                         Japanese J League        2      8  0.250000\n",
       "9                English League Championship       11     45  0.244444\n",
       "11                        English League Two        4     17  0.235294\n",
       "13                            French Ligue 2        7     30  0.233333\n",
       "34                     UEFA Champions League        4     18  0.222222\n",
       "32             Swiss Raiffeisen Super League        3     14  0.214286\n",
       "17                             Italy Serie A       10     48  0.208333\n",
       "10                        English League One        3     17  0.176471\n",
       "33                Turkish Turkcell Super Lig        4     23  0.173913\n",
       "27                      Scottish Premiership        3     18  0.166667\n",
       "6                       Chinese Super League        1      7  0.142857\n",
       "28         South African ABSA Premier League        1      7  0.142857\n",
       "16                        Greek Super League        1      7  0.142857\n",
       "1                        Australian A-League        0      4  0.000000"
      ]
     },
     "execution_count": 86,
     "metadata": {},
     "output_type": "execute_result"
    }
   ],
   "source": [
    "df_draw_by_league = df_pred.groupby(\"league\").agg({\"success\": [\"sum\", \"count\"]}).reset_index()\n",
    "df_draw_by_league.columns = df_draw_by_league.columns.droplevel()\n",
    "df_draw_by_league.columns = [\"league\", \"correct\", \"total\"]\n",
    "df_draw_by_league[\"accuracy\"] = df_draw_by_league.correct / df_draw_by_league.total\n",
    "df_draw_by_league.sort_values(\"accuracy\", ascending=False)"
   ]
  },
  {
   "cell_type": "code",
   "execution_count": 185,
   "metadata": {
    "collapsed": true
   },
   "outputs": [],
   "source": [
    "df_prem = df[df.league == \"Barclays Premier League\"]"
   ]
  },
  {
   "cell_type": "code",
   "execution_count": 186,
   "metadata": {
    "collapsed": false
   },
   "outputs": [
    {
     "data": {
      "text/plain": [
       "<matplotlib.axes._subplots.AxesSubplot at 0x110bc7860>"
      ]
     },
     "execution_count": 186,
     "metadata": {},
     "output_type": "execute_result"
    },
    {
     "data": {
      "image/png": "[encoded data removed]",
      "text/plain": [
       "<matplotlib.figure.Figure at 0x11da84fd0>"
      ]
     },
     "metadata": {},
     "output_type": "display_data"
    }
   ],
   "source": [
    "df_prem.probtie.hist(bins=20)"
   ]
  },
  {
   "cell_type": "code",
   "execution_count": 187,
   "metadata": {
    "collapsed": false
   },
   "outputs": [
    {
     "data": {
      "text/plain": [
       "0.30042"
      ]
     },
     "execution_count": 187,
     "metadata": {},
     "output_type": "execute_result"
    }
   ],
   "source": [
    "df_prem.probtie.quantile(0.95)"
   ]
  },
  {
   "cell_type": "markdown",
   "metadata": {},
   "source": [
    "# Premmy"
   ]
  },
  {
   "cell_type": "code",
   "execution_count": 188,
   "metadata": {
    "collapsed": false
   },
   "outputs": [
    {
     "name": "stderr",
     "output_type": "stream",
     "text": [
      "/Users/alexandergreen/anaconda/envs/oa_env/lib/python3.6/site-packages/ipykernel/__main__.py:3: FutureWarning: Sorting because non-concatenation axis is not aligned. A future version\n",
      "of pandas will change to not sort by default.\n",
      "\n",
      "To accept the future behavior, pass 'sort=False'.\n",
      "\n",
      "To retain the current behavior and silence the warning, pass 'sort=True'.\n",
      "\n",
      "  app.launch_new_instance()\n"
     ]
    }
   ],
   "source": [
    "betting = pd.concat([pd.read_csv(\"../data/1617_results.csv\", parse_dates=[\"Date\"], dayfirst=True),\n",
    "                      pd.read_csv(\"../data/1718_results.csv\", parse_dates=[\"Date\"], dayfirst=True),\n",
    "                      pd.read_csv(\"../data/1819_results.csv\", parse_dates=[\"Date\"], dayfirst=True)])"
   ]
  },
  {
   "cell_type": "code",
   "execution_count": 189,
   "metadata": {
    "collapsed": false
   },
   "outputs": [
    {
     "data": {
      "text/plain": [
       "['Arsenal',\n",
       " 'Bournemouth',\n",
       " 'Brighton',\n",
       " 'Burnley',\n",
       " 'Cardiff',\n",
       " 'Chelsea',\n",
       " 'Crystal Palace',\n",
       " 'Everton',\n",
       " 'Fulham',\n",
       " 'Huddersfield',\n",
       " 'Hull',\n",
       " 'Leicester',\n",
       " 'Liverpool',\n",
       " 'Man City',\n",
       " 'Man United',\n",
       " 'Middlesbrough',\n",
       " 'Newcastle',\n",
       " 'Southampton',\n",
       " 'Stoke',\n",
       " 'Sunderland',\n",
       " 'Swansea',\n",
       " 'Tottenham',\n",
       " 'Watford',\n",
       " 'West Brom',\n",
       " 'West Ham',\n",
       " 'Wolves']"
      ]
     },
     "execution_count": 189,
     "metadata": {},
     "output_type": "execute_result"
    }
   ],
   "source": [
    "bet_teams = betting.HomeTeam.unique()\n",
    "sorted(bet_teams)"
   ]
  },
  {
   "cell_type": "code",
   "execution_count": 190,
   "metadata": {
    "collapsed": false
   },
   "outputs": [
    {
     "data": {
      "text/plain": [
       "['AFC Bournemouth',\n",
       " 'Arsenal',\n",
       " 'Brighton and Hove Albion',\n",
       " 'Burnley',\n",
       " 'Cardiff City',\n",
       " 'Chelsea',\n",
       " 'Crystal Palace',\n",
       " 'Everton',\n",
       " 'Fulham',\n",
       " 'Huddersfield Town',\n",
       " 'Hull City',\n",
       " 'Leicester City',\n",
       " 'Liverpool',\n",
       " 'Manchester City',\n",
       " 'Manchester United',\n",
       " 'Middlesbrough',\n",
       " 'Newcastle',\n",
       " 'Southampton',\n",
       " 'Stoke City',\n",
       " 'Sunderland',\n",
       " 'Swansea City',\n",
       " 'Tottenham Hotspur',\n",
       " 'Watford',\n",
       " 'West Bromwich Albion',\n",
       " 'West Ham United',\n",
       " 'Wolverhampton']"
      ]
     },
     "execution_count": 190,
     "metadata": {},
     "output_type": "execute_result"
    }
   ],
   "source": [
    "five38_teams_16 = df_prem.team1.unique()\n",
    "sorted(five38_teams_16)"
   ]
  },
  {
   "cell_type": "code",
   "execution_count": 191,
   "metadata": {
    "collapsed": true
   },
   "outputs": [],
   "source": [
    "team_dict = {\"AFC Bournemouth\": \"Bournemouth\",\n",
    "            \"Brighton and Hove Albion\": \"Brighton\",\n",
    "            \"Cardiff City\": \"Cardiff\",\n",
    "            \"Huddersfield Town\": \"Huddersfield\",\n",
    "            \"Hull City\": \"Hull\",\n",
    "            \"Leicester City\": \"Leicester\",\n",
    "            \"Manchester United\": \"Man United\",\n",
    "            \"Manchester City\": \"Man City\",\n",
    "            \"Newcastle United\": \"Newcastle\",\n",
    "            \"Stoke City\": \"Stoke\",\n",
    "            \"Swansea City\": \"Swansea\",\n",
    "            \"Tottenham Hotspur\": \"Tottenham\",\n",
    "            \"West Bromwich Albion\": \"West Brom\",\n",
    "            \"West Ham United\": \"West Ham\",\n",
    "            \"Wolverhampton\": \"Wolves\"}"
   ]
  },
  {
   "cell_type": "code",
   "execution_count": 192,
   "metadata": {
    "collapsed": false
   },
   "outputs": [
    {
     "name": "stderr",
     "output_type": "stream",
     "text": [
      "/Users/alexandergreen/anaconda/envs/oa_env/lib/python3.6/site-packages/pandas/core/indexing.py:543: SettingWithCopyWarning: \n",
      "A value is trying to be set on a copy of a slice from a DataFrame.\n",
      "Try using .loc[row_indexer,col_indexer] = value instead\n",
      "\n",
      "See the caveats in the documentation: http://pandas.pydata.org/pandas-docs/stable/indexing.html#indexing-view-versus-copy\n",
      "  self.obj[item] = s\n"
     ]
    }
   ],
   "source": [
    "df_prem.loc[:, \"team1\"] = df_prem.team1.apply(lambda x: team_dict[x] if x in team_dict.keys() else x)\n",
    "\n",
    "df_prem.loc[:, \"team2\"] = df_prem.team2.apply((lambda x: team_dict[x] if x in team_dict.keys() else x))"
   ]
  },
  {
   "cell_type": "code",
   "execution_count": 194,
   "metadata": {
    "collapsed": true
   },
   "outputs": [],
   "source": [
    "betting.rename(columns={\"HomeTeam\": \"team1\", \"AwayTeam\": \"team2\", \"Date\": \"date\"}, inplace=True)"
   ]
  },
  {
   "cell_type": "code",
   "execution_count": 195,
   "metadata": {
    "collapsed": true
   },
   "outputs": [],
   "source": [
    "merged = pd.merge(betting, df_prem, on=[\"date\", \"team1\", \"team2\"])"
   ]
  },
  {
   "cell_type": "code",
   "execution_count": 196,
   "metadata": {
    "collapsed": true
   },
   "outputs": [],
   "source": [
    "merged = merged[[\"team1\", \"team2\", \n",
    "                 \"BbMxH\", \"BbMxD\", \"BbMxA\",\n",
    "                \"PSH\", \"PSD\", \"PSA\", \n",
    "                \"result\", \n",
    "                \"prob1\", \"prob2\", \"probtie\"]]"
   ]
  },
  {
   "cell_type": "code",
   "execution_count": 237,
   "metadata": {
    "collapsed": false
   },
   "outputs": [
    {
     "name": "stdout",
     "output_type": "stream",
     "text": [
      "money at end £7736.6978947632\n",
      "total matches 48\n",
      "lowest bank £968.25847822515\n",
      "highest bank £11791.94923756013\n",
      "ROI 32.0%\n",
      "Percent of matches bet on 4.85\n"
     ]
    },
    {
     "data": {
      "image/png": "[encoded data removed]",
      "text/plain": [
       "<matplotlib.figure.Figure at 0x11e73c208>"
      ]
     },
     "metadata": {},
     "output_type": "display_data"
    }
   ],
   "source": [
    "money_history = []\n",
    "money = 1000\n",
    "frac = 0.1\n",
    "total_staked = 0\n",
    "total_won = 0\n",
    "odds = []\n",
    "lose_odds = []\n",
    "for row in merged.itertuples():\n",
    "    if row.probtie >= 0.30:\n",
    "        stake = frac * money\n",
    "        money -= stake\n",
    "        total_staked += stake\n",
    "        if row.result == \"D\":\n",
    "            money += stake * row.BbMxD * 0.99\n",
    "            total_won += stake * row.BbMxD * 0.99\n",
    "            odds.append(row.BbMxD)\n",
    "        else:\n",
    "            lose_odds.append(row.BbMxD)\n",
    "        money_history.append(money)\n",
    "plt.plot(money_history)\n",
    "print(\"money at end £{}\".format(money))\n",
    "print(\"total matches {}\".format(len(money_history)))\n",
    "print(\"lowest bank £{}\".format(min(money_history)))\n",
    "print(\"highest bank £{}\".format(max(money_history)))\n",
    "print(\"ROI {}%\".format(round(100 * ((total_won / total_staked) - 1), 0)))\n",
    "print(\"Percent of matches bet on {}\".format(round(len(money_history) * 100 / len(df_prem), 2)))"
   ]
  },
  {
   "cell_type": "code",
   "execution_count": 198,
   "metadata": {
    "collapsed": false
   },
   "outputs": [
    {
     "data": {
      "text/plain": [
       "3.2900000000000005"
      ]
     },
     "execution_count": 198,
     "metadata": {},
     "output_type": "execute_result"
    }
   ],
   "source": [
    "np.mean(odds)"
   ]
  },
  {
   "cell_type": "code",
   "execution_count": 199,
   "metadata": {
    "collapsed": false
   },
   "outputs": [
    {
     "data": {
      "text/plain": [
       "3.3388000000000004"
      ]
     },
     "execution_count": 199,
     "metadata": {},
     "output_type": "execute_result"
    }
   ],
   "source": [
    "np.mean(lose_odds)"
   ]
  },
  {
   "cell_type": "code",
   "execution_count": 200,
   "metadata": {
    "collapsed": false
   },
   "outputs": [
    {
     "data": {
      "text/plain": [
       "25"
      ]
     },
     "execution_count": 200,
     "metadata": {},
     "output_type": "execute_result"
    }
   ],
   "source": [
    "len(lose_odds)"
   ]
  },
  {
   "cell_type": "code",
   "execution_count": 201,
   "metadata": {
    "collapsed": false
   },
   "outputs": [
    {
     "data": {
      "text/plain": [
       "23"
      ]
     },
     "execution_count": 201,
     "metadata": {},
     "output_type": "execute_result"
    }
   ],
   "source": [
    "len(odds)"
   ]
  },
  {
   "cell_type": "markdown",
   "metadata": {},
   "source": [
    "# everything"
   ]
  },
  {
   "cell_type": "code",
   "execution_count": 202,
   "metadata": {
    "collapsed": false
   },
   "outputs": [
    {
     "name": "stdout",
     "output_type": "stream",
     "text": [
      "money at end £915.7916435628018\n",
      "total matches 324\n",
      "lowest bank £215.59427154885327\n",
      "highest bank £12736.579211067696\n",
      "ROI -0.0%\n"
     ]
    },
    {
     "data": {
      "image/png": "[encoded data removed]",
      "text/plain": [
       "<matplotlib.figure.Figure at 0x10cc499b0>"
      ]
     },
     "metadata": {},
     "output_type": "display_data"
    }
   ],
   "source": [
    "money_history = []\n",
    "money = 1000\n",
    "frac = 0.1\n",
    "total_staked = 0\n",
    "total_won = 0\n",
    "for row in df.itertuples():\n",
    "    if row.probtie >= 0.33:\n",
    "        stake = frac * money\n",
    "        money -= stake\n",
    "        total_staked += stake\n",
    "        if row.result == \"D\":\n",
    "            money += stake * 3.3\n",
    "            total_won += stake * 3.3\n",
    "        money_history.append(money)\n",
    "plt.plot(money_history)\n",
    "print(\"money at end £{}\".format(money))\n",
    "print(\"total matches {}\".format(len(money_history)))\n",
    "print(\"lowest bank £{}\".format(min(money_history)))\n",
    "print(\"highest bank £{}\".format(max(money_history)))\n",
    "print(\"ROI {}%\".format(100 * (round((total_won / total_staked) - 1, 2))))\n",
    "    "
   ]
  },
  {
   "cell_type": "markdown",
   "metadata": {
    "collapsed": true
   },
   "source": [
    "# Serie B"
   ]
  },
  {
   "cell_type": "code",
   "execution_count": 88,
   "metadata": {
    "collapsed": false
   },
   "outputs": [],
   "source": [
    "betting_serieb = pd.concat([pd.read_csv(\"../data/serieb_1718.csv\", parse_dates=[\"Date\"], dayfirst=True),\n",
    "                            pd.read_csv(\"../data/serieb_1819.csv\", parse_dates=[\"Date\"], dayfirst=True)])"
   ]
  },
  {
   "cell_type": "code",
   "execution_count": 89,
   "metadata": {
    "collapsed": false
   },
   "outputs": [
    {
     "data": {
      "text/plain": [
       "array(['Parma', 'Virtus Entella', 'Avellino', 'Ternana', 'Carpi',\n",
       "       'Palermo', 'F.B.C Unione Venezia', 'Pro Vercelli', 'Cittadella',\n",
       "       'US Pescara', 'Bari', 'Brescia', 'Empoli', 'Novara', 'Frosinone',\n",
       "       'Cremonese', 'Perugia', 'Spezia', 'Cesena', 'Foggia', 'Ascoli',\n",
       "       'Salernitana', 'Verona', 'Benevento', 'Padova', 'Lecce', 'Crotone',\n",
       "       'Livorno', 'Cosenza'], dtype=object)"
      ]
     },
     "execution_count": 89,
     "metadata": {},
     "output_type": "execute_result"
    }
   ],
   "source": [
    "df_italy_b = df[df.league == \"Italy Serie B\"]\n",
    "df_italy_b.team1.unique()"
   ]
  },
  {
   "cell_type": "code",
   "execution_count": 90,
   "metadata": {
    "collapsed": false
   },
   "outputs": [
    {
     "data": {
      "text/plain": [
       "array(['Parma', 'Avellino', 'Carpi', 'Cittadella', 'Palermo',\n",
       "       'Pro Vercelli', 'Ternana', 'Venezia', 'Virtus Entella', 'Pescara',\n",
       "       'Bari', 'Brescia', 'Ascoli', 'Cesena', 'Cremonese', 'Empoli',\n",
       "       'Foggia', 'Frosinone', 'Novara', 'Perugia', 'Spezia',\n",
       "       'Salernitana', 'Verona', 'Benevento', 'Padova', 'Crotone', 'Lecce',\n",
       "       'Livorno', 'Cosenza'], dtype=object)"
      ]
     },
     "execution_count": 90,
     "metadata": {},
     "output_type": "execute_result"
    }
   ],
   "source": [
    "betting_serieb.HomeTeam.unique()"
   ]
  },
  {
   "cell_type": "code",
   "execution_count": 91,
   "metadata": {
    "collapsed": false
   },
   "outputs": [
    {
     "data": {
      "text/plain": [
       "array(['Pescara', 'Venezia'], dtype=object)"
      ]
     },
     "execution_count": 91,
     "metadata": {},
     "output_type": "execute_result"
    }
   ],
   "source": [
    "np.setdiff1d(betting_serieb.HomeTeam.unique(), df_italy_b.team1.unique())"
   ]
  },
  {
   "cell_type": "code",
   "execution_count": 92,
   "metadata": {
    "collapsed": false
   },
   "outputs": [
    {
     "data": {
      "text/plain": [
       "array(['F.B.C Unione Venezia', 'US Pescara'], dtype=object)"
      ]
     },
     "execution_count": 92,
     "metadata": {},
     "output_type": "execute_result"
    }
   ],
   "source": [
    "np.setdiff1d(df_italy_b.team1.unique(), betting_serieb.HomeTeam.unique())"
   ]
  },
  {
   "cell_type": "code",
   "execution_count": 93,
   "metadata": {
    "collapsed": true
   },
   "outputs": [],
   "source": [
    "serie_b_team_dict = {\n",
    "    \"Venezia\": \"F.B.C Unione Venezia\",\n",
    "    \"Pescara\": \"US Pescara\"\n",
    "}"
   ]
  },
  {
   "cell_type": "code",
   "execution_count": 94,
   "metadata": {
    "collapsed": false
   },
   "outputs": [
    {
     "name": "stderr",
     "output_type": "stream",
     "text": [
      "/home/alexander/anaconda/envs/py36/lib/python3.6/site-packages/pandas/core/indexing.py:517: SettingWithCopyWarning: \n",
      "A value is trying to be set on a copy of a slice from a DataFrame.\n",
      "Try using .loc[row_indexer,col_indexer] = value instead\n",
      "\n",
      "See the caveats in the documentation: http://pandas.pydata.org/pandas-docs/stable/indexing.html#indexing-view-versus-copy\n",
      "  self.obj[item] = s\n"
     ]
    }
   ],
   "source": [
    "df_italy_b.loc[:, \"team1\"] = df_italy_b.team1.apply(lambda x: team_dict[x] if x in serie_b_team_dict.keys() else x)\n",
    "\n",
    "df_italy_b.loc[:, \"team2\"] = df_italy_b.team2.apply(lambda x: team_dict[x] if x in serie_b_team_dict.keys() else x)"
   ]
  },
  {
   "cell_type": "code",
   "execution_count": 96,
   "metadata": {
    "collapsed": true
   },
   "outputs": [],
   "source": [
    "betting_serieb.rename(columns={\"HomeTeam\": \"team1\", \"AwayTeam\": \"team2\", \"Date\": \"date\"}, inplace=True)"
   ]
  },
  {
   "cell_type": "code",
   "execution_count": 97,
   "metadata": {
    "collapsed": true
   },
   "outputs": [],
   "source": [
    "merged_serie_b = pd.merge(betting_serieb, df_italy_b, on=[\"date\", \"team1\", \"team2\"])"
   ]
  },
  {
   "cell_type": "code",
   "execution_count": 98,
   "metadata": {
    "collapsed": true
   },
   "outputs": [],
   "source": [
    "merged_serie_b = merged_serie_b[[\"team1\", \"team2\", \n",
    "                                 \"BbMxH\", \"BbMxD\", \"BbMxA\",\n",
    "                                 \"PSH\", \"PSD\", \"PSA\", \n",
    "                                 \"result\", \n",
    "                                 \"prob1\", \"prob2\", \"probtie\"]]"
   ]
  },
  {
   "cell_type": "code",
   "execution_count": 99,
   "metadata": {
    "collapsed": false
   },
   "outputs": [
    {
     "data": {
      "text/plain": [
       "0.34941999999999995"
      ]
     },
     "execution_count": 99,
     "metadata": {},
     "output_type": "execute_result"
    }
   ],
   "source": [
    "df_italy_b.probtie.quantile(0.95)"
   ]
  },
  {
   "cell_type": "code",
   "execution_count": 103,
   "metadata": {
    "collapsed": false
   },
   "outputs": [
    {
     "name": "stdout",
     "output_type": "stream",
     "text": [
      "money at end £648.7070682053873\n",
      "total matches 106\n",
      "lowest bank £358.6656716169754\n",
      "highest bank £1744.9213350364184\n",
      "ROI -4.0%\n",
      "Percent of matches bet on 16.33\n"
     ]
    },
    {
     "data": {
      "image/png": "[encoded data removed]",
      "text/plain": [
       "<matplotlib.figure.Figure at 0x7ff617a42908>"
      ]
     },
     "metadata": {},
     "output_type": "display_data"
    }
   ],
   "source": [
    "money_history = []\n",
    "money = 1000\n",
    "frac = 0.1\n",
    "total_staked = 0\n",
    "total_won = 0\n",
    "for row in merged_serie_b.itertuples():\n",
    "    if row.probtie >= 0.32:\n",
    "        stake = frac * money\n",
    "        money -= stake\n",
    "        total_staked += stake\n",
    "        if row.result == \"D\":\n",
    "            money += stake * row.BbMxD * 0.99\n",
    "            total_won += stake * row.BbMxD * 0.99\n",
    "        money_history.append(money)\n",
    "plt.plot(money_history)\n",
    "print(\"money at end £{}\".format(money))\n",
    "print(\"total matches {}\".format(len(money_history)))\n",
    "print(\"lowest bank £{}\".format(min(money_history)))\n",
    "print(\"highest bank £{}\".format(max(money_history)))\n",
    "print(\"ROI {}%\".format(100 * (round((total_won / total_staked) - 1, 2))))\n",
    "print(\"Percent of matches bet on {}\".format(round(len(money_history) * 100 / len(df_italy_b), 2)))"
   ]
  },
  {
   "cell_type": "markdown",
   "metadata": {},
   "source": [
    "# Russian "
   ]
  },
  {
   "cell_type": "code",
   "execution_count": 92,
   "metadata": {
    "collapsed": false
   },
   "outputs": [
    {
     "data": {
      "text/plain": [
       "0.33679000000000003"
      ]
     },
     "execution_count": 92,
     "metadata": {},
     "output_type": "execute_result"
    }
   ],
   "source": [
    "df_rus = df[df.league == \"Russian Premier Liga\"]\n",
    "df_rus.probtie.quantile(0.95)"
   ]
  },
  {
   "cell_type": "code",
   "execution_count": 93,
   "metadata": {
    "collapsed": false
   },
   "outputs": [
    {
     "name": "stdout",
     "output_type": "stream",
     "text": [
      "money at end £3036.7153889320425\n",
      "total matches 28\n",
      "lowest bank £723.6153800099999\n",
      "highest bank £3374.128209924492\n",
      "ROI 56.00000000000001%\n",
      "Percent of matches bet on 7.47\n"
     ]
    },
    {
     "data": {
      "image/png": "[encoded data removed]",
      "text/plain": [
       "<matplotlib.figure.Figure at 0x1139ad7f0>"
      ]
     },
     "metadata": {},
     "output_type": "display_data"
    }
   ],
   "source": [
    "money_history = []\n",
    "money = 1000\n",
    "frac = 0.1\n",
    "total_staked = 0\n",
    "total_won = 0\n",
    "for row in df_rus.itertuples():\n",
    "    if row.probtie >= 0.33:\n",
    "        stake = frac * money\n",
    "        money -= stake\n",
    "        total_staked += stake\n",
    "        if row.result == \"D\":\n",
    "            money += stake * 3.3\n",
    "            total_won += stake * 3.3\n",
    "        money_history.append(money)\n",
    "plt.plot(money_history)\n",
    "print(\"money at end £{}\".format(money))\n",
    "print(\"total matches {}\".format(len(money_history)))\n",
    "print(\"lowest bank £{}\".format(min(money_history)))\n",
    "print(\"highest bank £{}\".format(max(money_history)))\n",
    "print(\"ROI {}%\".format(100 * (round((total_won / total_staked) - 1, 2))))\n",
    "print(\"Percent of matches bet on {}\".format(round(len(money_history) * 100 / len(df_rus), 2)))"
   ]
  },
  {
   "cell_type": "markdown",
   "metadata": {},
   "source": [
    "# Ligue1"
   ]
  },
  {
   "cell_type": "code",
   "execution_count": 106,
   "metadata": {
    "collapsed": true
   },
   "outputs": [],
   "source": [
    "betting_fra1 = pd.concat([pd.read_csv(\"../data/ligue1_1617.csv\", parse_dates=[\"Date\"], dayfirst=True),\n",
    "                          pd.read_csv(\"../data/ligue1_1718.csv\", parse_dates=[\"Date\"], dayfirst=True),\n",
    "                          pd.read_csv(\"../data/ligue1_1819.csv\", parse_dates=[\"Date\"], dayfirst=True)])"
   ]
  },
  {
   "cell_type": "code",
   "execution_count": 120,
   "metadata": {
    "collapsed": false
   },
   "outputs": [],
   "source": [
    "df_fra = df[df.league == \"French Ligue 1\"]\n"
   ]
  },
  {
   "cell_type": "code",
   "execution_count": 125,
   "metadata": {
    "collapsed": false
   },
   "outputs": [
    {
     "data": {
      "text/plain": [
       "array([], dtype=object)"
      ]
     },
     "execution_count": 125,
     "metadata": {},
     "output_type": "execute_result"
    }
   ],
   "source": [
    "np.setdiff1d(df_fra.team1.unique(), betting_fra1.HomeTeam.unique())"
   ]
  },
  {
   "cell_type": "code",
   "execution_count": 126,
   "metadata": {
    "collapsed": false
   },
   "outputs": [
    {
     "data": {
      "text/plain": [
       "array([], dtype=object)"
      ]
     },
     "execution_count": 126,
     "metadata": {},
     "output_type": "execute_result"
    }
   ],
   "source": [
    "np.setdiff1d(betting_fra1.HomeTeam.unique(), df_fra.team1.unique())"
   ]
  },
  {
   "cell_type": "code",
   "execution_count": 123,
   "metadata": {
    "collapsed": false
   },
   "outputs": [],
   "source": [
    "fra_dict = {\n",
    "    \"AS Monaco\": \"Monaco\",\n",
    "    \"AS Nancy Lorraine\": \"Nancy\",\n",
    "    \"Dijon FCO\": \"Dijon\",\n",
    "    \"Paris Saint-Germain\": \"Paris SG\",\n",
    "    \"Stade Rennes\": \"Rennes\"\n",
    "}"
   ]
  },
  {
   "cell_type": "code",
   "execution_count": 124,
   "metadata": {
    "collapsed": false
   },
   "outputs": [
    {
     "name": "stderr",
     "output_type": "stream",
     "text": [
      "/home/alexander/anaconda/envs/py36/lib/python3.6/site-packages/pandas/core/indexing.py:517: SettingWithCopyWarning: \n",
      "A value is trying to be set on a copy of a slice from a DataFrame.\n",
      "Try using .loc[row_indexer,col_indexer] = value instead\n",
      "\n",
      "See the caveats in the documentation: http://pandas.pydata.org/pandas-docs/stable/indexing.html#indexing-view-versus-copy\n",
      "  self.obj[item] = s\n"
     ]
    }
   ],
   "source": [
    "df_fra.loc[:, \"team1\"] = df_fra.team1.apply(lambda x: fra_dict[x] if x in fra_dict.keys() else x)\n",
    "\n",
    "df_fra.loc[:, \"team2\"] = df_fra.team2.apply(lambda x: fra_dict[x] if x in fra_dict.keys() else x)"
   ]
  },
  {
   "cell_type": "code",
   "execution_count": 127,
   "metadata": {
    "collapsed": true
   },
   "outputs": [],
   "source": [
    "betting_fra1.rename(columns={\"HomeTeam\": \"team1\", \"AwayTeam\": \"team2\", \"Date\": \"date\"}, inplace=True)"
   ]
  },
  {
   "cell_type": "code",
   "execution_count": 128,
   "metadata": {
    "collapsed": true
   },
   "outputs": [],
   "source": [
    "merged_fra = pd.merge(betting_fra1, df_fra, on=[\"date\", \"team1\", \"team2\"])"
   ]
  },
  {
   "cell_type": "code",
   "execution_count": 129,
   "metadata": {
    "collapsed": true
   },
   "outputs": [],
   "source": [
    "merged_fra = merged_fra[[\"team1\", \"team2\", \n",
    "                                 \"BbMxH\", \"BbMxD\", \"BbMxA\",\n",
    "                                 \"PSH\", \"PSD\", \"PSA\", \n",
    "                                 \"result\", \n",
    "                                 \"prob1\", \"prob2\", \"probtie\"]]"
   ]
  },
  {
   "cell_type": "code",
   "execution_count": null,
   "metadata": {
    "collapsed": true
   },
   "outputs": [],
   "source": []
  },
  {
   "cell_type": "code",
   "execution_count": 130,
   "metadata": {
    "collapsed": false
   },
   "outputs": [
    {
     "data": {
      "text/plain": [
       "0.31567999999999996"
      ]
     },
     "execution_count": 130,
     "metadata": {},
     "output_type": "execute_result"
    }
   ],
   "source": [
    "df_fra.probtie.quantile(0.95)"
   ]
  },
  {
   "cell_type": "code",
   "execution_count": 183,
   "metadata": {
    "collapsed": false
   },
   "outputs": [
    {
     "name": "stdout",
     "output_type": "stream",
     "text": [
      "money at end £3277.3415754683106\n",
      "total matches 89\n",
      "lowest bank £695.2752812058917\n",
      "highest bank £3701.130157317757\n",
      "ROI 15.0%\n",
      "Percent of matches bet on 9.22\n"
     ]
    },
    {
     "data": {
      "image/png": "[encoded data removed]",
      "text/plain": [
       "<matplotlib.figure.Figure at 0x7ff6194d8080>"
      ]
     },
     "metadata": {},
     "output_type": "display_data"
    }
   ],
   "source": [
    "\n",
    "money_history = []\n",
    "money = 1000\n",
    "frac = 0.1\n",
    "total_staked = 0\n",
    "total_won = 0\n",
    "for row in merged_fra.itertuples():\n",
    "    if row.probtie >= 0.31:\n",
    "        stake = frac * money\n",
    "        money -= stake\n",
    "        total_staked += stake\n",
    "        if row.result == \"D\":\n",
    "            money += stake * row.BbMxD * 0.99\n",
    "            total_won += stake * row.BbMxD * 0.99\n",
    "        money_history.append(money)\n",
    "plt.plot(money_history)\n",
    "print(\"money at end £{}\".format(money))\n",
    "print(\"total matches {}\".format(len(money_history)))\n",
    "print(\"lowest bank £{}\".format(min(money_history)))\n",
    "print(\"highest bank £{}\".format(max(money_history)))\n",
    "print(\"ROI {}%\".format(100 * (round((total_won / total_staked) - 1, 2))))\n",
    "print(\"Percent of matches bet on {}\".format(round(len(money_history) * 100 / len(df_fra), 2)))"
   ]
  },
  {
   "cell_type": "markdown",
   "metadata": {},
   "source": [
    "# spanish segunda division"
   ]
  },
  {
   "cell_type": "code",
   "execution_count": 172,
   "metadata": {
    "collapsed": false
   },
   "outputs": [
    {
     "data": {
      "text/plain": [
       "Timestamp('2017-08-18 00:00:00')"
      ]
     },
     "execution_count": 172,
     "metadata": {},
     "output_type": "execute_result"
    }
   ],
   "source": [
    "df_spa2 = df[df.league == \"Spanish Segunda Division\"]\n",
    "df_spa2.date.min()"
   ]
  },
  {
   "cell_type": "code",
   "execution_count": 173,
   "metadata": {
    "collapsed": true
   },
   "outputs": [],
   "source": [
    "betting_spa2 = pd.concat([\n",
    "                          pd.read_csv(\"../data/spa2_1718.csv\", parse_dates=[\"Date\"], dayfirst=True),\n",
    "                          pd.read_csv(\"../data/spa2_1819.csv\", parse_dates=[\"Date\"], dayfirst=True)])"
   ]
  },
  {
   "cell_type": "code",
   "execution_count": 174,
   "metadata": {
    "collapsed": false
   },
   "outputs": [
    {
     "data": {
      "text/plain": [
       "array(['AD Alcorcon', 'Cultural Leonesa', 'Deportivo La Coruña',\n",
       "       'FC Barcelona II', 'Gimnástic Tarragona', 'La Hoya Lorca',\n",
       "       'Málaga', 'Rayo Vallecano', 'Real Oviedo', 'Real Valladolid',\n",
       "       'Real Zaragoza', 'SD Huesca', 'Sevilla Atletico', 'Sporting Gijón'],\n",
       "      dtype=object)"
      ]
     },
     "execution_count": 174,
     "metadata": {},
     "output_type": "execute_result"
    }
   ],
   "source": [
    "np.setdiff1d(df_spa2.team1.unique(), betting_spa2.HomeTeam.unique())"
   ]
  },
  {
   "cell_type": "code",
   "execution_count": 175,
   "metadata": {
    "collapsed": false
   },
   "outputs": [
    {
     "data": {
      "text/plain": [
       "array(['Alcorcon', 'Barcelona B', 'Gimnastic', 'Huesca', 'La Coruna',\n",
       "       'Leonesa', 'Lorca', 'Malaga', 'Oviedo', 'Sevilla B', 'Sp Gijon',\n",
       "       'Valladolid', 'Vallecano', 'Zaragoza'], dtype=object)"
      ]
     },
     "execution_count": 175,
     "metadata": {},
     "output_type": "execute_result"
    }
   ],
   "source": [
    "np.setdiff1d(betting_spa2.HomeTeam.unique(), df_spa2.team1.unique())"
   ]
  },
  {
   "cell_type": "code",
   "execution_count": 176,
   "metadata": {
    "collapsed": false
   },
   "outputs": [],
   "source": [
    "spa_dict = {\n",
    "    \"AD Alcorcon\": \"Alcorcon\",\n",
    "    \"Cultural Leonesa\": \"Leonesa\",\n",
    "    \"Deportivo La Coruña\": \"La Coruna\",\n",
    "    \"FC Barcelona II\": \"Barcelona B\",\n",
    "    \"Gimnástic Tarragona\": \"Gimnastic\",\n",
    "    \"La Hoya Lorca\": \"Lorca\",\n",
    "    \"Málaga\": \"Malaga\",\n",
    "    \"Real Oviedo\": \"Oviedo\",\n",
    "    \"Real Valladolid\": \"Valladolid\",\n",
    "    \"Real Zaragoza\":\"Zaragoza\",\n",
    "    \"SD Huesca\": \"Huesca\",\n",
    "    \"Sevilla Atletico\": \"Sevilla B\",\n",
    "    \"Sporting Gijón\": \"Sp Gijon\",\n",
    "    \"Rayo Vallecano\": \"Vallecano\"\n",
    "}"
   ]
  },
  {
   "cell_type": "code",
   "execution_count": 177,
   "metadata": {
    "collapsed": false
   },
   "outputs": [
    {
     "name": "stderr",
     "output_type": "stream",
     "text": [
      "/home/alexander/anaconda/envs/py36/lib/python3.6/site-packages/pandas/core/indexing.py:517: SettingWithCopyWarning: \n",
      "A value is trying to be set on a copy of a slice from a DataFrame.\n",
      "Try using .loc[row_indexer,col_indexer] = value instead\n",
      "\n",
      "See the caveats in the documentation: http://pandas.pydata.org/pandas-docs/stable/indexing.html#indexing-view-versus-copy\n",
      "  self.obj[item] = s\n"
     ]
    }
   ],
   "source": [
    "df_spa2.loc[:, \"team1\"] = df_spa2.team1.apply(lambda x: spa_dict[x] if x in spa_dict.keys() else x)\n",
    "\n",
    "df_spa2.loc[:, \"team2\"] = df_spa2.team2.apply(lambda x: spa_dict[x] if x in spa_dict.keys() else x)"
   ]
  },
  {
   "cell_type": "code",
   "execution_count": 178,
   "metadata": {
    "collapsed": true
   },
   "outputs": [],
   "source": [
    "betting_spa2.rename(columns={\"HomeTeam\": \"team1\", \"AwayTeam\": \"team2\", \"Date\": \"date\"}, inplace=True)"
   ]
  },
  {
   "cell_type": "code",
   "execution_count": 179,
   "metadata": {
    "collapsed": true
   },
   "outputs": [],
   "source": [
    "merged_spa2 = pd.merge(betting_spa2, df_spa2, on=[\"date\", \"team1\", \"team2\"])"
   ]
  },
  {
   "cell_type": "code",
   "execution_count": 180,
   "metadata": {
    "collapsed": false
   },
   "outputs": [],
   "source": [
    "merged_spa2 = merged_spa2[[\"team1\", \"team2\", \n",
    "                                 \"BbMxH\", \"BbMxD\", \"BbMxA\",\n",
    "                                 \"PSH\", \"PSD\", \"PSA\", \n",
    "                                 \"result\", \n",
    "                                 \"prob1\", \"prob2\", \"probtie\"]]"
   ]
  },
  {
   "cell_type": "code",
   "execution_count": 181,
   "metadata": {
    "collapsed": false
   },
   "outputs": [
    {
     "data": {
      "text/plain": [
       "0.35268499999999997"
      ]
     },
     "execution_count": 181,
     "metadata": {},
     "output_type": "execute_result"
    }
   ],
   "source": [
    "df_spa2.probtie.quantile(0.95)"
   ]
  },
  {
   "cell_type": "code",
   "execution_count": 188,
   "metadata": {
    "collapsed": false
   },
   "outputs": [
    {
     "name": "stdout",
     "output_type": "stream",
     "text": [
      "money at end £1876.314474013412\n",
      "total matches 48\n",
      "lowest bank £858.5265735202248\n",
      "highest bank £2859.799533628124\n",
      "ROI 13.0%\n",
      "Percent of matches bet on 5.16\n"
     ]
    },
    {
     "data": {
      "image/png": "[encoded data removed]",
      "text/plain": [
       "<matplotlib.figure.Figure at 0x7ff61946c390>"
      ]
     },
     "metadata": {},
     "output_type": "display_data"
    }
   ],
   "source": [
    "money_history = []\n",
    "money = 1000\n",
    "frac = 0.1\n",
    "total_staked = 0\n",
    "total_won = 0\n",
    "for row in merged_spa2.itertuples():\n",
    "    if row.probtie >= 0.35:\n",
    "        stake = frac * money\n",
    "        money -= stake\n",
    "        total_staked += stake\n",
    "        if row.result == \"D\":\n",
    "            money += stake * row.BbMxD * 0.99\n",
    "            total_won += stake * row.BbMxD * 0.99\n",
    "        money_history.append(money)\n",
    "plt.plot(money_history)\n",
    "print(\"money at end £{}\".format(money))\n",
    "print(\"total matches {}\".format(len(money_history)))\n",
    "print(\"lowest bank £{}\".format(min(money_history)))\n",
    "print(\"highest bank £{}\".format(max(money_history)))\n",
    "print(\"ROI {}%\".format(100 * (round((total_won / total_staked) - 1, 2))))\n",
    "print(\"Percent of matches bet on {}\".format(round(len(money_history) * 100 / len(df_spa2), 2)))"
   ]
  },
  {
   "cell_type": "code",
   "execution_count": null,
   "metadata": {
    "collapsed": true
   },
   "outputs": [],
   "source": []
  }
 ],
 "metadata": {
  "kernelspec": {
   "display_name": "Python 3",
   "language": "python",
   "name": "python3"
  },
  "language_info": {
   "codemirror_mode": {
    "name": "ipython",
    "version": 3
   },
   "file_extension": ".py",
   "mimetype": "text/x-python",
   "name": "python",
   "nbconvert_exporter": "python",
   "pygments_lexer": "ipython3",
   "version": "3.6.2"
  }
 },
 "nbformat": 4,
 "nbformat_minor": 2
}
