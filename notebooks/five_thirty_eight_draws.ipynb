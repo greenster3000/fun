{
 "cells": [
  {
   "cell_type": "code",
   "execution_count": 124,
   "metadata": {
    "collapsed": true
   },
   "outputs": [],
   "source": [
    "import pandas as pd\n",
    "import numpy as np\n",
    "% matplotlib inline\n",
    "import matplotlib.pyplot as plt"
   ]
  },
  {
   "cell_type": "code",
   "execution_count": 181,
   "metadata": {
    "collapsed": true
   },
   "outputs": [],
   "source": [
    "df = pd.read_csv(\"../data/spi_matches.csv\", parse_dates=[\"date\"])"
   ]
  },
  {
   "cell_type": "code",
   "execution_count": 182,
   "metadata": {},
   "outputs": [
    {
     "data": {
      "text/plain": [
       "21126"
      ]
     },
     "execution_count": 182,
     "metadata": {},
     "output_type": "execute_result"
    }
   ],
   "source": [
    "len(df)"
   ]
  },
  {
   "cell_type": "code",
   "execution_count": 183,
   "metadata": {},
   "outputs": [
    {
     "data": {
      "text/html": [
       "<div>\n",
       "<style scoped>\n",
       "    .dataframe tbody tr th:only-of-type {\n",
       "        vertical-align: middle;\n",
       "    }\n",
       "\n",
       "    .dataframe tbody tr th {\n",
       "        vertical-align: top;\n",
       "    }\n",
       "\n",
       "    .dataframe thead th {\n",
       "        text-align: right;\n",
       "    }\n",
       "</style>\n",
       "<table border=\"1\" class=\"dataframe\">\n",
       "  <thead>\n",
       "    <tr style=\"text-align: right;\">\n",
       "      <th></th>\n",
       "      <th>date</th>\n",
       "      <th>league_id</th>\n",
       "      <th>league</th>\n",
       "      <th>team1</th>\n",
       "      <th>team2</th>\n",
       "      <th>spi1</th>\n",
       "      <th>spi2</th>\n",
       "      <th>prob1</th>\n",
       "      <th>prob2</th>\n",
       "      <th>probtie</th>\n",
       "      <th>...</th>\n",
       "      <th>importance1</th>\n",
       "      <th>importance2</th>\n",
       "      <th>score1</th>\n",
       "      <th>score2</th>\n",
       "      <th>xg1</th>\n",
       "      <th>xg2</th>\n",
       "      <th>nsxg1</th>\n",
       "      <th>nsxg2</th>\n",
       "      <th>adj_score1</th>\n",
       "      <th>adj_score2</th>\n",
       "    </tr>\n",
       "  </thead>\n",
       "  <tbody>\n",
       "    <tr>\n",
       "      <th>17404</th>\n",
       "      <td>2019-01-19</td>\n",
       "      <td>2411</td>\n",
       "      <td>Barclays Premier League</td>\n",
       "      <td>Wolverhampton</td>\n",
       "      <td>Leicester City</td>\n",
       "      <td>69.77</td>\n",
       "      <td>71.30</td>\n",
       "      <td>0.4167</td>\n",
       "      <td>0.2752</td>\n",
       "      <td>0.3081</td>\n",
       "      <td>...</td>\n",
       "      <td>NaN</td>\n",
       "      <td>NaN</td>\n",
       "      <td>NaN</td>\n",
       "      <td>NaN</td>\n",
       "      <td>NaN</td>\n",
       "      <td>NaN</td>\n",
       "      <td>NaN</td>\n",
       "      <td>NaN</td>\n",
       "      <td>NaN</td>\n",
       "      <td>NaN</td>\n",
       "    </tr>\n",
       "    <tr>\n",
       "      <th>18544</th>\n",
       "      <td>2019-02-23</td>\n",
       "      <td>2411</td>\n",
       "      <td>Barclays Premier League</td>\n",
       "      <td>Leicester City</td>\n",
       "      <td>Crystal Palace</td>\n",
       "      <td>71.30</td>\n",
       "      <td>71.09</td>\n",
       "      <td>0.4360</td>\n",
       "      <td>0.2583</td>\n",
       "      <td>0.3057</td>\n",
       "      <td>...</td>\n",
       "      <td>NaN</td>\n",
       "      <td>NaN</td>\n",
       "      <td>NaN</td>\n",
       "      <td>NaN</td>\n",
       "      <td>NaN</td>\n",
       "      <td>NaN</td>\n",
       "      <td>NaN</td>\n",
       "      <td>NaN</td>\n",
       "      <td>NaN</td>\n",
       "      <td>NaN</td>\n",
       "    </tr>\n",
       "    <tr>\n",
       "      <th>18573</th>\n",
       "      <td>2019-02-23</td>\n",
       "      <td>2411</td>\n",
       "      <td>Barclays Premier League</td>\n",
       "      <td>Newcastle</td>\n",
       "      <td>Huddersfield Town</td>\n",
       "      <td>62.18</td>\n",
       "      <td>58.04</td>\n",
       "      <td>0.4780</td>\n",
       "      <td>0.2137</td>\n",
       "      <td>0.3083</td>\n",
       "      <td>...</td>\n",
       "      <td>NaN</td>\n",
       "      <td>NaN</td>\n",
       "      <td>NaN</td>\n",
       "      <td>NaN</td>\n",
       "      <td>NaN</td>\n",
       "      <td>NaN</td>\n",
       "      <td>NaN</td>\n",
       "      <td>NaN</td>\n",
       "      <td>NaN</td>\n",
       "      <td>NaN</td>\n",
       "    </tr>\n",
       "    <tr>\n",
       "      <th>18717</th>\n",
       "      <td>2019-02-26</td>\n",
       "      <td>2411</td>\n",
       "      <td>Barclays Premier League</td>\n",
       "      <td>Huddersfield Town</td>\n",
       "      <td>Wolverhampton</td>\n",
       "      <td>58.04</td>\n",
       "      <td>69.77</td>\n",
       "      <td>0.3105</td>\n",
       "      <td>0.3703</td>\n",
       "      <td>0.3192</td>\n",
       "      <td>...</td>\n",
       "      <td>NaN</td>\n",
       "      <td>NaN</td>\n",
       "      <td>NaN</td>\n",
       "      <td>NaN</td>\n",
       "      <td>NaN</td>\n",
       "      <td>NaN</td>\n",
       "      <td>NaN</td>\n",
       "      <td>NaN</td>\n",
       "      <td>NaN</td>\n",
       "      <td>NaN</td>\n",
       "    </tr>\n",
       "    <tr>\n",
       "      <th>18806</th>\n",
       "      <td>2019-03-02</td>\n",
       "      <td>2411</td>\n",
       "      <td>Barclays Premier League</td>\n",
       "      <td>Brighton and Hove Albion</td>\n",
       "      <td>Huddersfield Town</td>\n",
       "      <td>63.29</td>\n",
       "      <td>58.04</td>\n",
       "      <td>0.4934</td>\n",
       "      <td>0.2056</td>\n",
       "      <td>0.3010</td>\n",
       "      <td>...</td>\n",
       "      <td>NaN</td>\n",
       "      <td>NaN</td>\n",
       "      <td>NaN</td>\n",
       "      <td>NaN</td>\n",
       "      <td>NaN</td>\n",
       "      <td>NaN</td>\n",
       "      <td>NaN</td>\n",
       "      <td>NaN</td>\n",
       "      <td>NaN</td>\n",
       "      <td>NaN</td>\n",
       "    </tr>\n",
       "    <tr>\n",
       "      <th>19840</th>\n",
       "      <td>2019-04-06</td>\n",
       "      <td>2411</td>\n",
       "      <td>Barclays Premier League</td>\n",
       "      <td>Huddersfield Town</td>\n",
       "      <td>Leicester City</td>\n",
       "      <td>58.04</td>\n",
       "      <td>71.30</td>\n",
       "      <td>0.2958</td>\n",
       "      <td>0.3874</td>\n",
       "      <td>0.3168</td>\n",
       "      <td>...</td>\n",
       "      <td>NaN</td>\n",
       "      <td>NaN</td>\n",
       "      <td>NaN</td>\n",
       "      <td>NaN</td>\n",
       "      <td>NaN</td>\n",
       "      <td>NaN</td>\n",
       "      <td>NaN</td>\n",
       "      <td>NaN</td>\n",
       "      <td>NaN</td>\n",
       "      <td>NaN</td>\n",
       "    </tr>\n",
       "    <tr>\n",
       "      <th>19841</th>\n",
       "      <td>2019-04-06</td>\n",
       "      <td>2411</td>\n",
       "      <td>Barclays Premier League</td>\n",
       "      <td>Newcastle</td>\n",
       "      <td>Crystal Palace</td>\n",
       "      <td>62.18</td>\n",
       "      <td>71.09</td>\n",
       "      <td>0.3426</td>\n",
       "      <td>0.3455</td>\n",
       "      <td>0.3119</td>\n",
       "      <td>...</td>\n",
       "      <td>NaN</td>\n",
       "      <td>NaN</td>\n",
       "      <td>NaN</td>\n",
       "      <td>NaN</td>\n",
       "      <td>NaN</td>\n",
       "      <td>NaN</td>\n",
       "      <td>NaN</td>\n",
       "      <td>NaN</td>\n",
       "      <td>NaN</td>\n",
       "      <td>NaN</td>\n",
       "    </tr>\n",
       "    <tr>\n",
       "      <th>20485</th>\n",
       "      <td>2019-04-27</td>\n",
       "      <td>2411</td>\n",
       "      <td>Barclays Premier League</td>\n",
       "      <td>Brighton and Hove Albion</td>\n",
       "      <td>Newcastle</td>\n",
       "      <td>63.29</td>\n",
       "      <td>62.18</td>\n",
       "      <td>0.4480</td>\n",
       "      <td>0.2501</td>\n",
       "      <td>0.3020</td>\n",
       "      <td>...</td>\n",
       "      <td>NaN</td>\n",
       "      <td>NaN</td>\n",
       "      <td>NaN</td>\n",
       "      <td>NaN</td>\n",
       "      <td>NaN</td>\n",
       "      <td>NaN</td>\n",
       "      <td>NaN</td>\n",
       "      <td>NaN</td>\n",
       "      <td>NaN</td>\n",
       "      <td>NaN</td>\n",
       "    </tr>\n",
       "    <tr>\n",
       "      <th>20646</th>\n",
       "      <td>2019-05-04</td>\n",
       "      <td>2411</td>\n",
       "      <td>Barclays Premier League</td>\n",
       "      <td>Cardiff City</td>\n",
       "      <td>Crystal Palace</td>\n",
       "      <td>58.89</td>\n",
       "      <td>71.09</td>\n",
       "      <td>0.3201</td>\n",
       "      <td>0.3797</td>\n",
       "      <td>0.3002</td>\n",
       "      <td>...</td>\n",
       "      <td>NaN</td>\n",
       "      <td>NaN</td>\n",
       "      <td>NaN</td>\n",
       "      <td>NaN</td>\n",
       "      <td>NaN</td>\n",
       "      <td>NaN</td>\n",
       "      <td>NaN</td>\n",
       "      <td>NaN</td>\n",
       "      <td>NaN</td>\n",
       "      <td>NaN</td>\n",
       "    </tr>\n",
       "  </tbody>\n",
       "</table>\n",
       "<p>9 rows × 22 columns</p>\n",
       "</div>"
      ],
      "text/plain": [
       "            date  league_id                   league  \\\n",
       "17404 2019-01-19       2411  Barclays Premier League   \n",
       "18544 2019-02-23       2411  Barclays Premier League   \n",
       "18573 2019-02-23       2411  Barclays Premier League   \n",
       "18717 2019-02-26       2411  Barclays Premier League   \n",
       "18806 2019-03-02       2411  Barclays Premier League   \n",
       "19840 2019-04-06       2411  Barclays Premier League   \n",
       "19841 2019-04-06       2411  Barclays Premier League   \n",
       "20485 2019-04-27       2411  Barclays Premier League   \n",
       "20646 2019-05-04       2411  Barclays Premier League   \n",
       "\n",
       "                          team1              team2   spi1   spi2   prob1  \\\n",
       "17404             Wolverhampton     Leicester City  69.77  71.30  0.4167   \n",
       "18544            Leicester City     Crystal Palace  71.30  71.09  0.4360   \n",
       "18573                 Newcastle  Huddersfield Town  62.18  58.04  0.4780   \n",
       "18717         Huddersfield Town      Wolverhampton  58.04  69.77  0.3105   \n",
       "18806  Brighton and Hove Albion  Huddersfield Town  63.29  58.04  0.4934   \n",
       "19840         Huddersfield Town     Leicester City  58.04  71.30  0.2958   \n",
       "19841                 Newcastle     Crystal Palace  62.18  71.09  0.3426   \n",
       "20485  Brighton and Hove Albion          Newcastle  63.29  62.18  0.4480   \n",
       "20646              Cardiff City     Crystal Palace  58.89  71.09  0.3201   \n",
       "\n",
       "        prob2  probtie     ...      importance1  importance2  score1  score2  \\\n",
       "17404  0.2752   0.3081     ...              NaN          NaN     NaN     NaN   \n",
       "18544  0.2583   0.3057     ...              NaN          NaN     NaN     NaN   \n",
       "18573  0.2137   0.3083     ...              NaN          NaN     NaN     NaN   \n",
       "18717  0.3703   0.3192     ...              NaN          NaN     NaN     NaN   \n",
       "18806  0.2056   0.3010     ...              NaN          NaN     NaN     NaN   \n",
       "19840  0.3874   0.3168     ...              NaN          NaN     NaN     NaN   \n",
       "19841  0.3455   0.3119     ...              NaN          NaN     NaN     NaN   \n",
       "20485  0.2501   0.3020     ...              NaN          NaN     NaN     NaN   \n",
       "20646  0.3797   0.3002     ...              NaN          NaN     NaN     NaN   \n",
       "\n",
       "       xg1  xg2  nsxg1  nsxg2  adj_score1  adj_score2  \n",
       "17404  NaN  NaN    NaN    NaN         NaN         NaN  \n",
       "18544  NaN  NaN    NaN    NaN         NaN         NaN  \n",
       "18573  NaN  NaN    NaN    NaN         NaN         NaN  \n",
       "18717  NaN  NaN    NaN    NaN         NaN         NaN  \n",
       "18806  NaN  NaN    NaN    NaN         NaN         NaN  \n",
       "19840  NaN  NaN    NaN    NaN         NaN         NaN  \n",
       "19841  NaN  NaN    NaN    NaN         NaN         NaN  \n",
       "20485  NaN  NaN    NaN    NaN         NaN         NaN  \n",
       "20646  NaN  NaN    NaN    NaN         NaN         NaN  \n",
       "\n",
       "[9 rows x 22 columns]"
      ]
     },
     "execution_count": 183,
     "metadata": {},
     "output_type": "execute_result"
    }
   ],
   "source": [
    "df_prem_pred = df[(df.score1.isnull()) & (df.league == \"Barclays Premier League\") & (df.probtie > 0.3)]\n",
    "df_prem_pred"
   ]
  },
  {
   "cell_type": "code",
   "execution_count": 184,
   "metadata": {},
   "outputs": [
    {
     "data": {
      "text/html": [
       "<div>\n",
       "<style scoped>\n",
       "    .dataframe tbody tr th:only-of-type {\n",
       "        vertical-align: middle;\n",
       "    }\n",
       "\n",
       "    .dataframe tbody tr th {\n",
       "        vertical-align: top;\n",
       "    }\n",
       "\n",
       "    .dataframe thead th {\n",
       "        text-align: right;\n",
       "    }\n",
       "</style>\n",
       "<table border=\"1\" class=\"dataframe\">\n",
       "  <thead>\n",
       "    <tr style=\"text-align: right;\">\n",
       "      <th></th>\n",
       "      <th>date</th>\n",
       "      <th>league_id</th>\n",
       "      <th>league</th>\n",
       "      <th>team1</th>\n",
       "      <th>team2</th>\n",
       "      <th>spi1</th>\n",
       "      <th>spi2</th>\n",
       "      <th>prob1</th>\n",
       "      <th>prob2</th>\n",
       "      <th>probtie</th>\n",
       "      <th>...</th>\n",
       "      <th>importance1</th>\n",
       "      <th>importance2</th>\n",
       "      <th>score1</th>\n",
       "      <th>score2</th>\n",
       "      <th>xg1</th>\n",
       "      <th>xg2</th>\n",
       "      <th>nsxg1</th>\n",
       "      <th>nsxg2</th>\n",
       "      <th>adj_score1</th>\n",
       "      <th>adj_score2</th>\n",
       "    </tr>\n",
       "  </thead>\n",
       "  <tbody>\n",
       "    <tr>\n",
       "      <th>18882</th>\n",
       "      <td>2019-03-03</td>\n",
       "      <td>1866</td>\n",
       "      <td>Russian Premier Liga</td>\n",
       "      <td>FC Ufa</td>\n",
       "      <td>Dinamo Moscow</td>\n",
       "      <td>47.52</td>\n",
       "      <td>54.81</td>\n",
       "      <td>0.3716</td>\n",
       "      <td>0.2671</td>\n",
       "      <td>0.3614</td>\n",
       "      <td>...</td>\n",
       "      <td>39.8</td>\n",
       "      <td>7.9</td>\n",
       "      <td>NaN</td>\n",
       "      <td>NaN</td>\n",
       "      <td>NaN</td>\n",
       "      <td>NaN</td>\n",
       "      <td>NaN</td>\n",
       "      <td>NaN</td>\n",
       "      <td>NaN</td>\n",
       "      <td>NaN</td>\n",
       "    </tr>\n",
       "    <tr>\n",
       "      <th>18885</th>\n",
       "      <td>2019-03-03</td>\n",
       "      <td>1866</td>\n",
       "      <td>Russian Premier Liga</td>\n",
       "      <td>Rubin Kazan</td>\n",
       "      <td>Terek Grozny</td>\n",
       "      <td>55.98</td>\n",
       "      <td>50.90</td>\n",
       "      <td>0.4788</td>\n",
       "      <td>0.1825</td>\n",
       "      <td>0.3386</td>\n",
       "      <td>...</td>\n",
       "      <td>22.6</td>\n",
       "      <td>5.9</td>\n",
       "      <td>NaN</td>\n",
       "      <td>NaN</td>\n",
       "      <td>NaN</td>\n",
       "      <td>NaN</td>\n",
       "      <td>NaN</td>\n",
       "      <td>NaN</td>\n",
       "      <td>NaN</td>\n",
       "      <td>NaN</td>\n",
       "    </tr>\n",
       "    <tr>\n",
       "      <th>19373</th>\n",
       "      <td>2019-03-17</td>\n",
       "      <td>1866</td>\n",
       "      <td>Russian Premier Liga</td>\n",
       "      <td>Rubin Kazan</td>\n",
       "      <td>Rostov</td>\n",
       "      <td>55.98</td>\n",
       "      <td>52.69</td>\n",
       "      <td>0.4297</td>\n",
       "      <td>0.1918</td>\n",
       "      <td>0.3785</td>\n",
       "      <td>...</td>\n",
       "      <td>NaN</td>\n",
       "      <td>NaN</td>\n",
       "      <td>NaN</td>\n",
       "      <td>NaN</td>\n",
       "      <td>NaN</td>\n",
       "      <td>NaN</td>\n",
       "      <td>NaN</td>\n",
       "      <td>NaN</td>\n",
       "      <td>NaN</td>\n",
       "      <td>NaN</td>\n",
       "    </tr>\n",
       "    <tr>\n",
       "      <th>19377</th>\n",
       "      <td>2019-03-17</td>\n",
       "      <td>1866</td>\n",
       "      <td>Russian Premier Liga</td>\n",
       "      <td>FC Ufa</td>\n",
       "      <td>Terek Grozny</td>\n",
       "      <td>47.52</td>\n",
       "      <td>50.90</td>\n",
       "      <td>0.3739</td>\n",
       "      <td>0.2641</td>\n",
       "      <td>0.3620</td>\n",
       "      <td>...</td>\n",
       "      <td>NaN</td>\n",
       "      <td>NaN</td>\n",
       "      <td>NaN</td>\n",
       "      <td>NaN</td>\n",
       "      <td>NaN</td>\n",
       "      <td>NaN</td>\n",
       "      <td>NaN</td>\n",
       "      <td>NaN</td>\n",
       "      <td>NaN</td>\n",
       "      <td>NaN</td>\n",
       "    </tr>\n",
       "    <tr>\n",
       "      <th>19879</th>\n",
       "      <td>2019-04-07</td>\n",
       "      <td>1866</td>\n",
       "      <td>Russian Premier Liga</td>\n",
       "      <td>FC Ufa</td>\n",
       "      <td>Rostov</td>\n",
       "      <td>47.52</td>\n",
       "      <td>52.69</td>\n",
       "      <td>0.3465</td>\n",
       "      <td>0.2573</td>\n",
       "      <td>0.3962</td>\n",
       "      <td>...</td>\n",
       "      <td>NaN</td>\n",
       "      <td>NaN</td>\n",
       "      <td>NaN</td>\n",
       "      <td>NaN</td>\n",
       "      <td>NaN</td>\n",
       "      <td>NaN</td>\n",
       "      <td>NaN</td>\n",
       "      <td>NaN</td>\n",
       "      <td>NaN</td>\n",
       "      <td>NaN</td>\n",
       "    </tr>\n",
       "    <tr>\n",
       "      <th>20286</th>\n",
       "      <td>2019-04-21</td>\n",
       "      <td>1866</td>\n",
       "      <td>Russian Premier Liga</td>\n",
       "      <td>Gazovik Orenburg</td>\n",
       "      <td>Rostov</td>\n",
       "      <td>50.05</td>\n",
       "      <td>52.69</td>\n",
       "      <td>0.3827</td>\n",
       "      <td>0.2580</td>\n",
       "      <td>0.3593</td>\n",
       "      <td>...</td>\n",
       "      <td>NaN</td>\n",
       "      <td>NaN</td>\n",
       "      <td>NaN</td>\n",
       "      <td>NaN</td>\n",
       "      <td>NaN</td>\n",
       "      <td>NaN</td>\n",
       "      <td>NaN</td>\n",
       "      <td>NaN</td>\n",
       "      <td>NaN</td>\n",
       "      <td>NaN</td>\n",
       "    </tr>\n",
       "    <tr>\n",
       "      <th>20391</th>\n",
       "      <td>2019-04-23</td>\n",
       "      <td>1866</td>\n",
       "      <td>Russian Premier Liga</td>\n",
       "      <td>Rubin Kazan</td>\n",
       "      <td>FC Ufa</td>\n",
       "      <td>55.98</td>\n",
       "      <td>47.52</td>\n",
       "      <td>0.4912</td>\n",
       "      <td>0.1667</td>\n",
       "      <td>0.3421</td>\n",
       "      <td>...</td>\n",
       "      <td>NaN</td>\n",
       "      <td>NaN</td>\n",
       "      <td>NaN</td>\n",
       "      <td>NaN</td>\n",
       "      <td>NaN</td>\n",
       "      <td>NaN</td>\n",
       "      <td>NaN</td>\n",
       "      <td>NaN</td>\n",
       "      <td>NaN</td>\n",
       "      <td>NaN</td>\n",
       "    </tr>\n",
       "    <tr>\n",
       "      <th>20541</th>\n",
       "      <td>2019-04-28</td>\n",
       "      <td>1866</td>\n",
       "      <td>Russian Premier Liga</td>\n",
       "      <td>Anzhi Makhachkala</td>\n",
       "      <td>Rostov</td>\n",
       "      <td>34.64</td>\n",
       "      <td>52.69</td>\n",
       "      <td>0.2426</td>\n",
       "      <td>0.4009</td>\n",
       "      <td>0.3565</td>\n",
       "      <td>...</td>\n",
       "      <td>NaN</td>\n",
       "      <td>NaN</td>\n",
       "      <td>NaN</td>\n",
       "      <td>NaN</td>\n",
       "      <td>NaN</td>\n",
       "      <td>NaN</td>\n",
       "      <td>NaN</td>\n",
       "      <td>NaN</td>\n",
       "      <td>NaN</td>\n",
       "      <td>NaN</td>\n",
       "    </tr>\n",
       "    <tr>\n",
       "      <th>20544</th>\n",
       "      <td>2019-04-28</td>\n",
       "      <td>1866</td>\n",
       "      <td>Russian Premier Liga</td>\n",
       "      <td>Dinamo Moscow</td>\n",
       "      <td>Terek Grozny</td>\n",
       "      <td>54.81</td>\n",
       "      <td>50.90</td>\n",
       "      <td>0.4492</td>\n",
       "      <td>0.2078</td>\n",
       "      <td>0.3430</td>\n",
       "      <td>...</td>\n",
       "      <td>NaN</td>\n",
       "      <td>NaN</td>\n",
       "      <td>NaN</td>\n",
       "      <td>NaN</td>\n",
       "      <td>NaN</td>\n",
       "      <td>NaN</td>\n",
       "      <td>NaN</td>\n",
       "      <td>NaN</td>\n",
       "      <td>NaN</td>\n",
       "      <td>NaN</td>\n",
       "    </tr>\n",
       "    <tr>\n",
       "      <th>20865</th>\n",
       "      <td>2019-05-12</td>\n",
       "      <td>1866</td>\n",
       "      <td>Russian Premier Liga</td>\n",
       "      <td>Dinamo Moscow</td>\n",
       "      <td>Rostov</td>\n",
       "      <td>54.81</td>\n",
       "      <td>52.69</td>\n",
       "      <td>0.4194</td>\n",
       "      <td>0.2027</td>\n",
       "      <td>0.3780</td>\n",
       "      <td>...</td>\n",
       "      <td>NaN</td>\n",
       "      <td>NaN</td>\n",
       "      <td>NaN</td>\n",
       "      <td>NaN</td>\n",
       "      <td>NaN</td>\n",
       "      <td>NaN</td>\n",
       "      <td>NaN</td>\n",
       "      <td>NaN</td>\n",
       "      <td>NaN</td>\n",
       "      <td>NaN</td>\n",
       "    </tr>\n",
       "    <tr>\n",
       "      <th>20991</th>\n",
       "      <td>2019-05-19</td>\n",
       "      <td>1866</td>\n",
       "      <td>Russian Premier Liga</td>\n",
       "      <td>FC Ufa</td>\n",
       "      <td>Gazovik Orenburg</td>\n",
       "      <td>47.52</td>\n",
       "      <td>50.05</td>\n",
       "      <td>0.3885</td>\n",
       "      <td>0.2729</td>\n",
       "      <td>0.3386</td>\n",
       "      <td>...</td>\n",
       "      <td>NaN</td>\n",
       "      <td>NaN</td>\n",
       "      <td>NaN</td>\n",
       "      <td>NaN</td>\n",
       "      <td>NaN</td>\n",
       "      <td>NaN</td>\n",
       "      <td>NaN</td>\n",
       "      <td>NaN</td>\n",
       "      <td>NaN</td>\n",
       "      <td>NaN</td>\n",
       "    </tr>\n",
       "    <tr>\n",
       "      <th>21067</th>\n",
       "      <td>2019-05-26</td>\n",
       "      <td>1866</td>\n",
       "      <td>Russian Premier Liga</td>\n",
       "      <td>Terek Grozny</td>\n",
       "      <td>Rostov</td>\n",
       "      <td>50.90</td>\n",
       "      <td>52.69</td>\n",
       "      <td>0.3817</td>\n",
       "      <td>0.2346</td>\n",
       "      <td>0.3836</td>\n",
       "      <td>...</td>\n",
       "      <td>NaN</td>\n",
       "      <td>NaN</td>\n",
       "      <td>NaN</td>\n",
       "      <td>NaN</td>\n",
       "      <td>NaN</td>\n",
       "      <td>NaN</td>\n",
       "      <td>NaN</td>\n",
       "      <td>NaN</td>\n",
       "      <td>NaN</td>\n",
       "      <td>NaN</td>\n",
       "    </tr>\n",
       "  </tbody>\n",
       "</table>\n",
       "<p>12 rows × 22 columns</p>\n",
       "</div>"
      ],
      "text/plain": [
       "            date  league_id                league              team1  \\\n",
       "18882 2019-03-03       1866  Russian Premier Liga             FC Ufa   \n",
       "18885 2019-03-03       1866  Russian Premier Liga        Rubin Kazan   \n",
       "19373 2019-03-17       1866  Russian Premier Liga        Rubin Kazan   \n",
       "19377 2019-03-17       1866  Russian Premier Liga             FC Ufa   \n",
       "19879 2019-04-07       1866  Russian Premier Liga             FC Ufa   \n",
       "20286 2019-04-21       1866  Russian Premier Liga   Gazovik Orenburg   \n",
       "20391 2019-04-23       1866  Russian Premier Liga        Rubin Kazan   \n",
       "20541 2019-04-28       1866  Russian Premier Liga  Anzhi Makhachkala   \n",
       "20544 2019-04-28       1866  Russian Premier Liga      Dinamo Moscow   \n",
       "20865 2019-05-12       1866  Russian Premier Liga      Dinamo Moscow   \n",
       "20991 2019-05-19       1866  Russian Premier Liga             FC Ufa   \n",
       "21067 2019-05-26       1866  Russian Premier Liga       Terek Grozny   \n",
       "\n",
       "                  team2   spi1   spi2   prob1   prob2  probtie     ...      \\\n",
       "18882     Dinamo Moscow  47.52  54.81  0.3716  0.2671   0.3614     ...       \n",
       "18885      Terek Grozny  55.98  50.90  0.4788  0.1825   0.3386     ...       \n",
       "19373            Rostov  55.98  52.69  0.4297  0.1918   0.3785     ...       \n",
       "19377      Terek Grozny  47.52  50.90  0.3739  0.2641   0.3620     ...       \n",
       "19879            Rostov  47.52  52.69  0.3465  0.2573   0.3962     ...       \n",
       "20286            Rostov  50.05  52.69  0.3827  0.2580   0.3593     ...       \n",
       "20391            FC Ufa  55.98  47.52  0.4912  0.1667   0.3421     ...       \n",
       "20541            Rostov  34.64  52.69  0.2426  0.4009   0.3565     ...       \n",
       "20544      Terek Grozny  54.81  50.90  0.4492  0.2078   0.3430     ...       \n",
       "20865            Rostov  54.81  52.69  0.4194  0.2027   0.3780     ...       \n",
       "20991  Gazovik Orenburg  47.52  50.05  0.3885  0.2729   0.3386     ...       \n",
       "21067            Rostov  50.90  52.69  0.3817  0.2346   0.3836     ...       \n",
       "\n",
       "       importance1  importance2  score1  score2  xg1  xg2  nsxg1  nsxg2  \\\n",
       "18882         39.8          7.9     NaN     NaN  NaN  NaN    NaN    NaN   \n",
       "18885         22.6          5.9     NaN     NaN  NaN  NaN    NaN    NaN   \n",
       "19373          NaN          NaN     NaN     NaN  NaN  NaN    NaN    NaN   \n",
       "19377          NaN          NaN     NaN     NaN  NaN  NaN    NaN    NaN   \n",
       "19879          NaN          NaN     NaN     NaN  NaN  NaN    NaN    NaN   \n",
       "20286          NaN          NaN     NaN     NaN  NaN  NaN    NaN    NaN   \n",
       "20391          NaN          NaN     NaN     NaN  NaN  NaN    NaN    NaN   \n",
       "20541          NaN          NaN     NaN     NaN  NaN  NaN    NaN    NaN   \n",
       "20544          NaN          NaN     NaN     NaN  NaN  NaN    NaN    NaN   \n",
       "20865          NaN          NaN     NaN     NaN  NaN  NaN    NaN    NaN   \n",
       "20991          NaN          NaN     NaN     NaN  NaN  NaN    NaN    NaN   \n",
       "21067          NaN          NaN     NaN     NaN  NaN  NaN    NaN    NaN   \n",
       "\n",
       "       adj_score1  adj_score2  \n",
       "18882         NaN         NaN  \n",
       "18885         NaN         NaN  \n",
       "19373         NaN         NaN  \n",
       "19377         NaN         NaN  \n",
       "19879         NaN         NaN  \n",
       "20286         NaN         NaN  \n",
       "20391         NaN         NaN  \n",
       "20541         NaN         NaN  \n",
       "20544         NaN         NaN  \n",
       "20865         NaN         NaN  \n",
       "20991         NaN         NaN  \n",
       "21067         NaN         NaN  \n",
       "\n",
       "[12 rows x 22 columns]"
      ]
     },
     "execution_count": 184,
     "metadata": {},
     "output_type": "execute_result"
    }
   ],
   "source": [
    "df_rus_pred = df[(df.score1.isnull()) & (df.league == \"Russian Premier Liga\") & (df.probtie > 0.337)]\n",
    "df_rus_pred"
   ]
  },
  {
   "cell_type": "code",
   "execution_count": 185,
   "metadata": {},
   "outputs": [
    {
     "data": {
      "text/html": [
       "<div>\n",
       "<style scoped>\n",
       "    .dataframe tbody tr th:only-of-type {\n",
       "        vertical-align: middle;\n",
       "    }\n",
       "\n",
       "    .dataframe tbody tr th {\n",
       "        vertical-align: top;\n",
       "    }\n",
       "\n",
       "    .dataframe thead th {\n",
       "        text-align: right;\n",
       "    }\n",
       "</style>\n",
       "<table border=\"1\" class=\"dataframe\">\n",
       "  <thead>\n",
       "    <tr style=\"text-align: right;\">\n",
       "      <th></th>\n",
       "      <th>date</th>\n",
       "      <th>league_id</th>\n",
       "      <th>league</th>\n",
       "      <th>team1</th>\n",
       "      <th>team2</th>\n",
       "      <th>spi1</th>\n",
       "      <th>spi2</th>\n",
       "      <th>prob1</th>\n",
       "      <th>prob2</th>\n",
       "      <th>probtie</th>\n",
       "      <th>...</th>\n",
       "      <th>importance1</th>\n",
       "      <th>importance2</th>\n",
       "      <th>score1</th>\n",
       "      <th>score2</th>\n",
       "      <th>xg1</th>\n",
       "      <th>xg2</th>\n",
       "      <th>nsxg1</th>\n",
       "      <th>nsxg2</th>\n",
       "      <th>adj_score1</th>\n",
       "      <th>adj_score2</th>\n",
       "    </tr>\n",
       "  </thead>\n",
       "  <tbody>\n",
       "    <tr>\n",
       "      <th>18396</th>\n",
       "      <td>2019-02-17</td>\n",
       "      <td>1856</td>\n",
       "      <td>Italy Serie B</td>\n",
       "      <td>Cosenza</td>\n",
       "      <td>Cremonese</td>\n",
       "      <td>22.79</td>\n",
       "      <td>26.15</td>\n",
       "      <td>0.3713</td>\n",
       "      <td>0.2886</td>\n",
       "      <td>0.3401</td>\n",
       "      <td>...</td>\n",
       "      <td>NaN</td>\n",
       "      <td>NaN</td>\n",
       "      <td>NaN</td>\n",
       "      <td>NaN</td>\n",
       "      <td>NaN</td>\n",
       "      <td>NaN</td>\n",
       "      <td>NaN</td>\n",
       "      <td>NaN</td>\n",
       "      <td>NaN</td>\n",
       "      <td>NaN</td>\n",
       "    </tr>\n",
       "    <tr>\n",
       "      <th>19330</th>\n",
       "      <td>2019-03-16</td>\n",
       "      <td>1856</td>\n",
       "      <td>Italy Serie B</td>\n",
       "      <td>F.B.C Unione Venezia</td>\n",
       "      <td>Cremonese</td>\n",
       "      <td>25.20</td>\n",
       "      <td>26.15</td>\n",
       "      <td>0.3997</td>\n",
       "      <td>0.2584</td>\n",
       "      <td>0.3419</td>\n",
       "      <td>...</td>\n",
       "      <td>NaN</td>\n",
       "      <td>NaN</td>\n",
       "      <td>NaN</td>\n",
       "      <td>NaN</td>\n",
       "      <td>NaN</td>\n",
       "      <td>NaN</td>\n",
       "      <td>NaN</td>\n",
       "      <td>NaN</td>\n",
       "      <td>NaN</td>\n",
       "      <td>NaN</td>\n",
       "    </tr>\n",
       "    <tr>\n",
       "      <th>20383</th>\n",
       "      <td>2019-04-22</td>\n",
       "      <td>1856</td>\n",
       "      <td>Italy Serie B</td>\n",
       "      <td>Ascoli</td>\n",
       "      <td>F.B.C Unione Venezia</td>\n",
       "      <td>23.19</td>\n",
       "      <td>25.20</td>\n",
       "      <td>0.3864</td>\n",
       "      <td>0.2725</td>\n",
       "      <td>0.3411</td>\n",
       "      <td>...</td>\n",
       "      <td>NaN</td>\n",
       "      <td>NaN</td>\n",
       "      <td>NaN</td>\n",
       "      <td>NaN</td>\n",
       "      <td>NaN</td>\n",
       "      <td>NaN</td>\n",
       "      <td>NaN</td>\n",
       "      <td>NaN</td>\n",
       "      <td>NaN</td>\n",
       "      <td>NaN</td>\n",
       "    </tr>\n",
       "    <tr>\n",
       "      <th>20629</th>\n",
       "      <td>2019-05-01</td>\n",
       "      <td>1856</td>\n",
       "      <td>Italy Serie B</td>\n",
       "      <td>Cosenza</td>\n",
       "      <td>F.B.C Unione Venezia</td>\n",
       "      <td>22.79</td>\n",
       "      <td>25.20</td>\n",
       "      <td>0.3815</td>\n",
       "      <td>0.2784</td>\n",
       "      <td>0.3401</td>\n",
       "      <td>...</td>\n",
       "      <td>NaN</td>\n",
       "      <td>NaN</td>\n",
       "      <td>NaN</td>\n",
       "      <td>NaN</td>\n",
       "      <td>NaN</td>\n",
       "      <td>NaN</td>\n",
       "      <td>NaN</td>\n",
       "      <td>NaN</td>\n",
       "      <td>NaN</td>\n",
       "      <td>NaN</td>\n",
       "    </tr>\n",
       "    <tr>\n",
       "      <th>20846</th>\n",
       "      <td>2019-05-11</td>\n",
       "      <td>1856</td>\n",
       "      <td>Italy Serie B</td>\n",
       "      <td>Carpi</td>\n",
       "      <td>F.B.C Unione Venezia</td>\n",
       "      <td>17.39</td>\n",
       "      <td>25.20</td>\n",
       "      <td>0.3145</td>\n",
       "      <td>0.3500</td>\n",
       "      <td>0.3355</td>\n",
       "      <td>...</td>\n",
       "      <td>NaN</td>\n",
       "      <td>NaN</td>\n",
       "      <td>NaN</td>\n",
       "      <td>NaN</td>\n",
       "      <td>NaN</td>\n",
       "      <td>NaN</td>\n",
       "      <td>NaN</td>\n",
       "      <td>NaN</td>\n",
       "      <td>NaN</td>\n",
       "      <td>NaN</td>\n",
       "    </tr>\n",
       "  </tbody>\n",
       "</table>\n",
       "<p>5 rows × 22 columns</p>\n",
       "</div>"
      ],
      "text/plain": [
       "            date  league_id         league                 team1  \\\n",
       "18396 2019-02-17       1856  Italy Serie B               Cosenza   \n",
       "19330 2019-03-16       1856  Italy Serie B  F.B.C Unione Venezia   \n",
       "20383 2019-04-22       1856  Italy Serie B                Ascoli   \n",
       "20629 2019-05-01       1856  Italy Serie B               Cosenza   \n",
       "20846 2019-05-11       1856  Italy Serie B                 Carpi   \n",
       "\n",
       "                      team2   spi1   spi2   prob1   prob2  probtie  \\\n",
       "18396             Cremonese  22.79  26.15  0.3713  0.2886   0.3401   \n",
       "19330             Cremonese  25.20  26.15  0.3997  0.2584   0.3419   \n",
       "20383  F.B.C Unione Venezia  23.19  25.20  0.3864  0.2725   0.3411   \n",
       "20629  F.B.C Unione Venezia  22.79  25.20  0.3815  0.2784   0.3401   \n",
       "20846  F.B.C Unione Venezia  17.39  25.20  0.3145  0.3500   0.3355   \n",
       "\n",
       "          ...      importance1  importance2  score1  score2  xg1  xg2  nsxg1  \\\n",
       "18396     ...              NaN          NaN     NaN     NaN  NaN  NaN    NaN   \n",
       "19330     ...              NaN          NaN     NaN     NaN  NaN  NaN    NaN   \n",
       "20383     ...              NaN          NaN     NaN     NaN  NaN  NaN    NaN   \n",
       "20629     ...              NaN          NaN     NaN     NaN  NaN  NaN    NaN   \n",
       "20846     ...              NaN          NaN     NaN     NaN  NaN  NaN    NaN   \n",
       "\n",
       "       nsxg2  adj_score1  adj_score2  \n",
       "18396    NaN         NaN         NaN  \n",
       "19330    NaN         NaN         NaN  \n",
       "20383    NaN         NaN         NaN  \n",
       "20629    NaN         NaN         NaN  \n",
       "20846    NaN         NaN         NaN  \n",
       "\n",
       "[5 rows x 22 columns]"
      ]
     },
     "execution_count": 185,
     "metadata": {},
     "output_type": "execute_result"
    }
   ],
   "source": [
    "df_italy_b_pred = df[(df.score1.isnull()) & (df.league == \"Italy Serie B\") & (df.probtie > 0.335)]\n",
    "df_italy_b_pred"
   ]
  },
  {
   "cell_type": "code",
   "execution_count": 128,
   "metadata": {},
   "outputs": [
    {
     "data": {
      "text/plain": [
       "17228"
      ]
     },
     "execution_count": 128,
     "metadata": {},
     "output_type": "execute_result"
    }
   ],
   "source": [
    "len(df)"
   ]
  },
  {
   "cell_type": "code",
   "execution_count": 129,
   "metadata": {
    "collapsed": true
   },
   "outputs": [],
   "source": [
    "df[\"result\"] = df.apply(\n",
    "    lambda row: \"H\" if row.score1 > row.score2 else (\n",
    "        \"D\" if row.score1 == row.score2 else \"A\"), axis=1)\n"
   ]
  },
  {
   "cell_type": "code",
   "execution_count": 130,
   "metadata": {
    "collapsed": true
   },
   "outputs": [],
   "source": [
    "df[\"draw_over_30\"] = df.probtie.apply(lambda x: 1 if x > 0.30 else 0)"
   ]
  },
  {
   "cell_type": "code",
   "execution_count": 131,
   "metadata": {
    "collapsed": true
   },
   "outputs": [],
   "source": [
    "df_pred = df[df.draw_over_30 == 1]"
   ]
  },
  {
   "cell_type": "code",
   "execution_count": 132,
   "metadata": {},
   "outputs": [
    {
     "name": "stderr",
     "output_type": "stream",
     "text": [
      "/Users/alexandergreen/anaconda/lib/python3.6/site-packages/pandas/core/indexing.py:357: SettingWithCopyWarning: \n",
      "A value is trying to be set on a copy of a slice from a DataFrame.\n",
      "Try using .loc[row_indexer,col_indexer] = value instead\n",
      "\n",
      "See the caveats in the documentation: http://pandas.pydata.org/pandas-docs/stable/indexing.html#indexing-view-versus-copy\n",
      "  self.obj[key] = _infer_fill_value(value)\n",
      "/Users/alexandergreen/anaconda/lib/python3.6/site-packages/pandas/core/indexing.py:537: SettingWithCopyWarning: \n",
      "A value is trying to be set on a copy of a slice from a DataFrame.\n",
      "Try using .loc[row_indexer,col_indexer] = value instead\n",
      "\n",
      "See the caveats in the documentation: http://pandas.pydata.org/pandas-docs/stable/indexing.html#indexing-view-versus-copy\n",
      "  self.obj[item] = s\n"
     ]
    }
   ],
   "source": [
    "df_pred.loc[:, \"success\"] = df_pred.apply(lambda row: 1 if row.result == \"D\" else 0, axis=1)"
   ]
  },
  {
   "cell_type": "code",
   "execution_count": 133,
   "metadata": {},
   "outputs": [
    {
     "data": {
      "text/html": [
       "<div>\n",
       "<style scoped>\n",
       "    .dataframe tbody tr th:only-of-type {\n",
       "        vertical-align: middle;\n",
       "    }\n",
       "\n",
       "    .dataframe tbody tr th {\n",
       "        vertical-align: top;\n",
       "    }\n",
       "\n",
       "    .dataframe thead th {\n",
       "        text-align: right;\n",
       "    }\n",
       "</style>\n",
       "<table border=\"1\" class=\"dataframe\">\n",
       "  <thead>\n",
       "    <tr style=\"text-align: right;\">\n",
       "      <th></th>\n",
       "      <th>league</th>\n",
       "      <th>correct</th>\n",
       "      <th>total</th>\n",
       "      <th>accuracy</th>\n",
       "    </tr>\n",
       "  </thead>\n",
       "  <tbody>\n",
       "    <tr>\n",
       "      <th>6</th>\n",
       "      <td>Danish SAS-Ligaen</td>\n",
       "      <td>5</td>\n",
       "      <td>8</td>\n",
       "      <td>0.625000</td>\n",
       "    </tr>\n",
       "    <tr>\n",
       "      <th>2</th>\n",
       "      <td>Barclays Premier League</td>\n",
       "      <td>23</td>\n",
       "      <td>50</td>\n",
       "      <td>0.460000</td>\n",
       "    </tr>\n",
       "    <tr>\n",
       "      <th>30</th>\n",
       "      <td>Swedish Allsvenskan</td>\n",
       "      <td>4</td>\n",
       "      <td>9</td>\n",
       "      <td>0.444444</td>\n",
       "    </tr>\n",
       "    <tr>\n",
       "      <th>4</th>\n",
       "      <td>Brasileiro Série A</td>\n",
       "      <td>8</td>\n",
       "      <td>20</td>\n",
       "      <td>0.400000</td>\n",
       "    </tr>\n",
       "    <tr>\n",
       "      <th>25</th>\n",
       "      <td>Russian Premier Liga</td>\n",
       "      <td>39</td>\n",
       "      <td>98</td>\n",
       "      <td>0.397959</td>\n",
       "    </tr>\n",
       "    <tr>\n",
       "      <th>21</th>\n",
       "      <td>Mexican Primera Division Torneo Clausura</td>\n",
       "      <td>17</td>\n",
       "      <td>43</td>\n",
       "      <td>0.395349</td>\n",
       "    </tr>\n",
       "    <tr>\n",
       "      <th>17</th>\n",
       "      <td>Italy Serie B</td>\n",
       "      <td>107</td>\n",
       "      <td>297</td>\n",
       "      <td>0.360269</td>\n",
       "    </tr>\n",
       "    <tr>\n",
       "      <th>34</th>\n",
       "      <td>UEFA Europa League</td>\n",
       "      <td>10</td>\n",
       "      <td>29</td>\n",
       "      <td>0.344828</td>\n",
       "    </tr>\n",
       "    <tr>\n",
       "      <th>29</th>\n",
       "      <td>Spanish Segunda Division</td>\n",
       "      <td>73</td>\n",
       "      <td>218</td>\n",
       "      <td>0.334862</td>\n",
       "    </tr>\n",
       "    <tr>\n",
       "      <th>11</th>\n",
       "      <td>French Ligue 1</td>\n",
       "      <td>62</td>\n",
       "      <td>187</td>\n",
       "      <td>0.331551</td>\n",
       "    </tr>\n",
       "    <tr>\n",
       "      <th>27</th>\n",
       "      <td>South African ABSA Premier League</td>\n",
       "      <td>23</td>\n",
       "      <td>71</td>\n",
       "      <td>0.323944</td>\n",
       "    </tr>\n",
       "    <tr>\n",
       "      <th>7</th>\n",
       "      <td>Dutch Eredivisie</td>\n",
       "      <td>4</td>\n",
       "      <td>13</td>\n",
       "      <td>0.307692</td>\n",
       "    </tr>\n",
       "    <tr>\n",
       "      <th>0</th>\n",
       "      <td>Argentina Primera Division</td>\n",
       "      <td>46</td>\n",
       "      <td>150</td>\n",
       "      <td>0.306667</td>\n",
       "    </tr>\n",
       "    <tr>\n",
       "      <th>10</th>\n",
       "      <td>English League Two</td>\n",
       "      <td>3</td>\n",
       "      <td>10</td>\n",
       "      <td>0.300000</td>\n",
       "    </tr>\n",
       "    <tr>\n",
       "      <th>22</th>\n",
       "      <td>National Women's Soccer League</td>\n",
       "      <td>3</td>\n",
       "      <td>10</td>\n",
       "      <td>0.300000</td>\n",
       "    </tr>\n",
       "    <tr>\n",
       "      <th>13</th>\n",
       "      <td>German 2. Bundesliga</td>\n",
       "      <td>24</td>\n",
       "      <td>81</td>\n",
       "      <td>0.296296</td>\n",
       "    </tr>\n",
       "    <tr>\n",
       "      <th>20</th>\n",
       "      <td>Mexican Primera Division Torneo Apertura</td>\n",
       "      <td>10</td>\n",
       "      <td>35</td>\n",
       "      <td>0.285714</td>\n",
       "    </tr>\n",
       "    <tr>\n",
       "      <th>28</th>\n",
       "      <td>Spanish Primera Division</td>\n",
       "      <td>13</td>\n",
       "      <td>46</td>\n",
       "      <td>0.282609</td>\n",
       "    </tr>\n",
       "    <tr>\n",
       "      <th>35</th>\n",
       "      <td>United Soccer League</td>\n",
       "      <td>12</td>\n",
       "      <td>44</td>\n",
       "      <td>0.272727</td>\n",
       "    </tr>\n",
       "    <tr>\n",
       "      <th>12</th>\n",
       "      <td>French Ligue 2</td>\n",
       "      <td>52</td>\n",
       "      <td>193</td>\n",
       "      <td>0.269430</td>\n",
       "    </tr>\n",
       "    <tr>\n",
       "      <th>24</th>\n",
       "      <td>Portuguese Liga</td>\n",
       "      <td>15</td>\n",
       "      <td>57</td>\n",
       "      <td>0.263158</td>\n",
       "    </tr>\n",
       "    <tr>\n",
       "      <th>8</th>\n",
       "      <td>English League Championship</td>\n",
       "      <td>17</td>\n",
       "      <td>65</td>\n",
       "      <td>0.261538</td>\n",
       "    </tr>\n",
       "    <tr>\n",
       "      <th>16</th>\n",
       "      <td>Italy Serie A</td>\n",
       "      <td>15</td>\n",
       "      <td>75</td>\n",
       "      <td>0.200000</td>\n",
       "    </tr>\n",
       "    <tr>\n",
       "      <th>15</th>\n",
       "      <td>Greek Super League</td>\n",
       "      <td>2</td>\n",
       "      <td>10</td>\n",
       "      <td>0.200000</td>\n",
       "    </tr>\n",
       "    <tr>\n",
       "      <th>1</th>\n",
       "      <td>Austrian T-Mobile Bundesliga</td>\n",
       "      <td>1</td>\n",
       "      <td>5</td>\n",
       "      <td>0.200000</td>\n",
       "    </tr>\n",
       "    <tr>\n",
       "      <th>9</th>\n",
       "      <td>English League One</td>\n",
       "      <td>3</td>\n",
       "      <td>18</td>\n",
       "      <td>0.166667</td>\n",
       "    </tr>\n",
       "    <tr>\n",
       "      <th>26</th>\n",
       "      <td>Scottish Premiership</td>\n",
       "      <td>2</td>\n",
       "      <td>13</td>\n",
       "      <td>0.153846</td>\n",
       "    </tr>\n",
       "    <tr>\n",
       "      <th>5</th>\n",
       "      <td>Chinese Super League</td>\n",
       "      <td>1</td>\n",
       "      <td>7</td>\n",
       "      <td>0.142857</td>\n",
       "    </tr>\n",
       "    <tr>\n",
       "      <th>33</th>\n",
       "      <td>UEFA Champions League</td>\n",
       "      <td>1</td>\n",
       "      <td>7</td>\n",
       "      <td>0.142857</td>\n",
       "    </tr>\n",
       "    <tr>\n",
       "      <th>32</th>\n",
       "      <td>Turkish Turkcell Super Lig</td>\n",
       "      <td>1</td>\n",
       "      <td>11</td>\n",
       "      <td>0.090909</td>\n",
       "    </tr>\n",
       "    <tr>\n",
       "      <th>14</th>\n",
       "      <td>German Bundesliga</td>\n",
       "      <td>1</td>\n",
       "      <td>13</td>\n",
       "      <td>0.076923</td>\n",
       "    </tr>\n",
       "    <tr>\n",
       "      <th>3</th>\n",
       "      <td>Belgian Jupiler League</td>\n",
       "      <td>0</td>\n",
       "      <td>1</td>\n",
       "      <td>0.000000</td>\n",
       "    </tr>\n",
       "    <tr>\n",
       "      <th>19</th>\n",
       "      <td>Major League Soccer</td>\n",
       "      <td>0</td>\n",
       "      <td>2</td>\n",
       "      <td>0.000000</td>\n",
       "    </tr>\n",
       "    <tr>\n",
       "      <th>31</th>\n",
       "      <td>Swiss Raiffeisen Super League</td>\n",
       "      <td>0</td>\n",
       "      <td>1</td>\n",
       "      <td>0.000000</td>\n",
       "    </tr>\n",
       "    <tr>\n",
       "      <th>23</th>\n",
       "      <td>Norwegian Tippeligaen</td>\n",
       "      <td>0</td>\n",
       "      <td>1</td>\n",
       "      <td>0.000000</td>\n",
       "    </tr>\n",
       "    <tr>\n",
       "      <th>18</th>\n",
       "      <td>Japanese J League</td>\n",
       "      <td>0</td>\n",
       "      <td>1</td>\n",
       "      <td>0.000000</td>\n",
       "    </tr>\n",
       "  </tbody>\n",
       "</table>\n",
       "</div>"
      ],
      "text/plain": [
       "                                      league  correct  total  accuracy\n",
       "6                          Danish SAS-Ligaen        5      8  0.625000\n",
       "2                    Barclays Premier League       23     50  0.460000\n",
       "30                       Swedish Allsvenskan        4      9  0.444444\n",
       "4                         Brasileiro Série A        8     20  0.400000\n",
       "25                      Russian Premier Liga       39     98  0.397959\n",
       "21  Mexican Primera Division Torneo Clausura       17     43  0.395349\n",
       "17                             Italy Serie B      107    297  0.360269\n",
       "34                        UEFA Europa League       10     29  0.344828\n",
       "29                  Spanish Segunda Division       73    218  0.334862\n",
       "11                            French Ligue 1       62    187  0.331551\n",
       "27         South African ABSA Premier League       23     71  0.323944\n",
       "7                           Dutch Eredivisie        4     13  0.307692\n",
       "0                 Argentina Primera Division       46    150  0.306667\n",
       "10                        English League Two        3     10  0.300000\n",
       "22            National Women's Soccer League        3     10  0.300000\n",
       "13                      German 2. Bundesliga       24     81  0.296296\n",
       "20  Mexican Primera Division Torneo Apertura       10     35  0.285714\n",
       "28                  Spanish Primera Division       13     46  0.282609\n",
       "35                      United Soccer League       12     44  0.272727\n",
       "12                            French Ligue 2       52    193  0.269430\n",
       "24                           Portuguese Liga       15     57  0.263158\n",
       "8                English League Championship       17     65  0.261538\n",
       "16                             Italy Serie A       15     75  0.200000\n",
       "15                        Greek Super League        2     10  0.200000\n",
       "1               Austrian T-Mobile Bundesliga        1      5  0.200000\n",
       "9                         English League One        3     18  0.166667\n",
       "26                      Scottish Premiership        2     13  0.153846\n",
       "5                       Chinese Super League        1      7  0.142857\n",
       "33                     UEFA Champions League        1      7  0.142857\n",
       "32                Turkish Turkcell Super Lig        1     11  0.090909\n",
       "14                         German Bundesliga        1     13  0.076923\n",
       "3                     Belgian Jupiler League        0      1  0.000000\n",
       "19                       Major League Soccer        0      2  0.000000\n",
       "31             Swiss Raiffeisen Super League        0      1  0.000000\n",
       "23                     Norwegian Tippeligaen        0      1  0.000000\n",
       "18                         Japanese J League        0      1  0.000000"
      ]
     },
     "execution_count": 133,
     "metadata": {},
     "output_type": "execute_result"
    }
   ],
   "source": [
    "df_draw_by_league = df_pred.groupby(\"league\").agg({\"success\": [\"sum\", \"count\"]}).reset_index()\n",
    "df_draw_by_league.columns = df_draw_by_league.columns.droplevel()\n",
    "df_draw_by_league.columns = [\"league\", \"correct\", \"total\"]\n",
    "df_draw_by_league[\"accuracy\"] = df_draw_by_league.correct / df_draw_by_league.total\n",
    "df_draw_by_league.sort_values(\"accuracy\", ascending=False)"
   ]
  },
  {
   "cell_type": "code",
   "execution_count": 134,
   "metadata": {
    "collapsed": true
   },
   "outputs": [],
   "source": [
    "df_prem = df[df.league == \"Barclays Premier League\"]"
   ]
  },
  {
   "cell_type": "code",
   "execution_count": 135,
   "metadata": {},
   "outputs": [
    {
     "data": {
      "text/plain": [
       "<matplotlib.axes._subplots.AxesSubplot at 0x111e80940>"
      ]
     },
     "execution_count": 135,
     "metadata": {},
     "output_type": "execute_result"
    },
    {
     "data": {
      "image/png": "[encoded data removed]",
      "text/plain": [
       "<Figure size 432x288 with 1 Axes>"
      ]
     },
     "metadata": {},
     "output_type": "display_data"
    }
   ],
   "source": [
    "df_prem.probtie.hist(bins=20)"
   ]
  },
  {
   "cell_type": "code",
   "execution_count": 136,
   "metadata": {},
   "outputs": [
    {
     "data": {
      "text/plain": [
       "0.30042"
      ]
     },
     "execution_count": 136,
     "metadata": {},
     "output_type": "execute_result"
    }
   ],
   "source": [
    "df_prem.probtie.quantile(0.95)"
   ]
  },
  {
   "cell_type": "markdown",
   "metadata": {},
   "source": [
    "# Premmy"
   ]
  },
  {
   "cell_type": "code",
   "execution_count": 137,
   "metadata": {
    "collapsed": true
   },
   "outputs": [],
   "source": [
    "betting = pd.concat([pd.read_csv(\"../data/1617_results.csv\", parse_dates=[\"Date\"], dayfirst=True),\n",
    "                      pd.read_csv(\"../data/1718_results.csv\", parse_dates=[\"Date\"], dayfirst=True),\n",
    "                      pd.read_csv(\"../data/1819_results.csv\", parse_dates=[\"Date\"], dayfirst=True)])"
   ]
  },
  {
   "cell_type": "code",
   "execution_count": 138,
   "metadata": {},
   "outputs": [
    {
     "data": {
      "text/plain": [
       "['Arsenal',\n",
       " 'Bournemouth',\n",
       " 'Brighton',\n",
       " 'Burnley',\n",
       " 'Cardiff',\n",
       " 'Chelsea',\n",
       " 'Crystal Palace',\n",
       " 'Everton',\n",
       " 'Fulham',\n",
       " 'Huddersfield',\n",
       " 'Hull',\n",
       " 'Leicester',\n",
       " 'Liverpool',\n",
       " 'Man City',\n",
       " 'Man United',\n",
       " 'Middlesbrough',\n",
       " 'Newcastle',\n",
       " 'Southampton',\n",
       " 'Stoke',\n",
       " 'Sunderland',\n",
       " 'Swansea',\n",
       " 'Tottenham',\n",
       " 'Watford',\n",
       " 'West Brom',\n",
       " 'West Ham',\n",
       " 'Wolves']"
      ]
     },
     "execution_count": 138,
     "metadata": {},
     "output_type": "execute_result"
    }
   ],
   "source": [
    "bet_teams = betting.HomeTeam.unique()\n",
    "sorted(bet_teams)"
   ]
  },
  {
   "cell_type": "code",
   "execution_count": 139,
   "metadata": {},
   "outputs": [
    {
     "data": {
      "text/plain": [
       "['AFC Bournemouth',\n",
       " 'Arsenal',\n",
       " 'Brighton and Hove Albion',\n",
       " 'Burnley',\n",
       " 'Cardiff City',\n",
       " 'Chelsea',\n",
       " 'Crystal Palace',\n",
       " 'Everton',\n",
       " 'Fulham',\n",
       " 'Huddersfield Town',\n",
       " 'Hull City',\n",
       " 'Leicester City',\n",
       " 'Liverpool',\n",
       " 'Manchester City',\n",
       " 'Manchester United',\n",
       " 'Middlesbrough',\n",
       " 'Newcastle',\n",
       " 'Southampton',\n",
       " 'Stoke City',\n",
       " 'Sunderland',\n",
       " 'Swansea City',\n",
       " 'Tottenham Hotspur',\n",
       " 'Watford',\n",
       " 'West Bromwich Albion',\n",
       " 'West Ham United',\n",
       " 'Wolverhampton']"
      ]
     },
     "execution_count": 139,
     "metadata": {},
     "output_type": "execute_result"
    }
   ],
   "source": [
    "five38_teams_16 = df_prem.team1.unique()\n",
    "sorted(five38_teams_16)"
   ]
  },
  {
   "cell_type": "code",
   "execution_count": 140,
   "metadata": {
    "collapsed": true
   },
   "outputs": [],
   "source": [
    "team_dict = {\"AFC Bournemouth\": \"Bournemouth\",\n",
    "            \"Brighton and Hove Albion\": \"Brighton\",\n",
    "            \"Cardiff City\": \"Cardiff\",\n",
    "            \"Huddersfield Town\": \"Huddersfield\",\n",
    "            \"Hull City\": \"Hull\",\n",
    "            \"Leicester City\": \"Leicester\",\n",
    "            \"Manchester United\": \"Man United\",\n",
    "            \"Manchester City\": \"Man City\",\n",
    "            \"Newcastle United\": \"Newcastle\",\n",
    "            \"Stoke City\": \"Stoke\",\n",
    "            \"Swansea City\": \"Swansea\",\n",
    "            \"Tottenham Hotspur\": \"Tottenham\",\n",
    "            \"West Bromwich Albion\": \"West Brom\",\n",
    "            \"West Ham United\": \"West Ham\",\n",
    "            \"Wolverhampton\": \"Wolves\"}"
   ]
  },
  {
   "cell_type": "code",
   "execution_count": 141,
   "metadata": {},
   "outputs": [
    {
     "name": "stderr",
     "output_type": "stream",
     "text": [
      "/Users/alexandergreen/anaconda/lib/python3.6/site-packages/pandas/core/indexing.py:537: SettingWithCopyWarning: \n",
      "A value is trying to be set on a copy of a slice from a DataFrame.\n",
      "Try using .loc[row_indexer,col_indexer] = value instead\n",
      "\n",
      "See the caveats in the documentation: http://pandas.pydata.org/pandas-docs/stable/indexing.html#indexing-view-versus-copy\n",
      "  self.obj[item] = s\n"
     ]
    }
   ],
   "source": [
    "df_prem.loc[:, \"team1\"] = df_prem.team1.apply(lambda x: team_dict[x] if x in team_dict.keys() else x)"
   ]
  },
  {
   "cell_type": "code",
   "execution_count": 142,
   "metadata": {},
   "outputs": [
    {
     "name": "stderr",
     "output_type": "stream",
     "text": [
      "/Users/alexandergreen/anaconda/lib/python3.6/site-packages/pandas/core/indexing.py:537: SettingWithCopyWarning: \n",
      "A value is trying to be set on a copy of a slice from a DataFrame.\n",
      "Try using .loc[row_indexer,col_indexer] = value instead\n",
      "\n",
      "See the caveats in the documentation: http://pandas.pydata.org/pandas-docs/stable/indexing.html#indexing-view-versus-copy\n",
      "  self.obj[item] = s\n"
     ]
    }
   ],
   "source": [
    "df_prem.loc[:, \"team2\"] = df_prem.team2.apply((lambda x: team_dict[x] if x in team_dict.keys() else x))"
   ]
  },
  {
   "cell_type": "code",
   "execution_count": 143,
   "metadata": {
    "collapsed": true
   },
   "outputs": [],
   "source": [
    "betting.rename(columns={\"HomeTeam\": \"team1\", \"AwayTeam\": \"team2\", \"Date\": \"date\"}, inplace=True)"
   ]
  },
  {
   "cell_type": "code",
   "execution_count": 144,
   "metadata": {
    "collapsed": true
   },
   "outputs": [],
   "source": [
    "merged = pd.merge(betting, df_prem, on=[\"date\", \"team1\", \"team2\"])"
   ]
  },
  {
   "cell_type": "code",
   "execution_count": 145,
   "metadata": {},
   "outputs": [],
   "source": [
    "merged = merged[[\"team1\", \"team2\", \n",
    "                 \"BbMxH\", \"BbMxD\", \"BbMxA\",\n",
    "                \"PSH\", \"PSD\", \"PSA\", \n",
    "                \"result\", \n",
    "                \"prob1\", \"prob2\", \"probtie\"]]"
   ]
  },
  {
   "cell_type": "code",
   "execution_count": 147,
   "metadata": {},
   "outputs": [
    {
     "name": "stdout",
     "output_type": "stream",
     "text": [
      "money at end £7736.6978947632\n",
      "total matches 48\n",
      "lowest bank £968.25847822515\n",
      "highest bank £11791.94923756013\n",
      "ROI 32.0%\n",
      "Percent of matches bet on 4.95\n"
     ]
    },
    {
     "data": {
      "image/png": "[encoded data removed]",
      "text/plain": [
       "<Figure size 432x288 with 1 Axes>"
      ]
     },
     "metadata": {},
     "output_type": "display_data"
    }
   ],
   "source": [
    "money_history = []\n",
    "money = 1000\n",
    "frac = 0.1\n",
    "total_staked = 0\n",
    "total_won = 0\n",
    "odds = []\n",
    "lose_odds = []\n",
    "for row in merged.itertuples():\n",
    "    if row.probtie >= 0.30:\n",
    "        stake = frac * money\n",
    "        money -= stake\n",
    "        total_staked += stake\n",
    "        if row.result == \"D\":\n",
    "            money += stake * row.BbMxD * 0.99\n",
    "            total_won += stake * row.BbMxD * 0.99\n",
    "            odds.append(row.BbMxD)\n",
    "        else:\n",
    "            lose_odds.append(row.BbMxD)\n",
    "        money_history.append(money)\n",
    "plt.plot(money_history)\n",
    "print(\"money at end £{}\".format(money))\n",
    "print(\"total matches {}\".format(len(money_history)))\n",
    "print(\"lowest bank £{}\".format(min(money_history)))\n",
    "print(\"highest bank £{}\".format(max(money_history)))\n",
    "print(\"ROI {}%\".format(round(100 * ((total_won / total_staked) - 1), 0)))\n",
    "print(\"Percent of matches bet on {}\".format(round(len(money_history) * 100 / len(df_prem), 2)))"
   ]
  },
  {
   "cell_type": "code",
   "execution_count": 148,
   "metadata": {},
   "outputs": [
    {
     "data": {
      "text/plain": [
       "3.2900000000000005"
      ]
     },
     "execution_count": 148,
     "metadata": {},
     "output_type": "execute_result"
    }
   ],
   "source": [
    "np.mean(odds)"
   ]
  },
  {
   "cell_type": "code",
   "execution_count": 149,
   "metadata": {},
   "outputs": [
    {
     "data": {
      "text/plain": [
       "3.3388000000000004"
      ]
     },
     "execution_count": 149,
     "metadata": {},
     "output_type": "execute_result"
    }
   ],
   "source": [
    "np.mean(lose_odds)"
   ]
  },
  {
   "cell_type": "code",
   "execution_count": 150,
   "metadata": {},
   "outputs": [
    {
     "data": {
      "text/plain": [
       "25"
      ]
     },
     "execution_count": 150,
     "metadata": {},
     "output_type": "execute_result"
    }
   ],
   "source": [
    "len(lose_odds)"
   ]
  },
  {
   "cell_type": "code",
   "execution_count": 151,
   "metadata": {},
   "outputs": [
    {
     "data": {
      "text/plain": [
       "23"
      ]
     },
     "execution_count": 151,
     "metadata": {},
     "output_type": "execute_result"
    }
   ],
   "source": [
    "len(odds)"
   ]
  },
  {
   "cell_type": "markdown",
   "metadata": {},
   "source": [
    "# Serie A"
   ]
  },
  {
   "cell_type": "code",
   "execution_count": 156,
   "metadata": {
    "collapsed": true
   },
   "outputs": [],
   "source": [
    "df_italy = df[df.league == \"Italy Serie A\"]"
   ]
  },
  {
   "cell_type": "code",
   "execution_count": 157,
   "metadata": {},
   "outputs": [
    {
     "data": {
      "text/plain": [
       "<matplotlib.axes._subplots.AxesSubplot at 0x11a3e1a58>"
      ]
     },
     "execution_count": 157,
     "metadata": {},
     "output_type": "execute_result"
    },
    {
     "data": {
      "image/png": "[encoded data removed]",
      "text/plain": [
       "<Figure size 432x288 with 1 Axes>"
      ]
     },
     "metadata": {},
     "output_type": "display_data"
    }
   ],
   "source": [
    "df_italy.probtie.hist(bins=20)"
   ]
  },
  {
   "cell_type": "code",
   "execution_count": 158,
   "metadata": {},
   "outputs": [
    {
     "data": {
      "text/plain": [
       "0.30501999999999996"
      ]
     },
     "execution_count": 158,
     "metadata": {},
     "output_type": "execute_result"
    }
   ],
   "source": [
    "df_italy.probtie.quantile(0.95)"
   ]
  },
  {
   "cell_type": "code",
   "execution_count": 159,
   "metadata": {},
   "outputs": [
    {
     "name": "stdout",
     "output_type": "stream",
     "text": [
      "money at end £144.63269314304128\n",
      "total matches 48\n",
      "lowest bank £144.63269314304128\n",
      "highest bank £1356.572043\n",
      "ROI -28.999999999999996%\n"
     ]
    },
    {
     "data": {
      "image/png": "[encoded data removed]",
      "text/plain": [
       "<Figure size 432x288 with 1 Axes>"
      ]
     },
     "metadata": {},
     "output_type": "display_data"
    }
   ],
   "source": [
    "money_history = []\n",
    "money = 1000\n",
    "frac = 0.1\n",
    "total_staked = 0\n",
    "total_won = 0\n",
    "for row in df_italy.itertuples():\n",
    "    if row.probtie >= 0.305:\n",
    "        stake = frac * money\n",
    "        money -= stake\n",
    "        total_staked += stake\n",
    "        if row.result == \"D\":\n",
    "            money += stake * 3.3\n",
    "            total_won += stake * 3.3\n",
    "        money_history.append(money)\n",
    "plt.plot(money_history)\n",
    "print(\"money at end £{}\".format(money))\n",
    "print(\"total matches {}\".format(len(money_history)))\n",
    "print(\"lowest bank £{}\".format(min(money_history)))\n",
    "print(\"highest bank £{}\".format(max(money_history)))\n",
    "print(\"ROI {}%\".format(100 * (round((total_won / total_staked) - 1, 2))))\n",
    "    "
   ]
  },
  {
   "cell_type": "markdown",
   "metadata": {},
   "source": [
    "# Port"
   ]
  },
  {
   "cell_type": "code",
   "execution_count": 160,
   "metadata": {
    "collapsed": true
   },
   "outputs": [],
   "source": [
    "df_port = df[df.league == \"Portuguese Liga\"]"
   ]
  },
  {
   "cell_type": "code",
   "execution_count": 161,
   "metadata": {},
   "outputs": [
    {
     "data": {
      "text/plain": [
       "0.3111149999999999"
      ]
     },
     "execution_count": 161,
     "metadata": {},
     "output_type": "execute_result"
    }
   ],
   "source": [
    "df_port.probtie.quantile(0.95)"
   ]
  },
  {
   "cell_type": "code",
   "execution_count": 162,
   "metadata": {},
   "outputs": [
    {
     "name": "stdout",
     "output_type": "stream",
     "text": [
      "money at end £636.9290837617632\n",
      "total matches 28\n",
      "lowest bank £521.6818270797247\n",
      "highest bank £1090.7071048959856\n",
      "ROI -17.0%\n"
     ]
    },
    {
     "data": {
      "image/png": "[encoded data removed]",
      "text/plain": [
       "<Figure size 432x288 with 1 Axes>"
      ]
     },
     "metadata": {},
     "output_type": "display_data"
    }
   ],
   "source": [
    "money_history = []\n",
    "money = 1000\n",
    "frac = 0.1\n",
    "total_staked = 0\n",
    "total_won = 0\n",
    "for row in df_port.itertuples():\n",
    "    if row.probtie >= 0.31:\n",
    "        stake = frac * money\n",
    "        money -= stake\n",
    "        total_staked += stake\n",
    "        if row.result == \"D\":\n",
    "            money += stake * 3.3\n",
    "            total_won += stake * 3.3\n",
    "        money_history.append(money)\n",
    "plt.plot(money_history)\n",
    "print(\"money at end £{}\".format(money))\n",
    "print(\"total matches {}\".format(len(money_history)))\n",
    "print(\"lowest bank £{}\".format(min(money_history)))\n",
    "print(\"highest bank £{}\".format(max(money_history)))\n",
    "print(\"ROI {}%\".format(100 * (round((total_won / total_staked) - 1, 2))))\n",
    "    "
   ]
  },
  {
   "cell_type": "code",
   "execution_count": 163,
   "metadata": {},
   "outputs": [
    {
     "data": {
      "text/plain": [
       "0.3136"
      ]
     },
     "execution_count": 163,
     "metadata": {},
     "output_type": "execute_result"
    }
   ],
   "source": [
    "df.probtie.quantile(0.95)"
   ]
  },
  {
   "cell_type": "code",
   "execution_count": 166,
   "metadata": {},
   "outputs": [
    {
     "name": "stdout",
     "output_type": "stream",
     "text": [
      "money at end £1400.994751396815\n",
      "total matches 317\n",
      "lowest bank £215.59427154885327\n",
      "highest bank £12736.579211067696\n",
      "ROI 0.0%\n"
     ]
    },
    {
     "data": {
      "image/png": "[encoded data removed]",
      "text/plain": [
       "<Figure size 432x288 with 1 Axes>"
      ]
     },
     "metadata": {},
     "output_type": "display_data"
    }
   ],
   "source": [
    "money_history = []\n",
    "money = 1000\n",
    "frac = 0.1\n",
    "total_staked = 0\n",
    "total_won = 0\n",
    "for row in df.itertuples():\n",
    "    if row.probtie >= 0.33:\n",
    "        stake = frac * money\n",
    "        money -= stake\n",
    "        total_staked += stake\n",
    "        if row.result == \"D\":\n",
    "            money += stake * 3.3\n",
    "            total_won += stake * 3.3\n",
    "        money_history.append(money)\n",
    "plt.plot(money_history)\n",
    "print(\"money at end £{}\".format(money))\n",
    "print(\"total matches {}\".format(len(money_history)))\n",
    "print(\"lowest bank £{}\".format(min(money_history)))\n",
    "print(\"highest bank £{}\".format(max(money_history)))\n",
    "print(\"ROI {}%\".format(100 * (round((total_won / total_staked) - 1, 2))))\n",
    "    "
   ]
  },
  {
   "cell_type": "markdown",
   "metadata": {
    "collapsed": true
   },
   "source": [
    "# Serie B"
   ]
  },
  {
   "cell_type": "code",
   "execution_count": 167,
   "metadata": {},
   "outputs": [
    {
     "data": {
      "text/plain": [
       "0.33724"
      ]
     },
     "execution_count": 167,
     "metadata": {},
     "output_type": "execute_result"
    }
   ],
   "source": [
    "df_italy_b = df[df.league == \"Italy Serie B\"]\n",
    "df_italy_b.probtie.quantile(0.90)"
   ]
  },
  {
   "cell_type": "code",
   "execution_count": 173,
   "metadata": {},
   "outputs": [
    {
     "name": "stdout",
     "output_type": "stream",
     "text": [
      "money at end £3203.49024103636\n",
      "total matches 69\n",
      "lowest bank £646.4434792432304\n",
      "highest bank £3954.9262235016795\n",
      "ROI 17.0%\n",
      "Percent of matches bet on 10.75\n"
     ]
    },
    {
     "data": {
      "image/png": "[encoded data removed]",
      "text/plain": [
       "<Figure size 432x288 with 1 Axes>"
      ]
     },
     "metadata": {},
     "output_type": "display_data"
    }
   ],
   "source": [
    "money_history = []\n",
    "money = 1000\n",
    "frac = 0.1\n",
    "total_staked = 0\n",
    "total_won = 0\n",
    "for row in df_italy_b.itertuples():\n",
    "    if row.probtie >= 0.335:\n",
    "        stake = frac * money\n",
    "        money -= stake\n",
    "        total_staked += stake\n",
    "        if row.result == \"D\":\n",
    "            money += stake * 3.3\n",
    "            total_won += stake * 3.3\n",
    "        money_history.append(money)\n",
    "plt.plot(money_history)\n",
    "print(\"money at end £{}\".format(money))\n",
    "print(\"total matches {}\".format(len(money_history)))\n",
    "print(\"lowest bank £{}\".format(min(money_history)))\n",
    "print(\"highest bank £{}\".format(max(money_history)))\n",
    "print(\"ROI {}%\".format(100 * (round((total_won / total_staked) - 1, 2))))\n",
    "print(\"Percent of matches bet on {}\".format(round(len(money_history) * 100 / len(df_italy_b), 2)))"
   ]
  },
  {
   "cell_type": "markdown",
   "metadata": {},
   "source": [
    "# Russian "
   ]
  },
  {
   "cell_type": "code",
   "execution_count": 175,
   "metadata": {},
   "outputs": [
    {
     "data": {
      "text/plain": [
       "0.33679000000000003"
      ]
     },
     "execution_count": 175,
     "metadata": {},
     "output_type": "execute_result"
    }
   ],
   "source": [
    "df_rus = df[df.league == \"Russian Premier Liga\"]\n",
    "df_rus.probtie.quantile(0.95)"
   ]
  },
  {
   "cell_type": "code",
   "execution_count": 178,
   "metadata": {},
   "outputs": [
    {
     "name": "stdout",
     "output_type": "stream",
     "text": [
      "money at end £3572.652415087334\n",
      "total matches 65\n",
      "lowest bank £525.563804262789\n",
      "highest bank £3969.613794541482\n",
      "ROI 23.0%\n",
      "Percent of matches bet on 17.33\n"
     ]
    },
    {
     "data": {
      "image/png": "[encoded data removed]",
      "text/plain": [
       "<Figure size 432x288 with 1 Axes>"
      ]
     },
     "metadata": {},
     "output_type": "display_data"
    }
   ],
   "source": [
    "money_history = []\n",
    "money = 1000\n",
    "frac = 0.1\n",
    "total_staked = 0\n",
    "total_won = 0\n",
    "for row in df_italy_b.itertuples():\n",
    "    if row.probtie >= 0.337:\n",
    "        stake = frac * money\n",
    "        money -= stake\n",
    "        total_staked += stake\n",
    "        if row.result == \"D\":\n",
    "            money += stake * 3.3\n",
    "            total_won += stake * 3.3\n",
    "        money_history.append(money)\n",
    "plt.plot(money_history)\n",
    "print(\"money at end £{}\".format(money))\n",
    "print(\"total matches {}\".format(len(money_history)))\n",
    "print(\"lowest bank £{}\".format(min(money_history)))\n",
    "print(\"highest bank £{}\".format(max(money_history)))\n",
    "print(\"ROI {}%\".format(100 * (round((total_won / total_staked) - 1, 2))))\n",
    "print(\"Percent of matches bet on {}\".format(round(len(money_history) * 100 / len(df_rus), 2)))"
   ]
  },
  {
   "cell_type": "code",
   "execution_count": null,
   "metadata": {
    "collapsed": true
   },
   "outputs": [],
   "source": []
  }
 ],
 "metadata": {
  "kernelspec": {
   "display_name": "Python [conda env:anaconda]",
   "language": "python",
   "name": "conda-env-anaconda-py"
  },
  "language_info": {
   "codemirror_mode": {
    "name": "ipython",
    "version": 3
   },
   "file_extension": ".py",
   "mimetype": "text/x-python",
   "name": "python",
   "nbconvert_exporter": "python",
   "pygments_lexer": "ipython3",
   "version": "3.6.5"
  }
 },
 "nbformat": 4,
 "nbformat_minor": 2
}
