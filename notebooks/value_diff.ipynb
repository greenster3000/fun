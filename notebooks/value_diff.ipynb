{
 "cells": [
  {
   "cell_type": "code",
   "execution_count": 28,
   "metadata": {
    "collapsed": true
   },
   "outputs": [],
   "source": [
    "import pandas as pd\n",
    "import numpy as np\n",
    "% matplotlib inline\n",
    "import matplotlib.pyplot as plt"
   ]
  },
  {
   "cell_type": "code",
   "execution_count": 48,
   "metadata": {
    "collapsed": true
   },
   "outputs": [],
   "source": [
    "df = pd.read_csv(\"../data/spi_matches.csv\", parse_dates=[\"date\"])"
   ]
  },
  {
   "cell_type": "code",
   "execution_count": 49,
   "metadata": {
    "collapsed": true
   },
   "outputs": [],
   "source": [
    "df[\"result\"] = df.apply(\n",
    "    lambda row: \"H\" if row.score1 > row.score2 else (\n",
    "        \"D\" if row.score1 == row.score2 else \"A\"), axis=1)\n"
   ]
  },
  {
   "cell_type": "code",
   "execution_count": 50,
   "metadata": {
    "collapsed": false
   },
   "outputs": [],
   "source": [
    "df_prem = df[df.league == \"Barclays Premier League\"]"
   ]
  },
  {
   "cell_type": "code",
   "execution_count": 51,
   "metadata": {
    "collapsed": false
   },
   "outputs": [],
   "source": [
    "df_prem = df_prem[~df_prem.score1.isnull()]"
   ]
  },
  {
   "cell_type": "code",
   "execution_count": 52,
   "metadata": {
    "collapsed": false
   },
   "outputs": [],
   "source": [
    "betting = pd.concat([pd.read_csv(\"../data/1617_results.csv\", parse_dates=[\"Date\"], dayfirst=True),\n",
    "                      pd.read_csv(\"../data/1718_results.csv\", parse_dates=[\"Date\"], dayfirst=True),\n",
    "                      pd.read_csv(\"../data/1819_results.csv\", parse_dates=[\"Date\"], dayfirst=True)])"
   ]
  },
  {
   "cell_type": "code",
   "execution_count": 53,
   "metadata": {
    "collapsed": true
   },
   "outputs": [],
   "source": [
    "team_dict = {\"AFC Bournemouth\": \"Bournemouth\",\n",
    "            \"Brighton and Hove Albion\": \"Brighton\",\n",
    "            \"Cardiff City\": \"Cardiff\",\n",
    "            \"Huddersfield Town\": \"Huddersfield\",\n",
    "            \"Hull City\": \"Hull\",\n",
    "            \"Leicester City\": \"Leicester\",\n",
    "            \"Manchester United\": \"Man United\",\n",
    "            \"Manchester City\": \"Man City\",\n",
    "            \"Newcastle United\": \"Newcastle\",\n",
    "            \"Stoke City\": \"Stoke\",\n",
    "            \"Swansea City\": \"Swansea\",\n",
    "            \"Tottenham Hotspur\": \"Tottenham\",\n",
    "            \"West Bromwich Albion\": \"West Brom\",\n",
    "            \"West Ham United\": \"West Ham\",\n",
    "            \"Wolverhampton\": \"Wolves\"}"
   ]
  },
  {
   "cell_type": "code",
   "execution_count": 54,
   "metadata": {
    "collapsed": false
   },
   "outputs": [],
   "source": [
    "df_prem.loc[:, \"team1\"] = df_prem.team1.apply(lambda x: team_dict[x] if x in team_dict.keys() else x)\n",
    "\n",
    "df_prem.loc[:, \"team2\"] = df_prem.team2.apply((lambda x: team_dict[x] if x in team_dict.keys() else x))"
   ]
  },
  {
   "cell_type": "code",
   "execution_count": 55,
   "metadata": {
    "collapsed": true
   },
   "outputs": [],
   "source": [
    "betting.rename(columns={\"HomeTeam\": \"team1\", \"AwayTeam\": \"team2\", \"Date\": \"date\"}, inplace=True)"
   ]
  },
  {
   "cell_type": "code",
   "execution_count": 57,
   "metadata": {
    "collapsed": true
   },
   "outputs": [],
   "source": [
    "merged = pd.merge(betting, df_prem, on=[\"date\", \"team1\", \"team2\"])"
   ]
  },
  {
   "cell_type": "code",
   "execution_count": 58,
   "metadata": {
    "collapsed": false
   },
   "outputs": [],
   "source": [
    "merged = merged[[\"team1\", \"team2\", \n",
    "                 \"BbMxH\", \"BbMxD\", \"BbMxA\",\n",
    "                \"PSH\", \"PSD\", \"PSA\", \n",
    "                \"result\", \n",
    "                \"prob1\", \"prob2\", \"probtie\"]]"
   ]
  },
  {
   "cell_type": "code",
   "execution_count": 59,
   "metadata": {
    "collapsed": false
   },
   "outputs": [
    {
     "data": {
      "text/html": [
       "<div>\n",
       "<style>\n",
       "    .dataframe thead tr:only-child th {\n",
       "        text-align: right;\n",
       "    }\n",
       "\n",
       "    .dataframe thead th {\n",
       "        text-align: left;\n",
       "    }\n",
       "\n",
       "    .dataframe tbody tr th {\n",
       "        vertical-align: top;\n",
       "    }\n",
       "</style>\n",
       "<table border=\"1\" class=\"dataframe\">\n",
       "  <thead>\n",
       "    <tr style=\"text-align: right;\">\n",
       "      <th></th>\n",
       "      <th>team1</th>\n",
       "      <th>team2</th>\n",
       "      <th>BbMxH</th>\n",
       "      <th>BbMxD</th>\n",
       "      <th>BbMxA</th>\n",
       "      <th>PSH</th>\n",
       "      <th>PSD</th>\n",
       "      <th>PSA</th>\n",
       "      <th>result</th>\n",
       "      <th>prob1</th>\n",
       "      <th>prob2</th>\n",
       "      <th>probtie</th>\n",
       "    </tr>\n",
       "  </thead>\n",
       "  <tbody>\n",
       "    <tr>\n",
       "      <th>0</th>\n",
       "      <td>Burnley</td>\n",
       "      <td>Swansea</td>\n",
       "      <td>2.55</td>\n",
       "      <td>3.35</td>\n",
       "      <td>3.30</td>\n",
       "      <td>2.47</td>\n",
       "      <td>3.32</td>\n",
       "      <td>3.19</td>\n",
       "      <td>A</td>\n",
       "      <td>0.4482</td>\n",
       "      <td>0.2663</td>\n",
       "      <td>0.2854</td>\n",
       "    </tr>\n",
       "    <tr>\n",
       "      <th>1</th>\n",
       "      <td>Crystal Palace</td>\n",
       "      <td>West Brom</td>\n",
       "      <td>2.10</td>\n",
       "      <td>3.40</td>\n",
       "      <td>4.50</td>\n",
       "      <td>2.06</td>\n",
       "      <td>3.29</td>\n",
       "      <td>4.32</td>\n",
       "      <td>A</td>\n",
       "      <td>0.4214</td>\n",
       "      <td>0.2939</td>\n",
       "      <td>0.2847</td>\n",
       "    </tr>\n",
       "    <tr>\n",
       "      <th>2</th>\n",
       "      <td>Everton</td>\n",
       "      <td>Tottenham</td>\n",
       "      <td>3.30</td>\n",
       "      <td>3.45</td>\n",
       "      <td>2.50</td>\n",
       "      <td>3.25</td>\n",
       "      <td>3.43</td>\n",
       "      <td>2.37</td>\n",
       "      <td>D</td>\n",
       "      <td>0.3910</td>\n",
       "      <td>0.3401</td>\n",
       "      <td>0.2689</td>\n",
       "    </tr>\n",
       "    <tr>\n",
       "      <th>3</th>\n",
       "      <td>Hull</td>\n",
       "      <td>Leicester</td>\n",
       "      <td>4.50</td>\n",
       "      <td>3.60</td>\n",
       "      <td>2.33</td>\n",
       "      <td>4.43</td>\n",
       "      <td>3.55</td>\n",
       "      <td>1.95</td>\n",
       "      <td>H</td>\n",
       "      <td>0.3459</td>\n",
       "      <td>0.3621</td>\n",
       "      <td>0.2921</td>\n",
       "    </tr>\n",
       "    <tr>\n",
       "      <th>4</th>\n",
       "      <td>Man City</td>\n",
       "      <td>Sunderland</td>\n",
       "      <td>1.30</td>\n",
       "      <td>6.80</td>\n",
       "      <td>15.00</td>\n",
       "      <td>1.27</td>\n",
       "      <td>6.48</td>\n",
       "      <td>13.15</td>\n",
       "      <td>H</td>\n",
       "      <td>0.8152</td>\n",
       "      <td>0.0525</td>\n",
       "      <td>0.1323</td>\n",
       "    </tr>\n",
       "  </tbody>\n",
       "</table>\n",
       "</div>"
      ],
      "text/plain": [
       "            team1       team2  BbMxH  BbMxD  BbMxA   PSH   PSD    PSA result  \\\n",
       "0         Burnley     Swansea   2.55   3.35   3.30  2.47  3.32   3.19      A   \n",
       "1  Crystal Palace   West Brom   2.10   3.40   4.50  2.06  3.29   4.32      A   \n",
       "2         Everton   Tottenham   3.30   3.45   2.50  3.25  3.43   2.37      D   \n",
       "3            Hull   Leicester   4.50   3.60   2.33  4.43  3.55   1.95      H   \n",
       "4        Man City  Sunderland   1.30   6.80  15.00  1.27  6.48  13.15      H   \n",
       "\n",
       "    prob1   prob2  probtie  \n",
       "0  0.4482  0.2663   0.2854  \n",
       "1  0.4214  0.2939   0.2847  \n",
       "2  0.3910  0.3401   0.2689  \n",
       "3  0.3459  0.3621   0.2921  \n",
       "4  0.8152  0.0525   0.1323  "
      ]
     },
     "execution_count": 59,
     "metadata": {},
     "output_type": "execute_result"
    }
   ],
   "source": [
    "merged.head()"
   ]
  },
  {
   "cell_type": "code",
   "execution_count": 73,
   "metadata": {
    "collapsed": true
   },
   "outputs": [],
   "source": [
    "merged[\"odds1\"] = 1 / merged.BbMxH\n",
    "\n",
    "merged[\"odds2\"] = 1 / merged.BbMxA\n",
    "\n",
    "merged[\"oddst\"] = 1 / merged.BbMxD\n",
    "\n",
    "merged[\"diff1\"] = merged.odds1 - merged.prob1\n",
    "merged[\"diff2\"] = merged.odds2 - merged.prob2\n",
    "merged[\"difft\"] = merged.oddst - merged.probtie"
   ]
  },
  {
   "cell_type": "code",
   "execution_count": 74,
   "metadata": {
    "collapsed": false
   },
   "outputs": [
    {
     "data": {
      "text/plain": [
       "0.07534004116073267"
      ]
     },
     "execution_count": 74,
     "metadata": {},
     "output_type": "execute_result"
    }
   ],
   "source": [
    "np.quantile(merged.diff1, 0.95)"
   ]
  },
  {
   "cell_type": "code",
   "execution_count": 75,
   "metadata": {
    "collapsed": false
   },
   "outputs": [
    {
     "data": {
      "text/plain": [
       "0.07384192307692296"
      ]
     },
     "execution_count": 75,
     "metadata": {},
     "output_type": "execute_result"
    }
   ],
   "source": [
    "np.quantile(merged.diff2, 0.95)"
   ]
  },
  {
   "cell_type": "code",
   "execution_count": 76,
   "metadata": {
    "collapsed": false
   },
   "outputs": [
    {
     "data": {
      "text/plain": [
       "0.036571828410689164"
      ]
     },
     "execution_count": 76,
     "metadata": {},
     "output_type": "execute_result"
    }
   ],
   "source": [
    "np.quantile(merged.difft, 0.95)"
   ]
  },
  {
   "cell_type": "code",
   "execution_count": 89,
   "metadata": {
    "collapsed": false
   },
   "outputs": [
    {
     "name": "stdout",
     "output_type": "stream",
     "text": [
      "money at end £963.3763121411264\n",
      "total matches 36\n",
      "lowest bank £929.2193562480113\n",
      "highest bank £1627.6531823380183\n",
      "ROI -1.0%\n",
      "Percent of matches bet on 3.64\n"
     ]
    },
    {
     "data": {
      "image/png": "[encoded data removed]",
      "text/plain": [
       "<matplotlib.figure.Figure at 0x7fe0829d9470>"
      ]
     },
     "metadata": {},
     "output_type": "display_data"
    }
   ],
   "source": [
    "money_history = []\n",
    "money = 1000\n",
    "frac = 0.1\n",
    "total_staked = 0\n",
    "total_won = 0\n",
    "\n",
    "for row in merged.itertuples():\n",
    "#     if row.diff1 >= 0.1:\n",
    "#         stake = frac * money\n",
    "#         money -= stake\n",
    "#         total_staked += stake\n",
    "#         if row.result == \"H\":\n",
    "#             money += stake * row.BbMxH * 0.99\n",
    "#             total_won += stake * row.BbMxH * 0.99\n",
    "#         money_history.append(money)\n",
    "        \n",
    "    if row.diff2 >= 0.08:\n",
    "        stake = frac * money\n",
    "        money -= stake\n",
    "        total_staked += stake\n",
    "        if row.result == \"A\":\n",
    "            money += stake * row.BbMxA * 0.99\n",
    "            total_won += stake * row.BbMxA * 0.99\n",
    "        money_history.append(money)\n",
    "        \n",
    "#     if row.difft >= 0.03:\n",
    "#         stake = frac * money\n",
    "#         money -= stake\n",
    "#         total_staked += stake\n",
    "#         if row.result == \"D\":\n",
    "#             money += stake * row.BbMxD * 0.99\n",
    "#             total_won += stake * row.BbMxD * 0.99\n",
    "#         money_history.append(money)\n",
    "        \n",
    "plt.plot(money_history)\n",
    "print(\"money at end £{}\".format(money))\n",
    "print(\"total matches {}\".format(len(money_history)))\n",
    "print(\"lowest bank £{}\".format(min(money_history)))\n",
    "print(\"highest bank £{}\".format(max(money_history)))\n",
    "print(\"ROI {}%\".format(round(100 * ((total_won / total_staked) - 1), 0)))\n",
    "print(\"Percent of matches bet on {}\".format(round(len(money_history) * 100 / len(df_prem), 2)))"
   ]
  },
  {
   "cell_type": "code",
   "execution_count": null,
   "metadata": {
    "collapsed": true
   },
   "outputs": [],
   "source": []
  }
 ],
 "metadata": {
  "kernelspec": {
   "display_name": "Python 3",
   "language": "python",
   "name": "python3"
  },
  "language_info": {
   "codemirror_mode": {
    "name": "ipython",
    "version": 3
   },
   "file_extension": ".py",
   "mimetype": "text/x-python",
   "name": "python",
   "nbconvert_exporter": "python",
   "pygments_lexer": "ipython3",
   "version": "3.6.2"
  }
 },
 "nbformat": 4,
 "nbformat_minor": 0
}
