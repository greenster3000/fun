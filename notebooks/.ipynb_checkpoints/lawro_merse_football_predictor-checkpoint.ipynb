{
 "cells": [
  {
   "cell_type": "code",
   "execution_count": 1,
   "metadata": {
    "collapsed": true
   },
   "outputs": [],
   "source": [
    "import pandas as pd\n",
    "import numpy as np\n",
    "import matplotlib.pyplot as plt\n",
    "import os\n",
    "from collections import Counter\n",
    "import thinkbayes2\n",
    "from thinkbayes2 import Pmf, Cdf, Suite\n",
    "import thinkplot\n",
    "% matplotlib inline"
   ]
  },
  {
   "cell_type": "markdown",
   "metadata": {},
   "source": [
    "Find Distribution of Drawing Odds"
   ]
  },
  {
   "cell_type": "code",
   "execution_count": 2,
   "metadata": {
    "collapsed": true
   },
   "outputs": [],
   "source": [
    "df_list = []\n",
    "for file in os.listdir(\"data/\"):\n",
    "    if file[0] == \"E\":\n",
    "        df_list.append(pd.read_csv(\"data/\" + file))\n",
    "odds_df = pd.concat(df_list)"
   ]
  },
  {
   "cell_type": "code",
   "execution_count": 3,
   "metadata": {},
   "outputs": [
    {
     "data": {
      "image/png": "[encoded data removed]",
      "text/plain": [
       "<Figure size 432x288 with 1 Axes>"
      ]
     },
     "metadata": {},
     "output_type": "display_data"
    }
   ],
   "source": [
    "odds_df.BbMxD.hist(bins=32)\n",
    "plt.show()"
   ]
  },
  {
   "cell_type": "code",
   "execution_count": 4,
   "metadata": {},
   "outputs": [
    {
     "data": {
      "text/plain": [
       "count    2660.000000\n",
       "mean        4.316827\n",
       "std         1.412220\n",
       "min         3.100000\n",
       "25%         3.477500\n",
       "50%         3.750000\n",
       "75%         4.550000\n",
       "max        14.000000\n",
       "Name: BbMxD, dtype: float64"
      ]
     },
     "execution_count": 4,
     "metadata": {},
     "output_type": "execute_result"
    }
   ],
   "source": [
    "odds_df.BbMxD.describe()"
   ]
  },
  {
   "cell_type": "code",
   "execution_count": 5,
   "metadata": {
    "collapsed": true
   },
   "outputs": [],
   "source": [
    "big_teams = [\"Arsenal\", \"Chelsea\", \"Man United\", \"Man City\", \"Liverpool\", \"Tottenham\"]"
   ]
  },
  {
   "cell_type": "markdown",
   "metadata": {},
   "source": [
    "Only pick teams where a big team isn't at home except in the case of big teams playing each other"
   ]
  },
  {
   "cell_type": "code",
   "execution_count": 6,
   "metadata": {
    "collapsed": true
   },
   "outputs": [],
   "source": [
    "odds_df_big_team_rule = odds_df[(~odds_df.HomeTeam.isin(big_teams)) | \n",
    "                                ((odds_df.HomeTeam.isin(big_teams)) & (odds_df.AwayTeam.isin(big_teams)))]"
   ]
  },
  {
   "cell_type": "code",
   "execution_count": 7,
   "metadata": {},
   "outputs": [
    {
     "data": {
      "text/plain": [
       "array(['Crystal Palace', 'Everton', 'Southampton', 'West Brom',\n",
       "       'Bournemouth', 'Burnley', 'Leicester', 'Huddersfield', 'Newcastle',\n",
       "       'Watford', 'Brighton', 'Swansea', 'West Ham', 'Stoke', 'Blackburn',\n",
       "       'Fulham', 'QPR', 'Wigan', 'Aston Villa', 'Sunderland', 'Norwich',\n",
       "       'Wolves', 'Bolton', 'Hull', 'Cardiff', nan, 'Middlesbrough'], dtype=object)"
      ]
     },
     "execution_count": 7,
     "metadata": {},
     "output_type": "execute_result"
    }
   ],
   "source": [
    "odds_df_big_team_rule[~odds_df_big_team_rule.AwayTeam.isin(big_teams)].HomeTeam.unique()"
   ]
  },
  {
   "cell_type": "markdown",
   "metadata": {},
   "source": [
    "Appears to have worked!"
   ]
  },
  {
   "cell_type": "code",
   "execution_count": 8,
   "metadata": {},
   "outputs": [
    {
     "data": {
      "text/html": [
       "<div>\n",
       "<style scoped>\n",
       "    .dataframe tbody tr th:only-of-type {\n",
       "        vertical-align: middle;\n",
       "    }\n",
       "\n",
       "    .dataframe tbody tr th {\n",
       "        vertical-align: top;\n",
       "    }\n",
       "\n",
       "    .dataframe thead th {\n",
       "        text-align: right;\n",
       "    }\n",
       "</style>\n",
       "<table border=\"1\" class=\"dataframe\">\n",
       "  <thead>\n",
       "    <tr style=\"text-align: right;\">\n",
       "      <th></th>\n",
       "      <th>AC</th>\n",
       "      <th>AF</th>\n",
       "      <th>AR</th>\n",
       "      <th>AS</th>\n",
       "      <th>AST</th>\n",
       "      <th>AY</th>\n",
       "      <th>AwayTeam</th>\n",
       "      <th>B365A</th>\n",
       "      <th>B365D</th>\n",
       "      <th>B365H</th>\n",
       "      <th>...</th>\n",
       "      <th>SBH</th>\n",
       "      <th>SJA</th>\n",
       "      <th>SJD</th>\n",
       "      <th>SJH</th>\n",
       "      <th>VCA</th>\n",
       "      <th>VCD</th>\n",
       "      <th>VCH</th>\n",
       "      <th>WHA</th>\n",
       "      <th>WHD</th>\n",
       "      <th>WHH</th>\n",
       "    </tr>\n",
       "  </thead>\n",
       "  <tbody>\n",
       "    <tr>\n",
       "      <th>380</th>\n",
       "      <td>NaN</td>\n",
       "      <td>NaN</td>\n",
       "      <td>NaN</td>\n",
       "      <td>NaN</td>\n",
       "      <td>NaN</td>\n",
       "      <td>NaN</td>\n",
       "      <td>NaN</td>\n",
       "      <td>NaN</td>\n",
       "      <td>NaN</td>\n",
       "      <td>NaN</td>\n",
       "      <td>...</td>\n",
       "      <td>NaN</td>\n",
       "      <td>NaN</td>\n",
       "      <td>NaN</td>\n",
       "      <td>NaN</td>\n",
       "      <td>NaN</td>\n",
       "      <td>NaN</td>\n",
       "      <td>NaN</td>\n",
       "      <td>NaN</td>\n",
       "      <td>NaN</td>\n",
       "      <td>NaN</td>\n",
       "    </tr>\n",
       "  </tbody>\n",
       "</table>\n",
       "<p>1 rows × 77 columns</p>\n",
       "</div>"
      ],
      "text/plain": [
       "     AC  AF  AR  AS  AST  AY AwayTeam  B365A  B365D  B365H ...   SBH  SJA  \\\n",
       "380 NaN NaN NaN NaN  NaN NaN      NaN    NaN    NaN    NaN ...   NaN  NaN   \n",
       "\n",
       "     SJD  SJH  VCA  VCD  VCH  WHA  WHD  WHH  \n",
       "380  NaN  NaN  NaN  NaN  NaN  NaN  NaN  NaN  \n",
       "\n",
       "[1 rows x 77 columns]"
      ]
     },
     "execution_count": 8,
     "metadata": {},
     "output_type": "execute_result"
    }
   ],
   "source": [
    "odds_df[odds_df.HomeTeam.isnull()]"
   ]
  },
  {
   "cell_type": "code",
   "execution_count": 9,
   "metadata": {},
   "outputs": [
    {
     "name": "stderr",
     "output_type": "stream",
     "text": [
      "/Users/alexandergreen/anaconda/lib/python3.6/site-packages/ipykernel/__main__.py:1: SettingWithCopyWarning: \n",
      "A value is trying to be set on a copy of a slice from a DataFrame\n",
      "\n",
      "See the caveats in the documentation: http://pandas.pydata.org/pandas-docs/stable/indexing.html#indexing-view-versus-copy\n",
      "  if __name__ == '__main__':\n"
     ]
    }
   ],
   "source": [
    "odds_df_big_team_rule.dropna(subset=[\"HomeTeam\"], inplace=True)"
   ]
  },
  {
   "cell_type": "code",
   "execution_count": 17,
   "metadata": {},
   "outputs": [
    {
     "data": {
      "image/png": "[encoded data removed]",
      "text/plain": [
       "<Figure size 432x288 with 1 Axes>"
      ]
     },
     "metadata": {},
     "output_type": "display_data"
    }
   ],
   "source": [
    "odds_df_big_team_rule.BbMxD.hist(bins=60)\n",
    "pd.Series(np.random.normal(3.45, 0.15, 4000)).hist(bins=50)\n",
    "plt.show()"
   ]
  },
  {
   "cell_type": "code",
   "execution_count": 99,
   "metadata": {},
   "outputs": [
    {
     "data": {
      "text/plain": [
       "2.9258055851485887"
      ]
     },
     "execution_count": 99,
     "metadata": {},
     "output_type": "execute_result"
    }
   ],
   "source": [
    "pd.Series(np.random.normal(3.45, 0.15, 6000)).min()"
   ]
  },
  {
   "cell_type": "code",
   "execution_count": 80,
   "metadata": {},
   "outputs": [
    {
     "data": {
      "text/plain": [
       "count    2072.000000\n",
       "mean        3.778287\n",
       "std         0.576202\n",
       "min         3.100000\n",
       "25%         3.410000\n",
       "50%         3.600000\n",
       "75%         3.950000\n",
       "max         8.240000\n",
       "Name: BbMxD, dtype: float64"
      ]
     },
     "execution_count": 80,
     "metadata": {},
     "output_type": "execute_result"
    }
   ],
   "source": [
    "odds_df_big_team_rule.BbMxD.describe()"
   ]
  },
  {
   "cell_type": "markdown",
   "metadata": {},
   "source": [
    "Mean of 3.45 and sd of 0.15 seems to describe our distribution quite well"
   ]
  },
  {
   "cell_type": "markdown",
   "metadata": {},
   "source": [
    "Out of interest, let's look at when the odds are higher than 4 for a draw"
   ]
  },
  {
   "cell_type": "code",
   "execution_count": 132,
   "metadata": {},
   "outputs": [
    {
     "data": {
      "text/plain": [
       "Counter({'Arsenal': 54,\n",
       "         'Aston Villa': 4,\n",
       "         'Blackburn': 1,\n",
       "         'Bolton': 2,\n",
       "         'Bournemouth': 4,\n",
       "         'Burnley': 7,\n",
       "         'Cardiff': 2,\n",
       "         'Chelsea': 64,\n",
       "         'Crystal Palace': 6,\n",
       "         'Everton': 2,\n",
       "         'Fulham': 2,\n",
       "         'Huddersfield': 4,\n",
       "         'Hull': 6,\n",
       "         'Leicester': 2,\n",
       "         'Liverpool': 47,\n",
       "         'Man City': 85,\n",
       "         'Man United': 46,\n",
       "         'Middlesbrough': 1,\n",
       "         'Newcastle': 6,\n",
       "         'Norwich': 4,\n",
       "         'QPR': 4,\n",
       "         'Southampton': 1,\n",
       "         'Stoke': 4,\n",
       "         'Sunderland': 14,\n",
       "         'Swansea': 4,\n",
       "         'Tottenham': 37,\n",
       "         'Watford': 5,\n",
       "         'West Brom': 4,\n",
       "         'West Ham': 4,\n",
       "         'Wigan': 2,\n",
       "         'Wolves': 6})"
      ]
     },
     "execution_count": 132,
     "metadata": {},
     "output_type": "execute_result"
    }
   ],
   "source": [
    "Counter(odds_df_big_team_rule[odds_df_big_team_rule.BbMxD > 4][[\"AwayTeam\"]].transpose().values[0])"
   ]
  },
  {
   "cell_type": "markdown",
   "metadata": {},
   "source": [
    "Appears to be inordinately the big teams away from home, so most likely our distirbution is better of cutting off this skewed tail "
   ]
  },
  {
   "cell_type": "markdown",
   "metadata": {},
   "source": [
    "Calculate distribution of winnings, winnings vs stakes and bankroll after one season for consensus"
   ]
  },
  {
   "cell_type": "code",
   "execution_count": 8,
   "metadata": {},
   "outputs": [
    {
     "data": {
      "image/png": "[encoded data removed]",
      "text/plain": [
       "<Figure size 432x288 with 1 Axes>"
      ]
     },
     "metadata": {},
     "output_type": "display_data"
    },
    {
     "data": {
      "image/png": "[encoded data removed]",
      "text/plain": [
       "<Figure size 432x288 with 1 Axes>"
      ]
     },
     "metadata": {},
     "output_type": "display_data"
    },
    {
     "data": {
      "image/png": "[encoded data removed]",
      "text/plain": [
       "<Figure size 432x288 with 1 Axes>"
      ]
     },
     "metadata": {},
     "output_type": "display_data"
    }
   ],
   "source": [
    "starting_money = 1000\n",
    "drawing_chance = 0.422\n",
    "both_predict_draw_chance = 0.089\n",
    "length_of_season = 38\n",
    "matches_in_round = 10\n",
    "winning_odds_mean = 3.38\n",
    "winning_odds_sdev = 0.14\n",
    "percent_of_money_to_spend = 0.1\n",
    "season_end_money = []\n",
    "percentages = []\n",
    "winnings = []\n",
    "\n",
    "def sim_one_season():\n",
    "    \n",
    "    for sim in range(0, 10000):\n",
    "        money = starting_money\n",
    "        match_week = 0\n",
    "        overall_stake_in_season = 0\n",
    "        overall_winnings_in_season = 0\n",
    "        \n",
    "        while match_week < length_of_season:\n",
    "#             if money <= starting_money * 0.05:\n",
    "#                 print(\"*\"*20)\n",
    "#                 print(\"You have lost\")\n",
    "#                 print(\"*\"*20)\n",
    "#                 return\n",
    "\n",
    "            matches_this_week = np.random.binomial(matches_in_round, both_predict_draw_chance)\n",
    "\n",
    "            if matches_this_week > 0:\n",
    "                money_staked = round(matches_this_week * money * percent_of_money_to_spend, 2)\n",
    "                money -= money_staked\n",
    "                overall_stake_in_season += money_staked\n",
    "\n",
    "                for match in range(matches_this_week):\n",
    "                    draw_winnings_ratio = np.random.normal(winning_odds_mean, winning_odds_sdev)\n",
    "                    money_won = round((np.random.binomial(1, drawing_chance) * \n",
    "                                       draw_winnings_ratio * money_staked/matches_this_week), 2)\n",
    "                    money += money_won\n",
    "                    overall_winnings_in_season += money_won\n",
    "\n",
    "            else:\n",
    "                pass\n",
    "            match_week += 1\n",
    "            \n",
    "        season_end_money.append(money)\n",
    "        percentages.append(overall_winnings_in_season/overall_stake_in_season)\n",
    "        winnings.append(overall_winnings_in_season)\n",
    "\n",
    "sim_one_season()\n",
    "\n",
    "pd.Series(season_end_money).hist(bins=32, range=(0,10000))\n",
    "plt.title(\"Distribution of Bankroll after one year\")\n",
    "plt.xlabel(\"Money\")\n",
    "plt.ylabel(\"Freq\")\n",
    "\n",
    "plt.show()\n",
    "\n",
    "pd.Series(percentages).hist(bins=32)\n",
    "plt.title(\"Distribution of average profits\")\n",
    "plt.xlabel(\"Profit ratio on stake\")\n",
    "plt.ylabel(\"Freq\")\n",
    "\n",
    "plt.show()\n",
    "\n",
    "pd.Series(winnings).hist(bins=32, range=(0,50000))\n",
    "plt.title(\"Distribution of winnings profits\")\n",
    "plt.xlabel(\"Winnings\")\n",
    "plt.ylabel(\"Freq\")\n",
    "\n",
    "plt.show()\n",
    "\n",
    "# pd.Series(number_of_seasons).mean()\n"
   ]
  },
  {
   "cell_type": "code",
   "execution_count": 9,
   "metadata": {},
   "outputs": [
    {
     "data": {
      "text/plain": [
       "count     10000.000000\n",
       "mean       4132.945434\n",
       "std        5131.059845\n",
       "min         114.620000\n",
       "25%        1415.420000\n",
       "50%        2593.940000\n",
       "75%        4998.595000\n",
       "max      132138.360000\n",
       "dtype: float64"
      ]
     },
     "execution_count": 9,
     "metadata": {},
     "output_type": "execute_result"
    }
   ],
   "source": [
    "pd.Series(season_end_money).describe()"
   ]
  },
  {
   "cell_type": "code",
   "execution_count": 10,
   "metadata": {},
   "outputs": [
    {
     "data": {
      "text/plain": [
       "822.5020000000001"
      ]
     },
     "execution_count": 10,
     "metadata": {},
     "output_type": "execute_result"
    }
   ],
   "source": [
    "pd.Series(season_end_money).quantile(0.10)"
   ]
  },
  {
   "cell_type": "code",
   "execution_count": 11,
   "metadata": {},
   "outputs": [
    {
     "data": {
      "text/plain": [
       "8780.541000000001"
      ]
     },
     "execution_count": 11,
     "metadata": {},
     "output_type": "execute_result"
    }
   ],
   "source": [
    "pd.Series(season_end_money).quantile(0.9)"
   ]
  },
  {
   "cell_type": "code",
   "execution_count": 12,
   "metadata": {
    "collapsed": true
   },
   "outputs": [],
   "source": [
    "sorted_season_end_money = [round(x, 0) for x in sorted(season_end_money)]"
   ]
  },
  {
   "cell_type": "code",
   "execution_count": 13,
   "metadata": {},
   "outputs": [
    {
     "data": {
      "text/plain": [
       "14.0"
      ]
     },
     "execution_count": 13,
     "metadata": {},
     "output_type": "execute_result"
    }
   ],
   "source": [
    "round(sorted_season_end_money.index(1000)/len(sorted_season_end_money) * 100, 0)"
   ]
  },
  {
   "cell_type": "markdown",
   "metadata": {},
   "source": [
    "14th percentile break even"
   ]
  },
  {
   "cell_type": "markdown",
   "metadata": {},
   "source": [
    "Median is £2600, and down to the 14th percentile before we start making a loss. Almost triple bankroll money after 34 bets. Not bad."
   ]
  },
  {
   "cell_type": "markdown",
   "metadata": {},
   "source": [
    "Now calcualte how long to get to £100,000"
   ]
  },
  {
   "cell_type": "code",
   "execution_count": 17,
   "metadata": {},
   "outputs": [
    {
     "data": {
      "image/png": "[encoded data removed]",
      "text/plain": [
       "<Figure size 432x288 with 1 Axes>"
      ]
     },
     "metadata": {},
     "output_type": "display_data"
    }
   ],
   "source": [
    "starting_money = 1000\n",
    "target = 100000\n",
    "drawing_chance = 0.422\n",
    "both_predict_draw_chance = 0.089\n",
    "length_of_season = 38\n",
    "matches_in_round = 10\n",
    "winning_odds_mean = 3.38\n",
    "winning_odds_sdev = 0.14\n",
    "percent_of_money_to_spend = 0.1\n",
    "\n",
    "def sim_until_target():\n",
    "    \n",
    "    number_of_seasons = []\n",
    "    \n",
    "    for sim in range(0, 1000):\n",
    "        \n",
    "        money = starting_money\n",
    "        match_week = 0\n",
    "        \n",
    "        while money < target: \n",
    "#             if money <= starting_money * 0.05:\n",
    "#                 print(\"*\"*20)\n",
    "#                 print(\"You have lost\")\n",
    "#                 print(\"*\"*20)\n",
    "#                 return\n",
    "\n",
    "            matches_this_week = np.random.binomial(matches_in_round, both_predict_draw_chance)\n",
    "            \n",
    "            if matches_this_week > 0:\n",
    "                money_to_spend = round(money * percent_of_money_to_spend * matches_this_week, 2)\n",
    "                money -= money_to_spend\n",
    "                \n",
    "                for match in range(matches_this_week):\n",
    "                    draw_winnings_ratio = np.random.normal(winning_odds_mean, winning_odds_sdev)\n",
    "                    money += round((np.random.binomial(1, drawing_chance) \n",
    "                                    * draw_winnings_ratio * money_to_spend / matches_this_week), 2)\n",
    "            else:\n",
    "                pass\n",
    "\n",
    "            match_week += 1\n",
    "        number_of_seasons.append(match_week / length_of_season)\n",
    "    return number_of_seasons\n",
    "\n",
    "number_of_seasons = sim_until_target()\n",
    "\n",
    "pd.Series(number_of_seasons).hist(bins=20)\n",
    "plt.title(\"Number of seasons to reach £{} from £{}\".format(target, starting_money))\n",
    "plt.xlabel(\"Number of seasons\")\n",
    "plt.ylabel(\"Frequency\")\n",
    "plt.show()"
   ]
  },
  {
   "cell_type": "code",
   "execution_count": 18,
   "metadata": {},
   "outputs": [
    {
     "data": {
      "text/plain": [
       "count    1000.000000\n",
       "mean        4.810711\n",
       "std         1.992014\n",
       "min         1.157895\n",
       "25%         3.342105\n",
       "50%         4.526316\n",
       "75%         5.848684\n",
       "max        13.184211\n",
       "dtype: float64"
      ]
     },
     "execution_count": 18,
     "metadata": {},
     "output_type": "execute_result"
    }
   ],
   "source": [
    "pd.Series(number_of_seasons).describe()"
   ]
  },
  {
   "cell_type": "code",
   "execution_count": 19,
   "metadata": {},
   "outputs": [
    {
     "data": {
      "text/plain": [
       "2.6052631578947363"
      ]
     },
     "execution_count": 19,
     "metadata": {},
     "output_type": "execute_result"
    }
   ],
   "source": [
    "pd.Series(number_of_seasons).quantile(0.1)"
   ]
  },
  {
   "cell_type": "code",
   "execution_count": 20,
   "metadata": {},
   "outputs": [
    {
     "data": {
      "text/plain": [
       "7.342105263157895"
      ]
     },
     "execution_count": 20,
     "metadata": {},
     "output_type": "execute_result"
    }
   ],
   "source": [
    "pd.Series(number_of_seasons).quantile(0.9)"
   ]
  },
  {
   "cell_type": "markdown",
   "metadata": {},
   "source": [
    "Can expect to get to £100,000 in between 2.5 and 7 seasons"
   ]
  },
  {
   "cell_type": "markdown",
   "metadata": {
    "collapsed": true
   },
   "source": [
    "# Lawro Only"
   ]
  },
  {
   "cell_type": "code",
   "execution_count": 13,
   "metadata": {},
   "outputs": [
    {
     "data": {
      "image/png": "[encoded data removed]",
      "text/plain": [
       "<Figure size 432x288 with 1 Axes>"
      ]
     },
     "metadata": {},
     "output_type": "display_data"
    },
    {
     "data": {
      "image/png": "[encoded data removed]",
      "text/plain": [
       "<Figure size 432x288 with 1 Axes>"
      ]
     },
     "metadata": {},
     "output_type": "display_data"
    },
    {
     "data": {
      "image/png": "[encoded data removed]",
      "text/plain": [
       "<Figure size 432x288 with 1 Axes>"
      ]
     },
     "metadata": {},
     "output_type": "display_data"
    }
   ],
   "source": [
    "starting_money = 1000\n",
    "drawing_chance = 0.35\n",
    "both_predict_draw_chance = 0.25\n",
    "length_of_season = 38\n",
    "matches_in_round = 10\n",
    "winning_odds_mean = 3.45\n",
    "winning_odds_sdev = 0.15\n",
    "percent_of_money_to_spend = 0.05\n",
    "season_end_money = []\n",
    "percentages = []\n",
    "winnings = []\n",
    "\n",
    "def sim_one_season():\n",
    "    \n",
    "    for sim in range(0, 10000):\n",
    "        money = starting_money\n",
    "        match_week = 0\n",
    "        overall_stake_in_season = 0\n",
    "        overall_winnings_in_season = 0\n",
    "        \n",
    "        while match_week < length_of_season:\n",
    "            if money <= starting_money * 0.05:\n",
    "                print(\"*\"*20)\n",
    "                print(\"You have lost\")\n",
    "                print(\"*\"*20)\n",
    "                return\n",
    "\n",
    "            matches_this_week = np.random.binomial(matches_in_round, both_predict_draw_chance)\n",
    "\n",
    "            if matches_this_week > 0:\n",
    "                money_staked = round(matches_this_week * money * percent_of_money_to_spend, 2)\n",
    "                money -= money_staked\n",
    "                overall_stake_in_season += money_staked\n",
    "\n",
    "                for match in range(matches_this_week):\n",
    "                    draw_winnings_ratio = np.random.normal(winning_odds_mean, winning_odds_sdev)\n",
    "                    money_won = round((np.random.binomial(1, drawing_chance) * \n",
    "                                       draw_winnings_ratio * money_staked/matches_this_week), 2)\n",
    "                    money += money_won\n",
    "                    overall_winnings_in_season += money_won\n",
    "\n",
    "            else:\n",
    "                pass\n",
    "            match_week += 1\n",
    "            \n",
    "        season_end_money.append(money)\n",
    "        percentages.append(overall_winnings_in_season/overall_stake_in_season)\n",
    "        winnings.append(overall_winnings_in_season)\n",
    "\n",
    "sim_one_season()\n",
    "\n",
    "pd.Series(season_end_money).hist(bins=32, range=(0,10000))\n",
    "plt.title(\"Distribution of Bankroll after one year\")\n",
    "plt.xlabel(\"Money\")\n",
    "plt.ylabel(\"Freq\")\n",
    "\n",
    "plt.show()\n",
    "\n",
    "pd.Series(percentages).hist(bins=32)\n",
    "plt.title(\"Distribution of average profits\")\n",
    "plt.xlabel(\"Profit ratio on stake\")\n",
    "plt.ylabel(\"Freq\")\n",
    "\n",
    "plt.show()\n",
    "\n",
    "pd.Series(winnings).hist(bins=32, range=(0,50000))\n",
    "plt.title(\"Distribution of winnings profits\")\n",
    "plt.xlabel(\"Winnings\")\n",
    "plt.ylabel(\"Freq\")\n",
    "\n",
    "plt.show()\n",
    "\n",
    "# pd.Series(number_of_seasons).mean()\n"
   ]
  },
  {
   "cell_type": "code",
   "execution_count": 14,
   "metadata": {},
   "outputs": [
    {
     "data": {
      "text/plain": [
       "count    10000.000000\n",
       "mean      2240.533860\n",
       "std       2088.766003\n",
       "min         70.580000\n",
       "25%        976.895000\n",
       "50%       1646.065000\n",
       "75%       2791.497500\n",
       "max      37048.460000\n",
       "dtype: float64"
      ]
     },
     "execution_count": 14,
     "metadata": {},
     "output_type": "execute_result"
    }
   ],
   "source": [
    "pd.Series(season_end_money).describe()"
   ]
  },
  {
   "cell_type": "code",
   "execution_count": 18,
   "metadata": {},
   "outputs": [
    {
     "data": {
      "text/plain": [
       "1001.954"
      ]
     },
     "execution_count": 18,
     "metadata": {},
     "output_type": "execute_result"
    }
   ],
   "source": [
    "pd.Series(season_end_money).quantile(0.26)"
   ]
  },
  {
   "cell_type": "code",
   "execution_count": null,
   "metadata": {
    "collapsed": true
   },
   "outputs": [],
   "source": []
  },
  {
   "cell_type": "code",
   "execution_count": 185,
   "metadata": {},
   "outputs": [
    {
     "data": {
      "image/png": "[encoded data removed]",
      "text/plain": [
       "<Figure size 432x288 with 1 Axes>"
      ]
     },
     "metadata": {},
     "output_type": "display_data"
    }
   ],
   "source": [
    "starting_money = 1000\n",
    "target = 100000\n",
    "drawing_chance = 0.42\n",
    "both_predict_draw_chance = 0.09\n",
    "length_of_season = 38\n",
    "matches_in_round = 10\n",
    "winning_odds_mean = 3.45\n",
    "winning_odds_sdev = 0.15\n",
    "percent_of_money_to_spend = 0.1\n",
    "\n",
    "def sim_until_target():\n",
    "    \n",
    "    number_of_seasons = []\n",
    "    \n",
    "    for sim in range(0, 1000):\n",
    "        \n",
    "        money = starting_money\n",
    "        match_week = 0\n",
    "        \n",
    "        while money < target: \n",
    "            if money <= starting_money * 0.05:\n",
    "                print(\"*\"*20)\n",
    "                print(\"You have lost\")\n",
    "                print(\"*\"*20)\n",
    "                return\n",
    "\n",
    "            matches_this_week = np.random.binomial(matches_in_round, both_predict_draw_chance)\n",
    "            \n",
    "            if matches_this_week > 0:\n",
    "                money_to_spend = round(money * percent_of_money_to_spend * matches_this_week, 2)\n",
    "                money -= money_to_spend\n",
    "                \n",
    "                for match in range(matches_this_week):\n",
    "                    draw_winnings_ratio = np.random.normal(winning_odds_mean, winning_odds_sdev)\n",
    "                    money += round((np.random.binomial(1, drawing_chance) \n",
    "                                    * draw_winnings_ratio * money_to_spend / matches_this_week), 2)\n",
    "            else:\n",
    "                pass\n",
    "\n",
    "            match_week += 1\n",
    "        number_of_seasons.append(match_week / length_of_season)\n",
    "    return number_of_seasons\n",
    "\n",
    "number_of_seasons = sim_until_target()\n",
    "\n",
    "pd.Series(number_of_seasons).hist(bins=20)\n",
    "plt.title(\"Number of seasons to reach £{} from £{}\".format(target, starting_money))\n",
    "plt.xlabel(\"Number of seasons\")\n",
    "plt.ylabel(\"Frequency\")\n",
    "plt.show()"
   ]
  },
  {
   "cell_type": "markdown",
   "metadata": {},
   "source": [
    "# Bayesian"
   ]
  },
  {
   "cell_type": "markdown",
   "metadata": {},
   "source": [
    "with bayesian estimate of their probability of predicting a draw, based on 134 games which they both predicted as a drawm and 56 succeses"
   ]
  },
  {
   "cell_type": "code",
   "execution_count": 23,
   "metadata": {
    "collapsed": true
   },
   "outputs": [],
   "source": [
    "from scipy import special\n",
    "\n",
    "class Beta:\n",
    "    \"\"\"Represents a Beta distribution.\n",
    "\n",
    "    See http://en.wikipedia.org/wiki/Beta_distribution\n",
    "    \"\"\"\n",
    "    def __init__(self, alpha=1, beta=1, label=None):\n",
    "        \"\"\"Initializes a Beta distribution.\"\"\"\n",
    "        self.alpha = alpha\n",
    "        self.beta = beta\n",
    "        self.label = label if label is not None else '_nolegend_'\n",
    "\n",
    "    def Update(self, data):\n",
    "        \"\"\"Updates a Beta distribution.\n",
    "\n",
    "        data: pair of int (heads, tails)\n",
    "        \"\"\"\n",
    "        heads, tails = data\n",
    "        self.alpha += heads\n",
    "        self.beta += tails\n",
    "\n",
    "    def Mean(self):\n",
    "        \"\"\"Computes the mean of this distribution.\"\"\"\n",
    "        return self.alpha / (self.alpha + self.beta)\n",
    "\n",
    "    def MAP(self):\n",
    "        \"\"\"Computes the value with maximum a posteori probability.\"\"\"\n",
    "        a = self.alpha - 1\n",
    "        b = self.beta - 1\n",
    "        return a / (a + b)\n",
    "\n",
    "    def Random(self):\n",
    "        \"\"\"Generates a random variate from this distribution.\"\"\"\n",
    "        return random.betavariate(self.alpha, self.beta)\n",
    "\n",
    "    def Sample(self, n):\n",
    "        \"\"\"Generates a random sample from this distribution.\n",
    "\n",
    "        n: int sample size\n",
    "        \"\"\"\n",
    "        size = n,\n",
    "        return np.random.beta(self.alpha, self.beta, size)\n",
    "\n",
    "    def EvalPdf(self, x):\n",
    "        \"\"\"Evaluates the PDF at x.\"\"\"\n",
    "        return x ** (self.alpha - 1) * (1 - x) ** (self.beta - 1)\n",
    "\n",
    "    def MakePmf(self, steps=101, label=None):\n",
    "        \"\"\"Returns a Pmf of this distribution.\n",
    "\n",
    "        Note: Normally, we just evaluate the PDF at a sequence\n",
    "        of points and treat the probability density as a probability\n",
    "        mass.\n",
    "\n",
    "        But if alpha or beta is less than one, we have to be\n",
    "        more careful because the PDF goes to infinity at x=0\n",
    "        and x=1.  In that case we evaluate the CDF and compute\n",
    "        differences.\n",
    "\n",
    "        The result is a little funny, because the values at 0 and 1\n",
    "        are not symmetric.  Nevertheless, it is a reasonable discrete\n",
    "        model of the continuous distribution, and behaves well as\n",
    "        the number of values increases.\n",
    "        \"\"\"\n",
    "        if label is None and self.label is not None:\n",
    "            label = self.label\n",
    "\n",
    "        if self.alpha < 1 or self.beta < 1:\n",
    "            cdf = self.MakeCdf()\n",
    "            pmf = cdf.MakePmf()\n",
    "            return pmf\n",
    "\n",
    "        xs = [i / (steps - 1) for i in range(steps)]\n",
    "        probs = [self.EvalPdf(x) for x in xs]\n",
    "        pmf = Pmf(dict(zip(xs, probs)), label=label)\n",
    "        return pmf\n",
    "\n",
    "    def MakeCdf(self, steps=101):\n",
    "        \"\"\"Returns the CDF of this distribution.\"\"\"\n",
    "        xs = [i / (steps - 1) for i in range(steps)]\n",
    "        ps = special.betainc(self.alpha, self.beta, xs)\n",
    "        cdf = Cdf(xs, ps)\n",
    "        return cdf\n",
    "\n",
    "    def Percentile(self, ps):\n",
    "        \"\"\"Returns the given percentiles from this distribution.\n",
    "\n",
    "        ps: scalar, array, or list of [0-100]\n",
    "        \"\"\"\n",
    "        ps = np.asarray(ps) / 100\n",
    "        xs = special.betaincinv(self.alpha, self.beta, ps)\n",
    "        return xs\n"
   ]
  },
  {
   "cell_type": "markdown",
   "metadata": {},
   "source": [
    "Assumptions made in this model:  \n",
    "1. 90th percentile confidence interval for both of them is at worst as good as random guessing (25% of games are draws)\n",
    "3. and at best as good as their performance over the past three seasons (44%) - quite conservative??\n",
    "2. centred on their average as an individual - 34% for each"
   ]
  },
  {
   "cell_type": "code",
   "execution_count": 48,
   "metadata": {},
   "outputs": [],
   "source": [
    "cons = Beta(21, 45, label='Consensus Model')\n"
   ]
  },
  {
   "cell_type": "code",
   "execution_count": 49,
   "metadata": {},
   "outputs": [
    {
     "data": {
      "image/png": "[encoded data removed]",
      "text/plain": [
       "<Figure size 432x288 with 1 Axes>"
      ]
     },
     "metadata": {},
     "output_type": "display_data"
    }
   ],
   "source": [
    "thinkplot.Pdf(cons.MakePmf())"
   ]
  },
  {
   "cell_type": "code",
   "execution_count": 50,
   "metadata": {},
   "outputs": [
    {
     "data": {
      "text/plain": [
       "0.3181818181818182"
      ]
     },
     "execution_count": 50,
     "metadata": {},
     "output_type": "execute_result"
    }
   ],
   "source": [
    "cons.Mean()"
   ]
  },
  {
   "cell_type": "code",
   "execution_count": 51,
   "metadata": {},
   "outputs": [
    {
     "data": {
      "text/plain": [
       "(0.23000000000000001, 0.41999999999999998)"
      ]
     },
     "execution_count": 51,
     "metadata": {},
     "output_type": "execute_result"
    }
   ],
   "source": [
    "cons.MakeCdf().CredibleInterval(90)"
   ]
  },
  {
   "cell_type": "code",
   "execution_count": 52,
   "metadata": {
    "collapsed": true
   },
   "outputs": [],
   "source": [
    "cons.Update((56, 78))"
   ]
  },
  {
   "cell_type": "code",
   "execution_count": 53,
   "metadata": {
    "collapsed": true
   },
   "outputs": [],
   "source": [
    "cons_sample = cons.MakeCdf(10001).Sample(10000)"
   ]
  },
  {
   "cell_type": "code",
   "execution_count": 54,
   "metadata": {},
   "outputs": [
    {
     "data": {
      "image/png": "[encoded data removed]",
      "text/plain": [
       "<Figure size 432x288 with 1 Axes>"
      ]
     },
     "metadata": {},
     "output_type": "display_data"
    }
   ],
   "source": [
    "\n",
    "thinkplot.Pdf(cons.MakePmf())\n",
    "thinkplot.Config(xlabel='x', ylabel='Probability')"
   ]
  },
  {
   "cell_type": "code",
   "execution_count": 55,
   "metadata": {},
   "outputs": [
    {
     "data": {
      "text/plain": [
       "0.385"
      ]
     },
     "execution_count": 55,
     "metadata": {},
     "output_type": "execute_result"
    }
   ],
   "source": [
    "cons.Mean()"
   ]
  },
  {
   "cell_type": "code",
   "execution_count": 56,
   "metadata": {},
   "outputs": [
    {
     "data": {
      "text/plain": [
       "(0.33000000000000002, 0.45000000000000001)"
      ]
     },
     "execution_count": 56,
     "metadata": {},
     "output_type": "execute_result"
    }
   ],
   "source": [
    "cons.MakeCdf().CredibleInterval(90)"
   ]
  },
  {
   "cell_type": "code",
   "execution_count": 57,
   "metadata": {},
   "outputs": [
    {
     "data": {
      "image/png": "[encoded data removed]",
      "text/plain": [
       "<Figure size 432x288 with 1 Axes>"
      ]
     },
     "metadata": {},
     "output_type": "display_data"
    },
    {
     "data": {
      "image/png": "[encoded data removed]",
      "text/plain": [
       "<Figure size 432x288 with 1 Axes>"
      ]
     },
     "metadata": {},
     "output_type": "display_data"
    },
    {
     "data": {
      "image/png": "[encoded data removed]",
      "text/plain": [
       "<Figure size 432x288 with 1 Axes>"
      ]
     },
     "metadata": {},
     "output_type": "display_data"
    }
   ],
   "source": [
    "starting_money = 1000\n",
    "# drawing_chance = 0.42\n",
    "both_predict_draw_chance = 0.089\n",
    "length_of_season = 38\n",
    "matches_in_round = 10\n",
    "winning_odds_mean = 3.38\n",
    "winning_odds_sdev = 0.14\n",
    "percent_of_money_to_spend = 0.1\n",
    "season_end_money = []\n",
    "percentages = []\n",
    "winnings = []\n",
    "\n",
    "def sim_one_season():\n",
    "    \n",
    "    for sim in range(0, 10000):\n",
    "        money = starting_money\n",
    "        match_week = 0\n",
    "        overall_stake_in_season = 0\n",
    "        overall_winnings_in_season = 0\n",
    "        \n",
    "        while match_week < length_of_season:\n",
    "            if money <= starting_money * 0.05:\n",
    "                print(\"*\"*20)\n",
    "                print(\"You have lost\")\n",
    "                print(\"*\"*20)\n",
    "                return\n",
    "\n",
    "            matches_this_week = np.random.binomial(matches_in_round, both_predict_draw_chance)\n",
    "\n",
    "            if matches_this_week > 0:\n",
    "                money_staked = round(matches_this_week * money * percent_of_money_to_spend, 2)\n",
    "                money -= money_staked\n",
    "                overall_stake_in_season += money_staked\n",
    "\n",
    "                for match in range(matches_this_week):\n",
    "                    draw_winnings_ratio = np.random.normal(winning_odds_mean, winning_odds_sdev)\n",
    "                    money_won = round((np.random.binomial(1, cons_sample.take([np.random.randint(0, cons_sample.size)])[0]) * \n",
    "                                       draw_winnings_ratio * money_staked/matches_this_week), 2)\n",
    "                    money += money_won\n",
    "                    overall_winnings_in_season += money_won\n",
    "\n",
    "            else:\n",
    "                pass\n",
    "            match_week += 1\n",
    "            \n",
    "        season_end_money.append(money)\n",
    "        percentages.append(overall_winnings_in_season/overall_stake_in_season)\n",
    "        winnings.append(overall_winnings_in_season)\n",
    "\n",
    "sim_one_season()\n",
    "\n",
    "pd.Series(season_end_money).hist(bins=32, range=(0,10000))\n",
    "plt.title(\"Distribution of Bankroll after one year\")\n",
    "plt.xlabel(\"Money\")\n",
    "plt.ylabel(\"Freq\")\n",
    "\n",
    "plt.show()\n",
    "\n",
    "pd.Series(percentages).hist(bins=32)\n",
    "plt.title(\"Distribution of average profits\")\n",
    "plt.xlabel(\"Profit ratio on stake\")\n",
    "plt.ylabel(\"Freq\")\n",
    "\n",
    "plt.show()\n",
    "\n",
    "pd.Series(winnings).hist(bins=32, range=(0,50000))\n",
    "plt.title(\"Distribution of winnings profits\")\n",
    "plt.xlabel(\"Winnings\")\n",
    "plt.ylabel(\"Freq\")\n",
    "\n",
    "plt.show()\n",
    "\n",
    "# pd.Series(number_of_seasons).mean()\n"
   ]
  },
  {
   "cell_type": "code",
   "execution_count": 58,
   "metadata": {},
   "outputs": [
    {
     "data": {
      "text/plain": [
       "count     10000.000000\n",
       "mean       2715.866437\n",
       "std        3347.019836\n",
       "min          63.660000\n",
       "25%         965.072500\n",
       "50%        1748.805000\n",
       "75%        3288.752500\n",
       "max      129841.560000\n",
       "dtype: float64"
      ]
     },
     "execution_count": 58,
     "metadata": {},
     "output_type": "execute_result"
    }
   ],
   "source": [
    "pd.Series(season_end_money).describe()"
   ]
  },
  {
   "cell_type": "code",
   "execution_count": 59,
   "metadata": {},
   "outputs": [
    {
     "data": {
      "text/plain": [
       "551.6390000000001"
      ]
     },
     "execution_count": 59,
     "metadata": {},
     "output_type": "execute_result"
    }
   ],
   "source": [
    "pd.Series(season_end_money).quantile(0.1)"
   ]
  },
  {
   "cell_type": "code",
   "execution_count": 60,
   "metadata": {},
   "outputs": [
    {
     "data": {
      "text/plain": [
       "5759.096"
      ]
     },
     "execution_count": 60,
     "metadata": {},
     "output_type": "execute_result"
    }
   ],
   "source": [
    "pd.Series(season_end_money).quantile(0.9)"
   ]
  },
  {
   "cell_type": "code",
   "execution_count": 61,
   "metadata": {
    "collapsed": true
   },
   "outputs": [],
   "source": [
    "sorted_season_end_money = [round(x, 0) for x in sorted(season_end_money)]"
   ]
  },
  {
   "cell_type": "code",
   "execution_count": 62,
   "metadata": {},
   "outputs": [
    {
     "data": {
      "text/plain": [
       "26.0"
      ]
     },
     "execution_count": 62,
     "metadata": {},
     "output_type": "execute_result"
    }
   ],
   "source": [
    "round(sorted_season_end_money.index(1000)/len(sorted_season_end_money) * 100, 0)"
   ]
  },
  {
   "cell_type": "markdown",
   "metadata": {},
   "source": [
    "22nd percentile break even"
   ]
  },
  {
   "cell_type": "markdown",
   "metadata": {},
   "source": [
    "Median is £2000, and down to the 22nd percentile before we start making a loss. Almost double bankroll money after 34 bets. Not bad."
   ]
  },
  {
   "cell_type": "markdown",
   "metadata": {},
   "source": [
    "triangle and uniform priors give same result"
   ]
  },
  {
   "cell_type": "markdown",
   "metadata": {
    "collapsed": true
   },
   "source": [
    "however, assuming that the 90th percentile confidence interval for both of them is at worst as good as random guessing and at best as good as their performance over the past three seasons, and centred on their average as an individual then we get a slightly different posterior, and our expected winnings are down over a season, as is the percentile at which we make a loss. However, still, on average, up."
   ]
  },
  {
   "cell_type": "code",
   "execution_count": 104,
   "metadata": {
    "collapsed": true
   },
   "outputs": [],
   "source": [
    "cons = Beta(24, 47, label='Assumption Start')\n"
   ]
  },
  {
   "cell_type": "code",
   "execution_count": 105,
   "metadata": {
    "collapsed": true
   },
   "outputs": [],
   "source": [
    "cons.Update((56, 78))"
   ]
  },
  {
   "cell_type": "code",
   "execution_count": 106,
   "metadata": {
    "collapsed": true
   },
   "outputs": [],
   "source": [
    "uniform = Beta(1,1, label=\"Uniform start\")"
   ]
  },
  {
   "cell_type": "code",
   "execution_count": 107,
   "metadata": {
    "collapsed": true
   },
   "outputs": [],
   "source": [
    "uniform.Update((56,78))"
   ]
  },
  {
   "cell_type": "code",
   "execution_count": 111,
   "metadata": {},
   "outputs": [
    {
     "data": {
      "image/png": "[encoded data removed]",
      "text/plain": [
       "<Figure size 432x288 with 1 Axes>"
      ]
     },
     "metadata": {},
     "output_type": "display_data"
    }
   ],
   "source": [
    "thinkplot.Pdfs([uniform.MakePmf(), cons.MakePmf()])\n",
    "thinkplot.Config(xlabel='Picking draws success rate', ylabel='Probability')"
   ]
  },
  {
   "cell_type": "code",
   "execution_count": 112,
   "metadata": {},
   "outputs": [
    {
     "data": {
      "text/plain": [
       "0.41911764705882354"
      ]
     },
     "execution_count": 112,
     "metadata": {},
     "output_type": "execute_result"
    }
   ],
   "source": [
    "uniform.Mean()"
   ]
  },
  {
   "cell_type": "code",
   "execution_count": 113,
   "metadata": {},
   "outputs": [
    {
     "data": {
      "text/plain": [
       "0.3902439024390244"
      ]
     },
     "execution_count": 113,
     "metadata": {},
     "output_type": "execute_result"
    }
   ],
   "source": [
    "cons.Mean()"
   ]
  },
  {
   "cell_type": "code",
   "execution_count": null,
   "metadata": {
    "collapsed": true
   },
   "outputs": [],
   "source": []
  }
 ],
 "metadata": {
  "kernelspec": {
   "display_name": "Python [default]",
   "language": "python",
   "name": "python3"
  },
  "language_info": {
   "codemirror_mode": {
    "name": "ipython",
    "version": 3
   },
   "file_extension": ".py",
   "mimetype": "text/x-python",
   "name": "python",
   "nbconvert_exporter": "python",
   "pygments_lexer": "ipython3",
   "version": "3.6.5"
  }
 },
 "nbformat": 4,
 "nbformat_minor": 2
}
