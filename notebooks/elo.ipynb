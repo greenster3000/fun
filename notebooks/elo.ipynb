{
 "cells": [
  {
   "cell_type": "code",
   "execution_count": 1,
   "metadata": {
    "collapsed": true
   },
   "outputs": [],
   "source": [
    "import pandas as pd\n",
    "import matplotlib.pyplot as plt\n",
    "import numpy as np\n",
    "import os\n",
    "from scipy.stats import poisson\n",
    "% matplotlib inline"
   ]
  },
  {
   "cell_type": "code",
   "execution_count": 2,
   "metadata": {
    "collapsed": true
   },
   "outputs": [],
   "source": [
    "df = pd.read_csv(\"../xgbetting/data/eng/01.csv\")"
   ]
  },
  {
   "cell_type": "code",
   "execution_count": 3,
   "metadata": {},
   "outputs": [
    {
     "data": {
      "text/plain": [
       "Index(['Div', 'Date', 'HomeTeam', 'AwayTeam', 'FTHG', 'FTAG', 'FTR', 'HTHG',\n",
       "       'HTAG', 'HTR', 'Referee', 'HS', 'AS', 'HST', 'AST', 'HHW', 'AHW', 'HC',\n",
       "       'AC', 'HF', 'AF', 'HO', 'AO', 'HY', 'AY', 'HR', 'AR', 'HBP', 'ABP',\n",
       "       'GBH', 'GBD', 'GBA', 'IWH', 'IWD', 'IWA', 'LBH', 'LBD', 'LBA', 'SBH',\n",
       "       'SBD', 'SBA', 'WHH', 'WHD', 'WHA'],\n",
       "      dtype='object')"
      ]
     },
     "execution_count": 3,
     "metadata": {},
     "output_type": "execute_result"
    }
   ],
   "source": [
    "df.columns"
   ]
  },
  {
   "cell_type": "code",
   "execution_count": 4,
   "metadata": {
    "collapsed": true
   },
   "outputs": [],
   "source": [
    "df = df.sort_values(\"Date\")"
   ]
  },
  {
   "cell_type": "code",
   "execution_count": 5,
   "metadata": {},
   "outputs": [
    {
     "data": {
      "text/html": [
       "<div>\n",
       "<style scoped>\n",
       "    .dataframe tbody tr th:only-of-type {\n",
       "        vertical-align: middle;\n",
       "    }\n",
       "\n",
       "    .dataframe tbody tr th {\n",
       "        vertical-align: top;\n",
       "    }\n",
       "\n",
       "    .dataframe thead th {\n",
       "        text-align: right;\n",
       "    }\n",
       "</style>\n",
       "<table border=\"1\" class=\"dataframe\">\n",
       "  <thead>\n",
       "    <tr style=\"text-align: right;\">\n",
       "      <th></th>\n",
       "      <th>Div</th>\n",
       "      <th>Date</th>\n",
       "      <th>HomeTeam</th>\n",
       "      <th>AwayTeam</th>\n",
       "      <th>FTHG</th>\n",
       "      <th>FTAG</th>\n",
       "      <th>FTR</th>\n",
       "      <th>HTHG</th>\n",
       "      <th>HTAG</th>\n",
       "      <th>HTR</th>\n",
       "      <th>...</th>\n",
       "      <th>IWA</th>\n",
       "      <th>LBH</th>\n",
       "      <th>LBD</th>\n",
       "      <th>LBA</th>\n",
       "      <th>SBH</th>\n",
       "      <th>SBD</th>\n",
       "      <th>SBA</th>\n",
       "      <th>WHH</th>\n",
       "      <th>WHD</th>\n",
       "      <th>WHA</th>\n",
       "    </tr>\n",
       "  </thead>\n",
       "  <tbody>\n",
       "    <tr>\n",
       "      <th>207</th>\n",
       "      <td>E0</td>\n",
       "      <td>01/01/01</td>\n",
       "      <td>Coventry</td>\n",
       "      <td>Man City</td>\n",
       "      <td>1</td>\n",
       "      <td>1</td>\n",
       "      <td>D</td>\n",
       "      <td>0</td>\n",
       "      <td>0</td>\n",
       "      <td>D</td>\n",
       "      <td>...</td>\n",
       "      <td>3.10</td>\n",
       "      <td>1.91</td>\n",
       "      <td>3.25</td>\n",
       "      <td>3.40</td>\n",
       "      <td>1.85</td>\n",
       "      <td>3.30</td>\n",
       "      <td>3.60</td>\n",
       "      <td>1.80</td>\n",
       "      <td>3.30</td>\n",
       "      <td>3.75</td>\n",
       "    </tr>\n",
       "    <tr>\n",
       "      <th>205</th>\n",
       "      <td>E0</td>\n",
       "      <td>01/01/01</td>\n",
       "      <td>Charlton</td>\n",
       "      <td>Arsenal</td>\n",
       "      <td>1</td>\n",
       "      <td>0</td>\n",
       "      <td>H</td>\n",
       "      <td>1</td>\n",
       "      <td>0</td>\n",
       "      <td>H</td>\n",
       "      <td>...</td>\n",
       "      <td>2.00</td>\n",
       "      <td>3.50</td>\n",
       "      <td>3.20</td>\n",
       "      <td>1.91</td>\n",
       "      <td>3.60</td>\n",
       "      <td>3.25</td>\n",
       "      <td>1.90</td>\n",
       "      <td>3.40</td>\n",
       "      <td>3.25</td>\n",
       "      <td>1.90</td>\n",
       "    </tr>\n",
       "    <tr>\n",
       "      <th>206</th>\n",
       "      <td>E0</td>\n",
       "      <td>01/01/01</td>\n",
       "      <td>Chelsea</td>\n",
       "      <td>Aston Villa</td>\n",
       "      <td>1</td>\n",
       "      <td>0</td>\n",
       "      <td>H</td>\n",
       "      <td>1</td>\n",
       "      <td>0</td>\n",
       "      <td>H</td>\n",
       "      <td>...</td>\n",
       "      <td>3.80</td>\n",
       "      <td>1.50</td>\n",
       "      <td>3.40</td>\n",
       "      <td>6.00</td>\n",
       "      <td>1.57</td>\n",
       "      <td>3.30</td>\n",
       "      <td>5.00</td>\n",
       "      <td>1.61</td>\n",
       "      <td>3.25</td>\n",
       "      <td>5.00</td>\n",
       "    </tr>\n",
       "    <tr>\n",
       "      <th>213</th>\n",
       "      <td>E0</td>\n",
       "      <td>01/01/01</td>\n",
       "      <td>Sunderland</td>\n",
       "      <td>Ipswich</td>\n",
       "      <td>4</td>\n",
       "      <td>1</td>\n",
       "      <td>H</td>\n",
       "      <td>1</td>\n",
       "      <td>1</td>\n",
       "      <td>D</td>\n",
       "      <td>...</td>\n",
       "      <td>3.10</td>\n",
       "      <td>1.73</td>\n",
       "      <td>3.50</td>\n",
       "      <td>3.75</td>\n",
       "      <td>1.75</td>\n",
       "      <td>3.40</td>\n",
       "      <td>4.00</td>\n",
       "      <td>1.83</td>\n",
       "      <td>3.30</td>\n",
       "      <td>3.60</td>\n",
       "    </tr>\n",
       "    <tr>\n",
       "      <th>212</th>\n",
       "      <td>E0</td>\n",
       "      <td>01/01/01</td>\n",
       "      <td>Man United</td>\n",
       "      <td>West Ham</td>\n",
       "      <td>3</td>\n",
       "      <td>1</td>\n",
       "      <td>H</td>\n",
       "      <td>2</td>\n",
       "      <td>0</td>\n",
       "      <td>H</td>\n",
       "      <td>...</td>\n",
       "      <td>5.50</td>\n",
       "      <td>1.33</td>\n",
       "      <td>4.00</td>\n",
       "      <td>8.00</td>\n",
       "      <td>1.30</td>\n",
       "      <td>4.50</td>\n",
       "      <td>8.00</td>\n",
       "      <td>1.28</td>\n",
       "      <td>4.50</td>\n",
       "      <td>8.00</td>\n",
       "    </tr>\n",
       "    <tr>\n",
       "      <th>211</th>\n",
       "      <td>E0</td>\n",
       "      <td>01/01/01</td>\n",
       "      <td>Liverpool</td>\n",
       "      <td>Southampton</td>\n",
       "      <td>2</td>\n",
       "      <td>1</td>\n",
       "      <td>H</td>\n",
       "      <td>1</td>\n",
       "      <td>1</td>\n",
       "      <td>D</td>\n",
       "      <td>...</td>\n",
       "      <td>6.20</td>\n",
       "      <td>1.36</td>\n",
       "      <td>3.75</td>\n",
       "      <td>8.00</td>\n",
       "      <td>1.33</td>\n",
       "      <td>4.20</td>\n",
       "      <td>8.00</td>\n",
       "      <td>1.30</td>\n",
       "      <td>4.00</td>\n",
       "      <td>9.50</td>\n",
       "    </tr>\n",
       "    <tr>\n",
       "      <th>210</th>\n",
       "      <td>E0</td>\n",
       "      <td>01/01/01</td>\n",
       "      <td>Leicester</td>\n",
       "      <td>Bradford</td>\n",
       "      <td>1</td>\n",
       "      <td>2</td>\n",
       "      <td>A</td>\n",
       "      <td>1</td>\n",
       "      <td>2</td>\n",
       "      <td>A</td>\n",
       "      <td>...</td>\n",
       "      <td>4.70</td>\n",
       "      <td>1.40</td>\n",
       "      <td>3.75</td>\n",
       "      <td>7.00</td>\n",
       "      <td>1.40</td>\n",
       "      <td>3.75</td>\n",
       "      <td>7.00</td>\n",
       "      <td>1.40</td>\n",
       "      <td>3.60</td>\n",
       "      <td>7.50</td>\n",
       "    </tr>\n",
       "    <tr>\n",
       "      <th>209</th>\n",
       "      <td>E0</td>\n",
       "      <td>01/01/01</td>\n",
       "      <td>Leeds</td>\n",
       "      <td>Middlesbrough</td>\n",
       "      <td>1</td>\n",
       "      <td>1</td>\n",
       "      <td>D</td>\n",
       "      <td>0</td>\n",
       "      <td>1</td>\n",
       "      <td>A</td>\n",
       "      <td>...</td>\n",
       "      <td>4.50</td>\n",
       "      <td>1.61</td>\n",
       "      <td>3.50</td>\n",
       "      <td>4.50</td>\n",
       "      <td>1.53</td>\n",
       "      <td>3.50</td>\n",
       "      <td>5.50</td>\n",
       "      <td>1.57</td>\n",
       "      <td>3.25</td>\n",
       "      <td>5.50</td>\n",
       "    </tr>\n",
       "    <tr>\n",
       "      <th>208</th>\n",
       "      <td>E0</td>\n",
       "      <td>01/01/01</td>\n",
       "      <td>Derby</td>\n",
       "      <td>Everton</td>\n",
       "      <td>1</td>\n",
       "      <td>0</td>\n",
       "      <td>H</td>\n",
       "      <td>1</td>\n",
       "      <td>0</td>\n",
       "      <td>H</td>\n",
       "      <td>...</td>\n",
       "      <td>2.90</td>\n",
       "      <td>1.91</td>\n",
       "      <td>3.40</td>\n",
       "      <td>3.25</td>\n",
       "      <td>1.91</td>\n",
       "      <td>3.25</td>\n",
       "      <td>3.50</td>\n",
       "      <td>1.83</td>\n",
       "      <td>3.30</td>\n",
       "      <td>3.60</td>\n",
       "    </tr>\n",
       "    <tr>\n",
       "      <th>304</th>\n",
       "      <td>E0</td>\n",
       "      <td>01/04/01</td>\n",
       "      <td>Charlton</td>\n",
       "      <td>Leicester</td>\n",
       "      <td>2</td>\n",
       "      <td>0</td>\n",
       "      <td>H</td>\n",
       "      <td>1</td>\n",
       "      <td>0</td>\n",
       "      <td>H</td>\n",
       "      <td>...</td>\n",
       "      <td>2.90</td>\n",
       "      <td>1.91</td>\n",
       "      <td>3.25</td>\n",
       "      <td>3.40</td>\n",
       "      <td>2.10</td>\n",
       "      <td>3.25</td>\n",
       "      <td>3.00</td>\n",
       "      <td>2.00</td>\n",
       "      <td>3.20</td>\n",
       "      <td>3.20</td>\n",
       "    </tr>\n",
       "    <tr>\n",
       "      <th>355</th>\n",
       "      <td>E0</td>\n",
       "      <td>01/05/01</td>\n",
       "      <td>Newcastle</td>\n",
       "      <td>Southampton</td>\n",
       "      <td>1</td>\n",
       "      <td>1</td>\n",
       "      <td>D</td>\n",
       "      <td>1</td>\n",
       "      <td>0</td>\n",
       "      <td>H</td>\n",
       "      <td>...</td>\n",
       "      <td>3.60</td>\n",
       "      <td>1.61</td>\n",
       "      <td>3.50</td>\n",
       "      <td>4.50</td>\n",
       "      <td>1.67</td>\n",
       "      <td>3.40</td>\n",
       "      <td>4.50</td>\n",
       "      <td>1.61</td>\n",
       "      <td>3.50</td>\n",
       "      <td>4.50</td>\n",
       "    </tr>\n",
       "    <tr>\n",
       "      <th>354</th>\n",
       "      <td>E0</td>\n",
       "      <td>01/05/01</td>\n",
       "      <td>Bradford</td>\n",
       "      <td>Liverpool</td>\n",
       "      <td>0</td>\n",
       "      <td>2</td>\n",
       "      <td>A</td>\n",
       "      <td>0</td>\n",
       "      <td>0</td>\n",
       "      <td>D</td>\n",
       "      <td>...</td>\n",
       "      <td>1.55</td>\n",
       "      <td>5.50</td>\n",
       "      <td>4.00</td>\n",
       "      <td>1.44</td>\n",
       "      <td>6.25</td>\n",
       "      <td>3.75</td>\n",
       "      <td>1.44</td>\n",
       "      <td>6.50</td>\n",
       "      <td>3.60</td>\n",
       "      <td>1.44</td>\n",
       "    </tr>\n",
       "    <tr>\n",
       "      <th>78</th>\n",
       "      <td>E0</td>\n",
       "      <td>01/10/00</td>\n",
       "      <td>Sunderland</td>\n",
       "      <td>Leicester</td>\n",
       "      <td>0</td>\n",
       "      <td>0</td>\n",
       "      <td>D</td>\n",
       "      <td>0</td>\n",
       "      <td>0</td>\n",
       "      <td>D</td>\n",
       "      <td>...</td>\n",
       "      <td>3.10</td>\n",
       "      <td>2.10</td>\n",
       "      <td>3.20</td>\n",
       "      <td>3.00</td>\n",
       "      <td>2.00</td>\n",
       "      <td>3.20</td>\n",
       "      <td>3.30</td>\n",
       "      <td>1.90</td>\n",
       "      <td>3.20</td>\n",
       "      <td>3.50</td>\n",
       "    </tr>\n",
       "    <tr>\n",
       "      <th>77</th>\n",
       "      <td>E0</td>\n",
       "      <td>01/10/00</td>\n",
       "      <td>Chelsea</td>\n",
       "      <td>Liverpool</td>\n",
       "      <td>3</td>\n",
       "      <td>0</td>\n",
       "      <td>H</td>\n",
       "      <td>2</td>\n",
       "      <td>0</td>\n",
       "      <td>H</td>\n",
       "      <td>...</td>\n",
       "      <td>2.90</td>\n",
       "      <td>2.10</td>\n",
       "      <td>3.20</td>\n",
       "      <td>3.00</td>\n",
       "      <td>2.10</td>\n",
       "      <td>3.10</td>\n",
       "      <td>3.20</td>\n",
       "      <td>2.20</td>\n",
       "      <td>3.00</td>\n",
       "      <td>3.00</td>\n",
       "    </tr>\n",
       "    <tr>\n",
       "      <th>76</th>\n",
       "      <td>E0</td>\n",
       "      <td>01/10/00</td>\n",
       "      <td>Arsenal</td>\n",
       "      <td>Man United</td>\n",
       "      <td>1</td>\n",
       "      <td>0</td>\n",
       "      <td>H</td>\n",
       "      <td>1</td>\n",
       "      <td>0</td>\n",
       "      <td>H</td>\n",
       "      <td>...</td>\n",
       "      <td>2.50</td>\n",
       "      <td>2.50</td>\n",
       "      <td>3.25</td>\n",
       "      <td>2.40</td>\n",
       "      <td>2.50</td>\n",
       "      <td>3.20</td>\n",
       "      <td>2.50</td>\n",
       "      <td>2.50</td>\n",
       "      <td>2.90</td>\n",
       "      <td>2.62</td>\n",
       "    </tr>\n",
       "    <tr>\n",
       "      <th>214</th>\n",
       "      <td>E0</td>\n",
       "      <td>02/01/01</td>\n",
       "      <td>Tottenham</td>\n",
       "      <td>Newcastle</td>\n",
       "      <td>4</td>\n",
       "      <td>2</td>\n",
       "      <td>H</td>\n",
       "      <td>3</td>\n",
       "      <td>1</td>\n",
       "      <td>H</td>\n",
       "      <td>...</td>\n",
       "      <td>3.00</td>\n",
       "      <td>1.80</td>\n",
       "      <td>3.40</td>\n",
       "      <td>3.60</td>\n",
       "      <td>1.90</td>\n",
       "      <td>3.25</td>\n",
       "      <td>3.60</td>\n",
       "      <td>1.83</td>\n",
       "      <td>3.40</td>\n",
       "      <td>3.50</td>\n",
       "    </tr>\n",
       "    <tr>\n",
       "      <th>305</th>\n",
       "      <td>E0</td>\n",
       "      <td>02/04/01</td>\n",
       "      <td>Southampton</td>\n",
       "      <td>Ipswich</td>\n",
       "      <td>0</td>\n",
       "      <td>3</td>\n",
       "      <td>A</td>\n",
       "      <td>0</td>\n",
       "      <td>1</td>\n",
       "      <td>A</td>\n",
       "      <td>...</td>\n",
       "      <td>2.90</td>\n",
       "      <td>2.20</td>\n",
       "      <td>3.20</td>\n",
       "      <td>2.80</td>\n",
       "      <td>2.10</td>\n",
       "      <td>3.20</td>\n",
       "      <td>3.20</td>\n",
       "      <td>2.10</td>\n",
       "      <td>3.20</td>\n",
       "      <td>3.00</td>\n",
       "    </tr>\n",
       "    <tr>\n",
       "      <th>150</th>\n",
       "      <td>E0</td>\n",
       "      <td>02/12/00</td>\n",
       "      <td>Aston Villa</td>\n",
       "      <td>Newcastle</td>\n",
       "      <td>1</td>\n",
       "      <td>1</td>\n",
       "      <td>D</td>\n",
       "      <td>1</td>\n",
       "      <td>0</td>\n",
       "      <td>H</td>\n",
       "      <td>...</td>\n",
       "      <td>3.00</td>\n",
       "      <td>NaN</td>\n",
       "      <td>NaN</td>\n",
       "      <td>NaN</td>\n",
       "      <td>2.00</td>\n",
       "      <td>3.25</td>\n",
       "      <td>3.25</td>\n",
       "      <td>1.90</td>\n",
       "      <td>3.25</td>\n",
       "      <td>3.40</td>\n",
       "    </tr>\n",
       "    <tr>\n",
       "      <th>151</th>\n",
       "      <td>E0</td>\n",
       "      <td>02/12/00</td>\n",
       "      <td>Bradford</td>\n",
       "      <td>Coventry</td>\n",
       "      <td>2</td>\n",
       "      <td>1</td>\n",
       "      <td>H</td>\n",
       "      <td>0</td>\n",
       "      <td>0</td>\n",
       "      <td>D</td>\n",
       "      <td>...</td>\n",
       "      <td>2.70</td>\n",
       "      <td>NaN</td>\n",
       "      <td>NaN</td>\n",
       "      <td>NaN</td>\n",
       "      <td>2.30</td>\n",
       "      <td>3.20</td>\n",
       "      <td>2.70</td>\n",
       "      <td>2.25</td>\n",
       "      <td>3.20</td>\n",
       "      <td>2.75</td>\n",
       "    </tr>\n",
       "    <tr>\n",
       "      <th>152</th>\n",
       "      <td>E0</td>\n",
       "      <td>02/12/00</td>\n",
       "      <td>Ipswich</td>\n",
       "      <td>Derby</td>\n",
       "      <td>0</td>\n",
       "      <td>1</td>\n",
       "      <td>A</td>\n",
       "      <td>0</td>\n",
       "      <td>1</td>\n",
       "      <td>A</td>\n",
       "      <td>...</td>\n",
       "      <td>4.20</td>\n",
       "      <td>NaN</td>\n",
       "      <td>NaN</td>\n",
       "      <td>NaN</td>\n",
       "      <td>1.57</td>\n",
       "      <td>3.40</td>\n",
       "      <td>5.50</td>\n",
       "      <td>1.53</td>\n",
       "      <td>3.40</td>\n",
       "      <td>5.50</td>\n",
       "    </tr>\n",
       "  </tbody>\n",
       "</table>\n",
       "<p>20 rows × 44 columns</p>\n",
       "</div>"
      ],
      "text/plain": [
       "    Div      Date     HomeTeam       AwayTeam  FTHG  FTAG FTR  HTHG  HTAG HTR  \\\n",
       "207  E0  01/01/01     Coventry       Man City     1     1   D     0     0   D   \n",
       "205  E0  01/01/01     Charlton        Arsenal     1     0   H     1     0   H   \n",
       "206  E0  01/01/01      Chelsea    Aston Villa     1     0   H     1     0   H   \n",
       "213  E0  01/01/01   Sunderland        Ipswich     4     1   H     1     1   D   \n",
       "212  E0  01/01/01   Man United       West Ham     3     1   H     2     0   H   \n",
       "211  E0  01/01/01    Liverpool    Southampton     2     1   H     1     1   D   \n",
       "210  E0  01/01/01    Leicester       Bradford     1     2   A     1     2   A   \n",
       "209  E0  01/01/01        Leeds  Middlesbrough     1     1   D     0     1   A   \n",
       "208  E0  01/01/01        Derby        Everton     1     0   H     1     0   H   \n",
       "304  E0  01/04/01     Charlton      Leicester     2     0   H     1     0   H   \n",
       "355  E0  01/05/01    Newcastle    Southampton     1     1   D     1     0   H   \n",
       "354  E0  01/05/01     Bradford      Liverpool     0     2   A     0     0   D   \n",
       "78   E0  01/10/00   Sunderland      Leicester     0     0   D     0     0   D   \n",
       "77   E0  01/10/00      Chelsea      Liverpool     3     0   H     2     0   H   \n",
       "76   E0  01/10/00      Arsenal     Man United     1     0   H     1     0   H   \n",
       "214  E0  02/01/01    Tottenham      Newcastle     4     2   H     3     1   H   \n",
       "305  E0  02/04/01  Southampton        Ipswich     0     3   A     0     1   A   \n",
       "150  E0  02/12/00  Aston Villa      Newcastle     1     1   D     1     0   H   \n",
       "151  E0  02/12/00     Bradford       Coventry     2     1   H     0     0   D   \n",
       "152  E0  02/12/00      Ipswich          Derby     0     1   A     0     1   A   \n",
       "\n",
       "     ...    IWA   LBH   LBD   LBA   SBH   SBD   SBA   WHH   WHD   WHA  \n",
       "207  ...   3.10  1.91  3.25  3.40  1.85  3.30  3.60  1.80  3.30  3.75  \n",
       "205  ...   2.00  3.50  3.20  1.91  3.60  3.25  1.90  3.40  3.25  1.90  \n",
       "206  ...   3.80  1.50  3.40  6.00  1.57  3.30  5.00  1.61  3.25  5.00  \n",
       "213  ...   3.10  1.73  3.50  3.75  1.75  3.40  4.00  1.83  3.30  3.60  \n",
       "212  ...   5.50  1.33  4.00  8.00  1.30  4.50  8.00  1.28  4.50  8.00  \n",
       "211  ...   6.20  1.36  3.75  8.00  1.33  4.20  8.00  1.30  4.00  9.50  \n",
       "210  ...   4.70  1.40  3.75  7.00  1.40  3.75  7.00  1.40  3.60  7.50  \n",
       "209  ...   4.50  1.61  3.50  4.50  1.53  3.50  5.50  1.57  3.25  5.50  \n",
       "208  ...   2.90  1.91  3.40  3.25  1.91  3.25  3.50  1.83  3.30  3.60  \n",
       "304  ...   2.90  1.91  3.25  3.40  2.10  3.25  3.00  2.00  3.20  3.20  \n",
       "355  ...   3.60  1.61  3.50  4.50  1.67  3.40  4.50  1.61  3.50  4.50  \n",
       "354  ...   1.55  5.50  4.00  1.44  6.25  3.75  1.44  6.50  3.60  1.44  \n",
       "78   ...   3.10  2.10  3.20  3.00  2.00  3.20  3.30  1.90  3.20  3.50  \n",
       "77   ...   2.90  2.10  3.20  3.00  2.10  3.10  3.20  2.20  3.00  3.00  \n",
       "76   ...   2.50  2.50  3.25  2.40  2.50  3.20  2.50  2.50  2.90  2.62  \n",
       "214  ...   3.00  1.80  3.40  3.60  1.90  3.25  3.60  1.83  3.40  3.50  \n",
       "305  ...   2.90  2.20  3.20  2.80  2.10  3.20  3.20  2.10  3.20  3.00  \n",
       "150  ...   3.00   NaN   NaN   NaN  2.00  3.25  3.25  1.90  3.25  3.40  \n",
       "151  ...   2.70   NaN   NaN   NaN  2.30  3.20  2.70  2.25  3.20  2.75  \n",
       "152  ...   4.20   NaN   NaN   NaN  1.57  3.40  5.50  1.53  3.40  5.50  \n",
       "\n",
       "[20 rows x 44 columns]"
      ]
     },
     "execution_count": 5,
     "metadata": {},
     "output_type": "execute_result"
    }
   ],
   "source": [
    "df.head(20)"
   ]
  },
  {
   "cell_type": "code",
   "execution_count": 6,
   "metadata": {
    "collapsed": true
   },
   "outputs": [],
   "source": [
    "hfa = 100\n",
    "k = 20"
   ]
  },
  {
   "cell_type": "code",
   "execution_count": 7,
   "metadata": {
    "collapsed": true
   },
   "outputs": [],
   "source": [
    "def get_expected_rating(home_rating, away_rating):\n",
    "    return 1 / (10**(-1 * (home_rating + hfa - away_rating) / 400) + 1) "
   ]
  },
  {
   "cell_type": "code",
   "execution_count": 8,
   "metadata": {
    "collapsed": true
   },
   "outputs": [],
   "source": [
    "def get_result(home_goals, away_goals):\n",
    "    if home_goals == away_goals:\n",
    "        return 0.5\n",
    "    elif home_goals > away_goals:\n",
    "        return 1\n",
    "    else:\n",
    "        return 0"
   ]
  },
  {
   "cell_type": "code",
   "execution_count": 9,
   "metadata": {
    "collapsed": true
   },
   "outputs": [],
   "source": [
    "def get_goal_diff_mult(home_goals, away_goals):\n",
    "    if home_goals == away_goals:\n",
    "        return 1\n",
    "    else:\n",
    "        return abs(home_goals - away_goals) ** 0.5"
   ]
  },
  {
   "cell_type": "code",
   "execution_count": 10,
   "metadata": {
    "collapsed": true
   },
   "outputs": [],
   "source": [
    "def update_elo(home_rating, away_rating, home_goals, away_goals):\n",
    "    exp = get_expected_rating(home_rating, away_rating)\n",
    "    result = get_result(home_goals, away_goals)\n",
    "    gd = get_goal_diff_mult(home_goals, away_goals)\n",
    "    rating_change = int(round(k * gd * (result - exp), 0))\n",
    "    return home_rating + rating_change, away_rating - rating_change\n",
    "    "
   ]
  },
  {
   "cell_type": "code",
   "execution_count": 11,
   "metadata": {
    "collapsed": true
   },
   "outputs": [],
   "source": [
    "def expected_result_from_diff(diff):\n",
    "    return 1 / (10**(-1 * (diff + hfa) / 400) + 1) \n",
    "    "
   ]
  },
  {
   "cell_type": "code",
   "execution_count": 12,
   "metadata": {
    "collapsed": true
   },
   "outputs": [],
   "source": [
    "df = pd.read_csv(\"../xgbetting/data/eng/01.csv\", parse_dates=[\"Date\"], dayfirst=True)\n",
    "\n",
    "df.sort_values(\"Date\", inplace=True)\n",
    "\n",
    "df[\"home_elo\"] = np.nan\n",
    "df[\"away_elo\"] = np.nan\n",
    "\n",
    "elo_dict = {side: 1000 for side in list(set(df.HomeTeam))}"
   ]
  },
  {
   "cell_type": "code",
   "execution_count": 13,
   "metadata": {
    "collapsed": true
   },
   "outputs": [],
   "source": [
    "\n",
    "for row in df.itertuples():\n",
    "    i = row.Index\n",
    "    ht = row.HomeTeam\n",
    "    at = row.AwayTeam\n",
    "    diff = elo_dict[ht] - elo_dict[at]\n",
    "    prob_diff = expected_result_from_diff(diff)\n",
    "    df.loc[i, \"expected\"] = prob_diff\n",
    "    if prob_diff < 0.5: \n",
    "        hg_lam = 0.2 + 1.1*np.sqrt(prob_diff/0.5)\n",
    "    else: \n",
    "        hg_lam = 1.69 / (1.12 * np.sqrt(2 - prob_diff / 0.5) + 0.18)\n",
    "\n",
    "    if prob_diff < 0.8: \n",
    "        ag_lam = -0.96 + 1 / (0.1 + 0.44 * np.sqrt((prob_diff + 0.1) / 0.9))\n",
    "    else: \n",
    "        ag_lam = 0.72 * np.sqrt((1 - prob_diff) / 0.3) + 0.3\n",
    "    \n",
    "    p_win = 0\n",
    "    p_draw = 0\n",
    "    p_loss = 0\n",
    "    \n",
    "    ph = poisson.pmf(list(range(9)), hg_lam)\n",
    "    pa = poisson.pmf(list(range(9)), ag_lam)\n",
    "    for h in range(9):\n",
    "        for a in range(9):\n",
    "            if h == a:\n",
    "                p_draw += pa[a] * ph[h]\n",
    "            elif h > a:\n",
    "                p_win += pa[a] * ph[h]\n",
    "            elif h < a:\n",
    "                p_loss += pa[a] * ph[h]\n",
    "        \n",
    "    df.loc[i, \"hg_lam\"] = hg_lam\n",
    "    df.loc[i, \"ag_lam\"] = ag_lam\n",
    "    df.loc[i, \"p_win\"] = p_win\n",
    "    df.loc[i, \"p_loss\"] = p_loss\n",
    "    df.loc[i, \"p_draw\"] = p_draw\n",
    "    home_elo, away_elo = update_elo(elo_dict[ht], elo_dict[at], \n",
    "                                   row.FTHG, row.FTAG)\n",
    "    hfa = 0.075 * (home_elo - elo_dict[ht])\n",
    "    elo_dict[ht] = home_elo\n",
    "    elo_dict[at] = away_elo\n",
    "    df.loc[i, \"home_elo\"] = home_elo\n",
    "    df.loc[i, \"away_elo\"] = away_elo    "
   ]
  },
  {
   "cell_type": "code",
   "execution_count": 14,
   "metadata": {},
   "outputs": [
    {
     "data": {
      "text/html": [
       "<div>\n",
       "<style scoped>\n",
       "    .dataframe tbody tr th:only-of-type {\n",
       "        vertical-align: middle;\n",
       "    }\n",
       "\n",
       "    .dataframe tbody tr th {\n",
       "        vertical-align: top;\n",
       "    }\n",
       "\n",
       "    .dataframe thead th {\n",
       "        text-align: right;\n",
       "    }\n",
       "</style>\n",
       "<table border=\"1\" class=\"dataframe\">\n",
       "  <thead>\n",
       "    <tr style=\"text-align: right;\">\n",
       "      <th></th>\n",
       "      <th>Div</th>\n",
       "      <th>Date</th>\n",
       "      <th>HomeTeam</th>\n",
       "      <th>AwayTeam</th>\n",
       "      <th>FTHG</th>\n",
       "      <th>FTAG</th>\n",
       "      <th>FTR</th>\n",
       "      <th>HTHG</th>\n",
       "      <th>HTAG</th>\n",
       "      <th>HTR</th>\n",
       "      <th>...</th>\n",
       "      <th>WHD</th>\n",
       "      <th>WHA</th>\n",
       "      <th>home_elo</th>\n",
       "      <th>away_elo</th>\n",
       "      <th>expected</th>\n",
       "      <th>hg_lam</th>\n",
       "      <th>ag_lam</th>\n",
       "      <th>p_win</th>\n",
       "      <th>p_loss</th>\n",
       "      <th>p_draw</th>\n",
       "    </tr>\n",
       "  </thead>\n",
       "  <tbody>\n",
       "    <tr>\n",
       "      <th>0</th>\n",
       "      <td>E0</td>\n",
       "      <td>2000-08-19</td>\n",
       "      <td>Charlton</td>\n",
       "      <td>Man City</td>\n",
       "      <td>4</td>\n",
       "      <td>0</td>\n",
       "      <td>H</td>\n",
       "      <td>2</td>\n",
       "      <td>0</td>\n",
       "      <td>H</td>\n",
       "      <td>...</td>\n",
       "      <td>3.2</td>\n",
       "      <td>3.10</td>\n",
       "      <td>1014.0</td>\n",
       "      <td>986.0</td>\n",
       "      <td>0.640065</td>\n",
       "      <td>1.495224</td>\n",
       "      <td>1.044032</td>\n",
       "      <td>0.476130</td>\n",
       "      <td>0.264419</td>\n",
       "      <td>0.259422</td>\n",
       "    </tr>\n",
       "    <tr>\n",
       "      <th>1</th>\n",
       "      <td>E0</td>\n",
       "      <td>2000-08-19</td>\n",
       "      <td>Chelsea</td>\n",
       "      <td>West Ham</td>\n",
       "      <td>4</td>\n",
       "      <td>2</td>\n",
       "      <td>H</td>\n",
       "      <td>1</td>\n",
       "      <td>0</td>\n",
       "      <td>H</td>\n",
       "      <td>...</td>\n",
       "      <td>3.6</td>\n",
       "      <td>6.50</td>\n",
       "      <td>1014.0</td>\n",
       "      <td>986.0</td>\n",
       "      <td>0.501511</td>\n",
       "      <td>1.301696</td>\n",
       "      <td>1.215282</td>\n",
       "      <td>0.386183</td>\n",
       "      <td>0.345133</td>\n",
       "      <td>0.268670</td>\n",
       "    </tr>\n",
       "    <tr>\n",
       "      <th>2</th>\n",
       "      <td>E0</td>\n",
       "      <td>2000-08-19</td>\n",
       "      <td>Coventry</td>\n",
       "      <td>Middlesbrough</td>\n",
       "      <td>1</td>\n",
       "      <td>3</td>\n",
       "      <td>A</td>\n",
       "      <td>1</td>\n",
       "      <td>1</td>\n",
       "      <td>D</td>\n",
       "      <td>...</td>\n",
       "      <td>3.2</td>\n",
       "      <td>2.62</td>\n",
       "      <td>986.0</td>\n",
       "      <td>1014.0</td>\n",
       "      <td>0.501511</td>\n",
       "      <td>1.301696</td>\n",
       "      <td>1.215282</td>\n",
       "      <td>0.386183</td>\n",
       "      <td>0.345133</td>\n",
       "      <td>0.268670</td>\n",
       "    </tr>\n",
       "    <tr>\n",
       "      <th>3</th>\n",
       "      <td>E0</td>\n",
       "      <td>2000-08-19</td>\n",
       "      <td>Derby</td>\n",
       "      <td>Southampton</td>\n",
       "      <td>2</td>\n",
       "      <td>2</td>\n",
       "      <td>D</td>\n",
       "      <td>1</td>\n",
       "      <td>2</td>\n",
       "      <td>A</td>\n",
       "      <td>...</td>\n",
       "      <td>3.2</td>\n",
       "      <td>3.20</td>\n",
       "      <td>1000.0</td>\n",
       "      <td>1000.0</td>\n",
       "      <td>0.498489</td>\n",
       "      <td>1.298337</td>\n",
       "      <td>1.219571</td>\n",
       "      <td>0.384367</td>\n",
       "      <td>0.346955</td>\n",
       "      <td>0.268663</td>\n",
       "    </tr>\n",
       "    <tr>\n",
       "      <th>4</th>\n",
       "      <td>E0</td>\n",
       "      <td>2000-08-19</td>\n",
       "      <td>Leeds</td>\n",
       "      <td>Everton</td>\n",
       "      <td>2</td>\n",
       "      <td>0</td>\n",
       "      <td>H</td>\n",
       "      <td>2</td>\n",
       "      <td>0</td>\n",
       "      <td>H</td>\n",
       "      <td>...</td>\n",
       "      <td>3.5</td>\n",
       "      <td>4.50</td>\n",
       "      <td>1014.0</td>\n",
       "      <td>986.0</td>\n",
       "      <td>0.500000</td>\n",
       "      <td>1.300000</td>\n",
       "      <td>1.217423</td>\n",
       "      <td>0.385271</td>\n",
       "      <td>0.346046</td>\n",
       "      <td>0.268668</td>\n",
       "    </tr>\n",
       "  </tbody>\n",
       "</table>\n",
       "<p>5 rows × 52 columns</p>\n",
       "</div>"
      ],
      "text/plain": [
       "  Div       Date  HomeTeam       AwayTeam  FTHG  FTAG FTR  HTHG  HTAG HTR  \\\n",
       "0  E0 2000-08-19  Charlton       Man City     4     0   H     2     0   H   \n",
       "1  E0 2000-08-19   Chelsea       West Ham     4     2   H     1     0   H   \n",
       "2  E0 2000-08-19  Coventry  Middlesbrough     1     3   A     1     1   D   \n",
       "3  E0 2000-08-19     Derby    Southampton     2     2   D     1     2   A   \n",
       "4  E0 2000-08-19     Leeds        Everton     2     0   H     2     0   H   \n",
       "\n",
       "     ...     WHD   WHA  home_elo  away_elo  expected    hg_lam    ag_lam  \\\n",
       "0    ...     3.2  3.10    1014.0     986.0  0.640065  1.495224  1.044032   \n",
       "1    ...     3.6  6.50    1014.0     986.0  0.501511  1.301696  1.215282   \n",
       "2    ...     3.2  2.62     986.0    1014.0  0.501511  1.301696  1.215282   \n",
       "3    ...     3.2  3.20    1000.0    1000.0  0.498489  1.298337  1.219571   \n",
       "4    ...     3.5  4.50    1014.0     986.0  0.500000  1.300000  1.217423   \n",
       "\n",
       "      p_win    p_loss    p_draw  \n",
       "0  0.476130  0.264419  0.259422  \n",
       "1  0.386183  0.345133  0.268670  \n",
       "2  0.386183  0.345133  0.268670  \n",
       "3  0.384367  0.346955  0.268663  \n",
       "4  0.385271  0.346046  0.268668  \n",
       "\n",
       "[5 rows x 52 columns]"
      ]
     },
     "execution_count": 14,
     "metadata": {},
     "output_type": "execute_result"
    }
   ],
   "source": [
    "df.head()"
   ]
  },
  {
   "cell_type": "code",
   "execution_count": 15,
   "metadata": {},
   "outputs": [
    {
     "name": "stdout",
     "output_type": "stream",
     "text": [
      "02.csv\n",
      "03.csv\n",
      "04.csv\n",
      "05.csv\n",
      "06.csv\n",
      "07.csv\n",
      "08.csv\n",
      "09.csv\n",
      "10.csv\n",
      "11.csv\n",
      "12.csv\n",
      "13.csv\n",
      "14.csv\n",
      "15.csv\n",
      "16.csv\n",
      "17.csv\n",
      "18.csv\n",
      "19.csv\n"
     ]
    }
   ],
   "source": [
    "path = \"../xgbetting/data/eng/\"\n",
    "df_old = df.copy()\n",
    "for file in sorted(os.listdir(\"../xgbetting/data/eng/\")):\n",
    "    if int(file[0:2]) > 1:\n",
    "        print(file)\n",
    "        df_new = pd.read_csv(path + file, parse_dates=[\"Date\"], dayfirst=True,  encoding=\"latin-1\")\n",
    "        old_sides = list(set(df_old.HomeTeam.dropna()))\n",
    "        new_sides = list(set(df_new.HomeTeam.dropna()))\n",
    "        relegated_sides = np.setdiff1d(old_sides, new_sides)\n",
    "        promoted_sides = np.setdiff1d(new_sides, old_sides)\n",
    "        relegated_elo_avg = int(sum([elo_dict.pop(side) for side in relegated_sides]) / 3)\n",
    "        elo_dict.update({side: relegated_elo_avg for side in promoted_sides})\n",
    "        for row in df_new.itertuples():\n",
    "            i = row.Index\n",
    "            ht = row.HomeTeam\n",
    "            at = row.AwayTeam\n",
    "            diff = elo_dict[ht] - elo_dict[at]\n",
    "            prob_diff = expected_result_from_diff(diff)\n",
    "            df.loc[i, \"expected\"] = prob_diff\n",
    "            if prob_diff < 0.5: \n",
    "                hg_lam = 0.2 + 1.1*np.sqrt(prob_diff/0.5)\n",
    "            else: \n",
    "                hg_lam = 1.69 / (1.12 * np.sqrt(2 - prob_diff / 0.5) + 0.18)\n",
    "    \n",
    "            if prob_diff < 0.8: \n",
    "                ag_lam = -0.96 + 1 / (0.1 + 0.44 * np.sqrt((prob_diff + 0.1) / 0.9))\n",
    "            else: \n",
    "                ag_lam = 0.72 * np.sqrt((1 - prob_diff) / 0.3) + 0.3\n",
    "            p_win = 0\n",
    "            p_draw = 0\n",
    "            p_loss = 0\n",
    "    \n",
    "            ph = poisson.pmf(list(range(9)), hg_lam)\n",
    "            pa = poisson.pmf(list(range(9)), ag_lam)\n",
    "            for h in range(9):\n",
    "                for a in range(9):\n",
    "                    if h == a:\n",
    "                        p_draw += pa[a] * ph[h]\n",
    "                    elif h > a:\n",
    "                        p_win += pa[a] * ph[h]\n",
    "                    elif h < a:\n",
    "                        p_loss += pa[a] * ph[h]\n",
    "        \n",
    "            df.loc[i, \"hg_lam\"] = hg_lam\n",
    "            df.loc[i, \"ag_lam\"] = ag_lam\n",
    "            df.loc[i, \"p_win\"] = p_win\n",
    "            df.loc[i, \"p_loss\"] = p_loss\n",
    "            df.loc[i, \"p_draw\"] = p_draw\n",
    "            \n",
    "            df.loc[i, \"hg_lam\"] = hg_lam\n",
    "            df.loc[i, \"ag_lam\"] = ag_lam\n",
    "    \n",
    "            home_elo, away_elo = update_elo(elo_dict[ht], elo_dict[at], \n",
    "                                           row.FTHG, row.FTAG)\n",
    "            hfa = 0.075 * (home_elo - elo_dict[ht])\n",
    "            elo_dict[ht] = home_elo\n",
    "            elo_dict[at] = away_elo\n",
    "            df_new.loc[i, \"home_elo\"] = home_elo\n",
    "            df_new.loc[i, \"away_elo\"] = away_elo\n",
    "        df = pd.concat([df, df_new])\n",
    "            \n",
    "        df_old = df_new\n",
    "        "
   ]
  },
  {
   "cell_type": "code",
   "execution_count": 16,
   "metadata": {
    "collapsed": true
   },
   "outputs": [],
   "source": [
    "\n",
    "# taken from https://drive.google.com/file/d/0Bxr6KEe4KY_OYnJuLUw1WF9GcGs/view\n",
    "df[\"p_draw\"] = df.expected.apply(lambda x: (4 / 3) * x * (1 - x))\n",
    "df[\"p_win\"] = df.expected - (0.5 * df.p_draw)\n",
    "df[\"p_loss\"] = 1 - df.expected - (0.5 * df.p_draw)"
   ]
  },
  {
   "cell_type": "code",
   "execution_count": 28,
   "metadata": {
    "collapsed": true
   },
   "outputs": [],
   "source": [
    "df[\"odds_draw\"] = 1 / df.p_draw\n",
    "df[\"odds_win\"] = 1 / df.p_win\n",
    "df[\"odds_loss\"] = 1/ df.p_loss"
   ]
  },
  {
   "cell_type": "code",
   "execution_count": 29,
   "metadata": {
    "collapsed": true
   },
   "outputs": [],
   "source": [
    "df[\"home_diff\"] = (df.BbMxH - df.odds_win) / df.odds_win * 100\n",
    "df[\"away_diff\"] = (df.BbMxA - df.odds_loss) / df.odds_loss * 100\n",
    "df[\"draw_diff\"] = (df.BbMxD - df.odds_draw) / df.odds_draw * 100"
   ]
  },
  {
   "cell_type": "code",
   "execution_count": 30,
   "metadata": {
    "collapsed": true
   },
   "outputs": [],
   "source": [
    "df[\"checksum\"] = df.p_draw + df.p_win + df.p_loss"
   ]
  },
  {
   "cell_type": "code",
   "execution_count": 31,
   "metadata": {},
   "outputs": [
    {
     "data": {
      "text/plain": [
       "1.0"
      ]
     },
     "execution_count": 31,
     "metadata": {},
     "output_type": "execute_result"
    }
   ],
   "source": [
    "df.checksum.max()"
   ]
  },
  {
   "cell_type": "code",
   "execution_count": 32,
   "metadata": {},
   "outputs": [
    {
     "data": {
      "text/plain": [
       "0.9999999999999999"
      ]
     },
     "execution_count": 32,
     "metadata": {},
     "output_type": "execute_result"
    }
   ],
   "source": [
    "df.checksum.min()"
   ]
  },
  {
   "cell_type": "code",
   "execution_count": 33,
   "metadata": {},
   "outputs": [
    {
     "data": {
      "text/html": [
       "<div>\n",
       "<style scoped>\n",
       "    .dataframe tbody tr th:only-of-type {\n",
       "        vertical-align: middle;\n",
       "    }\n",
       "\n",
       "    .dataframe tbody tr th {\n",
       "        vertical-align: top;\n",
       "    }\n",
       "\n",
       "    .dataframe thead th {\n",
       "        text-align: right;\n",
       "    }\n",
       "</style>\n",
       "<table border=\"1\" class=\"dataframe\">\n",
       "  <thead>\n",
       "    <tr style=\"text-align: right;\">\n",
       "      <th></th>\n",
       "      <th>ABP</th>\n",
       "      <th>AC</th>\n",
       "      <th>AF</th>\n",
       "      <th>AHW</th>\n",
       "      <th>AO</th>\n",
       "      <th>AR</th>\n",
       "      <th>AS</th>\n",
       "      <th>AST</th>\n",
       "      <th>AY</th>\n",
       "      <th>Attendance</th>\n",
       "      <th>...</th>\n",
       "      <th>p_draw</th>\n",
       "      <th>p_loss</th>\n",
       "      <th>p_win</th>\n",
       "      <th>odds_draw</th>\n",
       "      <th>odds_win</th>\n",
       "      <th>odds_loss</th>\n",
       "      <th>checksum</th>\n",
       "      <th>home_diff</th>\n",
       "      <th>away_diff</th>\n",
       "      <th>draw_diff</th>\n",
       "    </tr>\n",
       "  </thead>\n",
       "  <tbody>\n",
       "  </tbody>\n",
       "</table>\n",
       "<p>0 rows × 118 columns</p>\n",
       "</div>"
      ],
      "text/plain": [
       "Empty DataFrame\n",
       "Columns: [ABP, AC, AF, AHW, AO, AR, AS, AST, AY, Attendance, AwayTeam, B365<2.5, B365>2.5, B365A, B365AH, B365AHA, B365AHH, B365D, B365H, BSA, BSD, BSH, BWA, BWD, BWH, Bb1X2, BbAH, BbAHh, BbAv<2.5, BbAv>2.5, BbAvA, BbAvAHA, BbAvAHH, BbAvD, BbAvH, BbMx<2.5, BbMx>2.5, BbMxA, BbMxAHA, BbMxAHH, BbMxD, BbMxH, BbOU, Date, Div, FTAG, FTHG, FTR, GB<2.5, GB>2.5, GBA, GBAH, GBAHA, GBAHH, GBD, GBH, HBP, HC, HF, HHW, HO, HR, HS, HST, HTAG, HTHG, HTR, HY, HomeTeam, IWA, IWD, IWH, LBA, LBAH, LBAHA, LBAHH, LBD, LBH, PSA, PSCA, PSCD, PSCH, PSD, PSH, Referee, SBA, SBD, SBH, SJA, SJD, SJH, SOA, SOD, SOH, SYA, SYD, SYH, VCA, VCD, VCH, ...]\n",
       "Index: []\n",
       "\n",
       "[0 rows x 118 columns]"
      ]
     },
     "execution_count": 33,
     "metadata": {},
     "output_type": "execute_result"
    }
   ],
   "source": [
    "df[df.checksum < 0.995]"
   ]
  },
  {
   "cell_type": "code",
   "execution_count": 34,
   "metadata": {},
   "outputs": [
    {
     "data": {
      "text/plain": [
       "<matplotlib.axes._subplots.AxesSubplot at 0x11be185f8>"
      ]
     },
     "execution_count": 34,
     "metadata": {},
     "output_type": "execute_result"
    },
    {
     "data": {
      "image/png": "[encoded data removed]",
      "text/plain": [
       "<Figure size 432x288 with 1 Axes>"
      ]
     },
     "metadata": {},
     "output_type": "display_data"
    }
   ],
   "source": [
    "df.p_draw.hist(bins=32)"
   ]
  },
  {
   "cell_type": "code",
   "execution_count": 25,
   "metadata": {},
   "outputs": [
    {
     "data": {
      "text/plain": [
       "Timestamp('2005-05-15 00:00:00')"
      ]
     },
     "execution_count": 25,
     "metadata": {},
     "output_type": "execute_result"
    }
   ],
   "source": [
    "df[df.BbMxA.isnull()].Date.max()"
   ]
  },
  {
   "cell_type": "code",
   "execution_count": 38,
   "metadata": {},
   "outputs": [
    {
     "name": "stdout",
     "output_type": "stream",
     "text": [
      "2457\n"
     ]
    }
   ],
   "source": [
    "print(len(df[df.away_diff > 20]))"
   ]
  },
  {
   "cell_type": "code",
   "execution_count": 39,
   "metadata": {},
   "outputs": [
    {
     "name": "stdout",
     "output_type": "stream",
     "text": [
      "1387\n"
     ]
    }
   ],
   "source": [
    "print(len(df[df.home_diff > 20] ))"
   ]
  },
  {
   "cell_type": "code",
   "execution_count": 121,
   "metadata": {},
   "outputs": [
    {
     "data": {
      "text/plain": [
       "Timestamp('2005-05-15 00:00:00')"
      ]
     },
     "execution_count": 121,
     "metadata": {},
     "output_type": "execute_result"
    }
   ],
   "source": [
    "df[df.odds_win.isnull()].Date.max()"
   ]
  },
  {
   "cell_type": "code",
   "execution_count": 37,
   "metadata": {},
   "outputs": [
    {
     "data": {
      "text/plain": [
       "<matplotlib.axes._subplots.AxesSubplot at 0x11d345828>"
      ]
     },
     "execution_count": 37,
     "metadata": {},
     "output_type": "execute_result"
    },
    {
     "data": {
      "image/png": "[encoded data removed]",
      "text/plain": [
       "<Figure size 432x288 with 1 Axes>"
      ]
     },
     "metadata": {},
     "output_type": "display_data"
    }
   ],
   "source": [
    "df.home_diff.hist()"
   ]
  },
  {
   "cell_type": "code",
   "execution_count": 40,
   "metadata": {},
   "outputs": [
    {
     "data": {
      "text/plain": [
       "[<matplotlib.lines.Line2D at 0x11bee4eb8>]"
      ]
     },
     "execution_count": 40,
     "metadata": {},
     "output_type": "execute_result"
    },
    {
     "data": {
      "image/png": "[encoded data removed]",
      "text/plain": [
       "<Figure size 432x288 with 1 Axes>"
      ]
     },
     "metadata": {},
     "output_type": "display_data"
    }
   ],
   "source": [
    "money = 1000\n",
    "percent = 0.1\n",
    "total_staked = 0\n",
    "total_won = 0\n",
    "money_history = []\n",
    "# for row in df[(df.loss_diff < -0.3) & (df.expected < 0.6) & (df.expected > 0.4)].itertuples():\n",
    "for row in df[(df.home_diff > 20)].itertuples():\n",
    "\n",
    "    stake = money * percent\n",
    "    money -= stake\n",
    "    total_staked += stake\n",
    "    \n",
    "    if row.FTR == \"H\":\n",
    "        money += row.BbMxH * 0.99 * stake\n",
    "        total_won += row.BbMxH * 0.99 * stake\n",
    "    money_history.append(money)\n",
    "plt.plot(money_history)"
   ]
  },
  {
   "cell_type": "code",
   "execution_count": 124,
   "metadata": {},
   "outputs": [
    {
     "data": {
      "text/plain": [
       "<matplotlib.axes._subplots.AxesSubplot at 0x11bb276a0>"
      ]
     },
     "execution_count": 124,
     "metadata": {},
     "output_type": "execute_result"
    },
    {
     "data": {
      "image/png": "[encoded data removed]",
      "text/plain": [
       "<Figure size 432x288 with 1 Axes>"
      ]
     },
     "metadata": {},
     "output_type": "display_data"
    }
   ],
   "source": [
    "df.loss_diff.hist(bins=64)"
   ]
  },
  {
   "cell_type": "code",
   "execution_count": 125,
   "metadata": {},
   "outputs": [
    {
     "data": {
      "text/plain": [
       "0.9925336075442224"
      ]
     },
     "execution_count": 125,
     "metadata": {},
     "output_type": "execute_result"
    }
   ],
   "source": [
    "total_won / total_staked"
   ]
  },
  {
   "cell_type": "code",
   "execution_count": 126,
   "metadata": {},
   "outputs": [
    {
     "data": {
      "text/plain": [
       "5.2172855281375226"
      ]
     },
     "execution_count": 126,
     "metadata": {},
     "output_type": "execute_result"
    }
   ],
   "source": [
    "money"
   ]
  },
  {
   "cell_type": "code",
   "execution_count": 41,
   "metadata": {},
   "outputs": [
    {
     "data": {
      "text/plain": [
       "[<matplotlib.lines.Line2D at 0x11d209748>]"
      ]
     },
     "execution_count": 41,
     "metadata": {},
     "output_type": "execute_result"
    },
    {
     "data": {
      "image/png": "[encoded data removed]",
      "text/plain": [
       "<Figure size 432x288 with 1 Axes>"
      ]
     },
     "metadata": {},
     "output_type": "display_data"
    }
   ],
   "source": [
    "money = 1000\n",
    "percent = 0.1\n",
    "money_history = []\n",
    "total_staked = 0\n",
    "total_won = 0\n",
    "for row in df[(df.home_diff > 20) & (df.expected < 0.7) & (df.expected > 0.3)].itertuples():\n",
    "# for row in df[(df.win_diff > 0.2)].itertuples():\n",
    "    stake = money * percent\n",
    "    money -= stake\n",
    "    total_staked += stake\n",
    "    if row.FTR == \"H\":\n",
    "        \n",
    "        money += row.BbMxH * 0.99 * stake\n",
    "        total_won += row.BbMxH * 0.99 * stake\n",
    "    money_history.append(money)\n",
    "plt.plot(money_history)"
   ]
  },
  {
   "cell_type": "code",
   "execution_count": 128,
   "metadata": {},
   "outputs": [
    {
     "data": {
      "text/plain": [
       "8459.97836814654"
      ]
     },
     "execution_count": 128,
     "metadata": {},
     "output_type": "execute_result"
    }
   ],
   "source": [
    "money"
   ]
  },
  {
   "cell_type": "code",
   "execution_count": 129,
   "metadata": {},
   "outputs": [
    {
     "data": {
      "text/plain": [
       "1.21329238384238"
      ]
     },
     "execution_count": 129,
     "metadata": {},
     "output_type": "execute_result"
    }
   ],
   "source": [
    "total_won / total_staked"
   ]
  },
  {
   "cell_type": "code",
   "execution_count": 130,
   "metadata": {},
   "outputs": [
    {
     "data": {
      "text/plain": [
       "206"
      ]
     },
     "execution_count": 130,
     "metadata": {},
     "output_type": "execute_result"
    }
   ],
   "source": [
    "len(money_history)"
   ]
  },
  {
   "cell_type": "code",
   "execution_count": 131,
   "metadata": {},
   "outputs": [
    {
     "data": {
      "text/plain": [
       "9399.975964607267"
      ]
     },
     "execution_count": 131,
     "metadata": {},
     "output_type": "execute_result"
    }
   ],
   "source": [
    "max(money_history)"
   ]
  },
  {
   "cell_type": "code",
   "execution_count": 132,
   "metadata": {},
   "outputs": [
    {
     "data": {
      "text/plain": [
       "510.4049121821525"
      ]
     },
     "execution_count": 132,
     "metadata": {},
     "output_type": "execute_result"
    }
   ],
   "source": [
    "min(money_history)"
   ]
  },
  {
   "cell_type": "markdown",
   "metadata": {},
   "source": [
    "# With Pinnacle"
   ]
  },
  {
   "cell_type": "code",
   "execution_count": 236,
   "metadata": {
    "collapsed": true
   },
   "outputs": [],
   "source": [
    "df_p = df[~df.PSH.isnull()]"
   ]
  },
  {
   "cell_type": "code",
   "execution_count": 237,
   "metadata": {},
   "outputs": [
    {
     "data": {
      "text/plain": [
       "[<matplotlib.lines.Line2D at 0x11ab41128>]"
      ]
     },
     "execution_count": 237,
     "metadata": {},
     "output_type": "execute_result"
    },
    {
     "data": {
      "image/png": "[encoded data removed]",
      "text/plain": [
       "<Figure size 432x288 with 1 Axes>"
      ]
     },
     "metadata": {},
     "output_type": "display_data"
    }
   ],
   "source": [
    "money = 1000\n",
    "percent = 0.1\n",
    "money_history = []\n",
    "total_staked = 0\n",
    "total_won = 0\n",
    "for row in df_p[(df_p.win_diff > 0.2) & (df_p.expected < 0.7) & (df_p.expected > 0.3)].itertuples():\n",
    "# for row in df[(df.win_diff > 0.2)].itertuples():\n",
    "    stake = money * percent\n",
    "    money -= stake\n",
    "    total_staked += stake\n",
    "    if row.FTR == \"H\":\n",
    "        money += row.PSH * stake\n",
    "        total_won += row.PSH * stake\n",
    "    money_history.append(money)\n",
    "plt.plot(money_history)"
   ]
  },
  {
   "cell_type": "code",
   "execution_count": 238,
   "metadata": {},
   "outputs": [
    {
     "data": {
      "text/plain": [
       "4442.928447353714"
      ]
     },
     "execution_count": 238,
     "metadata": {},
     "output_type": "execute_result"
    }
   ],
   "source": [
    "money"
   ]
  },
  {
   "cell_type": "code",
   "execution_count": 239,
   "metadata": {},
   "outputs": [
    {
     "data": {
      "text/plain": [
       "1.2476124015893968"
      ]
     },
     "execution_count": 239,
     "metadata": {},
     "output_type": "execute_result"
    }
   ],
   "source": [
    "total_won / total_staked"
   ]
  },
  {
   "cell_type": "code",
   "execution_count": 240,
   "metadata": {},
   "outputs": [
    {
     "data": {
      "text/plain": [
       "97"
      ]
     },
     "execution_count": 240,
     "metadata": {},
     "output_type": "execute_result"
    }
   ],
   "source": [
    "len(money_history)"
   ]
  },
  {
   "cell_type": "code",
   "execution_count": 241,
   "metadata": {},
   "outputs": [
    {
     "data": {
      "text/plain": [
       "4936.587163726348"
      ]
     },
     "execution_count": 241,
     "metadata": {},
     "output_type": "execute_result"
    }
   ],
   "source": [
    "max(money_history)"
   ]
  },
  {
   "cell_type": "code",
   "execution_count": 242,
   "metadata": {},
   "outputs": [
    {
     "data": {
      "text/plain": [
       "446.3431828620015"
      ]
     },
     "execution_count": 242,
     "metadata": {},
     "output_type": "execute_result"
    }
   ],
   "source": [
    "min(money_history)"
   ]
  },
  {
   "cell_type": "markdown",
   "metadata": {},
   "source": [
    "# With Kelly"
   ]
  },
  {
   "cell_type": "code",
   "execution_count": 55,
   "metadata": {},
   "outputs": [
    {
     "name": "stdout",
     "output_type": "stream",
     "text": [
      "0.3045073360506402\n",
      "0.23009743262223767\n",
      "0.3604264415870068\n",
      "0.40757195602445756\n",
      "0.311419711653022\n",
      "0.3121986329928799\n",
      "0.416633726639327\n",
      "0.49806225109468777\n",
      "0.3599940336277037\n",
      "0.26133223649592585\n",
      "0.4330060467076154\n",
      "0.2749664131974789\n",
      "0.22977967383780992\n",
      "0.3866468046989025\n",
      "0.26822051424604954\n",
      "0.25700062693682857\n",
      "0.32865100270411884\n",
      "0.433188972465016\n",
      "0.24849863310914572\n",
      "0.44435270308638597\n",
      "0.2463155516239391\n",
      "0.35573882566463666\n",
      "0.4439283842617653\n",
      "0.2598623234926302\n",
      "0.263610016014198\n",
      "0.2833703318238917\n",
      "0.3824542509303804\n",
      "0.4752816595111998\n",
      "0.293888635284793\n",
      "0.40452768420589796\n",
      "0.45063313493220497\n",
      "0.4738189154250407\n",
      "0.23863226237530283\n",
      "0.2287902953205198\n",
      "0.2581367426831858\n",
      "0.24751311553848848\n",
      "0.27207863008003663\n",
      "0.2931149341076137\n",
      "0.3004121431446934\n",
      "0.3428916133850863\n",
      "0.2817058456087319\n",
      "0.24123270080276904\n",
      "0.29424155402515395\n",
      "0.26703852515034526\n",
      "0.3243205529366555\n",
      "0.38443447888514903\n",
      "0.25200632520738575\n",
      "0.2721246607825367\n",
      "0.30973827393103887\n",
      "0.470683100507402\n",
      "0.3370685099223481\n",
      "0.32799542401349935\n",
      "0.33430306765585366\n",
      "0.3263247181144752\n",
      "0.43942589324952136\n",
      "0.3228680399564571\n",
      "0.2905786450704034\n",
      "0.244316451561252\n",
      "0.23586811299735874\n",
      "0.3973672952639899\n",
      "0.23588900473944888\n",
      "0.4591798466089443\n",
      "0.3224942972616734\n",
      "0.40834382789676216\n",
      "0.37096850596392583\n",
      "0.32524730938171553\n",
      "0.3899990404659057\n",
      "0.3586593727034803\n",
      "0.25283699110902097\n",
      "0.2528939343458359\n",
      "0.42309871998868115\n",
      "0.34033113226981054\n",
      "0.28378757798505105\n",
      "0.3127944358607636\n",
      "0.2610249090498891\n",
      "0.3838129652686484\n",
      "0.23638636161186555\n",
      "0.36926865614400417\n",
      "0.30178629692997405\n",
      "0.328331959725073\n",
      "0.32939728959627423\n",
      "0.3230657020359341\n",
      "0.3602182316180312\n",
      "0.3670926583649267\n",
      "0.28056900480425995\n",
      "0.4121430140792113\n",
      "0.26534617096944063\n",
      "0.2674360008597245\n",
      "0.3805190289870535\n",
      "0.364801718155145\n",
      "0.33591736376155196\n",
      "0.36853885246721324\n",
      "0.3140165925177851\n",
      "0.2537251055991595\n",
      "0.3754360781848473\n",
      "0.25450100276197063\n",
      "0.3426552980076307\n",
      "0.30877809986046667\n",
      "0.3095624243189531\n",
      "0.25357648079904566\n",
      "0.35609981794816953\n",
      "0.32737117023620504\n",
      "0.3726431459034751\n",
      "0.3044980134577755\n",
      "0.3527900075319241\n",
      "0.34914352841189045\n",
      "0.3186632956899929\n",
      "0.4476319988574951\n",
      "0.386144648540159\n",
      "0.263754567905268\n",
      "0.24320636439198648\n",
      "0.3616735831534614\n",
      "0.3533246352608127\n",
      "0.3241891891499128\n",
      "0.3079730302152396\n",
      "0.363420074064101\n",
      "0.23754917524836525\n",
      "0.39286033925763997\n",
      "0.3298917048769044\n",
      "0.3738029791564486\n",
      "0.3827020121886694\n",
      "0.26895557917793805\n",
      "0.2974866883258064\n",
      "0.3099840636903545\n",
      "0.4340251302361598\n",
      "0.24381914512890535\n",
      "0.3832684126339507\n",
      "0.46805880791754956\n",
      "0.3539993373817368\n",
      "0.2972754634253286\n",
      "0.36713972026601455\n",
      "0.436149199529205\n",
      "0.30892254857049506\n",
      "0.3198516117354045\n",
      "0.3768409129840323\n",
      "0.2619402290675771\n",
      "0.28683303294419904\n",
      "0.3588650107147472\n",
      "0.29123772341236276\n",
      "0.2207558443426288\n",
      "0.26200925193025737\n",
      "0.334532775254497\n",
      "0.3134169916553343\n",
      "0.2789804645359498\n",
      "0.29955852978924763\n",
      "0.3560388175893394\n",
      "0.3406706443149006\n",
      "0.2747930449634381\n",
      "0.38775577432447544\n",
      "0.4434633881460268\n",
      "0.2745823231856363\n",
      "0.39712972246397626\n",
      "0.3466369844517997\n",
      "0.39815580886392177\n",
      "0.3317932681395045\n",
      "0.2669423920227353\n",
      "0.4461338234040013\n",
      "0.33701120076758234\n",
      "0.28451990964164003\n",
      "0.301864989357525\n",
      "0.26991530740264197\n",
      "0.3243205529366555\n",
      "0.3093599560678639\n",
      "0.34148275262074074\n",
      "0.27052856763068395\n",
      "0.3793692971411392\n",
      "0.39882108784815323\n",
      "0.35582768037577556\n",
      "0.3599596831528938\n",
      "0.30251615355622785\n",
      "0.2547536684937462\n",
      "0.35568240962621267\n",
      "0.2866474862847111\n",
      "0.38015941094223693\n",
      "0.29973225667088904\n",
      "0.3274244639828173\n",
      "0.2641436697501234\n",
      "0.25088786060785756\n",
      "0.3641101409413231\n",
      "0.311419711653022\n",
      "0.2727713367449982\n",
      "0.5026417937344723\n",
      "0.38834313610670984\n",
      "0.2544684149986726\n",
      "0.4063233882603026\n",
      "0.4246062955364868\n",
      "0.23995221189346294\n",
      "0.35853255539298196\n",
      "0.29530856723988386\n",
      "0.2643292076795294\n",
      "0.29487590675660735\n",
      "0.294325600821298\n",
      "0.22503990438489938\n",
      "0.31594040414002533\n",
      "0.3313948439838862\n",
      "0.42394625257455526\n",
      "0.4265894176132303\n",
      "0.3826087363455668\n",
      "0.3738488741625998\n",
      "0.4324570637144711\n",
      "0.29521536879748217\n",
      "0.4187266379660654\n",
      "0.381948184521241\n",
      "0.4287255000943873\n",
      "0.3076827527801664\n",
      "0.4269758316927562\n"
     ]
    },
    {
     "data": {
      "text/plain": [
       "[<matplotlib.lines.Line2D at 0x11a8867f0>]"
      ]
     },
     "execution_count": 55,
     "metadata": {},
     "output_type": "execute_result"
    },
    {
     "data": {
      "image/png": "[encoded data removed]",
      "text/plain": [
       "<Figure size 432x288 with 1 Axes>"
      ]
     },
     "metadata": {},
     "output_type": "display_data"
    }
   ],
   "source": [
    "money = 1000\n",
    "money_history = []\n",
    "total_staked = 0\n",
    "total_won = 0\n",
    "for row in df[(df.win_diff > 0.2) & (df.expected < 0.7) & (df.expected > 0.3)].itertuples():\n",
    "    kelly = ((row.p_win * row.BbMxH * 0.99) - 1) / ((row.BbMxH * 0.99) - 1)\n",
    "    print(kelly)\n",
    "    stake = money * kelly\n",
    "    money -= stake\n",
    "    total_staked += stake\n",
    "    if row.FTR == \"H\":\n",
    "        money += row.BbMxH * 0.99 * stake\n",
    "        total_won += row.BbMxH * 0.99 * stake\n",
    "    money_history.append(money)\n",
    "plt.plot(money_history)"
   ]
  },
  {
   "cell_type": "code",
   "execution_count": 56,
   "metadata": {},
   "outputs": [
    {
     "data": {
      "text/plain": [
       "3.8803364797214253e-07"
      ]
     },
     "execution_count": 56,
     "metadata": {},
     "output_type": "execute_result"
    }
   ],
   "source": [
    "money"
   ]
  },
  {
   "cell_type": "code",
   "execution_count": 57,
   "metadata": {},
   "outputs": [
    {
     "data": {
      "text/plain": [
       "0.4596952156804987"
      ]
     },
     "execution_count": 57,
     "metadata": {},
     "output_type": "execute_result"
    }
   ],
   "source": [
    "total_won / total_staked"
   ]
  },
  {
   "cell_type": "code",
   "execution_count": 58,
   "metadata": {},
   "outputs": [
    {
     "data": {
      "text/plain": [
       "206"
      ]
     },
     "execution_count": 58,
     "metadata": {},
     "output_type": "execute_result"
    }
   ],
   "source": [
    "len(money_history)"
   ]
  },
  {
   "cell_type": "code",
   "execution_count": 59,
   "metadata": {},
   "outputs": [
    {
     "data": {
      "text/plain": [
       "695.4926639493599"
      ]
     },
     "execution_count": 59,
     "metadata": {},
     "output_type": "execute_result"
    }
   ],
   "source": [
    "max(money_history)"
   ]
  },
  {
   "cell_type": "code",
   "execution_count": 60,
   "metadata": {},
   "outputs": [
    {
     "data": {
      "text/plain": [
       "3.4487365982926225e-08"
      ]
     },
     "execution_count": 60,
     "metadata": {},
     "output_type": "execute_result"
    }
   ],
   "source": [
    "min(money_history)"
   ]
  },
  {
   "cell_type": "code",
   "execution_count": 61,
   "metadata": {
    "collapsed": true
   },
   "outputs": [],
   "source": [
    "money = 1000\n",
    "percent = 0.1\n",
    "for row in df[df.draw_diff > 0.1].itertuples():\n",
    "    stake = money * percent\n",
    "    money -= stake\n",
    "    if row.FTR == \"D\":\n",
    "        money += row.BbMxD * 0.99 * stake"
   ]
  },
  {
   "cell_type": "code",
   "execution_count": 62,
   "metadata": {},
   "outputs": [
    {
     "data": {
      "text/plain": [
       "7.47779478646512e-06"
      ]
     },
     "execution_count": 62,
     "metadata": {},
     "output_type": "execute_result"
    }
   ],
   "source": [
    "money"
   ]
  },
  {
   "cell_type": "code",
   "execution_count": 63,
   "metadata": {},
   "outputs": [
    {
     "data": {
      "text/plain": [
       "593"
      ]
     },
     "execution_count": 63,
     "metadata": {},
     "output_type": "execute_result"
    }
   ],
   "source": [
    "len(df[df.draw_diff > 0.1])"
   ]
  },
  {
   "cell_type": "markdown",
   "metadata": {},
   "source": [
    "Checking Pinnacle odds"
   ]
  },
  {
   "cell_type": "code",
   "execution_count": 189,
   "metadata": {},
   "outputs": [
    {
     "data": {
      "text/plain": [
       "<matplotlib.axes._subplots.AxesSubplot at 0x11b7b2ac8>"
      ]
     },
     "execution_count": 189,
     "metadata": {},
     "output_type": "execute_result"
    },
    {
     "data": {
      "image/png": "[encoded data removed]",
      "text/plain": [
       "<Figure size 432x288 with 1 Axes>"
      ]
     },
     "metadata": {},
     "output_type": "display_data"
    }
   ],
   "source": [
    "(df.PSD / df.BbMxD).hist(bins=32)"
   ]
  },
  {
   "cell_type": "code",
   "execution_count": 191,
   "metadata": {},
   "outputs": [
    {
     "data": {
      "text/plain": [
       "0.9814203677363655"
      ]
     },
     "execution_count": 191,
     "metadata": {},
     "output_type": "execute_result"
    }
   ],
   "source": [
    "np.mean(df.PSD / df.BbMxD)"
   ]
  },
  {
   "cell_type": "code",
   "execution_count": 196,
   "metadata": {},
   "outputs": [
    {
     "data": {
      "text/plain": [
       "0.9853658536585367"
      ]
     },
     "execution_count": 196,
     "metadata": {},
     "output_type": "execute_result"
    }
   ],
   "source": [
    "np.median((df.PSD / df.BbMxD).dropna())"
   ]
  },
  {
   "cell_type": "code",
   "execution_count": 199,
   "metadata": {},
   "outputs": [
    {
     "data": {
      "text/plain": [
       "0.9683649710697675"
      ]
     },
     "execution_count": 199,
     "metadata": {},
     "output_type": "execute_result"
    }
   ],
   "source": [
    "np.mean(df.PSA / df.BbMxA)"
   ]
  },
  {
   "cell_type": "code",
   "execution_count": 200,
   "metadata": {},
   "outputs": [
    {
     "data": {
      "text/plain": [
       "0.9775"
      ]
     },
     "execution_count": 200,
     "metadata": {},
     "output_type": "execute_result"
    }
   ],
   "source": [
    "np.median((df.PSA / df.BbMxA).dropna())"
   ]
  },
  {
   "cell_type": "code",
   "execution_count": 197,
   "metadata": {},
   "outputs": [
    {
     "data": {
      "text/plain": [
       "0.9741124846492875"
      ]
     },
     "execution_count": 197,
     "metadata": {},
     "output_type": "execute_result"
    }
   ],
   "source": [
    "np.mean(df.PSH/ df.BbMxH)"
   ]
  },
  {
   "cell_type": "code",
   "execution_count": 198,
   "metadata": {},
   "outputs": [
    {
     "data": {
      "text/plain": [
       "0.9784714497589915"
      ]
     },
     "execution_count": 198,
     "metadata": {},
     "output_type": "execute_result"
    }
   ],
   "source": [
    "np.median((df.PSH / df.BbMxH).dropna())"
   ]
  },
  {
   "cell_type": "markdown",
   "metadata": {},
   "source": [
    "# To do\n",
    "1. Try other leagues\n",
    "2. optimise k\n",
    "3. optimise the power of the GD factor to something other than 0.5?\n"
   ]
  },
  {
   "cell_type": "markdown",
   "metadata": {},
   "source": [
    "# Turkey"
   ]
  },
  {
   "cell_type": "code",
   "execution_count": 14,
   "metadata": {
    "collapsed": true
   },
   "outputs": [],
   "source": [
    "df = pd.read_csv(\"../xgbetting/data/tur/01.csv\", parse_dates=[\"Date\"], dayfirst=True)\n",
    "\n",
    "df.sort_values(\"Date\", inplace=True)\n",
    "\n",
    "df[\"home_elo\"] = np.nan\n",
    "df[\"away_elo\"] = np.nan\n",
    "\n",
    "elo_dict = {side: 1000 for side in list(set(df.HomeTeam))}"
   ]
  },
  {
   "cell_type": "code",
   "execution_count": 15,
   "metadata": {
    "collapsed": true
   },
   "outputs": [],
   "source": [
    "\n",
    "for row in df.itertuples():\n",
    "    i = row.Index\n",
    "    ht = row.HomeTeam\n",
    "    at = row.AwayTeam\n",
    "    diff = elo_dict[ht] - elo_dict[at]\n",
    "    prob_diff = expected_result_from_diff(diff)\n",
    "    df.loc[i, \"expected\"] = prob_diff\n",
    "    if prob_diff < 0.5: \n",
    "        hg_lam = 0.2 + 1.1*np.sqrt(prob_diff/0.5)\n",
    "    else: \n",
    "        hg_lam = 1.69 / (1.12 * np.sqrt(2 - prob_diff / 0.5) + 0.18)\n",
    "\n",
    "    if prob_diff < 0.8: \n",
    "        ag_lam = -0.96 + 1 / (0.1 + 0.44 * np.sqrt((prob_diff + 0.1) / 0.9))\n",
    "    else: \n",
    "        ag_lam = 0.72 * np.sqrt((1 - prob_diff) / 0.3) + 0.3\n",
    "    \n",
    "    p_win = 0\n",
    "    p_draw = 0\n",
    "    p_loss = 0\n",
    "    \n",
    "    ph = poisson.pmf(list(range(9)), hg_lam)\n",
    "    pa = poisson.pmf(list(range(9)), ag_lam)\n",
    "    for h in range(9):\n",
    "        for a in range(9):\n",
    "            if h == a:\n",
    "                p_draw += pa[a] * ph[h]\n",
    "            elif h > a:\n",
    "                p_win += pa[a] * ph[h]\n",
    "            elif h < a:\n",
    "                p_loss += pa[a] * ph[h]\n",
    "        \n",
    "    df.loc[i, \"hg_lam\"] = hg_lam\n",
    "    df.loc[i, \"ag_lam\"] = ag_lam\n",
    "    df.loc[i, \"p_win\"] = p_win\n",
    "    df.loc[i, \"p_loss\"] = p_loss\n",
    "    df.loc[i, \"p_draw\"] = p_draw\n",
    "    home_elo, away_elo = update_elo(elo_dict[ht], elo_dict[at], \n",
    "                                   row.FTHG, row.FTAG)\n",
    "    hfa = 0.075 * (home_elo - elo_dict[ht])\n",
    "    elo_dict[ht] = home_elo\n",
    "    elo_dict[at] = away_elo\n",
    "    df.loc[i, \"home_elo\"] = home_elo\n",
    "    df.loc[i, \"away_elo\"] = away_elo    "
   ]
  },
  {
   "cell_type": "code",
   "execution_count": 16,
   "metadata": {},
   "outputs": [
    {
     "name": "stdout",
     "output_type": "stream",
     "text": [
      "02.csv\n",
      "03.csv\n",
      "04.csv\n",
      "05.csv\n",
      "06.csv\n",
      "07.csv\n",
      "08.csv\n",
      "09.csv\n",
      "10.csv\n",
      "11.csv\n",
      "12.csv\n"
     ]
    }
   ],
   "source": [
    "path = \"../xgbetting/data/tur/\"\n",
    "df_old = df.copy()\n",
    "for file in sorted(os.listdir(\"../xgbetting/data/tur/\")):\n",
    "    if (int(file[0:2]) > 1) & (int(file[0:2]) < 13):\n",
    "        print(file)\n",
    "        df_new = pd.read_csv(path + file, parse_dates=[\"Date\"], dayfirst=True,  encoding=\"latin-1\")\n",
    "        old_sides = list(set(df_old.HomeTeam.dropna()))\n",
    "        new_sides = list(set(df_new.HomeTeam.dropna()))\n",
    "        relegated_sides = np.setdiff1d(old_sides, new_sides)\n",
    "        promoted_sides = np.setdiff1d(new_sides, old_sides)\n",
    "        relegated_elo_avg = int(sum([elo_dict.pop(side) for side in relegated_sides]) / 3)\n",
    "        elo_dict.update({side: relegated_elo_avg for side in promoted_sides})\n",
    "        for row in df_new.itertuples():\n",
    "            i = row.Index\n",
    "            ht = row.HomeTeam\n",
    "            at = row.AwayTeam\n",
    "            diff = elo_dict[ht] - elo_dict[at]\n",
    "            prob_diff = expected_result_from_diff(diff)\n",
    "            df.loc[i, \"expected\"] = prob_diff\n",
    "            if prob_diff < 0.5: \n",
    "                hg_lam = 0.2 + 1.1*np.sqrt(prob_diff/0.5)\n",
    "            else: \n",
    "                hg_lam = 1.69 / (1.12 * np.sqrt(2 - prob_diff / 0.5) + 0.18)\n",
    "    \n",
    "            if prob_diff < 0.8: \n",
    "                ag_lam = -0.96 + 1 / (0.1 + 0.44 * np.sqrt((prob_diff + 0.1) / 0.9))\n",
    "            else: \n",
    "                ag_lam = 0.72 * np.sqrt((1 - prob_diff) / 0.3) + 0.3\n",
    "            p_win = 0\n",
    "            p_draw = 0\n",
    "            p_loss = 0\n",
    "    \n",
    "            ph = poisson.pmf(list(range(9)), hg_lam)\n",
    "            pa = poisson.pmf(list(range(9)), ag_lam)\n",
    "            for h in range(9):\n",
    "                for a in range(9):\n",
    "                    if h == a:\n",
    "                        p_draw += pa[a] * ph[h]\n",
    "                    elif h > a:\n",
    "                        p_win += pa[a] * ph[h]\n",
    "                    elif h < a:\n",
    "                        p_loss += pa[a] * ph[h]\n",
    "        \n",
    "            df.loc[i, \"hg_lam\"] = hg_lam\n",
    "            df.loc[i, \"ag_lam\"] = ag_lam\n",
    "            df.loc[i, \"p_win\"] = p_win\n",
    "            df.loc[i, \"p_loss\"] = p_loss\n",
    "            df.loc[i, \"p_draw\"] = p_draw\n",
    "            \n",
    "            df.loc[i, \"hg_lam\"] = hg_lam\n",
    "            df.loc[i, \"ag_lam\"] = ag_lam\n",
    "    \n",
    "            home_elo, away_elo = update_elo(elo_dict[ht], elo_dict[at], \n",
    "                                           row.FTHG, row.FTAG)\n",
    "            hfa = 0.075 * (home_elo - elo_dict[ht])\n",
    "            elo_dict[ht] = home_elo\n",
    "            elo_dict[at] = away_elo\n",
    "            df_new.loc[i, \"home_elo\"] = home_elo\n",
    "            df_new.loc[i, \"away_elo\"] = away_elo\n",
    "        df = pd.concat([df, df_new])\n",
    "            \n",
    "        df_old = df_new\n",
    "        "
   ]
  },
  {
   "cell_type": "code",
   "execution_count": 28,
   "metadata": {
    "collapsed": true
   },
   "outputs": [],
   "source": [
    "df_late = df[df.Date > pd.datetime(2002, 7, 1)]"
   ]
  },
  {
   "cell_type": "code",
   "execution_count": 29,
   "metadata": {
    "collapsed": true
   },
   "outputs": [],
   "source": [
    "\n",
    "# taken from https://drive.google.com/file/d/0Bxr6KEe4KY_OYnJuLUw1WF9GcGs/view\n",
    "df[\"p_draw\"] = df.expected.apply(lambda x: (4 / 3) * x * (1 - x))\n",
    "df[\"p_win\"] = df.expected - (0.5 * df.p_draw)\n",
    "df[\"p_loss\"] = 1 - df.expected - (0.5 * df.p_draw)"
   ]
  },
  {
   "cell_type": "code",
   "execution_count": 30,
   "metadata": {
    "collapsed": true
   },
   "outputs": [],
   "source": [
    "df[\"odds_win\"] = 1 / df.BbMxH \n",
    "df[\"odds_draw\"] = 1 / df.BbMxD\n",
    "df[\"odds_loss\"] = 1 / df.BbMxA "
   ]
  },
  {
   "cell_type": "code",
   "execution_count": 31,
   "metadata": {
    "collapsed": true
   },
   "outputs": [],
   "source": [
    "df[\"win_diff\"] =  df.p_win - df.odds_win\n",
    "df[\"draw_diff\"] = df.p_draw - df.odds_draw\n",
    "df[\"loss_diff\"] = df.p_loss - df.odds_loss"
   ]
  },
  {
   "cell_type": "code",
   "execution_count": 33,
   "metadata": {
    "collapsed": true
   },
   "outputs": [],
   "source": [
    "df_late = df[df.Date > pd.datetime(2002, 7, 1)]"
   ]
  },
  {
   "cell_type": "code",
   "execution_count": 38,
   "metadata": {},
   "outputs": [
    {
     "data": {
      "text/plain": [
       "[<matplotlib.lines.Line2D at 0x10d79e748>]"
      ]
     },
     "execution_count": 38,
     "metadata": {},
     "output_type": "execute_result"
    },
    {
     "data": {
      "image/png": "[encoded data removed]",
      "text/plain": [
       "<Figure size 432x288 with 1 Axes>"
      ]
     },
     "metadata": {},
     "output_type": "display_data"
    }
   ],
   "source": [
    "money = 1000\n",
    "percent = 0.1\n",
    "money_history = []\n",
    "total_staked = 0\n",
    "total_won = 0\n",
    "for row in df_late[(df_late.win_diff > 0.2) & (df_late.expected < 0.7) & (df_late.expected > 0.3)].itertuples():\n",
    "# for row in df[(df.win_diff > 0.2)].itertuples():\n",
    "    stake = money * percent\n",
    "    money -= stake\n",
    "    total_staked += stake\n",
    "    if row.FTR == \"H\":\n",
    "        money += row.BbMxH * 0.978 * stake\n",
    "        total_won += row.BbMxH * 0.978 * stake\n",
    "    money_history.append(money)\n",
    "plt.plot(money_history)"
   ]
  },
  {
   "cell_type": "code",
   "execution_count": 39,
   "metadata": {},
   "outputs": [
    {
     "data": {
      "text/plain": [
       "2702.558800557113"
      ]
     },
     "execution_count": 39,
     "metadata": {},
     "output_type": "execute_result"
    }
   ],
   "source": [
    "money"
   ]
  },
  {
   "cell_type": "code",
   "execution_count": 40,
   "metadata": {},
   "outputs": [
    {
     "data": {
      "text/plain": [
       "1.1631692930477395"
      ]
     },
     "execution_count": 40,
     "metadata": {},
     "output_type": "execute_result"
    }
   ],
   "source": [
    "total_won / total_staked"
   ]
  },
  {
   "cell_type": "code",
   "execution_count": 37,
   "metadata": {},
   "outputs": [
    {
     "data": {
      "text/plain": [
       "66"
      ]
     },
     "execution_count": 37,
     "metadata": {},
     "output_type": "execute_result"
    }
   ],
   "source": [
    "len(money_history)"
   ]
  },
  {
   "cell_type": "code",
   "execution_count": 161,
   "metadata": {},
   "outputs": [
    {
     "data": {
      "text/plain": [
       "3250.9894128959363"
      ]
     },
     "execution_count": 161,
     "metadata": {},
     "output_type": "execute_result"
    }
   ],
   "source": [
    "max(money_history)"
   ]
  },
  {
   "cell_type": "code",
   "execution_count": 162,
   "metadata": {},
   "outputs": [
    {
     "data": {
      "text/plain": [
       "726.0764654798477"
      ]
     },
     "execution_count": 162,
     "metadata": {},
     "output_type": "execute_result"
    }
   ],
   "source": [
    "min(money_history)"
   ]
  },
  {
   "cell_type": "code",
   "execution_count": 164,
   "metadata": {},
   "outputs": [
    {
     "data": {
      "text/plain": [
       "Index(['AwayTeam', 'B365A', 'B365D', 'B365H', 'BSA', 'BSD', 'BSH', 'BWA',\n",
       "       'BWD', 'BWH', 'Bb1X2', 'BbAH', 'BbAHh', 'BbAv<2.5', 'BbAv>2.5', 'BbAvA',\n",
       "       'BbAvAHA', 'BbAvAHH', 'BbAvD', 'BbAvH', 'BbMx<2.5', 'BbMx>2.5', 'BbMxA',\n",
       "       'BbMxAHA', 'BbMxAHH', 'BbMxD', 'BbMxH', 'BbOU', 'Date', 'Div', 'FTAG',\n",
       "       'FTHG', 'FTR', 'GB<2.5', 'GB>2.5', 'GBA', 'GBAH', 'GBAHA', 'GBAHH',\n",
       "       'GBD', 'GBH', 'HTAG', 'HTHG', 'HTR', 'HomeTeam', 'IWA', 'IWD', 'IWH',\n",
       "       'LBA', 'LBD', 'LBH', 'SBA', 'SBD', 'SBH', 'SJA', 'SJD', 'SJH', 'SYA',\n",
       "       'SYD', 'SYH', 'Unnamed: 25', 'Unnamed: 26', 'Unnamed: 36',\n",
       "       'Unnamed: 37', 'Unnamed: 38', 'Unnamed: 39', 'Unnamed: 40',\n",
       "       'Unnamed: 41', 'Unnamed: 42', 'Unnamed: 43', 'Unnamed: 44',\n",
       "       'Unnamed: 45', 'Unnamed: 46', 'Unnamed: 47', 'Unnamed: 48',\n",
       "       'Unnamed: 49', 'Unnamed: 50', 'Unnamed: 58', 'Unnamed: 59',\n",
       "       'Unnamed: 60', 'VCA', 'VCD', 'VCH', 'WHA', 'WHD', 'WHH', 'ag_lam',\n",
       "       'away_elo', 'expected', 'hg_lam', 'home_elo', 'p_draw', 'p_loss',\n",
       "       'p_win', 'odds_win', 'odds_draw', 'odds_loss', 'win_diff', 'draw_diff',\n",
       "       'loss_diff'],\n",
       "      dtype='object')"
      ]
     },
     "execution_count": 164,
     "metadata": {},
     "output_type": "execute_result"
    }
   ],
   "source": [
    "df.columns"
   ]
  },
  {
   "cell_type": "markdown",
   "metadata": {},
   "source": [
    "# Calcualte difference, look at histogram and decide on bins"
   ]
  },
  {
   "cell_type": "code",
   "execution_count": 560,
   "metadata": {},
   "outputs": [
    {
     "data": {
      "text/plain": [
       "<matplotlib.axes._subplots.AxesSubplot at 0x119281ba8>"
      ]
     },
     "execution_count": 560,
     "metadata": {},
     "output_type": "execute_result"
    },
    {
     "data": {
      "image/png": "[encoded data removed]",
      "text/plain": [
       "<Figure size 432x288 with 1 Axes>"
      ]
     },
     "metadata": {},
     "output_type": "display_data"
    }
   ],
   "source": [
    "df.elo_diff.hist(bins=50)"
   ]
  },
  {
   "cell_type": "code",
   "execution_count": 562,
   "metadata": {},
   "outputs": [
    {
     "data": {
      "text/plain": [
       "466.0"
      ]
     },
     "execution_count": 562,
     "metadata": {},
     "output_type": "execute_result"
    }
   ],
   "source": [
    "df.elo_diff.max()"
   ]
  },
  {
   "cell_type": "code",
   "execution_count": 563,
   "metadata": {},
   "outputs": [
    {
     "data": {
      "text/plain": [
       "-492.0"
      ]
     },
     "execution_count": 563,
     "metadata": {},
     "output_type": "execute_result"
    }
   ],
   "source": [
    "df.elo_diff.min()"
   ]
  },
  {
   "cell_type": "markdown",
   "metadata": {},
   "source": [
    "Divide into bins of equal size"
   ]
  },
  {
   "cell_type": "code",
   "execution_count": 573,
   "metadata": {
    "collapsed": true
   },
   "outputs": [],
   "source": [
    "df.to_csv(\"../xgbetting/processed/all_seasons_with_elo_k=15_hfa=75_mean_relegation.csv\")"
   ]
  },
  {
   "cell_type": "code",
   "execution_count": 638,
   "metadata": {
    "collapsed": true
   },
   "outputs": [],
   "source": [
    "df_late = df[df.Date > pd.datetime(2003, 7, 1)]"
   ]
  },
  {
   "cell_type": "code",
   "execution_count": 639,
   "metadata": {},
   "outputs": [
    {
     "name": "stderr",
     "output_type": "stream",
     "text": [
      "/Users/alexandergreen/anaconda/lib/python3.6/site-packages/ipykernel/__main__.py:1: SettingWithCopyWarning: \n",
      "A value is trying to be set on a copy of a slice from a DataFrame\n",
      "\n",
      "See the caveats in the documentation: http://pandas.pydata.org/pandas-docs/stable/indexing.html#indexing-view-versus-copy\n",
      "  if __name__ == '__main__':\n"
     ]
    }
   ],
   "source": [
    "df_late.sort_values(\"elo_diff\", inplace=True)\n"
   ]
  },
  {
   "cell_type": "code",
   "execution_count": 644,
   "metadata": {
    "collapsed": true
   },
   "outputs": [],
   "source": [
    "win = {}\n",
    "lose = {}\n",
    "draw = {}\n",
    "start = 0\n",
    "n = 200\n",
    "for i in range(int(len(df_late) / n)):\n",
    "    end = start + n\n",
    "    df_temp = df_late.iloc[start:end]\n",
    "    key = df_temp.elo_diff.min()\n",
    "    win[key] = len(df_temp[df_temp.FTR == \"H\"]) / (n / 100)\n",
    "    lose[key] = len(df_temp[df_temp.FTR == \"A\"]) / (n / 100)\n",
    "    draw[key] = len(df_temp[df_temp.FTR == \"D\"]) / (n / 100)\n",
    "    start = end"
   ]
  },
  {
   "cell_type": "code",
   "execution_count": 645,
   "metadata": {},
   "outputs": [
    {
     "data": {
      "text/plain": [
       "[<matplotlib.lines.Line2D at 0x11c01f5c0>]"
      ]
     },
     "execution_count": 645,
     "metadata": {},
     "output_type": "execute_result"
    },
    {
     "data": {
      "image/png": "[encoded data removed]",
      "text/plain": [
       "<Figure size 432x288 with 1 Axes>"
      ]
     },
     "metadata": {},
     "output_type": "display_data"
    }
   ],
   "source": [
    "plt.plot(win.keys(), win.values(), \"b-\")\n",
    "plt.plot(draw.keys(), draw.values(), \"g-\")\n",
    "plt.plot(lose.keys(), lose.values(), \"r-\")"
   ]
  },
  {
   "cell_type": "markdown",
   "metadata": {},
   "source": [
    "# Appendix"
   ]
  },
  {
   "cell_type": "markdown",
   "metadata": {},
   "source": [
    "# 1. Which goal differene measure to use?"
   ]
  },
  {
   "cell_type": "code",
   "execution_count": 476,
   "metadata": {},
   "outputs": [
    {
     "data": {
      "text/plain": [
       "19982.0"
      ]
     },
     "execution_count": 476,
     "metadata": {},
     "output_type": "execute_result"
    }
   ],
   "source": [
    "sum(elo_dict.values())"
   ]
  },
  {
   "cell_type": "code",
   "execution_count": 115,
   "metadata": {
    "collapsed": true
   },
   "outputs": [],
   "source": [
    "x = [0,1,2,3,4,5,6,7,8,9]\n",
    "def world_elo(x):\n",
    "    return [1,1,1.5] + [(11 + g) / 8 for g in x if g > 2]\n",
    "def lam(x):\n",
    "    return [(1 + g) ** 0.45 for g in x]\n",
    "def root(x):\n",
    "    return [1] + [g ** 0.5 for g in x if g > 0]"
   ]
  },
  {
   "cell_type": "code",
   "execution_count": 116,
   "metadata": {
    "collapsed": true
   },
   "outputs": [],
   "source": [
    "w = world_elo(x)"
   ]
  },
  {
   "cell_type": "code",
   "execution_count": 117,
   "metadata": {
    "collapsed": true
   },
   "outputs": [],
   "source": [
    "l = lam(x)"
   ]
  },
  {
   "cell_type": "code",
   "execution_count": 118,
   "metadata": {
    "collapsed": true
   },
   "outputs": [],
   "source": [
    "r = root(x)"
   ]
  },
  {
   "cell_type": "code",
   "execution_count": 119,
   "metadata": {},
   "outputs": [
    {
     "data": {
      "text/plain": [
       "[<matplotlib.lines.Line2D at 0x1187e1ef0>]"
      ]
     },
     "execution_count": 119,
     "metadata": {},
     "output_type": "execute_result"
    },
    {
     "data": {
      "image/png": "[encoded data removed]",
      "text/plain": [
       "<Figure size 432x288 with 1 Axes>"
      ]
     },
     "metadata": {},
     "output_type": "display_data"
    }
   ],
   "source": [
    "plt.plot(x, w, \"r-\")\n",
    "plt.plot(x, l, \"g-\")\n",
    "plt.plot(x, r, \"b-\")"
   ]
  },
  {
   "cell_type": "code",
   "execution_count": 646,
   "metadata": {},
   "outputs": [
    {
     "data": {
      "text/plain": [
       "[1,\n",
       " 1.0,\n",
       " 1.4142135623730951,\n",
       " 1.7320508075688772,\n",
       " 2.0,\n",
       " 2.23606797749979,\n",
       " 2.449489742783178,\n",
       " 2.6457513110645907,\n",
       " 2.8284271247461903,\n",
       " 3.0]"
      ]
     },
     "execution_count": 646,
     "metadata": {},
     "output_type": "execute_result"
    }
   ],
   "source": [
    "r"
   ]
  },
  {
   "cell_type": "code",
   "execution_count": null,
   "metadata": {
    "collapsed": true
   },
   "outputs": [],
   "source": []
  }
 ],
 "metadata": {
  "kernelspec": {
   "display_name": "Python [default]",
   "language": "python",
   "name": "python3"
  },
  "language_info": {
   "codemirror_mode": {
    "name": "ipython",
    "version": 3
   },
   "file_extension": ".py",
   "mimetype": "text/x-python",
   "name": "python",
   "nbconvert_exporter": "python",
   "pygments_lexer": "ipython3",
   "version": "3.6.5"
  }
 },
 "nbformat": 4,
 "nbformat_minor": 1
}
