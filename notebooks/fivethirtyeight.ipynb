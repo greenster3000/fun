{
 "cells": [
  {
   "cell_type": "code",
   "execution_count": 1,
   "metadata": {
    "collapsed": true
   },
   "outputs": [],
   "source": [
    "import pandas as pd\n",
    "import numpy as np\n",
    "% matplotlib inline\n",
    "import matplotlib.pyplot as plt"
   ]
  },
  {
   "cell_type": "code",
   "execution_count": 2,
   "metadata": {
    "collapsed": true
   },
   "outputs": [],
   "source": [
    "df = pd.read_csv(\"../data/spi_matches.csv\", parse_dates=[\"date\"])"
   ]
  },
  {
   "cell_type": "code",
   "execution_count": 3,
   "metadata": {
    "collapsed": true
   },
   "outputs": [],
   "source": [
    "df[\"result\"] = df.apply(\n",
    "    lambda row: \"H\" if row.score1 > row.score2 else (\n",
    "        \"D\" if row.score1 == row.score2 else \"A\"), axis=1)\n"
   ]
  },
  {
   "cell_type": "code",
   "execution_count": 4,
   "metadata": {},
   "outputs": [
    {
     "data": {
      "text/html": [
       "<div>\n",
       "<style scoped>\n",
       "    .dataframe tbody tr th:only-of-type {\n",
       "        vertical-align: middle;\n",
       "    }\n",
       "\n",
       "    .dataframe tbody tr th {\n",
       "        vertical-align: top;\n",
       "    }\n",
       "\n",
       "    .dataframe thead th {\n",
       "        text-align: right;\n",
       "    }\n",
       "</style>\n",
       "<table border=\"1\" class=\"dataframe\">\n",
       "  <thead>\n",
       "    <tr style=\"text-align: right;\">\n",
       "      <th></th>\n",
       "      <th>date</th>\n",
       "      <th>league_id</th>\n",
       "      <th>league</th>\n",
       "      <th>team1</th>\n",
       "      <th>team2</th>\n",
       "      <th>spi1</th>\n",
       "      <th>spi2</th>\n",
       "      <th>prob1</th>\n",
       "      <th>prob2</th>\n",
       "      <th>probtie</th>\n",
       "      <th>...</th>\n",
       "      <th>importance2</th>\n",
       "      <th>score1</th>\n",
       "      <th>score2</th>\n",
       "      <th>xg1</th>\n",
       "      <th>xg2</th>\n",
       "      <th>nsxg1</th>\n",
       "      <th>nsxg2</th>\n",
       "      <th>adj_score1</th>\n",
       "      <th>adj_score2</th>\n",
       "      <th>result</th>\n",
       "    </tr>\n",
       "  </thead>\n",
       "  <tbody>\n",
       "    <tr>\n",
       "      <th>0</th>\n",
       "      <td>2016-08-12</td>\n",
       "      <td>1843</td>\n",
       "      <td>French Ligue 1</td>\n",
       "      <td>Bastia</td>\n",
       "      <td>Paris Saint-Germain</td>\n",
       "      <td>51.16</td>\n",
       "      <td>85.68</td>\n",
       "      <td>0.0463</td>\n",
       "      <td>0.8380</td>\n",
       "      <td>0.1157</td>\n",
       "      <td>...</td>\n",
       "      <td>67.7</td>\n",
       "      <td>0.0</td>\n",
       "      <td>1.0</td>\n",
       "      <td>0.97</td>\n",
       "      <td>0.63</td>\n",
       "      <td>0.43</td>\n",
       "      <td>0.45</td>\n",
       "      <td>0.0</td>\n",
       "      <td>1.05</td>\n",
       "      <td>A</td>\n",
       "    </tr>\n",
       "    <tr>\n",
       "      <th>1</th>\n",
       "      <td>2016-08-12</td>\n",
       "      <td>1843</td>\n",
       "      <td>French Ligue 1</td>\n",
       "      <td>AS Monaco</td>\n",
       "      <td>Guingamp</td>\n",
       "      <td>68.85</td>\n",
       "      <td>56.48</td>\n",
       "      <td>0.5714</td>\n",
       "      <td>0.1669</td>\n",
       "      <td>0.2617</td>\n",
       "      <td>...</td>\n",
       "      <td>22.9</td>\n",
       "      <td>2.0</td>\n",
       "      <td>2.0</td>\n",
       "      <td>2.45</td>\n",
       "      <td>0.77</td>\n",
       "      <td>1.75</td>\n",
       "      <td>0.42</td>\n",
       "      <td>2.1</td>\n",
       "      <td>2.10</td>\n",
       "      <td>D</td>\n",
       "    </tr>\n",
       "    <tr>\n",
       "      <th>2</th>\n",
       "      <td>2016-08-13</td>\n",
       "      <td>2411</td>\n",
       "      <td>Barclays Premier League</td>\n",
       "      <td>Hull City</td>\n",
       "      <td>Leicester City</td>\n",
       "      <td>53.57</td>\n",
       "      <td>66.81</td>\n",
       "      <td>0.3459</td>\n",
       "      <td>0.3621</td>\n",
       "      <td>0.2921</td>\n",
       "      <td>...</td>\n",
       "      <td>22.2</td>\n",
       "      <td>2.0</td>\n",
       "      <td>1.0</td>\n",
       "      <td>0.85</td>\n",
       "      <td>2.77</td>\n",
       "      <td>0.17</td>\n",
       "      <td>1.25</td>\n",
       "      <td>2.1</td>\n",
       "      <td>1.05</td>\n",
       "      <td>H</td>\n",
       "    </tr>\n",
       "  </tbody>\n",
       "</table>\n",
       "<p>3 rows × 23 columns</p>\n",
       "</div>"
      ],
      "text/plain": [
       "        date  league_id                   league      team1  \\\n",
       "0 2016-08-12       1843           French Ligue 1     Bastia   \n",
       "1 2016-08-12       1843           French Ligue 1  AS Monaco   \n",
       "2 2016-08-13       2411  Barclays Premier League  Hull City   \n",
       "\n",
       "                 team2   spi1   spi2   prob1   prob2  probtie   ...    \\\n",
       "0  Paris Saint-Germain  51.16  85.68  0.0463  0.8380   0.1157   ...     \n",
       "1             Guingamp  68.85  56.48  0.5714  0.1669   0.2617   ...     \n",
       "2       Leicester City  53.57  66.81  0.3459  0.3621   0.2921   ...     \n",
       "\n",
       "   importance2  score1  score2   xg1   xg2  nsxg1  nsxg2  adj_score1  \\\n",
       "0         67.7     0.0     1.0  0.97  0.63   0.43   0.45         0.0   \n",
       "1         22.9     2.0     2.0  2.45  0.77   1.75   0.42         2.1   \n",
       "2         22.2     2.0     1.0  0.85  2.77   0.17   1.25         2.1   \n",
       "\n",
       "   adj_score2  result  \n",
       "0        1.05       A  \n",
       "1        2.10       D  \n",
       "2        1.05       H  \n",
       "\n",
       "[3 rows x 23 columns]"
      ]
     },
     "execution_count": 4,
     "metadata": {},
     "output_type": "execute_result"
    }
   ],
   "source": [
    "df.head(3)"
   ]
  },
  {
   "cell_type": "code",
   "execution_count": 5,
   "metadata": {
    "collapsed": true
   },
   "outputs": [],
   "source": [
    "df[\"pred\"] = df.apply(lambda row: \"H\" if row.prob1 == max(row.prob1, row.prob2, row.probtie) else (\n",
    "\"D\" if row.prob1 == max(row.prob1, row.prob2, row.probtie) else \"A\"), axis=1)\n"
   ]
  },
  {
   "cell_type": "code",
   "execution_count": 6,
   "metadata": {},
   "outputs": [
    {
     "data": {
      "text/html": [
       "<div>\n",
       "<style scoped>\n",
       "    .dataframe tbody tr th:only-of-type {\n",
       "        vertical-align: middle;\n",
       "    }\n",
       "\n",
       "    .dataframe tbody tr th {\n",
       "        vertical-align: top;\n",
       "    }\n",
       "\n",
       "    .dataframe thead th {\n",
       "        text-align: right;\n",
       "    }\n",
       "</style>\n",
       "<table border=\"1\" class=\"dataframe\">\n",
       "  <thead>\n",
       "    <tr style=\"text-align: right;\">\n",
       "      <th></th>\n",
       "      <th>date</th>\n",
       "      <th>league_id</th>\n",
       "      <th>league</th>\n",
       "      <th>team1</th>\n",
       "      <th>team2</th>\n",
       "      <th>spi1</th>\n",
       "      <th>spi2</th>\n",
       "      <th>prob1</th>\n",
       "      <th>prob2</th>\n",
       "      <th>probtie</th>\n",
       "      <th>...</th>\n",
       "      <th>score1</th>\n",
       "      <th>score2</th>\n",
       "      <th>xg1</th>\n",
       "      <th>xg2</th>\n",
       "      <th>nsxg1</th>\n",
       "      <th>nsxg2</th>\n",
       "      <th>adj_score1</th>\n",
       "      <th>adj_score2</th>\n",
       "      <th>result</th>\n",
       "      <th>pred</th>\n",
       "    </tr>\n",
       "  </thead>\n",
       "  <tbody>\n",
       "    <tr>\n",
       "      <th>0</th>\n",
       "      <td>2016-08-12</td>\n",
       "      <td>1843</td>\n",
       "      <td>French Ligue 1</td>\n",
       "      <td>Bastia</td>\n",
       "      <td>Paris Saint-Germain</td>\n",
       "      <td>51.16</td>\n",
       "      <td>85.68</td>\n",
       "      <td>0.0463</td>\n",
       "      <td>0.8380</td>\n",
       "      <td>0.1157</td>\n",
       "      <td>...</td>\n",
       "      <td>0.0</td>\n",
       "      <td>1.0</td>\n",
       "      <td>0.97</td>\n",
       "      <td>0.63</td>\n",
       "      <td>0.43</td>\n",
       "      <td>0.45</td>\n",
       "      <td>0.0</td>\n",
       "      <td>1.05</td>\n",
       "      <td>A</td>\n",
       "      <td>A</td>\n",
       "    </tr>\n",
       "    <tr>\n",
       "      <th>1</th>\n",
       "      <td>2016-08-12</td>\n",
       "      <td>1843</td>\n",
       "      <td>French Ligue 1</td>\n",
       "      <td>AS Monaco</td>\n",
       "      <td>Guingamp</td>\n",
       "      <td>68.85</td>\n",
       "      <td>56.48</td>\n",
       "      <td>0.5714</td>\n",
       "      <td>0.1669</td>\n",
       "      <td>0.2617</td>\n",
       "      <td>...</td>\n",
       "      <td>2.0</td>\n",
       "      <td>2.0</td>\n",
       "      <td>2.45</td>\n",
       "      <td>0.77</td>\n",
       "      <td>1.75</td>\n",
       "      <td>0.42</td>\n",
       "      <td>2.1</td>\n",
       "      <td>2.10</td>\n",
       "      <td>D</td>\n",
       "      <td>H</td>\n",
       "    </tr>\n",
       "    <tr>\n",
       "      <th>2</th>\n",
       "      <td>2016-08-13</td>\n",
       "      <td>2411</td>\n",
       "      <td>Barclays Premier League</td>\n",
       "      <td>Hull City</td>\n",
       "      <td>Leicester City</td>\n",
       "      <td>53.57</td>\n",
       "      <td>66.81</td>\n",
       "      <td>0.3459</td>\n",
       "      <td>0.3621</td>\n",
       "      <td>0.2921</td>\n",
       "      <td>...</td>\n",
       "      <td>2.0</td>\n",
       "      <td>1.0</td>\n",
       "      <td>0.85</td>\n",
       "      <td>2.77</td>\n",
       "      <td>0.17</td>\n",
       "      <td>1.25</td>\n",
       "      <td>2.1</td>\n",
       "      <td>1.05</td>\n",
       "      <td>H</td>\n",
       "      <td>A</td>\n",
       "    </tr>\n",
       "  </tbody>\n",
       "</table>\n",
       "<p>3 rows × 24 columns</p>\n",
       "</div>"
      ],
      "text/plain": [
       "        date  league_id                   league      team1  \\\n",
       "0 2016-08-12       1843           French Ligue 1     Bastia   \n",
       "1 2016-08-12       1843           French Ligue 1  AS Monaco   \n",
       "2 2016-08-13       2411  Barclays Premier League  Hull City   \n",
       "\n",
       "                 team2   spi1   spi2   prob1   prob2  probtie  ...   score1  \\\n",
       "0  Paris Saint-Germain  51.16  85.68  0.0463  0.8380   0.1157  ...      0.0   \n",
       "1             Guingamp  68.85  56.48  0.5714  0.1669   0.2617  ...      2.0   \n",
       "2       Leicester City  53.57  66.81  0.3459  0.3621   0.2921  ...      2.0   \n",
       "\n",
       "   score2   xg1   xg2  nsxg1  nsxg2  adj_score1  adj_score2  result  pred  \n",
       "0     1.0  0.97  0.63   0.43   0.45         0.0        1.05       A     A  \n",
       "1     2.0  2.45  0.77   1.75   0.42         2.1        2.10       D     H  \n",
       "2     1.0  0.85  2.77   0.17   1.25         2.1        1.05       H     A  \n",
       "\n",
       "[3 rows x 24 columns]"
      ]
     },
     "execution_count": 6,
     "metadata": {},
     "output_type": "execute_result"
    }
   ],
   "source": [
    "df.head(3)"
   ]
  },
  {
   "cell_type": "code",
   "execution_count": 7,
   "metadata": {},
   "outputs": [
    {
     "data": {
      "text/html": [
       "<div>\n",
       "<style scoped>\n",
       "    .dataframe tbody tr th:only-of-type {\n",
       "        vertical-align: middle;\n",
       "    }\n",
       "\n",
       "    .dataframe tbody tr th {\n",
       "        vertical-align: top;\n",
       "    }\n",
       "\n",
       "    .dataframe thead th {\n",
       "        text-align: right;\n",
       "    }\n",
       "</style>\n",
       "<table border=\"1\" class=\"dataframe\">\n",
       "  <thead>\n",
       "    <tr style=\"text-align: right;\">\n",
       "      <th></th>\n",
       "      <th>date</th>\n",
       "      <th>league_id</th>\n",
       "      <th>league</th>\n",
       "      <th>team1</th>\n",
       "      <th>team2</th>\n",
       "      <th>spi1</th>\n",
       "      <th>spi2</th>\n",
       "      <th>prob1</th>\n",
       "      <th>prob2</th>\n",
       "      <th>probtie</th>\n",
       "      <th>...</th>\n",
       "      <th>score1</th>\n",
       "      <th>score2</th>\n",
       "      <th>xg1</th>\n",
       "      <th>xg2</th>\n",
       "      <th>nsxg1</th>\n",
       "      <th>nsxg2</th>\n",
       "      <th>adj_score1</th>\n",
       "      <th>adj_score2</th>\n",
       "      <th>result</th>\n",
       "      <th>pred</th>\n",
       "    </tr>\n",
       "  </thead>\n",
       "  <tbody>\n",
       "    <tr>\n",
       "      <th>7956</th>\n",
       "      <td>2018-02-17</td>\n",
       "      <td>1843</td>\n",
       "      <td>French Ligue 1</td>\n",
       "      <td>Amiens</td>\n",
       "      <td>Toulouse</td>\n",
       "      <td>45.43</td>\n",
       "      <td>55.78</td>\n",
       "      <td>0.3420</td>\n",
       "      <td>0.3420</td>\n",
       "      <td>0.3160</td>\n",
       "      <td>...</td>\n",
       "      <td>0.0</td>\n",
       "      <td>0.0</td>\n",
       "      <td>0.55</td>\n",
       "      <td>1.12</td>\n",
       "      <td>0.77</td>\n",
       "      <td>0.97</td>\n",
       "      <td>0.00</td>\n",
       "      <td>0.00</td>\n",
       "      <td>D</td>\n",
       "      <td>H</td>\n",
       "    </tr>\n",
       "    <tr>\n",
       "      <th>13012</th>\n",
       "      <td>2018-09-15</td>\n",
       "      <td>2412</td>\n",
       "      <td>English League Championship</td>\n",
       "      <td>Millwall</td>\n",
       "      <td>Leeds United</td>\n",
       "      <td>48.39</td>\n",
       "      <td>53.53</td>\n",
       "      <td>0.3574</td>\n",
       "      <td>0.3574</td>\n",
       "      <td>0.2851</td>\n",
       "      <td>...</td>\n",
       "      <td>1.0</td>\n",
       "      <td>1.0</td>\n",
       "      <td>0.92</td>\n",
       "      <td>1.29</td>\n",
       "      <td>2.37</td>\n",
       "      <td>0.96</td>\n",
       "      <td>1.05</td>\n",
       "      <td>1.05</td>\n",
       "      <td>D</td>\n",
       "      <td>H</td>\n",
       "    </tr>\n",
       "    <tr>\n",
       "      <th>13272</th>\n",
       "      <td>2018-09-20</td>\n",
       "      <td>1820</td>\n",
       "      <td>UEFA Europa League</td>\n",
       "      <td>Dinamo Zagreb</td>\n",
       "      <td>Fenerbahce</td>\n",
       "      <td>54.97</td>\n",
       "      <td>66.68</td>\n",
       "      <td>0.3560</td>\n",
       "      <td>0.3560</td>\n",
       "      <td>0.2880</td>\n",
       "      <td>...</td>\n",
       "      <td>4.0</td>\n",
       "      <td>1.0</td>\n",
       "      <td>2.57</td>\n",
       "      <td>1.04</td>\n",
       "      <td>2.07</td>\n",
       "      <td>0.97</td>\n",
       "      <td>4.20</td>\n",
       "      <td>1.05</td>\n",
       "      <td>H</td>\n",
       "      <td>H</td>\n",
       "    </tr>\n",
       "    <tr>\n",
       "      <th>20147</th>\n",
       "      <td>2019-04-20</td>\n",
       "      <td>1843</td>\n",
       "      <td>French Ligue 1</td>\n",
       "      <td>Reims</td>\n",
       "      <td>St Etienne</td>\n",
       "      <td>57.54</td>\n",
       "      <td>65.62</td>\n",
       "      <td>0.3560</td>\n",
       "      <td>0.3560</td>\n",
       "      <td>0.2880</td>\n",
       "      <td>...</td>\n",
       "      <td>NaN</td>\n",
       "      <td>NaN</td>\n",
       "      <td>NaN</td>\n",
       "      <td>NaN</td>\n",
       "      <td>NaN</td>\n",
       "      <td>NaN</td>\n",
       "      <td>NaN</td>\n",
       "      <td>NaN</td>\n",
       "      <td>A</td>\n",
       "      <td>H</td>\n",
       "    </tr>\n",
       "    <tr>\n",
       "      <th>20296</th>\n",
       "      <td>2019-04-24</td>\n",
       "      <td>1849</td>\n",
       "      <td>Dutch Eredivisie</td>\n",
       "      <td>PEC Zwolle</td>\n",
       "      <td>FC Groningen</td>\n",
       "      <td>30.89</td>\n",
       "      <td>39.74</td>\n",
       "      <td>0.3441</td>\n",
       "      <td>0.3441</td>\n",
       "      <td>0.3118</td>\n",
       "      <td>...</td>\n",
       "      <td>NaN</td>\n",
       "      <td>NaN</td>\n",
       "      <td>NaN</td>\n",
       "      <td>NaN</td>\n",
       "      <td>NaN</td>\n",
       "      <td>NaN</td>\n",
       "      <td>NaN</td>\n",
       "      <td>NaN</td>\n",
       "      <td>A</td>\n",
       "      <td>H</td>\n",
       "    </tr>\n",
       "  </tbody>\n",
       "</table>\n",
       "<p>5 rows × 24 columns</p>\n",
       "</div>"
      ],
      "text/plain": [
       "            date  league_id                       league          team1  \\\n",
       "7956  2018-02-17       1843               French Ligue 1         Amiens   \n",
       "13012 2018-09-15       2412  English League Championship       Millwall   \n",
       "13272 2018-09-20       1820           UEFA Europa League  Dinamo Zagreb   \n",
       "20147 2019-04-20       1843               French Ligue 1          Reims   \n",
       "20296 2019-04-24       1849             Dutch Eredivisie     PEC Zwolle   \n",
       "\n",
       "              team2   spi1   spi2   prob1   prob2  probtie  ...   score1  \\\n",
       "7956       Toulouse  45.43  55.78  0.3420  0.3420   0.3160  ...      0.0   \n",
       "13012  Leeds United  48.39  53.53  0.3574  0.3574   0.2851  ...      1.0   \n",
       "13272    Fenerbahce  54.97  66.68  0.3560  0.3560   0.2880  ...      4.0   \n",
       "20147    St Etienne  57.54  65.62  0.3560  0.3560   0.2880  ...      NaN   \n",
       "20296  FC Groningen  30.89  39.74  0.3441  0.3441   0.3118  ...      NaN   \n",
       "\n",
       "       score2   xg1   xg2  nsxg1  nsxg2  adj_score1  adj_score2  result  pred  \n",
       "7956      0.0  0.55  1.12   0.77   0.97        0.00        0.00       D     H  \n",
       "13012     1.0  0.92  1.29   2.37   0.96        1.05        1.05       D     H  \n",
       "13272     1.0  2.57  1.04   2.07   0.97        4.20        1.05       H     H  \n",
       "20147     NaN   NaN   NaN    NaN    NaN         NaN         NaN       A     H  \n",
       "20296     NaN   NaN   NaN    NaN    NaN         NaN         NaN       A     H  \n",
       "\n",
       "[5 rows x 24 columns]"
      ]
     },
     "execution_count": 7,
     "metadata": {},
     "output_type": "execute_result"
    }
   ],
   "source": [
    "df[df.prob1 == df.prob2]"
   ]
  },
  {
   "cell_type": "code",
   "execution_count": 8,
   "metadata": {},
   "outputs": [
    {
     "data": {
      "text/html": [
       "<div>\n",
       "<style scoped>\n",
       "    .dataframe tbody tr th:only-of-type {\n",
       "        vertical-align: middle;\n",
       "    }\n",
       "\n",
       "    .dataframe tbody tr th {\n",
       "        vertical-align: top;\n",
       "    }\n",
       "\n",
       "    .dataframe thead th {\n",
       "        text-align: right;\n",
       "    }\n",
       "</style>\n",
       "<table border=\"1\" class=\"dataframe\">\n",
       "  <thead>\n",
       "    <tr style=\"text-align: right;\">\n",
       "      <th></th>\n",
       "      <th>date</th>\n",
       "      <th>league_id</th>\n",
       "      <th>league</th>\n",
       "      <th>team1</th>\n",
       "      <th>team2</th>\n",
       "      <th>spi1</th>\n",
       "      <th>spi2</th>\n",
       "      <th>prob1</th>\n",
       "      <th>prob2</th>\n",
       "      <th>probtie</th>\n",
       "      <th>...</th>\n",
       "      <th>score1</th>\n",
       "      <th>score2</th>\n",
       "      <th>xg1</th>\n",
       "      <th>xg2</th>\n",
       "      <th>nsxg1</th>\n",
       "      <th>nsxg2</th>\n",
       "      <th>adj_score1</th>\n",
       "      <th>adj_score2</th>\n",
       "      <th>result</th>\n",
       "      <th>pred</th>\n",
       "    </tr>\n",
       "  </thead>\n",
       "  <tbody>\n",
       "    <tr>\n",
       "      <th>249</th>\n",
       "      <td>2016-09-21</td>\n",
       "      <td>1854</td>\n",
       "      <td>Italy Serie A</td>\n",
       "      <td>Empoli</td>\n",
       "      <td>Internazionale</td>\n",
       "      <td>52.36</td>\n",
       "      <td>71.49</td>\n",
       "      <td>0.2897</td>\n",
       "      <td>0.4206</td>\n",
       "      <td>0.2897</td>\n",
       "      <td>...</td>\n",
       "      <td>0.0</td>\n",
       "      <td>2.0</td>\n",
       "      <td>0.46</td>\n",
       "      <td>1.82</td>\n",
       "      <td>0.84</td>\n",
       "      <td>1.20</td>\n",
       "      <td>0.0</td>\n",
       "      <td>2.1</td>\n",
       "      <td>A</td>\n",
       "      <td>A</td>\n",
       "    </tr>\n",
       "    <tr>\n",
       "      <th>8328</th>\n",
       "      <td>2018-03-03</td>\n",
       "      <td>1827</td>\n",
       "      <td>Austrian T-Mobile Bundesliga</td>\n",
       "      <td>St. Pölten</td>\n",
       "      <td>Cashpoint SC Rheindorf Altach</td>\n",
       "      <td>19.74</td>\n",
       "      <td>32.65</td>\n",
       "      <td>0.2996</td>\n",
       "      <td>0.4008</td>\n",
       "      <td>0.2996</td>\n",
       "      <td>...</td>\n",
       "      <td>1.0</td>\n",
       "      <td>2.0</td>\n",
       "      <td>NaN</td>\n",
       "      <td>NaN</td>\n",
       "      <td>NaN</td>\n",
       "      <td>NaN</td>\n",
       "      <td>NaN</td>\n",
       "      <td>NaN</td>\n",
       "      <td>A</td>\n",
       "      <td>A</td>\n",
       "    </tr>\n",
       "    <tr>\n",
       "      <th>14698</th>\n",
       "      <td>2018-10-23</td>\n",
       "      <td>2413</td>\n",
       "      <td>English League One</td>\n",
       "      <td>Doncaster Rovers</td>\n",
       "      <td>Sunderland</td>\n",
       "      <td>24.60</td>\n",
       "      <td>40.39</td>\n",
       "      <td>0.2323</td>\n",
       "      <td>0.5354</td>\n",
       "      <td>0.2323</td>\n",
       "      <td>...</td>\n",
       "      <td>0.0</td>\n",
       "      <td>1.0</td>\n",
       "      <td>NaN</td>\n",
       "      <td>NaN</td>\n",
       "      <td>NaN</td>\n",
       "      <td>NaN</td>\n",
       "      <td>NaN</td>\n",
       "      <td>NaN</td>\n",
       "      <td>A</td>\n",
       "      <td>A</td>\n",
       "    </tr>\n",
       "    <tr>\n",
       "      <th>16121</th>\n",
       "      <td>2018-12-01</td>\n",
       "      <td>2412</td>\n",
       "      <td>English League Championship</td>\n",
       "      <td>Reading</td>\n",
       "      <td>Stoke City</td>\n",
       "      <td>37.67</td>\n",
       "      <td>56.22</td>\n",
       "      <td>0.2660</td>\n",
       "      <td>0.4680</td>\n",
       "      <td>0.2660</td>\n",
       "      <td>...</td>\n",
       "      <td>2.0</td>\n",
       "      <td>2.0</td>\n",
       "      <td>1.10</td>\n",
       "      <td>2.12</td>\n",
       "      <td>1.47</td>\n",
       "      <td>1.77</td>\n",
       "      <td>2.1</td>\n",
       "      <td>2.1</td>\n",
       "      <td>D</td>\n",
       "      <td>A</td>\n",
       "    </tr>\n",
       "    <tr>\n",
       "      <th>17051</th>\n",
       "      <td>2018-12-29</td>\n",
       "      <td>2417</td>\n",
       "      <td>Scottish Premiership</td>\n",
       "      <td>Rangers</td>\n",
       "      <td>Celtic</td>\n",
       "      <td>52.06</td>\n",
       "      <td>66.73</td>\n",
       "      <td>0.2615</td>\n",
       "      <td>0.4770</td>\n",
       "      <td>0.2615</td>\n",
       "      <td>...</td>\n",
       "      <td>NaN</td>\n",
       "      <td>NaN</td>\n",
       "      <td>NaN</td>\n",
       "      <td>NaN</td>\n",
       "      <td>NaN</td>\n",
       "      <td>NaN</td>\n",
       "      <td>NaN</td>\n",
       "      <td>NaN</td>\n",
       "      <td>A</td>\n",
       "      <td>A</td>\n",
       "    </tr>\n",
       "  </tbody>\n",
       "</table>\n",
       "<p>5 rows × 24 columns</p>\n",
       "</div>"
      ],
      "text/plain": [
       "            date  league_id                        league             team1  \\\n",
       "249   2016-09-21       1854                 Italy Serie A            Empoli   \n",
       "8328  2018-03-03       1827  Austrian T-Mobile Bundesliga        St. Pölten   \n",
       "14698 2018-10-23       2413            English League One  Doncaster Rovers   \n",
       "16121 2018-12-01       2412   English League Championship           Reading   \n",
       "17051 2018-12-29       2417          Scottish Premiership           Rangers   \n",
       "\n",
       "                               team2   spi1   spi2   prob1   prob2  probtie  \\\n",
       "249                   Internazionale  52.36  71.49  0.2897  0.4206   0.2897   \n",
       "8328   Cashpoint SC Rheindorf Altach  19.74  32.65  0.2996  0.4008   0.2996   \n",
       "14698                     Sunderland  24.60  40.39  0.2323  0.5354   0.2323   \n",
       "16121                     Stoke City  37.67  56.22  0.2660  0.4680   0.2660   \n",
       "17051                         Celtic  52.06  66.73  0.2615  0.4770   0.2615   \n",
       "\n",
       "       ...   score1  score2   xg1   xg2  nsxg1  nsxg2  adj_score1  adj_score2  \\\n",
       "249    ...      0.0     2.0  0.46  1.82   0.84   1.20         0.0         2.1   \n",
       "8328   ...      1.0     2.0   NaN   NaN    NaN    NaN         NaN         NaN   \n",
       "14698  ...      0.0     1.0   NaN   NaN    NaN    NaN         NaN         NaN   \n",
       "16121  ...      2.0     2.0  1.10  2.12   1.47   1.77         2.1         2.1   \n",
       "17051  ...      NaN     NaN   NaN   NaN    NaN    NaN         NaN         NaN   \n",
       "\n",
       "       result  pred  \n",
       "249         A     A  \n",
       "8328        A     A  \n",
       "14698       A     A  \n",
       "16121       D     A  \n",
       "17051       A     A  \n",
       "\n",
       "[5 rows x 24 columns]"
      ]
     },
     "execution_count": 8,
     "metadata": {},
     "output_type": "execute_result"
    }
   ],
   "source": [
    "df[df.prob1 == df.probtie]"
   ]
  },
  {
   "cell_type": "code",
   "execution_count": 9,
   "metadata": {},
   "outputs": [
    {
     "data": {
      "text/html": [
       "<div>\n",
       "<style scoped>\n",
       "    .dataframe tbody tr th:only-of-type {\n",
       "        vertical-align: middle;\n",
       "    }\n",
       "\n",
       "    .dataframe tbody tr th {\n",
       "        vertical-align: top;\n",
       "    }\n",
       "\n",
       "    .dataframe thead th {\n",
       "        text-align: right;\n",
       "    }\n",
       "</style>\n",
       "<table border=\"1\" class=\"dataframe\">\n",
       "  <thead>\n",
       "    <tr style=\"text-align: right;\">\n",
       "      <th></th>\n",
       "      <th>date</th>\n",
       "      <th>league_id</th>\n",
       "      <th>league</th>\n",
       "      <th>team1</th>\n",
       "      <th>team2</th>\n",
       "      <th>spi1</th>\n",
       "      <th>spi2</th>\n",
       "      <th>prob1</th>\n",
       "      <th>prob2</th>\n",
       "      <th>probtie</th>\n",
       "      <th>...</th>\n",
       "      <th>score1</th>\n",
       "      <th>score2</th>\n",
       "      <th>xg1</th>\n",
       "      <th>xg2</th>\n",
       "      <th>nsxg1</th>\n",
       "      <th>nsxg2</th>\n",
       "      <th>adj_score1</th>\n",
       "      <th>adj_score2</th>\n",
       "      <th>result</th>\n",
       "      <th>pred</th>\n",
       "    </tr>\n",
       "  </thead>\n",
       "  <tbody>\n",
       "    <tr>\n",
       "      <th>1862</th>\n",
       "      <td>2017-04-15</td>\n",
       "      <td>4582</td>\n",
       "      <td>National Women's Soccer League</td>\n",
       "      <td>Portland Thorns</td>\n",
       "      <td>Orlando Pride</td>\n",
       "      <td>50.27</td>\n",
       "      <td>40.15</td>\n",
       "      <td>0.5617</td>\n",
       "      <td>0.2192</td>\n",
       "      <td>0.2192</td>\n",
       "      <td>...</td>\n",
       "      <td>2.0</td>\n",
       "      <td>0.0</td>\n",
       "      <td>NaN</td>\n",
       "      <td>NaN</td>\n",
       "      <td>NaN</td>\n",
       "      <td>NaN</td>\n",
       "      <td>NaN</td>\n",
       "      <td>NaN</td>\n",
       "      <td>H</td>\n",
       "      <td>H</td>\n",
       "    </tr>\n",
       "    <tr>\n",
       "      <th>2375</th>\n",
       "      <td>2017-05-20</td>\n",
       "      <td>1869</td>\n",
       "      <td>Spanish Primera Division</td>\n",
       "      <td>Deportivo La Coruña</td>\n",
       "      <td>Las Palmas</td>\n",
       "      <td>66.59</td>\n",
       "      <td>62.91</td>\n",
       "      <td>0.4726</td>\n",
       "      <td>0.2637</td>\n",
       "      <td>0.2637</td>\n",
       "      <td>...</td>\n",
       "      <td>3.0</td>\n",
       "      <td>0.0</td>\n",
       "      <td>1.06</td>\n",
       "      <td>0.93</td>\n",
       "      <td>0.21</td>\n",
       "      <td>1.44</td>\n",
       "      <td>3.15</td>\n",
       "      <td>0.00</td>\n",
       "      <td>H</td>\n",
       "      <td>H</td>\n",
       "    </tr>\n",
       "    <tr>\n",
       "      <th>3172</th>\n",
       "      <td>2017-08-12</td>\n",
       "      <td>1952</td>\n",
       "      <td>Mexican Primera Division Torneo Apertura</td>\n",
       "      <td>Querétaro</td>\n",
       "      <td>Morelia</td>\n",
       "      <td>37.31</td>\n",
       "      <td>39.32</td>\n",
       "      <td>0.4072</td>\n",
       "      <td>0.2964</td>\n",
       "      <td>0.2964</td>\n",
       "      <td>...</td>\n",
       "      <td>2.0</td>\n",
       "      <td>1.0</td>\n",
       "      <td>1.70</td>\n",
       "      <td>1.18</td>\n",
       "      <td>1.38</td>\n",
       "      <td>0.74</td>\n",
       "      <td>2.10</td>\n",
       "      <td>1.05</td>\n",
       "      <td>H</td>\n",
       "      <td>H</td>\n",
       "    </tr>\n",
       "    <tr>\n",
       "      <th>3475</th>\n",
       "      <td>2017-08-25</td>\n",
       "      <td>1869</td>\n",
       "      <td>Spanish Primera Division</td>\n",
       "      <td>Real Sociedad</td>\n",
       "      <td>Villarreal</td>\n",
       "      <td>73.80</td>\n",
       "      <td>73.99</td>\n",
       "      <td>0.4808</td>\n",
       "      <td>0.2596</td>\n",
       "      <td>0.2596</td>\n",
       "      <td>...</td>\n",
       "      <td>3.0</td>\n",
       "      <td>0.0</td>\n",
       "      <td>3.17</td>\n",
       "      <td>0.20</td>\n",
       "      <td>1.77</td>\n",
       "      <td>0.33</td>\n",
       "      <td>3.15</td>\n",
       "      <td>0.00</td>\n",
       "      <td>H</td>\n",
       "      <td>H</td>\n",
       "    </tr>\n",
       "    <tr>\n",
       "      <th>7167</th>\n",
       "      <td>2018-01-14</td>\n",
       "      <td>1869</td>\n",
       "      <td>Spanish Primera Division</td>\n",
       "      <td>Espanyol</td>\n",
       "      <td>Athletic Bilbao</td>\n",
       "      <td>66.88</td>\n",
       "      <td>75.32</td>\n",
       "      <td>0.3752</td>\n",
       "      <td>0.3124</td>\n",
       "      <td>0.3124</td>\n",
       "      <td>...</td>\n",
       "      <td>1.0</td>\n",
       "      <td>1.0</td>\n",
       "      <td>0.65</td>\n",
       "      <td>1.24</td>\n",
       "      <td>0.72</td>\n",
       "      <td>0.88</td>\n",
       "      <td>1.05</td>\n",
       "      <td>1.05</td>\n",
       "      <td>D</td>\n",
       "      <td>H</td>\n",
       "    </tr>\n",
       "    <tr>\n",
       "      <th>12033</th>\n",
       "      <td>2018-08-18</td>\n",
       "      <td>5641</td>\n",
       "      <td>Argentina Primera Division</td>\n",
       "      <td>Banfield</td>\n",
       "      <td>Gimnasia La Plata</td>\n",
       "      <td>40.99</td>\n",
       "      <td>38.15</td>\n",
       "      <td>0.4388</td>\n",
       "      <td>0.2806</td>\n",
       "      <td>0.2806</td>\n",
       "      <td>...</td>\n",
       "      <td>1.0</td>\n",
       "      <td>0.0</td>\n",
       "      <td>1.70</td>\n",
       "      <td>1.08</td>\n",
       "      <td>0.94</td>\n",
       "      <td>1.21</td>\n",
       "      <td>1.05</td>\n",
       "      <td>0.00</td>\n",
       "      <td>H</td>\n",
       "      <td>H</td>\n",
       "    </tr>\n",
       "  </tbody>\n",
       "</table>\n",
       "<p>6 rows × 24 columns</p>\n",
       "</div>"
      ],
      "text/plain": [
       "            date  league_id                                    league  \\\n",
       "1862  2017-04-15       4582            National Women's Soccer League   \n",
       "2375  2017-05-20       1869                  Spanish Primera Division   \n",
       "3172  2017-08-12       1952  Mexican Primera Division Torneo Apertura   \n",
       "3475  2017-08-25       1869                  Spanish Primera Division   \n",
       "7167  2018-01-14       1869                  Spanish Primera Division   \n",
       "12033 2018-08-18       5641                Argentina Primera Division   \n",
       "\n",
       "                     team1              team2   spi1   spi2   prob1   prob2  \\\n",
       "1862       Portland Thorns      Orlando Pride  50.27  40.15  0.5617  0.2192   \n",
       "2375   Deportivo La Coruña         Las Palmas  66.59  62.91  0.4726  0.2637   \n",
       "3172             Querétaro            Morelia  37.31  39.32  0.4072  0.2964   \n",
       "3475         Real Sociedad         Villarreal  73.80  73.99  0.4808  0.2596   \n",
       "7167              Espanyol    Athletic Bilbao  66.88  75.32  0.3752  0.3124   \n",
       "12033             Banfield  Gimnasia La Plata  40.99  38.15  0.4388  0.2806   \n",
       "\n",
       "       probtie  ...   score1  score2   xg1   xg2  nsxg1  nsxg2  adj_score1  \\\n",
       "1862    0.2192  ...      2.0     0.0   NaN   NaN    NaN    NaN         NaN   \n",
       "2375    0.2637  ...      3.0     0.0  1.06  0.93   0.21   1.44        3.15   \n",
       "3172    0.2964  ...      2.0     1.0  1.70  1.18   1.38   0.74        2.10   \n",
       "3475    0.2596  ...      3.0     0.0  3.17  0.20   1.77   0.33        3.15   \n",
       "7167    0.3124  ...      1.0     1.0  0.65  1.24   0.72   0.88        1.05   \n",
       "12033   0.2806  ...      1.0     0.0  1.70  1.08   0.94   1.21        1.05   \n",
       "\n",
       "       adj_score2  result  pred  \n",
       "1862          NaN       H     H  \n",
       "2375         0.00       H     H  \n",
       "3172         1.05       H     H  \n",
       "3475         0.00       H     H  \n",
       "7167         1.05       D     H  \n",
       "12033        0.00       H     H  \n",
       "\n",
       "[6 rows x 24 columns]"
      ]
     },
     "execution_count": 9,
     "metadata": {},
     "output_type": "execute_result"
    }
   ],
   "source": [
    "df[df.prob2 == df.probtie]"
   ]
  },
  {
   "cell_type": "markdown",
   "metadata": {},
   "source": [
    "Only matches played"
   ]
  },
  {
   "cell_type": "code",
   "execution_count": 10,
   "metadata": {
    "collapsed": true
   },
   "outputs": [],
   "source": [
    "df_played = df[~df.score1.isnull()]"
   ]
  },
  {
   "cell_type": "markdown",
   "metadata": {},
   "source": [
    "16 matches have some probabilities that are equal, equates to very little though"
   ]
  },
  {
   "cell_type": "code",
   "execution_count": 11,
   "metadata": {},
   "outputs": [
    {
     "data": {
      "text/plain": [
       "0.09464095587365431"
      ]
     },
     "execution_count": 11,
     "metadata": {},
     "output_type": "execute_result"
    }
   ],
   "source": [
    "16 / len(df_played) * 100"
   ]
  },
  {
   "cell_type": "markdown",
   "metadata": {},
   "source": [
    "Calcualte % success at home, away, draw"
   ]
  },
  {
   "cell_type": "code",
   "execution_count": 12,
   "metadata": {
    "collapsed": true
   },
   "outputs": [],
   "source": [
    "home_wins = df_played[df_played.pred == \"H\"]"
   ]
  },
  {
   "cell_type": "code",
   "execution_count": 13,
   "metadata": {
    "collapsed": true
   },
   "outputs": [],
   "source": [
    "home_wins_correct = df_played[(df_played.result == \"H\") & (df_played.pred == \"H\")]"
   ]
  },
  {
   "cell_type": "code",
   "execution_count": 14,
   "metadata": {
    "collapsed": true
   },
   "outputs": [],
   "source": [
    "home_correct = len(home_wins_correct) / len(home_wins) * 100"
   ]
  },
  {
   "cell_type": "code",
   "execution_count": 15,
   "metadata": {},
   "outputs": [
    {
     "name": "stdout",
     "output_type": "stream",
     "text": [
      "Home wins are 52.1% accurate\n"
     ]
    }
   ],
   "source": [
    "print(\"Home wins are {}% accurate\".format(round(home_correct, 1)))"
   ]
  },
  {
   "cell_type": "markdown",
   "metadata": {},
   "source": [
    "Away"
   ]
  },
  {
   "cell_type": "code",
   "execution_count": 16,
   "metadata": {
    "collapsed": true
   },
   "outputs": [],
   "source": [
    "away_wins = df_played[df_played.pred == \"A\"]"
   ]
  },
  {
   "cell_type": "code",
   "execution_count": 17,
   "metadata": {
    "collapsed": true
   },
   "outputs": [],
   "source": [
    "away_wins_correct = df_played[(df_played.result == \"A\") & (df_played.pred == \"A\")]"
   ]
  },
  {
   "cell_type": "code",
   "execution_count": 18,
   "metadata": {
    "collapsed": true
   },
   "outputs": [],
   "source": [
    "away_correct = len(away_wins_correct) / len(away_wins) * 100"
   ]
  },
  {
   "cell_type": "code",
   "execution_count": 19,
   "metadata": {},
   "outputs": [
    {
     "name": "stdout",
     "output_type": "stream",
     "text": [
      "Away wins are 47.7% accurate\n"
     ]
    }
   ],
   "source": [
    "print(\"Away wins are {}% accurate\".format(round(away_correct, 1)))"
   ]
  },
  {
   "cell_type": "markdown",
   "metadata": {},
   "source": [
    "Draw"
   ]
  },
  {
   "cell_type": "code",
   "execution_count": 20,
   "metadata": {},
   "outputs": [
    {
     "data": {
      "text/html": [
       "<div>\n",
       "<style scoped>\n",
       "    .dataframe tbody tr th:only-of-type {\n",
       "        vertical-align: middle;\n",
       "    }\n",
       "\n",
       "    .dataframe tbody tr th {\n",
       "        vertical-align: top;\n",
       "    }\n",
       "\n",
       "    .dataframe thead th {\n",
       "        text-align: right;\n",
       "    }\n",
       "</style>\n",
       "<table border=\"1\" class=\"dataframe\">\n",
       "  <thead>\n",
       "    <tr style=\"text-align: right;\">\n",
       "      <th></th>\n",
       "      <th>date</th>\n",
       "      <th>league_id</th>\n",
       "      <th>league</th>\n",
       "      <th>team1</th>\n",
       "      <th>team2</th>\n",
       "      <th>spi1</th>\n",
       "      <th>spi2</th>\n",
       "      <th>prob1</th>\n",
       "      <th>prob2</th>\n",
       "      <th>probtie</th>\n",
       "      <th>...</th>\n",
       "      <th>score1</th>\n",
       "      <th>score2</th>\n",
       "      <th>xg1</th>\n",
       "      <th>xg2</th>\n",
       "      <th>nsxg1</th>\n",
       "      <th>nsxg2</th>\n",
       "      <th>adj_score1</th>\n",
       "      <th>adj_score2</th>\n",
       "      <th>result</th>\n",
       "      <th>pred</th>\n",
       "    </tr>\n",
       "  </thead>\n",
       "  <tbody>\n",
       "  </tbody>\n",
       "</table>\n",
       "<p>0 rows × 24 columns</p>\n",
       "</div>"
      ],
      "text/plain": [
       "Empty DataFrame\n",
       "Columns: [date, league_id, league, team1, team2, spi1, spi2, prob1, prob2, probtie, proj_score1, proj_score2, importance1, importance2, score1, score2, xg1, xg2, nsxg1, nsxg2, adj_score1, adj_score2, result, pred]\n",
       "Index: []\n",
       "\n",
       "[0 rows x 24 columns]"
      ]
     },
     "execution_count": 20,
     "metadata": {},
     "output_type": "execute_result"
    }
   ],
   "source": [
    "df_played[df_played.pred == \"D\"]"
   ]
  },
  {
   "cell_type": "code",
   "execution_count": 21,
   "metadata": {
    "collapsed": true
   },
   "outputs": [],
   "source": [
    "draw = df_played[df_played.pred == \"D\"]"
   ]
  },
  {
   "cell_type": "code",
   "execution_count": 22,
   "metadata": {},
   "outputs": [
    {
     "data": {
      "text/plain": [
       "0"
      ]
     },
     "execution_count": 22,
     "metadata": {},
     "output_type": "execute_result"
    }
   ],
   "source": [
    "len(draw)"
   ]
  },
  {
   "cell_type": "code",
   "execution_count": 23,
   "metadata": {
    "collapsed": true
   },
   "outputs": [],
   "source": [
    "draw_correct = df_played[(df_played.result == \"D\") & (df_played.pred == \"D\")]"
   ]
  },
  {
   "cell_type": "code",
   "execution_count": 24,
   "metadata": {},
   "outputs": [
    {
     "ename": "ZeroDivisionError",
     "evalue": "division by zero",
     "output_type": "error",
     "traceback": [
      "\u001b[0;31m---------------------------------------------------------------------------\u001b[0m",
      "\u001b[0;31mZeroDivisionError\u001b[0m                         Traceback (most recent call last)",
      "\u001b[0;32m<ipython-input-24-4a2e590a30a2>\u001b[0m in \u001b[0;36m<module>\u001b[0;34m()\u001b[0m\n\u001b[0;32m----> 1\u001b[0;31m \u001b[0mdraw_perc\u001b[0m \u001b[0;34m=\u001b[0m \u001b[0mlen\u001b[0m\u001b[0;34m(\u001b[0m\u001b[0mdraw_correct\u001b[0m\u001b[0;34m)\u001b[0m \u001b[0;34m/\u001b[0m \u001b[0mlen\u001b[0m\u001b[0;34m(\u001b[0m\u001b[0mdraw\u001b[0m\u001b[0;34m)\u001b[0m \u001b[0;34m*\u001b[0m \u001b[0;36m100\u001b[0m\u001b[0;34m\u001b[0m\u001b[0m\n\u001b[0m",
      "\u001b[0;31mZeroDivisionError\u001b[0m: division by zero"
     ]
    }
   ],
   "source": [
    "draw_perc = len(draw_correct) / len(draw) * 100"
   ]
  },
  {
   "cell_type": "code",
   "execution_count": null,
   "metadata": {
    "collapsed": true
   },
   "outputs": [],
   "source": [
    "print(\"Draws are {}% accurate\".format(round(draw_perc, 1)))"
   ]
  },
  {
   "cell_type": "markdown",
   "metadata": {},
   "source": [
    "No draw predicted!"
   ]
  },
  {
   "cell_type": "code",
   "execution_count": null,
   "metadata": {
    "collapsed": true
   },
   "outputs": [],
   "source": []
  },
  {
   "cell_type": "code",
   "execution_count": 25,
   "metadata": {
    "collapsed": true
   },
   "outputs": [],
   "source": [
    "correct = df_played[df_played.result == df_played.pred]"
   ]
  },
  {
   "cell_type": "code",
   "execution_count": 26,
   "metadata": {
    "collapsed": true
   },
   "outputs": [],
   "source": [
    "total_accuracy = len(correct) / len(df_played) * 100"
   ]
  },
  {
   "cell_type": "code",
   "execution_count": 27,
   "metadata": {},
   "outputs": [
    {
     "name": "stdout",
     "output_type": "stream",
     "text": [
      "Overall accuracy is 51.0\n"
     ]
    }
   ],
   "source": [
    "print(\"Overall accuracy is {}\".format(round(total_accuracy, 1)))"
   ]
  },
  {
   "cell_type": "markdown",
   "metadata": {},
   "source": [
    "Breakdown by league"
   ]
  },
  {
   "cell_type": "code",
   "execution_count": 28,
   "metadata": {},
   "outputs": [
    {
     "data": {
      "text/html": [
       "<div>\n",
       "<style scoped>\n",
       "    .dataframe tbody tr th:only-of-type {\n",
       "        vertical-align: middle;\n",
       "    }\n",
       "\n",
       "    .dataframe tbody tr th {\n",
       "        vertical-align: top;\n",
       "    }\n",
       "\n",
       "    .dataframe thead th {\n",
       "        text-align: right;\n",
       "    }\n",
       "</style>\n",
       "<table border=\"1\" class=\"dataframe\">\n",
       "  <thead>\n",
       "    <tr style=\"text-align: right;\">\n",
       "      <th></th>\n",
       "      <th>date</th>\n",
       "      <th>league_id</th>\n",
       "      <th>league</th>\n",
       "      <th>team1</th>\n",
       "      <th>team2</th>\n",
       "      <th>spi1</th>\n",
       "      <th>spi2</th>\n",
       "      <th>prob1</th>\n",
       "      <th>prob2</th>\n",
       "      <th>probtie</th>\n",
       "      <th>...</th>\n",
       "      <th>score1</th>\n",
       "      <th>score2</th>\n",
       "      <th>xg1</th>\n",
       "      <th>xg2</th>\n",
       "      <th>nsxg1</th>\n",
       "      <th>nsxg2</th>\n",
       "      <th>adj_score1</th>\n",
       "      <th>adj_score2</th>\n",
       "      <th>result</th>\n",
       "      <th>pred</th>\n",
       "    </tr>\n",
       "  </thead>\n",
       "  <tbody>\n",
       "  </tbody>\n",
       "</table>\n",
       "<p>0 rows × 24 columns</p>\n",
       "</div>"
      ],
      "text/plain": [
       "Empty DataFrame\n",
       "Columns: [date, league_id, league, team1, team2, spi1, spi2, prob1, prob2, probtie, proj_score1, proj_score2, importance1, importance2, score1, score2, xg1, xg2, nsxg1, nsxg2, adj_score1, adj_score2, result, pred]\n",
       "Index: []\n",
       "\n",
       "[0 rows x 24 columns]"
      ]
     },
     "execution_count": 28,
     "metadata": {},
     "output_type": "execute_result"
    }
   ],
   "source": [
    "df_played[df_played.result == \"\"]"
   ]
  },
  {
   "cell_type": "code",
   "execution_count": 29,
   "metadata": {},
   "outputs": [
    {
     "name": "stderr",
     "output_type": "stream",
     "text": [
      "/Users/alexandergreen/anaconda/lib/python3.6/site-packages/pandas/core/indexing.py:357: SettingWithCopyWarning: \n",
      "A value is trying to be set on a copy of a slice from a DataFrame.\n",
      "Try using .loc[row_indexer,col_indexer] = value instead\n",
      "\n",
      "See the caveats in the documentation: http://pandas.pydata.org/pandas-docs/stable/indexing.html#indexing-view-versus-copy\n",
      "  self.obj[key] = _infer_fill_value(value)\n",
      "/Users/alexandergreen/anaconda/lib/python3.6/site-packages/pandas/core/indexing.py:537: SettingWithCopyWarning: \n",
      "A value is trying to be set on a copy of a slice from a DataFrame.\n",
      "Try using .loc[row_indexer,col_indexer] = value instead\n",
      "\n",
      "See the caveats in the documentation: http://pandas.pydata.org/pandas-docs/stable/indexing.html#indexing-view-versus-copy\n",
      "  self.obj[item] = s\n"
     ]
    }
   ],
   "source": [
    "df_played.loc[:, \"correct\"] = df_played.apply(lambda row: 1 if row[\"pred\"] == row[\"result\"] else 0, axis=1)"
   ]
  },
  {
   "cell_type": "code",
   "execution_count": 3,
   "metadata": {},
   "outputs": [
    {
     "ename": "NameError",
     "evalue": "name 'df_played' is not defined",
     "output_type": "error",
     "traceback": [
      "\u001b[0;31m---------------------------------------------------------------------------\u001b[0m",
      "\u001b[0;31mNameError\u001b[0m                                 Traceback (most recent call last)",
      "\u001b[0;32m<ipython-input-3-d1ecb92208ac>\u001b[0m in \u001b[0;36m<module>\u001b[0;34m()\u001b[0m\n\u001b[0;32m----> 1\u001b[0;31m \u001b[0mdf_by_league\u001b[0m \u001b[0;34m=\u001b[0m \u001b[0mdf_played\u001b[0m\u001b[0;34m.\u001b[0m\u001b[0mgroupby\u001b[0m\u001b[0;34m(\u001b[0m\u001b[0;34m\"league\"\u001b[0m\u001b[0;34m)\u001b[0m\u001b[0;34m.\u001b[0m\u001b[0magg\u001b[0m\u001b[0;34m(\u001b[0m\u001b[0;34m{\u001b[0m\u001b[0;34m\"correct\"\u001b[0m\u001b[0;34m:\u001b[0m \u001b[0;34m[\u001b[0m\u001b[0;34m\"sum\"\u001b[0m\u001b[0;34m,\u001b[0m \u001b[0;34m\"count\"\u001b[0m\u001b[0;34m]\u001b[0m\u001b[0;34m}\u001b[0m\u001b[0;34m)\u001b[0m\u001b[0;34m.\u001b[0m\u001b[0mreset_index\u001b[0m\u001b[0;34m(\u001b[0m\u001b[0;34m)\u001b[0m\u001b[0;34m\u001b[0m\u001b[0m\n\u001b[0m",
      "\u001b[0;31mNameError\u001b[0m: name 'df_played' is not defined"
     ]
    }
   ],
   "source": [
    "df_by_league = df_played.groupby(\"league\").agg({\"correct\": [\"sum\", \"count\"]}).reset_index()"
   ]
  },
  {
   "cell_type": "code",
   "execution_count": 1,
   "metadata": {},
   "outputs": [
    {
     "ename": "NameError",
     "evalue": "name 'df_by_league' is not defined",
     "output_type": "error",
     "traceback": [
      "\u001b[0;31m---------------------------------------------------------------------------\u001b[0m",
      "\u001b[0;31mNameError\u001b[0m                                 Traceback (most recent call last)",
      "\u001b[0;32m<ipython-input-1-447f7e1495b9>\u001b[0m in \u001b[0;36m<module>\u001b[0;34m()\u001b[0m\n\u001b[0;32m----> 1\u001b[0;31m \u001b[0mdf_by_league\u001b[0m\u001b[0;34m.\u001b[0m\u001b[0mcolumns\u001b[0m \u001b[0;34m=\u001b[0m \u001b[0mdf_by_league\u001b[0m\u001b[0;34m.\u001b[0m\u001b[0mcolumns\u001b[0m\u001b[0;34m.\u001b[0m\u001b[0mdroplevel\u001b[0m\u001b[0;34m(\u001b[0m\u001b[0;34m)\u001b[0m\u001b[0;34m\u001b[0m\u001b[0m\n\u001b[0m",
      "\u001b[0;31mNameError\u001b[0m: name 'df_by_league' is not defined"
     ]
    }
   ],
   "source": [
    "df_by_league.columns = df_by_league.columns.droplevel()"
   ]
  },
  {
   "cell_type": "code",
   "execution_count": 32,
   "metadata": {
    "collapsed": true
   },
   "outputs": [],
   "source": [
    "df_by_league.columns = [\"league\", \"correct\", \"total\"]"
   ]
  },
  {
   "cell_type": "code",
   "execution_count": 33,
   "metadata": {
    "collapsed": true
   },
   "outputs": [],
   "source": [
    "df_by_league[\"accuracy\"] = df_by_league.correct / df_by_league.total"
   ]
  },
  {
   "cell_type": "code",
   "execution_count": 34,
   "metadata": {},
   "outputs": [
    {
     "data": {
      "text/html": [
       "<div>\n",
       "<style scoped>\n",
       "    .dataframe tbody tr th:only-of-type {\n",
       "        vertical-align: middle;\n",
       "    }\n",
       "\n",
       "    .dataframe tbody tr th {\n",
       "        vertical-align: top;\n",
       "    }\n",
       "\n",
       "    .dataframe thead th {\n",
       "        text-align: right;\n",
       "    }\n",
       "</style>\n",
       "<table border=\"1\" class=\"dataframe\">\n",
       "  <thead>\n",
       "    <tr style=\"text-align: right;\">\n",
       "      <th></th>\n",
       "      <th>league</th>\n",
       "      <th>correct</th>\n",
       "      <th>total</th>\n",
       "      <th>accuracy</th>\n",
       "    </tr>\n",
       "  </thead>\n",
       "  <tbody>\n",
       "    <tr>\n",
       "      <th>25</th>\n",
       "      <td>Portuguese Liga</td>\n",
       "      <td>263</td>\n",
       "      <td>428</td>\n",
       "      <td>0.614486</td>\n",
       "    </tr>\n",
       "    <tr>\n",
       "      <th>16</th>\n",
       "      <td>Greek Super League</td>\n",
       "      <td>68</td>\n",
       "      <td>112</td>\n",
       "      <td>0.607143</td>\n",
       "    </tr>\n",
       "    <tr>\n",
       "      <th>17</th>\n",
       "      <td>Italy Serie A</td>\n",
       "      <td>542</td>\n",
       "      <td>930</td>\n",
       "      <td>0.582796</td>\n",
       "    </tr>\n",
       "    <tr>\n",
       "      <th>3</th>\n",
       "      <td>Barclays Premier League</td>\n",
       "      <td>547</td>\n",
       "      <td>939</td>\n",
       "      <td>0.582535</td>\n",
       "    </tr>\n",
       "    <tr>\n",
       "      <th>34</th>\n",
       "      <td>UEFA Champions League</td>\n",
       "      <td>194</td>\n",
       "      <td>346</td>\n",
       "      <td>0.560694</td>\n",
       "    </tr>\n",
       "    <tr>\n",
       "      <th>6</th>\n",
       "      <td>Chinese Super League</td>\n",
       "      <td>71</td>\n",
       "      <td>129</td>\n",
       "      <td>0.550388</td>\n",
       "    </tr>\n",
       "    <tr>\n",
       "      <th>1</th>\n",
       "      <td>Australian A-League</td>\n",
       "      <td>24</td>\n",
       "      <td>44</td>\n",
       "      <td>0.545455</td>\n",
       "    </tr>\n",
       "    <tr>\n",
       "      <th>20</th>\n",
       "      <td>Major League Soccer</td>\n",
       "      <td>433</td>\n",
       "      <td>799</td>\n",
       "      <td>0.541927</td>\n",
       "    </tr>\n",
       "    <tr>\n",
       "      <th>29</th>\n",
       "      <td>Spanish Primera Division</td>\n",
       "      <td>501</td>\n",
       "      <td>926</td>\n",
       "      <td>0.541037</td>\n",
       "    </tr>\n",
       "    <tr>\n",
       "      <th>27</th>\n",
       "      <td>Scottish Premiership</td>\n",
       "      <td>183</td>\n",
       "      <td>340</td>\n",
       "      <td>0.538235</td>\n",
       "    </tr>\n",
       "    <tr>\n",
       "      <th>8</th>\n",
       "      <td>Dutch Eredivisie</td>\n",
       "      <td>243</td>\n",
       "      <td>455</td>\n",
       "      <td>0.534066</td>\n",
       "    </tr>\n",
       "    <tr>\n",
       "      <th>33</th>\n",
       "      <td>Turkish Turkcell Super Lig</td>\n",
       "      <td>241</td>\n",
       "      <td>453</td>\n",
       "      <td>0.532009</td>\n",
       "    </tr>\n",
       "    <tr>\n",
       "      <th>36</th>\n",
       "      <td>United Soccer League</td>\n",
       "      <td>303</td>\n",
       "      <td>576</td>\n",
       "      <td>0.526042</td>\n",
       "    </tr>\n",
       "    <tr>\n",
       "      <th>2</th>\n",
       "      <td>Austrian T-Mobile Bundesliga</td>\n",
       "      <td>151</td>\n",
       "      <td>288</td>\n",
       "      <td>0.524306</td>\n",
       "    </tr>\n",
       "    <tr>\n",
       "      <th>12</th>\n",
       "      <td>French Ligue 1</td>\n",
       "      <td>490</td>\n",
       "      <td>938</td>\n",
       "      <td>0.522388</td>\n",
       "    </tr>\n",
       "    <tr>\n",
       "      <th>35</th>\n",
       "      <td>UEFA Europa League</td>\n",
       "      <td>180</td>\n",
       "      <td>349</td>\n",
       "      <td>0.515759</td>\n",
       "    </tr>\n",
       "    <tr>\n",
       "      <th>23</th>\n",
       "      <td>National Women's Soccer League</td>\n",
       "      <td>118</td>\n",
       "      <td>231</td>\n",
       "      <td>0.510823</td>\n",
       "    </tr>\n",
       "    <tr>\n",
       "      <th>31</th>\n",
       "      <td>Swedish Allsvenskan</td>\n",
       "      <td>241</td>\n",
       "      <td>480</td>\n",
       "      <td>0.502083</td>\n",
       "    </tr>\n",
       "    <tr>\n",
       "      <th>26</th>\n",
       "      <td>Russian Premier Liga</td>\n",
       "      <td>188</td>\n",
       "      <td>375</td>\n",
       "      <td>0.501333</td>\n",
       "    </tr>\n",
       "    <tr>\n",
       "      <th>7</th>\n",
       "      <td>Danish SAS-Ligaen</td>\n",
       "      <td>70</td>\n",
       "      <td>140</td>\n",
       "      <td>0.500000</td>\n",
       "    </tr>\n",
       "    <tr>\n",
       "      <th>5</th>\n",
       "      <td>Brasileiro Série A</td>\n",
       "      <td>379</td>\n",
       "      <td>760</td>\n",
       "      <td>0.498684</td>\n",
       "    </tr>\n",
       "    <tr>\n",
       "      <th>4</th>\n",
       "      <td>Belgian Jupiler League</td>\n",
       "      <td>78</td>\n",
       "      <td>157</td>\n",
       "      <td>0.496815</td>\n",
       "    </tr>\n",
       "    <tr>\n",
       "      <th>15</th>\n",
       "      <td>German Bundesliga</td>\n",
       "      <td>376</td>\n",
       "      <td>763</td>\n",
       "      <td>0.492792</td>\n",
       "    </tr>\n",
       "    <tr>\n",
       "      <th>32</th>\n",
       "      <td>Swiss Raiffeisen Super League</td>\n",
       "      <td>133</td>\n",
       "      <td>270</td>\n",
       "      <td>0.492593</td>\n",
       "    </tr>\n",
       "    <tr>\n",
       "      <th>24</th>\n",
       "      <td>Norwegian Tippeligaen</td>\n",
       "      <td>236</td>\n",
       "      <td>480</td>\n",
       "      <td>0.491667</td>\n",
       "    </tr>\n",
       "    <tr>\n",
       "      <th>0</th>\n",
       "      <td>Argentina Primera Division</td>\n",
       "      <td>276</td>\n",
       "      <td>566</td>\n",
       "      <td>0.487633</td>\n",
       "    </tr>\n",
       "    <tr>\n",
       "      <th>13</th>\n",
       "      <td>French Ligue 2</td>\n",
       "      <td>270</td>\n",
       "      <td>568</td>\n",
       "      <td>0.475352</td>\n",
       "    </tr>\n",
       "    <tr>\n",
       "      <th>30</th>\n",
       "      <td>Spanish Segunda Division</td>\n",
       "      <td>320</td>\n",
       "      <td>674</td>\n",
       "      <td>0.474777</td>\n",
       "    </tr>\n",
       "    <tr>\n",
       "      <th>21</th>\n",
       "      <td>Mexican Primera Division Torneo Apertura</td>\n",
       "      <td>154</td>\n",
       "      <td>334</td>\n",
       "      <td>0.461078</td>\n",
       "    </tr>\n",
       "    <tr>\n",
       "      <th>10</th>\n",
       "      <td>English League One</td>\n",
       "      <td>126</td>\n",
       "      <td>274</td>\n",
       "      <td>0.459854</td>\n",
       "    </tr>\n",
       "    <tr>\n",
       "      <th>9</th>\n",
       "      <td>English League Championship</td>\n",
       "      <td>378</td>\n",
       "      <td>832</td>\n",
       "      <td>0.454327</td>\n",
       "    </tr>\n",
       "    <tr>\n",
       "      <th>22</th>\n",
       "      <td>Mexican Primera Division Torneo Clausura</td>\n",
       "      <td>150</td>\n",
       "      <td>334</td>\n",
       "      <td>0.449102</td>\n",
       "    </tr>\n",
       "    <tr>\n",
       "      <th>11</th>\n",
       "      <td>English League Two</td>\n",
       "      <td>120</td>\n",
       "      <td>271</td>\n",
       "      <td>0.442804</td>\n",
       "    </tr>\n",
       "    <tr>\n",
       "      <th>19</th>\n",
       "      <td>Japanese J League</td>\n",
       "      <td>65</td>\n",
       "      <td>147</td>\n",
       "      <td>0.442177</td>\n",
       "    </tr>\n",
       "    <tr>\n",
       "      <th>18</th>\n",
       "      <td>Italy Serie B</td>\n",
       "      <td>271</td>\n",
       "      <td>618</td>\n",
       "      <td>0.438511</td>\n",
       "    </tr>\n",
       "    <tr>\n",
       "      <th>14</th>\n",
       "      <td>German 2. Bundesliga</td>\n",
       "      <td>192</td>\n",
       "      <td>464</td>\n",
       "      <td>0.413793</td>\n",
       "    </tr>\n",
       "    <tr>\n",
       "      <th>28</th>\n",
       "      <td>South African ABSA Premier League</td>\n",
       "      <td>46</td>\n",
       "      <td>116</td>\n",
       "      <td>0.396552</td>\n",
       "    </tr>\n",
       "  </tbody>\n",
       "</table>\n",
       "</div>"
      ],
      "text/plain": [
       "                                      league  correct  total  accuracy\n",
       "25                           Portuguese Liga      263    428  0.614486\n",
       "16                        Greek Super League       68    112  0.607143\n",
       "17                             Italy Serie A      542    930  0.582796\n",
       "3                    Barclays Premier League      547    939  0.582535\n",
       "34                     UEFA Champions League      194    346  0.560694\n",
       "6                       Chinese Super League       71    129  0.550388\n",
       "1                        Australian A-League       24     44  0.545455\n",
       "20                       Major League Soccer      433    799  0.541927\n",
       "29                  Spanish Primera Division      501    926  0.541037\n",
       "27                      Scottish Premiership      183    340  0.538235\n",
       "8                           Dutch Eredivisie      243    455  0.534066\n",
       "33                Turkish Turkcell Super Lig      241    453  0.532009\n",
       "36                      United Soccer League      303    576  0.526042\n",
       "2               Austrian T-Mobile Bundesliga      151    288  0.524306\n",
       "12                            French Ligue 1      490    938  0.522388\n",
       "35                        UEFA Europa League      180    349  0.515759\n",
       "23            National Women's Soccer League      118    231  0.510823\n",
       "31                       Swedish Allsvenskan      241    480  0.502083\n",
       "26                      Russian Premier Liga      188    375  0.501333\n",
       "7                          Danish SAS-Ligaen       70    140  0.500000\n",
       "5                         Brasileiro Série A      379    760  0.498684\n",
       "4                     Belgian Jupiler League       78    157  0.496815\n",
       "15                         German Bundesliga      376    763  0.492792\n",
       "32             Swiss Raiffeisen Super League      133    270  0.492593\n",
       "24                     Norwegian Tippeligaen      236    480  0.491667\n",
       "0                 Argentina Primera Division      276    566  0.487633\n",
       "13                            French Ligue 2      270    568  0.475352\n",
       "30                  Spanish Segunda Division      320    674  0.474777\n",
       "21  Mexican Primera Division Torneo Apertura      154    334  0.461078\n",
       "10                        English League One      126    274  0.459854\n",
       "9                English League Championship      378    832  0.454327\n",
       "22  Mexican Primera Division Torneo Clausura      150    334  0.449102\n",
       "11                        English League Two      120    271  0.442804\n",
       "19                         Japanese J League       65    147  0.442177\n",
       "18                             Italy Serie B      271    618  0.438511\n",
       "14                      German 2. Bundesliga      192    464  0.413793\n",
       "28         South African ABSA Premier League       46    116  0.396552"
      ]
     },
     "execution_count": 34,
     "metadata": {},
     "output_type": "execute_result"
    }
   ],
   "source": [
    "df_by_league.sort_values(\"accuracy\", ascending=False)"
   ]
  },
  {
   "cell_type": "markdown",
   "metadata": {},
   "source": [
    "let's look at the premier league and MLS first"
   ]
  },
  {
   "cell_type": "markdown",
   "metadata": {},
   "source": [
    "get 58% correct in EPL. Lawro and merse for comparison"
   ]
  },
  {
   "cell_type": "markdown",
   "metadata": {},
   "source": [
    "<img src=\"consensus.png\">"
   ]
  },
  {
   "cell_type": "code",
   "execution_count": 35,
   "metadata": {
    "collapsed": true
   },
   "outputs": [],
   "source": [
    "df_prem = df_played[df_played.league == \"Barclays Premier League\"]"
   ]
  },
  {
   "cell_type": "code",
   "execution_count": 36,
   "metadata": {
    "collapsed": true
   },
   "outputs": [],
   "source": [
    "total_prem = len(df_prem)"
   ]
  },
  {
   "cell_type": "code",
   "execution_count": 37,
   "metadata": {
    "collapsed": true
   },
   "outputs": [],
   "source": [
    "prem_correct = df_prem[df_prem.correct == 1]"
   ]
  },
  {
   "cell_type": "code",
   "execution_count": 38,
   "metadata": {
    "collapsed": true
   },
   "outputs": [],
   "source": [
    "prem_home = df_prem[df_prem.pred == \"H\"]\n",
    "prem_away = df_prem[df_prem.pred == \"A\"]\n",
    "prem_draw = df_prem[df_prem.pred == \"D\"]"
   ]
  },
  {
   "cell_type": "code",
   "execution_count": 39,
   "metadata": {},
   "outputs": [
    {
     "data": {
      "text/plain": [
       "58.0"
      ]
     },
     "execution_count": 39,
     "metadata": {},
     "output_type": "execute_result"
    }
   ],
   "source": [
    "round(len(prem_home[prem_home.correct == 1]) / len(prem_home) * 100, 0)"
   ]
  },
  {
   "cell_type": "code",
   "execution_count": 40,
   "metadata": {},
   "outputs": [
    {
     "data": {
      "text/plain": [
       "59.0"
      ]
     },
     "execution_count": 40,
     "metadata": {},
     "output_type": "execute_result"
    }
   ],
   "source": [
    "round(len(prem_away[prem_away.correct == 1]) / len(prem_away) * 100, 0)"
   ]
  },
  {
   "cell_type": "code",
   "execution_count": 41,
   "metadata": {},
   "outputs": [
    {
     "data": {
      "text/plain": [
       "0"
      ]
     },
     "execution_count": 41,
     "metadata": {},
     "output_type": "execute_result"
    }
   ],
   "source": [
    "len(prem_draw)"
   ]
  },
  {
   "cell_type": "code",
   "execution_count": 42,
   "metadata": {},
   "outputs": [
    {
     "data": {
      "text/plain": [
       "Timestamp('2016-08-13 00:00:00')"
      ]
     },
     "execution_count": 42,
     "metadata": {},
     "output_type": "execute_result"
    }
   ],
   "source": [
    "df_prem.date.min()"
   ]
  },
  {
   "cell_type": "code",
   "execution_count": 43,
   "metadata": {},
   "outputs": [
    {
     "data": {
      "text/plain": [
       "Timestamp('2018-12-22 00:00:00')"
      ]
     },
     "execution_count": 43,
     "metadata": {},
     "output_type": "execute_result"
    }
   ],
   "source": [
    "df_prem.date.max()"
   ]
  },
  {
   "cell_type": "code",
   "execution_count": 44,
   "metadata": {
    "collapsed": true
   },
   "outputs": [],
   "source": [
    "betting = pd.concat([pd.read_csv(\"../data/1617_results.csv\", parse_dates=[\"Date\"], dayfirst=True),\n",
    "                      pd.read_csv(\"../data/1718_results.csv\", parse_dates=[\"Date\"], dayfirst=True),\n",
    "                      pd.read_csv(\"../data/1819_results.csv\", parse_dates=[\"Date\"], dayfirst=True)])"
   ]
  },
  {
   "cell_type": "code",
   "execution_count": 45,
   "metadata": {},
   "outputs": [
    {
     "data": {
      "text/plain": [
       "Timestamp('2016-08-13 00:00:00')"
      ]
     },
     "execution_count": 45,
     "metadata": {},
     "output_type": "execute_result"
    }
   ],
   "source": [
    "betting.Date.min()"
   ]
  },
  {
   "cell_type": "markdown",
   "metadata": {},
   "source": [
    "Check team names"
   ]
  },
  {
   "cell_type": "code",
   "execution_count": 46,
   "metadata": {},
   "outputs": [
    {
     "data": {
      "text/plain": [
       "['Arsenal',\n",
       " 'Bournemouth',\n",
       " 'Brighton',\n",
       " 'Burnley',\n",
       " 'Cardiff',\n",
       " 'Chelsea',\n",
       " 'Crystal Palace',\n",
       " 'Everton',\n",
       " 'Fulham',\n",
       " 'Huddersfield',\n",
       " 'Hull',\n",
       " 'Leicester',\n",
       " 'Liverpool',\n",
       " 'Man City',\n",
       " 'Man United',\n",
       " 'Middlesbrough',\n",
       " 'Newcastle',\n",
       " 'Southampton',\n",
       " 'Stoke',\n",
       " 'Sunderland',\n",
       " 'Swansea',\n",
       " 'Tottenham',\n",
       " 'Watford',\n",
       " 'West Brom',\n",
       " 'West Ham',\n",
       " 'Wolves']"
      ]
     },
     "execution_count": 46,
     "metadata": {},
     "output_type": "execute_result"
    }
   ],
   "source": [
    "bet_teams = betting.HomeTeam.unique()\n",
    "sorted(bet_teams)"
   ]
  },
  {
   "cell_type": "code",
   "execution_count": 47,
   "metadata": {},
   "outputs": [
    {
     "data": {
      "text/plain": [
       "['AFC Bournemouth',\n",
       " 'Arsenal',\n",
       " 'Brighton and Hove Albion',\n",
       " 'Burnley',\n",
       " 'Cardiff City',\n",
       " 'Chelsea',\n",
       " 'Crystal Palace',\n",
       " 'Everton',\n",
       " 'Fulham',\n",
       " 'Huddersfield Town',\n",
       " 'Hull City',\n",
       " 'Leicester City',\n",
       " 'Liverpool',\n",
       " 'Manchester City',\n",
       " 'Manchester United',\n",
       " 'Middlesbrough',\n",
       " 'Newcastle',\n",
       " 'Southampton',\n",
       " 'Stoke City',\n",
       " 'Sunderland',\n",
       " 'Swansea City',\n",
       " 'Tottenham Hotspur',\n",
       " 'Watford',\n",
       " 'West Bromwich Albion',\n",
       " 'West Ham United',\n",
       " 'Wolverhampton']"
      ]
     },
     "execution_count": 47,
     "metadata": {},
     "output_type": "execute_result"
    }
   ],
   "source": [
    "five38_teams_16 = df_prem.team1.unique()\n",
    "sorted(five38_teams_16)"
   ]
  },
  {
   "cell_type": "code",
   "execution_count": 48,
   "metadata": {
    "collapsed": true
   },
   "outputs": [],
   "source": [
    "team_dict = {\"AFC Bournemouth\": \"Bournemouth\",\n",
    "            \"Brighton and Hove Albion\": \"Brighton\",\n",
    "            \"Cardiff City\": \"Cardiff\",\n",
    "            \"Huddersfield Town\": \"Huddersfield\",\n",
    "            \"Hull City\": \"Hull\",\n",
    "            \"Leicester City\": \"Leicester\",\n",
    "            \"Manchester United\": \"Man United\",\n",
    "            \"Manchester City\": \"Man City\",\n",
    "            \"Newcastle United\": \"Newcastle\",\n",
    "            \"Stoke City\": \"Stoke\",\n",
    "            \"Swansea City\": \"Swansea\",\n",
    "            \"Tottenham Hotspur\": \"Tottenham\",\n",
    "            \"West Bromwich Albion\": \"West Brom\",\n",
    "            \"West Ham United\": \"West Ham\",\n",
    "            \"Wolverhampton\": \"Wolves\"}"
   ]
  },
  {
   "cell_type": "code",
   "execution_count": 49,
   "metadata": {},
   "outputs": [
    {
     "name": "stderr",
     "output_type": "stream",
     "text": [
      "/Users/alexandergreen/anaconda/lib/python3.6/site-packages/pandas/core/indexing.py:537: SettingWithCopyWarning: \n",
      "A value is trying to be set on a copy of a slice from a DataFrame.\n",
      "Try using .loc[row_indexer,col_indexer] = value instead\n",
      "\n",
      "See the caveats in the documentation: http://pandas.pydata.org/pandas-docs/stable/indexing.html#indexing-view-versus-copy\n",
      "  self.obj[item] = s\n"
     ]
    }
   ],
   "source": [
    "df_prem.loc[:, \"team1\"] = df_prem.team1.apply(lambda x: team_dict[x] if x in team_dict.keys() else x)"
   ]
  },
  {
   "cell_type": "code",
   "execution_count": 50,
   "metadata": {},
   "outputs": [
    {
     "name": "stderr",
     "output_type": "stream",
     "text": [
      "/Users/alexandergreen/anaconda/lib/python3.6/site-packages/pandas/core/indexing.py:537: SettingWithCopyWarning: \n",
      "A value is trying to be set on a copy of a slice from a DataFrame.\n",
      "Try using .loc[row_indexer,col_indexer] = value instead\n",
      "\n",
      "See the caveats in the documentation: http://pandas.pydata.org/pandas-docs/stable/indexing.html#indexing-view-versus-copy\n",
      "  self.obj[item] = s\n"
     ]
    }
   ],
   "source": [
    "df_prem.loc[:, \"team2\"] = df_prem.team2.apply((lambda x: team_dict[x] if x in team_dict.keys() else x))"
   ]
  },
  {
   "cell_type": "code",
   "execution_count": 51,
   "metadata": {},
   "outputs": [
    {
     "data": {
      "text/plain": [
       "array([], dtype=object)"
      ]
     },
     "execution_count": 51,
     "metadata": {},
     "output_type": "execute_result"
    }
   ],
   "source": [
    "np.setdiff1d(df_prem.team1.unique(), betting.HomeTeam.unique())"
   ]
  },
  {
   "cell_type": "code",
   "execution_count": 52,
   "metadata": {},
   "outputs": [
    {
     "data": {
      "text/plain": [
       "array([], dtype=object)"
      ]
     },
     "execution_count": 52,
     "metadata": {},
     "output_type": "execute_result"
    }
   ],
   "source": [
    "np.setdiff1d(betting.HomeTeam.unique(), df_prem.team1.unique())"
   ]
  },
  {
   "cell_type": "code",
   "execution_count": 53,
   "metadata": {},
   "outputs": [
    {
     "data": {
      "text/plain": [
       "array([], dtype=object)"
      ]
     },
     "execution_count": 53,
     "metadata": {},
     "output_type": "execute_result"
    }
   ],
   "source": [
    "np.setdiff1d(betting.HomeTeam.unique(), betting.AwayTeam.unique())"
   ]
  },
  {
   "cell_type": "code",
   "execution_count": 54,
   "metadata": {},
   "outputs": [
    {
     "data": {
      "text/plain": [
       "array([], dtype=object)"
      ]
     },
     "execution_count": 54,
     "metadata": {},
     "output_type": "execute_result"
    }
   ],
   "source": [
    "np.setdiff1d(df_prem.team1.unique(), df_prem.team2.unique())"
   ]
  },
  {
   "cell_type": "markdown",
   "metadata": {},
   "source": [
    "All teams sorted!"
   ]
  },
  {
   "cell_type": "code",
   "execution_count": 55,
   "metadata": {},
   "outputs": [
    {
     "data": {
      "text/plain": [
       "939"
      ]
     },
     "execution_count": 55,
     "metadata": {},
     "output_type": "execute_result"
    }
   ],
   "source": [
    "len(df_prem)"
   ]
  },
  {
   "cell_type": "code",
   "execution_count": 56,
   "metadata": {},
   "outputs": [
    {
     "data": {
      "text/plain": [
       "930"
      ]
     },
     "execution_count": 56,
     "metadata": {},
     "output_type": "execute_result"
    }
   ],
   "source": [
    "len(betting)"
   ]
  },
  {
   "cell_type": "code",
   "execution_count": 57,
   "metadata": {
    "collapsed": true
   },
   "outputs": [],
   "source": [
    "betting.rename(columns={\"HomeTeam\": \"team1\", \"AwayTeam\": \"team2\", \"Date\": \"date\"}, inplace=True)"
   ]
  },
  {
   "cell_type": "code",
   "execution_count": 58,
   "metadata": {
    "collapsed": true
   },
   "outputs": [],
   "source": [
    "merged = pd.merge(betting, df_prem, on=[\"date\", \"team1\", \"team2\"])"
   ]
  },
  {
   "cell_type": "code",
   "execution_count": 59,
   "metadata": {},
   "outputs": [
    {
     "data": {
      "text/plain": [
       "930"
      ]
     },
     "execution_count": 59,
     "metadata": {},
     "output_type": "execute_result"
    }
   ],
   "source": [
    "len(merged)"
   ]
  },
  {
   "cell_type": "code",
   "execution_count": 60,
   "metadata": {},
   "outputs": [
    {
     "data": {
      "text/plain": [
       "Index(['AC', 'AF', 'AR', 'AS', 'AST', 'AY', 'team2', 'B365A', 'B365D', 'B365H',\n",
       "       'BWA', 'BWD', 'BWH', 'Bb1X2', 'BbAH', 'BbAHh', 'BbAv<2.5', 'BbAv>2.5',\n",
       "       'BbAvA', 'BbAvAHA', 'BbAvAHH', 'BbAvD', 'BbAvH', 'BbMx<2.5', 'BbMx>2.5',\n",
       "       'BbMxA', 'BbMxAHA', 'BbMxAHH', 'BbMxD', 'BbMxH', 'BbOU', 'date', 'Div',\n",
       "       'FTAG', 'FTHG', 'FTR', 'HC', 'HF', 'HR', 'HS', 'HST', 'HTAG', 'HTHG',\n",
       "       'HTR', 'HY', 'team1', 'IWA', 'IWD', 'IWH', 'LBA', 'LBD', 'LBH', 'PSA',\n",
       "       'PSCA', 'PSCD', 'PSCH', 'PSD', 'PSH', 'Referee', 'VCA', 'VCD', 'VCH',\n",
       "       'WHA', 'WHD', 'WHH', 'league_id', 'league', 'spi1', 'spi2', 'prob1',\n",
       "       'prob2', 'probtie', 'proj_score1', 'proj_score2', 'importance1',\n",
       "       'importance2', 'score1', 'score2', 'xg1', 'xg2', 'nsxg1', 'nsxg2',\n",
       "       'adj_score1', 'adj_score2', 'result', 'pred', 'correct'],\n",
       "      dtype='object')"
      ]
     },
     "execution_count": 60,
     "metadata": {},
     "output_type": "execute_result"
    }
   ],
   "source": [
    "merged.columns"
   ]
  },
  {
   "cell_type": "code",
   "execution_count": 61,
   "metadata": {
    "collapsed": true
   },
   "outputs": [],
   "source": [
    "merged = merged[[\"team1\", \"team2\", \n",
    "                 \"BbMxH\", \"BbMxD\", \"BbMxA\",\n",
    "                \"PSH\", \"PSD\", \"PSA\", \n",
    "                \"result\", \"pred\", \"correct\", \n",
    "                \"prob1\", \"prob2\", \"probtie\"]]"
   ]
  },
  {
   "cell_type": "code",
   "execution_count": 62,
   "metadata": {
    "collapsed": true
   },
   "outputs": [],
   "source": [
    "# merged[\"odds_win_pin\"] = 1 / merged.PSH\n",
    "# merged[\"odds_away_pin\"] = 1 / merged.PSA\n",
    "# merged[\"odds_draw_pin\"] = 1 / merged.PSD"
   ]
  },
  {
   "cell_type": "code",
   "execution_count": 63,
   "metadata": {
    "collapsed": true
   },
   "outputs": [],
   "source": [
    "# merged[\"odds_win_max\"] = 1 / merged.BbMxH\n",
    "# merged[\"odds_away_max\"] = 1 / merged.BbMxA\n",
    "# merged[\"odds_draw_max\"] = 1 / merged.BbMxD"
   ]
  },
  {
   "cell_type": "code",
   "execution_count": 64,
   "metadata": {
    "collapsed": true
   },
   "outputs": [],
   "source": [
    "merged[\"odds_home\"] = 1 / merged.prob1\n",
    "merged[\"odds_away\"] = 1 / merged.prob2\n",
    "merged[\"odds_draw\"] = 1 / merged.probtie"
   ]
  },
  {
   "cell_type": "code",
   "execution_count": 65,
   "metadata": {
    "collapsed": true
   },
   "outputs": [],
   "source": [
    "merged[\"home_diff_pin\"] = merged.PSH - merged.odds_home\n",
    "merged[\"away_diff_pin\"] = merged.PSA - merged.odds_away\n",
    "merged[\"draw_diff_pin\"] = merged.PSD - merged.odds_draw"
   ]
  },
  {
   "cell_type": "code",
   "execution_count": 66,
   "metadata": {
    "collapsed": true
   },
   "outputs": [],
   "source": [
    "merged[\"home_diff_pin_perc\"] = merged.home_diff_pin / merged.prob1 * 100\n",
    "merged[\"away_diff_pin_perc\"] = merged.away_diff_pin / merged.prob2 * 100\n",
    "merged[\"draw_diff_pin_perc\"] = merged.draw_diff_pin / merged.probtie * 100"
   ]
  },
  {
   "cell_type": "code",
   "execution_count": 67,
   "metadata": {
    "collapsed": true
   },
   "outputs": [],
   "source": [
    "# merged[\"home_diff_max\"] = merged.prob1 - merged.odds_win_max\n",
    "# merged[\"away_diff_max\"] = merged.prob2 - merged.odds_away_max\n",
    "# merged[\"draw_diff_max\"] = merged.probtie - merged.odds_draw_max"
   ]
  },
  {
   "cell_type": "code",
   "execution_count": 68,
   "metadata": {},
   "outputs": [
    {
     "data": {
      "text/html": [
       "<div>\n",
       "<style scoped>\n",
       "    .dataframe tbody tr th:only-of-type {\n",
       "        vertical-align: middle;\n",
       "    }\n",
       "\n",
       "    .dataframe tbody tr th {\n",
       "        vertical-align: top;\n",
       "    }\n",
       "\n",
       "    .dataframe thead th {\n",
       "        text-align: right;\n",
       "    }\n",
       "</style>\n",
       "<table border=\"1\" class=\"dataframe\">\n",
       "  <thead>\n",
       "    <tr style=\"text-align: right;\">\n",
       "      <th></th>\n",
       "      <th>PSH</th>\n",
       "      <th>prob1</th>\n",
       "      <th>odds_home</th>\n",
       "      <th>home_diff_pin</th>\n",
       "      <th>home_diff_pin_perc</th>\n",
       "    </tr>\n",
       "  </thead>\n",
       "  <tbody>\n",
       "    <tr>\n",
       "      <th>0</th>\n",
       "      <td>2.47</td>\n",
       "      <td>0.4482</td>\n",
       "      <td>2.231147</td>\n",
       "      <td>0.238853</td>\n",
       "      <td>53.291653</td>\n",
       "    </tr>\n",
       "    <tr>\n",
       "      <th>1</th>\n",
       "      <td>2.06</td>\n",
       "      <td>0.4214</td>\n",
       "      <td>2.373042</td>\n",
       "      <td>-0.313042</td>\n",
       "      <td>-74.286246</td>\n",
       "    </tr>\n",
       "  </tbody>\n",
       "</table>\n",
       "</div>"
      ],
      "text/plain": [
       "    PSH   prob1  odds_home  home_diff_pin  home_diff_pin_perc\n",
       "0  2.47  0.4482   2.231147       0.238853           53.291653\n",
       "1  2.06  0.4214   2.373042      -0.313042          -74.286246"
      ]
     },
     "execution_count": 68,
     "metadata": {},
     "output_type": "execute_result"
    }
   ],
   "source": [
    "merged[[\"PSH\", \"prob1\", \"odds_home\", \"home_diff_pin\", \"home_diff_pin_perc\"]].head(2)"
   ]
  },
  {
   "cell_type": "code",
   "execution_count": 69,
   "metadata": {},
   "outputs": [
    {
     "data": {
      "text/plain": [
       "<matplotlib.axes._subplots.AxesSubplot at 0x10f389e10>"
      ]
     },
     "execution_count": 69,
     "metadata": {},
     "output_type": "execute_result"
    },
    {
     "data": {
      "image/png": "[encoded data removed]",
      "text/plain": [
       "<Figure size 432x288 with 1 Axes>"
      ]
     },
     "metadata": {},
     "output_type": "display_data"
    }
   ],
   "source": [
    "merged.home_diff_pin_perc.hist(bins=32, range=[-100, 100])"
   ]
  },
  {
   "cell_type": "code",
   "execution_count": 70,
   "metadata": {},
   "outputs": [
    {
     "data": {
      "text/plain": [
       "<matplotlib.axes._subplots.AxesSubplot at 0x10f1a4400>"
      ]
     },
     "execution_count": 70,
     "metadata": {},
     "output_type": "execute_result"
    },
    {
     "data": {
      "image/png": "[encoded data removed]",
      "text/plain": [
       "<Figure size 432x288 with 1 Axes>"
      ]
     },
     "metadata": {},
     "output_type": "display_data"
    }
   ],
   "source": [
    "merged.draw_diff_pin.hist(bins=20)"
   ]
  },
  {
   "cell_type": "code",
   "execution_count": 76,
   "metadata": {},
   "outputs": [
    {
     "name": "stdout",
     "output_type": "stream",
     "text": [
      "money at end £110.08294998694547\n",
      "total matches 358\n",
      "lowest bank £63.138244065389216\n",
      "highest bank £3865.9228045861864\n",
      "ROI -4.0%\n"
     ]
    },
    {
     "data": {
      "image/png": "[encoded data removed]",
      "text/plain": [
       "<Figure size 432x288 with 1 Axes>"
      ]
     },
     "metadata": {},
     "output_type": "display_data"
    }
   ],
   "source": [
    "money = 1000\n",
    "percent = 0.1\n",
    "money_history = []\n",
    "total_staked = 0\n",
    "total_won = 0\n",
    "for row in merged[(merged.home_diff_pin_perc > 15)].itertuples():\n",
    "# for row in df[(df.win_diff > 0.2)].itertuples():cv\n",
    "    stake = money * percent\n",
    "    money -= stake\n",
    "    total_staked += stake\n",
    "#     print(row)\n",
    "#     print()\n",
    "    if row.result == \"H\":\n",
    "        money += row.PSH * stake\n",
    "        total_won += row.PSH * stake\n",
    "    money_history.append(money)\n",
    "plt.plot(money_history)\n",
    "print(\"money at end £{}\".format(money))\n",
    "print(\"total matches {}\".format(len(money_history)))\n",
    "print(\"lowest bank £{}\".format(min(money_history)))\n",
    "print(\"highest bank £{}\".format(max(money_history)))\n",
    "print(\"ROI {}%\".format(100 * (round((total_won / total_staked) - 1, 2))))"
   ]
  },
  {
   "cell_type": "code",
   "execution_count": 75,
   "metadata": {},
   "outputs": [
    {
     "name": "stdout",
     "output_type": "stream",
     "text": [
      "money at end of season £0.13402912758057797\n",
      "total matches 298\n",
      "lowest bank £0.13402912758057797\n",
      "highest bank £1675.508814\n",
      "ROI -22.0%\n"
     ]
    },
    {
     "data": {
      "image/png": "[encoded data removed]",
      "text/plain": [
       "<Figure size 432x288 with 1 Axes>"
      ]
     },
     "metadata": {},
     "output_type": "display_data"
    }
   ],
   "source": [
    "money = 1000\n",
    "percent = 0.1\n",
    "money_history = []\n",
    "total_staked = 0\n",
    "total_won = 0\n",
    "win_odds_record = []\n",
    "all_odds_record = []\n",
    "for row in merged[(merged.away_diff_pin_perc > 20)].itertuples():\n",
    "# for row in df[(df.win_diff > 0.2)].itertuples():cv\n",
    "    stake = money * percent\n",
    "    money -= stake\n",
    "    total_staked += stake\n",
    "    all_odds_record.append(row.PSA)\n",
    "#     print(row)\n",
    "#     print()\n",
    "    if row.result == \"A\":\n",
    "        win_odds_record.append(row.PSA)\n",
    "        money += row.PSA * stake\n",
    "        total_won += row.PSA * stake\n",
    "    money_history.append(money)\n",
    "plt.plot(money_history)\n",
    "\n",
    "print(\"money at end of season £{}\".format(money))\n",
    "print(\"total matches {}\".format(len(money_history)))\n",
    "print(\"lowest bank £{}\".format(min(money_history)))\n",
    "print(\"highest bank £{}\".format(max(money_history)))\n",
    "print(\"ROI {}%\".format(100 * (round((total_won / total_staked) - 1, 2))))"
   ]
  },
  {
   "cell_type": "code",
   "execution_count": 79,
   "metadata": {},
   "outputs": [
    {
     "name": "stdout",
     "output_type": "stream",
     "text": [
      "money at end of season £0.006708696049505842\n",
      "total matches 635\n",
      "lowest bank £0.006708696049505842\n",
      "highest bank £1684.3920676650469\n",
      "ROI -9.0%\n"
     ]
    },
    {
     "data": {
      "image/png": "[encoded data removed]",
      "text/plain": [
       "<Figure size 432x288 with 1 Axes>"
      ]
     },
     "metadata": {},
     "output_type": "display_data"
    }
   ],
   "source": [
    "money = 1000\n",
    "percent = 0.1\n",
    "money_history = []\n",
    "total_staked = 0\n",
    "total_won = 0\n",
    "win_odds_record = []\n",
    "all_odds_record = []\n",
    "for row in merged[(merged.draw_diff_pin_perc > 20)].itertuples():\n",
    "# for row in df[(df.win_diff > 0.2)].itertuples():cv\n",
    "    stake = money * percent\n",
    "    money -= stake\n",
    "    total_staked += stake\n",
    "    all_odds_record.append(row.PSD)\n",
    "#     print(row)\n",
    "#     print()\n",
    "    if row.result == \"D\":\n",
    "        win_odds_record.append(row.PSD)\n",
    "        money += row.PSD * stake\n",
    "        total_won += row.PSD * stake\n",
    "    money_history.append(money)\n",
    "plt.plot(money_history)\n",
    "\n",
    "print(\"money at end of season £{}\".format(money))\n",
    "print(\"total matches {}\".format(len(money_history)))\n",
    "print(\"lowest bank £{}\".format(min(money_history)))\n",
    "print(\"highest bank £{}\".format(max(money_history)))\n",
    "print(\"ROI {}%\".format(100 * (round((total_won / total_staked) - 1, 2))))"
   ]
  },
  {
   "cell_type": "code",
   "execution_count": 91,
   "metadata": {},
   "outputs": [
    {
     "data": {
      "text/plain": [
       "([array([102.,   8.,   1.,   1.,   2.,   1.,   1.,   0.,   0.,   0.,   0.,\n",
       "           0.]),\n",
       "  array([237.,  66.,  29.,  25.,  30.,  16.,  15.,   9.,   9.,   2.,   2.,\n",
       "           2.])],\n",
       " array([ 1.18      ,  3.80666667,  6.43333333,  9.06      , 11.68666667,\n",
       "        14.31333333, 16.94      , 19.56666667, 22.19333333, 24.82      ,\n",
       "        27.44666667, 30.07333333, 32.7       ]),\n",
       " <a list of 2 Lists of Patches objects>)"
      ]
     },
     "execution_count": 91,
     "metadata": {},
     "output_type": "execute_result"
    },
    {
     "data": {
      "image/png": "[encoded data removed]",
      "text/plain": [
       "<Figure size 432x288 with 1 Axes>"
      ]
     },
     "metadata": {},
     "output_type": "display_data"
    }
   ],
   "source": [
    "plt.hist([win_odds_record, all_odds_record], bins=12)"
   ]
  },
  {
   "cell_type": "code",
   "execution_count": 92,
   "metadata": {},
   "outputs": [
    {
     "name": "stdout",
     "output_type": "stream",
     "text": [
      "money at end of season £391.2266776892837\n",
      "total matches 172\n",
      "lowest bank £91.6734053915326\n",
      "highest bank £1685.70036584305\n",
      "ROI 5.0%\n"
     ]
    },
    {
     "data": {
      "image/png": "[encoded data removed]",
      "text/plain": [
       "<Figure size 432x288 with 1 Axes>"
      ]
     },
     "metadata": {},
     "output_type": "display_data"
    }
   ],
   "source": [
    "money = 1000\n",
    "# percent = 0.1\n",
    "money_history = []\n",
    "total_staked = 0\n",
    "total_won = 0\n",
    "for row in merged[(merged.home_diff_pin > 0.2)].itertuples():\n",
    "    kelly = ((row.prob1 * row.PSH) - 1) / ((row.PSH) - 1)\n",
    "    stake = money * kelly\n",
    "    money -= stake\n",
    "    total_staked += stake\n",
    "#     print(row)\n",
    "#     print()\n",
    "    if row.result == \"H\":\n",
    "        money += row.PSH * stake\n",
    "        total_won += row.PSH * stake\n",
    "    money_history.append(money)\n",
    "plt.plot(money_history)\n",
    "print(\"money at end of season £{}\".format(money))\n",
    "print(\"total matches {}\".format(len(money_history)))\n",
    "print(\"lowest bank £{}\".format(min(money_history)))\n",
    "print(\"highest bank £{}\".format(max(money_history)))\n",
    "print(\"ROI {}%\".format(100 * (round((total_won / total_staked) - 1, 2))))"
   ]
  },
  {
   "cell_type": "markdown",
   "metadata": {},
   "source": [
    "# With Kelly"
   ]
  },
  {
   "cell_type": "code",
   "execution_count": 74,
   "metadata": {},
   "outputs": [
    {
     "name": "stdout",
     "output_type": "stream",
     "text": [
      "money at end of season £9088.759106672102\n",
      "total matches 89\n",
      "lowest bank £879.6666666666666\n",
      "highest bank £32790.332537031034\n",
      "ROI 5.0%\n"
     ]
    },
    {
     "data": {
      "image/png": "[encoded data removed]",
      "text/plain": [
       "<Figure size 432x288 with 1 Axes>"
      ]
     },
     "metadata": {},
     "output_type": "display_data"
    }
   ],
   "source": [
    "money = 1000\n",
    "# percent = 0.1\n",
    "money_history = []\n",
    "total_staked = 0\n",
    "total_won = 0\n",
    "for row in merged[(merged.home_diff_pin > 0.06)].itertuples():\n",
    "    kelly = ((row.prob1 * row.PSH) - 1) / ((row.PSH) - 1)\n",
    "    stake = money * kelly\n",
    "    money -= stake\n",
    "    total_staked += stake\n",
    "#     print(row)\n",
    "#     print()\n",
    "    if row.result == \"H\":\n",
    "        money += row.PSH * stake\n",
    "        total_won += row.PSH * stake\n",
    "    money_history.append(money)\n",
    "plt.plot(money_history)\n",
    "print(\"money at end of season £{}\".format(money))\n",
    "print(\"total matches {}\".format(len(money_history)))\n",
    "print(\"lowest bank £{}\".format(min(money_history)))\n",
    "print(\"highest bank £{}\".format(max(money_history)))\n",
    "print(\"ROI {}%\".format(100 * (round((total_won / total_staked) - 1, 2))))"
   ]
  },
  {
   "cell_type": "code",
   "execution_count": 75,
   "metadata": {},
   "outputs": [
    {
     "name": "stdout",
     "output_type": "stream",
     "text": [
      "money at end of season £10625.531421826789\n",
      "total matches 138\n",
      "lowest bank £660.7772221302249\n",
      "highest bank £17461.60155638152\n",
      "ROI 8.0%\n"
     ]
    },
    {
     "data": {
      "image/png": "[encoded data removed]",
      "text/plain": [
       "<Figure size 432x288 with 1 Axes>"
      ]
     },
     "metadata": {},
     "output_type": "display_data"
    }
   ],
   "source": [
    "money = 1000\n",
    "# percent = 0.1\n",
    "money_history = []\n",
    "total_staked = 0\n",
    "total_won = 0\n",
    "for row in merged[(merged.home_diff_max > 0.06)].itertuples():\n",
    "    kelly = ((row.prob1 * row.BbMxH) - 1) / ((row.BbMxH) - 1)\n",
    "    stake = money * kelly\n",
    "    money -= stake\n",
    "    total_staked += stake\n",
    "#     print(row)\n",
    "#     print()\n",
    "    if row.result == \"H\":\n",
    "        money += row.BbMxH * stake\n",
    "        total_won += row.BbMxH * stake\n",
    "    money_history.append(money)\n",
    "plt.plot(money_history)\n",
    "print(\"money at end of season £{}\".format(money))\n",
    "print(\"total matches {}\".format(len(money_history)))\n",
    "print(\"lowest bank £{}\".format(min(money_history)))\n",
    "print(\"highest bank £{}\".format(max(money_history)))\n",
    "print(\"ROI {}%\".format(100 * (round((total_won / total_staked) - 1, 2))))"
   ]
  },
  {
   "cell_type": "code",
   "execution_count": 465,
   "metadata": {},
   "outputs": [
    {
     "name": "stdout",
     "output_type": "stream",
     "text": [
      "money at end of season £318.08165062158514\n",
      "total matches 51\n",
      "lowest bank £291.59496375107517\n",
      "highest bank £963.9\n"
     ]
    },
    {
     "data": {
      "image/png": "[encoded data removed]",
      "text/plain": [
       "<Figure size 432x288 with 1 Axes>"
      ]
     },
     "metadata": {},
     "output_type": "display_data"
    }
   ],
   "source": [
    "money = 1000\n",
    "percent = 0.1\n",
    "money_history = []\n",
    "total_staked = 0\n",
    "total_won = 0\n",
    "for row in merged[(merged.away_diff > 0.07)].itertuples():\n",
    "# for row in df[(df.win_diff > 0.2)].itertuples():\n",
    "    stake = money * percent\n",
    "    money -= stake\n",
    "    total_staked += stake\n",
    "    if row.result == \"A\":\n",
    "        money += row.PSA * stake\n",
    "        total_won += row.PSA * stake\n",
    "    money_history.append(money)\n",
    "plt.plot(money_history)\n",
    "print(\"money at end of season £{}\".format(money))\n",
    "print(\"total matches {}\".format(len(money_history)))\n",
    "print(\"lowest bank £{}\".format(min(money_history)))\n",
    "print(\"highest bank £{}\".format(max(money_history)))"
   ]
  },
  {
   "cell_type": "code",
   "execution_count": 446,
   "metadata": {},
   "outputs": [
    {
     "name": "stdout",
     "output_type": "stream",
     "text": [
      "money at end of season £404.93614884125793\n",
      "total matches 47\n",
      "lowest bank £126.82864449222731\n",
      "highest bank £900.0\n"
     ]
    },
    {
     "data": {
      "image/png": "[encoded data removed]",
      "text/plain": [
       "<Figure size 432x288 with 1 Axes>"
      ]
     },
     "metadata": {},
     "output_type": "display_data"
    }
   ],
   "source": [
    "money = 1000\n",
    "percent = 0.1\n",
    "money_history = []\n",
    "total_staked = 0\n",
    "total_won = 0\n",
    "for row in merged[(merged.draw_diff > 0.03)].itertuples():\n",
    "# for row in df[(df.win_diff > 0.2)].itertuples():\n",
    "    stake = money * percent\n",
    "    money -= stake\n",
    "    total_staked += stake\n",
    "    if row.result == \"D\":\n",
    "        money += row.PSD * stake\n",
    "        total_won += row.PSD * stake\n",
    "    money_history.append(money)\n",
    "plt.plot(money_history)\n",
    "print(\"money at end of season £{}\".format(money))\n",
    "print(\"total matches {}\".format(len(money_history)))\n",
    "print(\"lowest bank £{}\".format(min(money_history)))\n",
    "print(\"highest bank £{}\".format(max(money_history)))"
   ]
  },
  {
   "cell_type": "markdown",
   "metadata": {},
   "source": [
    "Looks like home wins works out quite well."
   ]
  },
  {
   "cell_type": "markdown",
   "metadata": {},
   "source": [
    "Plan of attack:\n",
    "    \n",
    "On a daily basis:\n",
    "1. Download latest 538 info and get odds for next 10 matches\n",
    "2. ping pinnacle and get odds for next 10 matches\n",
    "3. compare anything with value over 0.06 in home wins\n",
    "4. send results with twilio (3p a message)"
   ]
  },
  {
   "cell_type": "markdown",
   "metadata": {
    "collapsed": true
   },
   "source": [
    "also look at serie A and portugal"
   ]
  },
  {
   "cell_type": "code",
   "execution_count": null,
   "metadata": {
    "collapsed": true
   },
   "outputs": [],
   "source": []
  }
 ],
 "metadata": {
  "kernelspec": {
   "display_name": "Python [conda env:anaconda]",
   "language": "python",
   "name": "conda-env-anaconda-py"
  },
  "language_info": {
   "codemirror_mode": {
    "name": "ipython",
    "version": 3
   },
   "file_extension": ".py",
   "mimetype": "text/x-python",
   "name": "python",
   "nbconvert_exporter": "python",
   "pygments_lexer": "ipython3",
   "version": "3.6.5"
  }
 },
 "nbformat": 4,
 "nbformat_minor": 2
}
