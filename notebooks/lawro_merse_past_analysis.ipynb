{
 "cells": [
  {
   "cell_type": "code",
   "execution_count": 1,
   "metadata": {
    "collapsed": true
   },
   "outputs": [],
   "source": [
    "import pandas as pd\n",
    "import numpy as np\n",
    "import matplotlib.pyplot as plt\n",
    "% matplotlib inline"
   ]
  },
  {
   "cell_type": "code",
   "execution_count": 2,
   "metadata": {
    "collapsed": true
   },
   "outputs": [],
   "source": [
    "l = pd.read_csv(\"../data/lawrenson_to_1718.csv\", usecols=[0, 1, 2, 3, 4])"
   ]
  },
  {
   "cell_type": "code",
   "execution_count": 3,
   "metadata": {
    "collapsed": true
   },
   "outputs": [],
   "source": [
    "m = pd.read_csv(\"../data/merson_to_1718.csv\")"
   ]
  },
  {
   "cell_type": "code",
   "execution_count": 4,
   "metadata": {},
   "outputs": [
    {
     "data": {
      "text/html": [
       "<div>\n",
       "<style scoped>\n",
       "    .dataframe tbody tr th:only-of-type {\n",
       "        vertical-align: middle;\n",
       "    }\n",
       "\n",
       "    .dataframe tbody tr th {\n",
       "        vertical-align: top;\n",
       "    }\n",
       "\n",
       "    .dataframe thead th {\n",
       "        text-align: right;\n",
       "    }\n",
       "</style>\n",
       "<table border=\"1\" class=\"dataframe\">\n",
       "  <thead>\n",
       "    <tr style=\"text-align: right;\">\n",
       "      <th></th>\n",
       "      <th>Season</th>\n",
       "      <th>Home</th>\n",
       "      <th>Prediction</th>\n",
       "      <th>Away</th>\n",
       "      <th>Result</th>\n",
       "    </tr>\n",
       "  </thead>\n",
       "  <tbody>\n",
       "    <tr>\n",
       "      <th>1568</th>\n",
       "      <td>1819</td>\n",
       "      <td>West Ham</td>\n",
       "      <td>1-1</td>\n",
       "      <td>Tottenham</td>\n",
       "      <td>0-1</td>\n",
       "    </tr>\n",
       "    <tr>\n",
       "      <th>1569</th>\n",
       "      <td>1819</td>\n",
       "      <td>Wolves</td>\n",
       "      <td>2-1</td>\n",
       "      <td>Watford</td>\n",
       "      <td>0-2</td>\n",
       "    </tr>\n",
       "    <tr>\n",
       "      <th>1570</th>\n",
       "      <td>1819</td>\n",
       "      <td>Huddersfield</td>\n",
       "      <td>0-3</td>\n",
       "      <td>Liverpool</td>\n",
       "      <td>0-1</td>\n",
       "    </tr>\n",
       "    <tr>\n",
       "      <th>1571</th>\n",
       "      <td>1819</td>\n",
       "      <td>Everton</td>\n",
       "      <td>2-0</td>\n",
       "      <td>Crystal Palace</td>\n",
       "      <td>2-0</td>\n",
       "    </tr>\n",
       "    <tr>\n",
       "      <th>1572</th>\n",
       "      <td>1819</td>\n",
       "      <td>Arsenal</td>\n",
       "      <td>3-1</td>\n",
       "      <td>Leicester</td>\n",
       "      <td>3-1</td>\n",
       "    </tr>\n",
       "  </tbody>\n",
       "</table>\n",
       "</div>"
      ],
      "text/plain": [
       "      Season          Home Prediction            Away Result\n",
       "1568    1819      West Ham        1-1       Tottenham    0-1\n",
       "1569    1819        Wolves        2-1         Watford    0-2\n",
       "1570    1819  Huddersfield        0-3       Liverpool    0-1\n",
       "1571    1819       Everton        2-0  Crystal Palace    2-0\n",
       "1572    1819       Arsenal        3-1       Leicester    3-1"
      ]
     },
     "execution_count": 4,
     "metadata": {},
     "output_type": "execute_result"
    }
   ],
   "source": [
    "m.tail()"
   ]
  },
  {
   "cell_type": "code",
   "execution_count": 5,
   "metadata": {},
   "outputs": [
    {
     "data": {
      "text/html": [
       "<div>\n",
       "<style scoped>\n",
       "    .dataframe tbody tr th:only-of-type {\n",
       "        vertical-align: middle;\n",
       "    }\n",
       "\n",
       "    .dataframe tbody tr th {\n",
       "        vertical-align: top;\n",
       "    }\n",
       "\n",
       "    .dataframe thead th {\n",
       "        text-align: right;\n",
       "    }\n",
       "</style>\n",
       "<table border=\"1\" class=\"dataframe\">\n",
       "  <thead>\n",
       "    <tr style=\"text-align: right;\">\n",
       "      <th></th>\n",
       "      <th>Season</th>\n",
       "      <th>Home</th>\n",
       "      <th>Prediction</th>\n",
       "      <th>Away</th>\n",
       "      <th>Result</th>\n",
       "    </tr>\n",
       "  </thead>\n",
       "  <tbody>\n",
       "    <tr>\n",
       "      <th>2705</th>\n",
       "      <td>1819.0</td>\n",
       "      <td>Everton</td>\n",
       "      <td>2-0</td>\n",
       "      <td>Crystal Palace</td>\n",
       "      <td>2-0</td>\n",
       "    </tr>\n",
       "    <tr>\n",
       "      <th>2706</th>\n",
       "      <td>1819.0</td>\n",
       "      <td>Arsenal</td>\n",
       "      <td>2-0</td>\n",
       "      <td>Leicester</td>\n",
       "      <td>3-1</td>\n",
       "    </tr>\n",
       "    <tr>\n",
       "      <th>2707</th>\n",
       "      <td>NaN</td>\n",
       "      <td>NaN</td>\n",
       "      <td>NaN</td>\n",
       "      <td>NaN</td>\n",
       "      <td>NaN</td>\n",
       "    </tr>\n",
       "    <tr>\n",
       "      <th>2708</th>\n",
       "      <td>NaN</td>\n",
       "      <td>NaN</td>\n",
       "      <td>NaN</td>\n",
       "      <td>NaN</td>\n",
       "      <td>NaN</td>\n",
       "    </tr>\n",
       "    <tr>\n",
       "      <th>2709</th>\n",
       "      <td>NaN</td>\n",
       "      <td>NaN</td>\n",
       "      <td>NaN</td>\n",
       "      <td>NaN</td>\n",
       "      <td>NaN</td>\n",
       "    </tr>\n",
       "  </tbody>\n",
       "</table>\n",
       "</div>"
      ],
      "text/plain": [
       "      Season     Home Prediction            Away Result\n",
       "2705  1819.0  Everton        2-0  Crystal Palace    2-0\n",
       "2706  1819.0  Arsenal        2-0       Leicester    3-1\n",
       "2707     NaN      NaN        NaN             NaN    NaN\n",
       "2708     NaN      NaN        NaN             NaN    NaN\n",
       "2709     NaN      NaN        NaN             NaN    NaN"
      ]
     },
     "execution_count": 5,
     "metadata": {},
     "output_type": "execute_result"
    }
   ],
   "source": [
    "l.tail()"
   ]
  },
  {
   "cell_type": "code",
   "execution_count": 6,
   "metadata": {
    "collapsed": true
   },
   "outputs": [],
   "source": [
    "l.dropna(inplace=True)"
   ]
  },
  {
   "cell_type": "code",
   "execution_count": 7,
   "metadata": {
    "collapsed": true
   },
   "outputs": [],
   "source": [
    "m.dropna(inplace=True)"
   ]
  },
  {
   "cell_type": "code",
   "execution_count": 8,
   "metadata": {
    "collapsed": true
   },
   "outputs": [],
   "source": [
    "def convert_to_home_away(df):\n",
    "    df[\"home_goals_prediction\"] = df.Prediction.apply(lambda x: int(x.split(\"-\")[0]))\n",
    "    df[\"away_goals_prediction\"] = df.Prediction.apply(lambda x: int(x.split(\"-\")[1]))\n",
    "    df[\"home_goals_result\"] = df.Result.apply(lambda x: int(x.split(\"-\")[0]))\n",
    "    df[\"away_goals_result\"] = df.Result.apply(lambda x: int(x.split(\"-\")[1]))\n",
    "    return df"
   ]
  },
  {
   "cell_type": "code",
   "execution_count": 9,
   "metadata": {
    "collapsed": true
   },
   "outputs": [],
   "source": [
    "m = convert_to_home_away(m)"
   ]
  },
  {
   "cell_type": "code",
   "execution_count": 10,
   "metadata": {
    "collapsed": true
   },
   "outputs": [],
   "source": [
    "l = convert_to_home_away(l)"
   ]
  },
  {
   "cell_type": "code",
   "execution_count": 11,
   "metadata": {
    "collapsed": true
   },
   "outputs": [],
   "source": [
    "pred_result = []\n",
    "\n",
    "for row in l.itertuples():\n",
    "    if row.home_goals_prediction == row.away_goals_prediction:\n",
    "        pred_result.append(\"D\")\n",
    "    else:\n",
    "        pred_result.append(\"W\")\n",
    "\n",
    "l[\"pred_result\"] = pred_result"
   ]
  },
  {
   "cell_type": "code",
   "execution_count": 12,
   "metadata": {
    "collapsed": true
   },
   "outputs": [],
   "source": [
    "actual_result = []\n",
    "\n",
    "for row in l.itertuples():\n",
    "    if row.home_goals_result == row.away_goals_result:\n",
    "        actual_result.append(\"D\")\n",
    "    else:\n",
    "        actual_result.append(\"W\")\n",
    "\n",
    "l[\"actual_result\"] = actual_result"
   ]
  },
  {
   "cell_type": "code",
   "execution_count": 13,
   "metadata": {
    "collapsed": true
   },
   "outputs": [],
   "source": [
    "pred_result = []\n",
    "\n",
    "for row in m.itertuples():\n",
    "    if row.home_goals_prediction == row.away_goals_prediction:\n",
    "        pred_result.append(\"D\")\n",
    "    else:\n",
    "        pred_result.append(\"W\")\n",
    "\n",
    "m[\"pred_result\"] = pred_result\n",
    "\n",
    "actual_result = []\n",
    "\n",
    "for row in m.itertuples():\n",
    "    if row.home_goals_result == row.away_goals_result:\n",
    "        actual_result.append(\"D\")\n",
    "    else:\n",
    "        actual_result.append(\"W\")\n",
    "\n",
    "m[\"actual_result\"] = actual_result"
   ]
  },
  {
   "cell_type": "code",
   "execution_count": 14,
   "metadata": {
    "collapsed": true
   },
   "outputs": [],
   "source": [
    "# United have two names, map to one"
   ]
  },
  {
   "cell_type": "code",
   "execution_count": 15,
   "metadata": {
    "collapsed": true
   },
   "outputs": [],
   "source": [
    "m[\"Home\"] = m.Home.apply(lambda x: x.replace(\"Man Utd\", \"Man United\"))"
   ]
  },
  {
   "cell_type": "code",
   "execution_count": 16,
   "metadata": {
    "collapsed": true
   },
   "outputs": [],
   "source": [
    "l[\"Home\"] = l.Home.apply(lambda x: x.replace(\"Man Utd\", \"Man United\"))"
   ]
  },
  {
   "cell_type": "code",
   "execution_count": 17,
   "metadata": {
    "collapsed": true
   },
   "outputs": [],
   "source": [
    "m[\"Away\"] = m.Away.apply(lambda x: x.replace(\"Man Utd\", \"Man United\"))"
   ]
  },
  {
   "cell_type": "code",
   "execution_count": 18,
   "metadata": {
    "collapsed": true
   },
   "outputs": [],
   "source": [
    "l[\"Away\"] = l.Away.apply(lambda x: x.replace(\"Man Utd\", \"Man United\"))"
   ]
  },
  {
   "cell_type": "code",
   "execution_count": 19,
   "metadata": {
    "collapsed": true
   },
   "outputs": [],
   "source": [
    "m[\"predict_draw_success\"] = (m.pred_result == \"D\") & (m.actual_result == \"D\")"
   ]
  },
  {
   "cell_type": "code",
   "execution_count": 20,
   "metadata": {
    "collapsed": true
   },
   "outputs": [],
   "source": [
    "l[\"predict_draw_success\"] = (l.pred_result == \"D\") & (l.actual_result == \"D\")"
   ]
  },
  {
   "cell_type": "markdown",
   "metadata": {},
   "source": [
    "Percentage of matches that are draws"
   ]
  },
  {
   "cell_type": "code",
   "execution_count": 21,
   "metadata": {},
   "outputs": [
    {
     "data": {
      "text/plain": [
       "0.25"
      ]
     },
     "execution_count": 21,
     "metadata": {},
     "output_type": "execute_result"
    }
   ],
   "source": [
    "round(len(l[l.actual_result == \"D\"]) / len(l), 2)"
   ]
  },
  {
   "cell_type": "markdown",
   "metadata": {},
   "source": [
    "Merse success rate at predicting draws"
   ]
  },
  {
   "cell_type": "code",
   "execution_count": 22,
   "metadata": {},
   "outputs": [
    {
     "data": {
      "text/plain": [
       "33"
      ]
     },
     "execution_count": 22,
     "metadata": {},
     "output_type": "execute_result"
    }
   ],
   "source": [
    "round(len(m[m[\"predict_draw_success\"] == True]) * 100 /len(m[m.pred_result == \"D\"]))"
   ]
  },
  {
   "cell_type": "markdown",
   "metadata": {},
   "source": [
    "Lawro success rate at predicting draws"
   ]
  },
  {
   "cell_type": "code",
   "execution_count": 23,
   "metadata": {},
   "outputs": [
    {
     "data": {
      "text/plain": [
       "34"
      ]
     },
     "execution_count": 23,
     "metadata": {},
     "output_type": "execute_result"
    }
   ],
   "source": [
    "round(len(l[l[\"predict_draw_success\"] == True]) * 100 /len(l[l.pred_result == \"D\"]))"
   ]
  },
  {
   "cell_type": "markdown",
   "metadata": {},
   "source": [
    "Merse per season"
   ]
  },
  {
   "cell_type": "code",
   "execution_count": 24,
   "metadata": {},
   "outputs": [
    {
     "name": "stdout",
     "output_type": "stream",
     "text": [
      "1415\n",
      "35\n",
      "\n",
      "1516\n",
      "36\n",
      "\n",
      "1617\n",
      "33\n",
      "\n",
      "1718\n",
      "25\n",
      "\n",
      "1819\n",
      "33\n",
      "\n"
     ]
    }
   ],
   "source": [
    "for season in m.Season.unique():\n",
    "    temp_df = m[m.Season == season]\n",
    "    print(season)\n",
    "    print(round(len(temp_df[temp_df[\"predict_draw_success\"] == True]) * 100 /len(temp_df[temp_df.pred_result == \"D\"])))\n",
    "    print()"
   ]
  },
  {
   "cell_type": "markdown",
   "metadata": {},
   "source": [
    "Lawro per season"
   ]
  },
  {
   "cell_type": "code",
   "execution_count": 25,
   "metadata": {},
   "outputs": [
    {
     "name": "stdout",
     "output_type": "stream",
     "text": [
      "1112.0\n",
      "29\n",
      "\n",
      "1213.0\n",
      "40\n",
      "\n",
      "1314.0\n",
      "34\n",
      "\n",
      "1415.0\n",
      "30\n",
      "\n",
      "1516.0\n",
      "39\n",
      "\n",
      "1617.0\n",
      "31\n",
      "\n",
      "1718.0\n",
      "34\n",
      "\n",
      "1819.0\n",
      "30\n",
      "\n"
     ]
    }
   ],
   "source": [
    "for season in l.Season.unique():\n",
    "    temp_df = l[l.Season == season]\n",
    "    print(season)\n",
    "    print(round(len(temp_df[temp_df[\"predict_draw_success\"] == True]) * 100 /len(temp_df[temp_df.pred_result == \"D\"])))\n",
    "    print()"
   ]
  },
  {
   "cell_type": "markdown",
   "metadata": {},
   "source": [
    "put the two together"
   ]
  },
  {
   "cell_type": "code",
   "execution_count": 26,
   "metadata": {},
   "outputs": [
    {
     "data": {
      "text/plain": [
       "1569"
      ]
     },
     "execution_count": 26,
     "metadata": {},
     "output_type": "execute_result"
    }
   ],
   "source": [
    "df = pd.merge(l, m, how=\"inner\", on=[\"Season\", \"Home\", \"Away\"], suffixes=(\"_l\", \"_m\"))\n",
    "len(df)"
   ]
  },
  {
   "cell_type": "code",
   "execution_count": 27,
   "metadata": {},
   "outputs": [
    {
     "data": {
      "text/plain": [
       "139"
      ]
     },
     "execution_count": 27,
     "metadata": {},
     "output_type": "execute_result"
    }
   ],
   "source": [
    "both_pred_draw = len(df[(df.pred_result_l == \"D\") & (df.pred_result_m == \"D\")])\n",
    "both_pred_draw"
   ]
  },
  {
   "cell_type": "code",
   "execution_count": 28,
   "metadata": {},
   "outputs": [
    {
     "data": {
      "text/plain": [
       "8.9"
      ]
     },
     "execution_count": 28,
     "metadata": {},
     "output_type": "execute_result"
    }
   ],
   "source": [
    "round(both_pred_draw * 100 / len(df), 1)"
   ]
  },
  {
   "cell_type": "code",
   "execution_count": 29,
   "metadata": {},
   "outputs": [
    {
     "data": {
      "text/plain": [
       "58"
      ]
     },
     "execution_count": 29,
     "metadata": {},
     "output_type": "execute_result"
    }
   ],
   "source": [
    "correct = len(df[(df.predict_draw_success_l == True) & (df.predict_draw_success_m == True)])\n",
    "correct"
   ]
  },
  {
   "cell_type": "markdown",
   "metadata": {},
   "source": [
    "Consensus predict draw rate"
   ]
  },
  {
   "cell_type": "code",
   "execution_count": 30,
   "metadata": {},
   "outputs": [
    {
     "data": {
      "text/plain": [
       "41.7"
      ]
     },
     "execution_count": 30,
     "metadata": {},
     "output_type": "execute_result"
    }
   ],
   "source": [
    "round(correct * 100 / both_pred_draw, 1)"
   ]
  },
  {
   "cell_type": "markdown",
   "metadata": {},
   "source": [
    "consensus predict draw rate per season"
   ]
  },
  {
   "cell_type": "code",
   "execution_count": 31,
   "metadata": {},
   "outputs": [
    {
     "name": "stdout",
     "output_type": "stream",
     "text": [
      "1415.0\n",
      "42\n",
      "\n",
      "1516.0\n",
      "45\n",
      "\n",
      "1617.0\n",
      "45\n",
      "\n",
      "1718.0\n",
      "32\n",
      "\n",
      "1819.0\n",
      "33\n",
      "\n"
     ]
    }
   ],
   "source": [
    "for season in df.Season.unique():\n",
    "    temp_df = df[df.Season == season]\n",
    "    print(season)\n",
    "    print(round(len(temp_df[(temp_df.predict_draw_success_l == True) & (temp_df.predict_draw_success_m == True)]) * 100 / len(temp_df[(temp_df.pred_result_l == \"D\") & (temp_df.pred_result_m == \"D\")])))\n",
    "    print()"
   ]
  },
  {
   "cell_type": "markdown",
   "metadata": {},
   "source": [
    "Did anything change from the first three seasons to the last two?"
   ]
  },
  {
   "cell_type": "code",
   "execution_count": 33,
   "metadata": {
    "collapsed": true
   },
   "outputs": [],
   "source": [
    "df_pre = df[df.Season <= 1617]"
   ]
  },
  {
   "cell_type": "code",
   "execution_count": 34,
   "metadata": {
    "collapsed": true
   },
   "outputs": [],
   "source": [
    "df_post = df[df.Season >= 1718]"
   ]
  },
  {
   "cell_type": "code",
   "execution_count": 40,
   "metadata": {},
   "outputs": [
    {
     "data": {
      "text/plain": [
       "111"
      ]
     },
     "execution_count": 40,
     "metadata": {},
     "output_type": "execute_result"
    }
   ],
   "source": [
    "len(df_pre[(df_pre.pred_result_l == \"D\") & (df_pre.pred_result_m == \"D\")])"
   ]
  },
  {
   "cell_type": "code",
   "execution_count": 41,
   "metadata": {},
   "outputs": [
    {
     "data": {
      "text/plain": [
       "28"
      ]
     },
     "execution_count": 41,
     "metadata": {},
     "output_type": "execute_result"
    }
   ],
   "source": [
    "len(df_post[(df_post.pred_result_l == \"D\") & (df_post.pred_result_m == \"D\")])"
   ]
  },
  {
   "cell_type": "code",
   "execution_count": 38,
   "metadata": {},
   "outputs": [
    {
     "data": {
      "text/plain": [
       "49"
      ]
     },
     "execution_count": 38,
     "metadata": {},
     "output_type": "execute_result"
    }
   ],
   "source": [
    "len(df_pre[(df_pre.predict_draw_success_l == True) & (df_pre.predict_draw_success_m == True)])"
   ]
  },
  {
   "cell_type": "code",
   "execution_count": 39,
   "metadata": {},
   "outputs": [
    {
     "data": {
      "text/plain": [
       "9"
      ]
     },
     "execution_count": 39,
     "metadata": {},
     "output_type": "execute_result"
    }
   ],
   "source": [
    "len(df_post[(df_post.predict_draw_success_l == True) & (df_post.predict_draw_success_m == True)])"
   ]
  },
  {
   "cell_type": "code",
   "execution_count": 42,
   "metadata": {
    "collapsed": true
   },
   "outputs": [],
   "source": [
    "from scipy.stats import chi2_contingency"
   ]
  },
  {
   "cell_type": "code",
   "execution_count": 43,
   "metadata": {
    "collapsed": true
   },
   "outputs": [],
   "source": [
    "obs = np.array([[49, 62], [9, 19]])"
   ]
  },
  {
   "cell_type": "code",
   "execution_count": 44,
   "metadata": {},
   "outputs": [
    {
     "data": {
      "text/plain": [
       "(0.8768759694286513, 0.34905875617301585, 1, array([[46.31654676, 64.68345324],\n",
       "        [11.68345324, 16.31654676]]))"
      ]
     },
     "execution_count": 44,
     "metadata": {},
     "output_type": "execute_result"
    }
   ],
   "source": [
    "chi2_contingency(obs)"
   ]
  },
  {
   "cell_type": "markdown",
   "metadata": {},
   "source": [
    "p-value = 0.35, we are not significantly different at the 0.05 level. Carry on!"
   ]
  },
  {
   "cell_type": "markdown",
   "metadata": {},
   "source": [
    "comparing with odds"
   ]
  },
  {
   "cell_type": "code",
   "execution_count": 30,
   "metadata": {
    "collapsed": true
   },
   "outputs": [],
   "source": [
    "results = pd.read_csv(\"../data/1415_results.csv\", parse_dates=[\"Date\"])"
   ]
  },
  {
   "cell_type": "code",
   "execution_count": 31,
   "metadata": {
    "collapsed": true
   },
   "outputs": [],
   "source": [
    "results[\"Season\"] = int(1415)"
   ]
  },
  {
   "cell_type": "code",
   "execution_count": 32,
   "metadata": {
    "collapsed": true
   },
   "outputs": [],
   "source": [
    "for season in range(15,19):\n",
    "    f_name = \"../data/\" + str(season) + str(season + 1) + \"_results.csv\"\n",
    "    temp_df = pd.read_csv(f_name, parse_dates=[\"Date\"])\n",
    "    temp_df[\"Season\"] = int(str(season) + str(season + 1))\n",
    "    results = results.append(temp_df)"
   ]
  },
  {
   "cell_type": "code",
   "execution_count": 33,
   "metadata": {},
   "outputs": [
    {
     "data": {
      "text/plain": [
       "Index(['AC', 'AF', 'AR', 'AS', 'AST', 'AY', 'AwayTeam', 'B365A', 'B365D',\n",
       "       'B365H', 'BWA', 'BWD', 'BWH', 'Bb1X2', 'BbAH', 'BbAHh', 'BbAv<2.5',\n",
       "       'BbAv>2.5', 'BbAvA', 'BbAvAHA', 'BbAvAHH', 'BbAvD', 'BbAvH', 'BbMx<2.5',\n",
       "       'BbMx>2.5', 'BbMxA', 'BbMxAHA', 'BbMxAHH', 'BbMxD', 'BbMxH', 'BbOU',\n",
       "       'Date', 'Div', 'FTAG', 'FTHG', 'FTR', 'HC', 'HF', 'HR', 'HS', 'HST',\n",
       "       'HTAG', 'HTHG', 'HTR', 'HY', 'HomeTeam', 'IWA', 'IWD', 'IWH', 'LBA',\n",
       "       'LBD', 'LBH', 'PSA', 'PSCA', 'PSCD', 'PSCH', 'PSD', 'PSH', 'Referee',\n",
       "       'SJA', 'SJD', 'SJH', 'Season', 'VCA', 'VCD', 'VCH', 'WHA', 'WHD',\n",
       "       'WHH'],\n",
       "      dtype='object')"
      ]
     },
     "execution_count": 33,
     "metadata": {},
     "output_type": "execute_result"
    }
   ],
   "source": [
    "results.columns"
   ]
  },
  {
   "cell_type": "code",
   "execution_count": 34,
   "metadata": {
    "collapsed": true
   },
   "outputs": [],
   "source": [
    "odds = results[[\"HomeTeam\", \"AwayTeam\", \"BbMxD\", \"BbAvD\", \"Season\", \"Date\"]]"
   ]
  },
  {
   "cell_type": "code",
   "execution_count": 35,
   "metadata": {},
   "outputs": [
    {
     "data": {
      "text/plain": [
       "1611"
      ]
     },
     "execution_count": 35,
     "metadata": {},
     "output_type": "execute_result"
    }
   ],
   "source": [
    "len(odds)"
   ]
  },
  {
   "cell_type": "code",
   "execution_count": 36,
   "metadata": {},
   "outputs": [
    {
     "name": "stderr",
     "output_type": "stream",
     "text": [
      "/Users/alexandergreen/anaconda/lib/python3.6/site-packages/ipykernel/__main__.py:1: SettingWithCopyWarning: \n",
      "A value is trying to be set on a copy of a slice from a DataFrame\n",
      "\n",
      "See the caveats in the documentation: http://pandas.pydata.org/pandas-docs/stable/indexing.html#indexing-view-versus-copy\n",
      "  if __name__ == '__main__':\n"
     ]
    }
   ],
   "source": [
    "odds.dropna(inplace=True)"
   ]
  },
  {
   "cell_type": "code",
   "execution_count": 37,
   "metadata": {},
   "outputs": [
    {
     "data": {
      "text/plain": [
       "4.2368421052631575"
      ]
     },
     "execution_count": 37,
     "metadata": {},
     "output_type": "execute_result"
    }
   ],
   "source": [
    "len(odds)/380"
   ]
  },
  {
   "cell_type": "markdown",
   "metadata": {},
   "source": [
    "checking there are no team names different, as we will join on this"
   ]
  },
  {
   "cell_type": "code",
   "execution_count": 38,
   "metadata": {},
   "outputs": [
    {
     "data": {
      "text/plain": [
       "array([], dtype=object)"
      ]
     },
     "execution_count": 38,
     "metadata": {},
     "output_type": "execute_result"
    }
   ],
   "source": [
    "np.setdiff1d(odds.HomeTeam.unique(), df.Home.unique())"
   ]
  },
  {
   "cell_type": "code",
   "execution_count": 39,
   "metadata": {},
   "outputs": [
    {
     "data": {
      "text/plain": [
       "array(['Brighton ', 'Burnley ', 'Cardiff ', 'Chelsea ', 'Crystal Palace ',\n",
       "       'Leicester ', 'Man City ', 'Tottenham ', 'West Ham '], dtype=object)"
      ]
     },
     "execution_count": 39,
     "metadata": {},
     "output_type": "execute_result"
    }
   ],
   "source": [
    "np.setdiff1d(df.Home.unique(), odds.HomeTeam.unique() )"
   ]
  },
  {
   "cell_type": "code",
   "execution_count": 40,
   "metadata": {
    "collapsed": true
   },
   "outputs": [],
   "source": [
    "df[\"Home\"] = df.Home.apply(lambda x: x.strip())"
   ]
  },
  {
   "cell_type": "code",
   "execution_count": 41,
   "metadata": {},
   "outputs": [
    {
     "data": {
      "text/plain": [
       "array([], dtype=object)"
      ]
     },
     "execution_count": 41,
     "metadata": {},
     "output_type": "execute_result"
    }
   ],
   "source": [
    "np.setdiff1d(odds.HomeTeam.unique(), df.Home.unique())"
   ]
  },
  {
   "cell_type": "code",
   "execution_count": 42,
   "metadata": {},
   "outputs": [
    {
     "data": {
      "text/plain": [
       "array([], dtype=object)"
      ]
     },
     "execution_count": 42,
     "metadata": {},
     "output_type": "execute_result"
    }
   ],
   "source": [
    "np.setdiff1d(df.Home.unique(), odds.HomeTeam.unique() )"
   ]
  },
  {
   "cell_type": "code",
   "execution_count": 43,
   "metadata": {},
   "outputs": [
    {
     "data": {
      "text/plain": [
       "array([], dtype=object)"
      ]
     },
     "execution_count": 43,
     "metadata": {},
     "output_type": "execute_result"
    }
   ],
   "source": [
    "np.setdiff1d(odds.AwayTeam.unique(), df.Away.unique())"
   ]
  },
  {
   "cell_type": "code",
   "execution_count": 44,
   "metadata": {},
   "outputs": [
    {
     "data": {
      "text/plain": [
       "array([], dtype=object)"
      ]
     },
     "execution_count": 44,
     "metadata": {},
     "output_type": "execute_result"
    }
   ],
   "source": [
    "np.setdiff1d(df.Away.unique(), odds.AwayTeam.unique() )"
   ]
  },
  {
   "cell_type": "code",
   "execution_count": 45,
   "metadata": {},
   "outputs": [
    {
     "data": {
      "text/html": [
       "<div>\n",
       "<style scoped>\n",
       "    .dataframe tbody tr th:only-of-type {\n",
       "        vertical-align: middle;\n",
       "    }\n",
       "\n",
       "    .dataframe tbody tr th {\n",
       "        vertical-align: top;\n",
       "    }\n",
       "\n",
       "    .dataframe thead th {\n",
       "        text-align: right;\n",
       "    }\n",
       "</style>\n",
       "<table border=\"1\" class=\"dataframe\">\n",
       "  <thead>\n",
       "    <tr style=\"text-align: right;\">\n",
       "      <th></th>\n",
       "      <th>Season</th>\n",
       "      <th>Home</th>\n",
       "      <th>Prediction_l</th>\n",
       "      <th>Away</th>\n",
       "      <th>Result_l</th>\n",
       "      <th>home_goals_prediction_l</th>\n",
       "      <th>away_goals_prediction_l</th>\n",
       "      <th>home_goals_result_l</th>\n",
       "      <th>away_goals_result_l</th>\n",
       "      <th>pred_result_l</th>\n",
       "      <th>...</th>\n",
       "      <th>predict_draw_success_l</th>\n",
       "      <th>Prediction_m</th>\n",
       "      <th>Result_m</th>\n",
       "      <th>home_goals_prediction_m</th>\n",
       "      <th>away_goals_prediction_m</th>\n",
       "      <th>home_goals_result_m</th>\n",
       "      <th>away_goals_result_m</th>\n",
       "      <th>pred_result_m</th>\n",
       "      <th>actual_result_m</th>\n",
       "      <th>predict_draw_success_m</th>\n",
       "    </tr>\n",
       "  </thead>\n",
       "  <tbody>\n",
       "    <tr>\n",
       "      <th>0</th>\n",
       "      <td>1415</td>\n",
       "      <td>Arsenal</td>\n",
       "      <td>2-0</td>\n",
       "      <td>West Brom</td>\n",
       "      <td>4-1</td>\n",
       "      <td>2</td>\n",
       "      <td>0</td>\n",
       "      <td>4</td>\n",
       "      <td>1</td>\n",
       "      <td>W</td>\n",
       "      <td>...</td>\n",
       "      <td>False</td>\n",
       "      <td>3-1</td>\n",
       "      <td>4-1</td>\n",
       "      <td>3</td>\n",
       "      <td>1</td>\n",
       "      <td>4</td>\n",
       "      <td>1</td>\n",
       "      <td>W</td>\n",
       "      <td>W</td>\n",
       "      <td>False</td>\n",
       "    </tr>\n",
       "    <tr>\n",
       "      <th>1</th>\n",
       "      <td>1415</td>\n",
       "      <td>Aston Villa</td>\n",
       "      <td>2-0</td>\n",
       "      <td>Burnley</td>\n",
       "      <td>0-1</td>\n",
       "      <td>2</td>\n",
       "      <td>0</td>\n",
       "      <td>0</td>\n",
       "      <td>1</td>\n",
       "      <td>W</td>\n",
       "      <td>...</td>\n",
       "      <td>False</td>\n",
       "      <td>2-2</td>\n",
       "      <td>0-1</td>\n",
       "      <td>2</td>\n",
       "      <td>2</td>\n",
       "      <td>0</td>\n",
       "      <td>1</td>\n",
       "      <td>D</td>\n",
       "      <td>W</td>\n",
       "      <td>False</td>\n",
       "    </tr>\n",
       "    <tr>\n",
       "      <th>2</th>\n",
       "      <td>1415</td>\n",
       "      <td>Chelsea</td>\n",
       "      <td>2-0</td>\n",
       "      <td>Sunderland</td>\n",
       "      <td>3-1</td>\n",
       "      <td>2</td>\n",
       "      <td>0</td>\n",
       "      <td>3</td>\n",
       "      <td>1</td>\n",
       "      <td>W</td>\n",
       "      <td>...</td>\n",
       "      <td>False</td>\n",
       "      <td>4-0</td>\n",
       "      <td>3-1</td>\n",
       "      <td>4</td>\n",
       "      <td>0</td>\n",
       "      <td>3</td>\n",
       "      <td>1</td>\n",
       "      <td>W</td>\n",
       "      <td>W</td>\n",
       "      <td>False</td>\n",
       "    </tr>\n",
       "    <tr>\n",
       "      <th>3</th>\n",
       "      <td>1415</td>\n",
       "      <td>Crystal Palace</td>\n",
       "      <td>1-1</td>\n",
       "      <td>Swansea</td>\n",
       "      <td>1-0</td>\n",
       "      <td>1</td>\n",
       "      <td>1</td>\n",
       "      <td>1</td>\n",
       "      <td>0</td>\n",
       "      <td>D</td>\n",
       "      <td>...</td>\n",
       "      <td>False</td>\n",
       "      <td>2-2</td>\n",
       "      <td>1-0</td>\n",
       "      <td>2</td>\n",
       "      <td>2</td>\n",
       "      <td>1</td>\n",
       "      <td>0</td>\n",
       "      <td>D</td>\n",
       "      <td>W</td>\n",
       "      <td>False</td>\n",
       "    </tr>\n",
       "    <tr>\n",
       "      <th>4</th>\n",
       "      <td>1415</td>\n",
       "      <td>Everton</td>\n",
       "      <td>2-1</td>\n",
       "      <td>Tottenham</td>\n",
       "      <td>0-1</td>\n",
       "      <td>2</td>\n",
       "      <td>1</td>\n",
       "      <td>0</td>\n",
       "      <td>1</td>\n",
       "      <td>W</td>\n",
       "      <td>...</td>\n",
       "      <td>False</td>\n",
       "      <td>3-1</td>\n",
       "      <td>0-1</td>\n",
       "      <td>3</td>\n",
       "      <td>1</td>\n",
       "      <td>0</td>\n",
       "      <td>1</td>\n",
       "      <td>W</td>\n",
       "      <td>W</td>\n",
       "      <td>False</td>\n",
       "    </tr>\n",
       "  </tbody>\n",
       "</table>\n",
       "<p>5 rows × 21 columns</p>\n",
       "</div>"
      ],
      "text/plain": [
       "  Season            Home Prediction_l        Away Result_l  \\\n",
       "0   1415         Arsenal          2-0   West Brom      4-1   \n",
       "1   1415     Aston Villa          2-0     Burnley      0-1   \n",
       "2   1415         Chelsea          2-0  Sunderland      3-1   \n",
       "3   1415  Crystal Palace          1-1     Swansea      1-0   \n",
       "4   1415         Everton          2-1   Tottenham      0-1   \n",
       "\n",
       "   home_goals_prediction_l  away_goals_prediction_l  home_goals_result_l  \\\n",
       "0                        2                        0                    4   \n",
       "1                        2                        0                    0   \n",
       "2                        2                        0                    3   \n",
       "3                        1                        1                    1   \n",
       "4                        2                        1                    0   \n",
       "\n",
       "   away_goals_result_l pred_result_l          ...            \\\n",
       "0                    1             W          ...             \n",
       "1                    1             W          ...             \n",
       "2                    1             W          ...             \n",
       "3                    0             D          ...             \n",
       "4                    1             W          ...             \n",
       "\n",
       "  predict_draw_success_l  Prediction_m Result_m home_goals_prediction_m  \\\n",
       "0                  False           3-1      4-1                       3   \n",
       "1                  False           2-2      0-1                       2   \n",
       "2                  False           4-0      3-1                       4   \n",
       "3                  False           2-2      1-0                       2   \n",
       "4                  False           3-1      0-1                       3   \n",
       "\n",
       "   away_goals_prediction_m  home_goals_result_m  away_goals_result_m  \\\n",
       "0                        1                    4                    1   \n",
       "1                        2                    0                    1   \n",
       "2                        0                    3                    1   \n",
       "3                        2                    1                    0   \n",
       "4                        1                    0                    1   \n",
       "\n",
       "   pred_result_m actual_result_m predict_draw_success_m  \n",
       "0              W               W                  False  \n",
       "1              D               W                  False  \n",
       "2              W               W                  False  \n",
       "3              D               W                  False  \n",
       "4              W               W                  False  \n",
       "\n",
       "[5 rows x 21 columns]"
      ]
     },
     "execution_count": 45,
     "metadata": {},
     "output_type": "execute_result"
    }
   ],
   "source": [
    "df.head()"
   ]
  },
  {
   "cell_type": "code",
   "execution_count": 46,
   "metadata": {},
   "outputs": [
    {
     "data": {
      "text/html": [
       "<div>\n",
       "<style scoped>\n",
       "    .dataframe tbody tr th:only-of-type {\n",
       "        vertical-align: middle;\n",
       "    }\n",
       "\n",
       "    .dataframe tbody tr th {\n",
       "        vertical-align: top;\n",
       "    }\n",
       "\n",
       "    .dataframe thead th {\n",
       "        text-align: right;\n",
       "    }\n",
       "</style>\n",
       "<table border=\"1\" class=\"dataframe\">\n",
       "  <thead>\n",
       "    <tr style=\"text-align: right;\">\n",
       "      <th></th>\n",
       "      <th>HomeTeam</th>\n",
       "      <th>AwayTeam</th>\n",
       "      <th>BbMxD</th>\n",
       "      <th>BbAvD</th>\n",
       "      <th>Season</th>\n",
       "      <th>Date</th>\n",
       "    </tr>\n",
       "  </thead>\n",
       "  <tbody>\n",
       "    <tr>\n",
       "      <th>0</th>\n",
       "      <td>Arsenal</td>\n",
       "      <td>Crystal Palace</td>\n",
       "      <td>6.70</td>\n",
       "      <td>5.96</td>\n",
       "      <td>1415</td>\n",
       "      <td>2014-08-16</td>\n",
       "    </tr>\n",
       "    <tr>\n",
       "      <th>1</th>\n",
       "      <td>Leicester</td>\n",
       "      <td>Everton</td>\n",
       "      <td>3.45</td>\n",
       "      <td>3.32</td>\n",
       "      <td>1415</td>\n",
       "      <td>2014-08-16</td>\n",
       "    </tr>\n",
       "    <tr>\n",
       "      <th>2</th>\n",
       "      <td>Man United</td>\n",
       "      <td>Swansea</td>\n",
       "      <td>5.50</td>\n",
       "      <td>4.96</td>\n",
       "      <td>1415</td>\n",
       "      <td>2014-08-16</td>\n",
       "    </tr>\n",
       "    <tr>\n",
       "      <th>3</th>\n",
       "      <td>QPR</td>\n",
       "      <td>Hull</td>\n",
       "      <td>3.40</td>\n",
       "      <td>3.18</td>\n",
       "      <td>1415</td>\n",
       "      <td>2014-08-16</td>\n",
       "    </tr>\n",
       "    <tr>\n",
       "      <th>4</th>\n",
       "      <td>Stoke</td>\n",
       "      <td>Aston Villa</td>\n",
       "      <td>3.50</td>\n",
       "      <td>3.38</td>\n",
       "      <td>1415</td>\n",
       "      <td>2014-08-16</td>\n",
       "    </tr>\n",
       "  </tbody>\n",
       "</table>\n",
       "</div>"
      ],
      "text/plain": [
       "     HomeTeam        AwayTeam  BbMxD  BbAvD  Season       Date\n",
       "0     Arsenal  Crystal Palace   6.70   5.96    1415 2014-08-16\n",
       "1   Leicester         Everton   3.45   3.32    1415 2014-08-16\n",
       "2  Man United         Swansea   5.50   4.96    1415 2014-08-16\n",
       "3         QPR            Hull   3.40   3.18    1415 2014-08-16\n",
       "4       Stoke     Aston Villa   3.50   3.38    1415 2014-08-16"
      ]
     },
     "execution_count": 46,
     "metadata": {},
     "output_type": "execute_result"
    }
   ],
   "source": [
    "odds.head()"
   ]
  },
  {
   "cell_type": "code",
   "execution_count": 47,
   "metadata": {},
   "outputs": [],
   "source": [
    "df_odds = pd.merge(df, odds, \n",
    "                   left_on=[\"Home\", \"Away\", \"Season\"], \n",
    "                   right_on=[\"HomeTeam\", \"AwayTeam\", \"Season\"], \n",
    "                   how=\"inner\")"
   ]
  },
  {
   "cell_type": "code",
   "execution_count": 48,
   "metadata": {},
   "outputs": [
    {
     "data": {
      "text/plain": [
       "1569"
      ]
     },
     "execution_count": 48,
     "metadata": {},
     "output_type": "execute_result"
    }
   ],
   "source": [
    "len(df_odds)"
   ]
  },
  {
   "cell_type": "code",
   "execution_count": 49,
   "metadata": {
    "collapsed": true
   },
   "outputs": [],
   "source": [
    "df_both_pick = df_odds[(df_odds.pred_result_l == \"D\") & (df_odds.pred_result_m == \"D\")]"
   ]
  },
  {
   "cell_type": "code",
   "execution_count": 50,
   "metadata": {},
   "outputs": [
    {
     "data": {
      "text/plain": [
       "<matplotlib.axes._subplots.AxesSubplot at 0x104e05f60>"
      ]
     },
     "execution_count": 50,
     "metadata": {},
     "output_type": "execute_result"
    },
    {
     "data": {
      "image/png": "[encoded data removed]",
      "text/plain": [
       "<Figure size 432x288 with 1 Axes>"
      ]
     },
     "metadata": {},
     "output_type": "display_data"
    }
   ],
   "source": [
    "df_both_pick.BbMxD.hist(bins=32)"
   ]
  },
  {
   "cell_type": "code",
   "execution_count": 51,
   "metadata": {},
   "outputs": [
    {
     "data": {
      "text/plain": [
       "<matplotlib.axes._subplots.AxesSubplot at 0x104e059b0>"
      ]
     },
     "execution_count": 51,
     "metadata": {},
     "output_type": "execute_result"
    },
    {
     "data": {
      "image/png": "[encoded data removed]",
      "text/plain": [
       "<Figure size 432x288 with 1 Axes>"
      ]
     },
     "metadata": {},
     "output_type": "display_data"
    }
   ],
   "source": [
    "df_both_pick.BbAvD.hist(bins=50)"
   ]
  },
  {
   "cell_type": "code",
   "execution_count": 54,
   "metadata": {},
   "outputs": [
    {
     "data": {
      "text/plain": [
       "<matplotlib.axes._subplots.AxesSubplot at 0x10b422048>"
      ]
     },
     "execution_count": 54,
     "metadata": {},
     "output_type": "execute_result"
    },
    {
     "data": {
      "image/png": "[encoded data removed]",
      "text/plain": [
       "<Figure size 432x288 with 1 Axes>"
      ]
     },
     "metadata": {},
     "output_type": "display_data"
    }
   ],
   "source": [
    "(df_both_pick.BbAvD / df_both_pick.BbMxD).hist(bins=20)"
   ]
  },
  {
   "cell_type": "markdown",
   "metadata": {},
   "source": [
    "mean, std for max and average odds on the draw on matches that both picked"
   ]
  },
  {
   "cell_type": "code",
   "execution_count": 52,
   "metadata": {},
   "outputs": [
    {
     "data": {
      "text/plain": [
       "3.55"
      ]
     },
     "execution_count": 52,
     "metadata": {},
     "output_type": "execute_result"
    }
   ],
   "source": [
    "round(df_both_pick.BbMxD.mean(), 2)"
   ]
  },
  {
   "cell_type": "code",
   "execution_count": 53,
   "metadata": {},
   "outputs": [
    {
     "data": {
      "text/plain": [
       "3.39"
      ]
     },
     "execution_count": 53,
     "metadata": {},
     "output_type": "execute_result"
    }
   ],
   "source": [
    "round(df_both_pick.BbAvD.mean(), 2)"
   ]
  },
  {
   "cell_type": "code",
   "execution_count": 57,
   "metadata": {},
   "outputs": [
    {
     "data": {
      "text/plain": [
       "0.24918821671898198"
      ]
     },
     "execution_count": 57,
     "metadata": {},
     "output_type": "execute_result"
    }
   ],
   "source": [
    "np.std(df_both_pick.BbMxD)"
   ]
  },
  {
   "cell_type": "code",
   "execution_count": 58,
   "metadata": {},
   "outputs": [
    {
     "data": {
      "text/plain": [
       "0.22233072387536815"
      ]
     },
     "execution_count": 58,
     "metadata": {},
     "output_type": "execute_result"
    }
   ],
   "source": [
    "np.std(df_both_pick.BbAvD)"
   ]
  },
  {
   "cell_type": "code",
   "execution_count": 59,
   "metadata": {},
   "outputs": [
    {
     "data": {
      "text/plain": [
       "0.13890243307613043"
      ]
     },
     "execution_count": 59,
     "metadata": {},
     "output_type": "execute_result"
    }
   ],
   "source": [
    "np.std(df_both_pick[df_both_pick.BbAvD < 3.65].BbAvD)"
   ]
  },
  {
   "cell_type": "code",
   "execution_count": 60,
   "metadata": {
    "collapsed": true
   },
   "outputs": [],
   "source": [
    "starting_money = 1000\n",
    "percentage_stake = 0.1"
   ]
  },
  {
   "cell_type": "markdown",
   "metadata": {},
   "source": [
    "Past performance calcs"
   ]
  },
  {
   "cell_type": "markdown",
   "metadata": {},
   "source": [
    "Using Constant Percentage Stake"
   ]
  },
  {
   "cell_type": "code",
   "execution_count": 61,
   "metadata": {},
   "outputs": [
    {
     "data": {
      "text/plain": [
       "71769.64099999997"
      ]
     },
     "execution_count": 61,
     "metadata": {},
     "output_type": "execute_result"
    },
    {
     "data": {
      "image/png": "[encoded data removed]",
      "text/plain": [
       "<Figure size 432x288 with 1 Axes>"
      ]
     },
     "metadata": {},
     "output_type": "display_data"
    }
   ],
   "source": [
    "money = starting_money\n",
    "money_history = [money]\n",
    "longest_winning_streak = 0\n",
    "longest_losing_streak = 0\n",
    "current_winning_streak = 0\n",
    "current_losing_streak = 0\n",
    "total_staked = 0\n",
    "total_won = 0\n",
    "\n",
    "for row in df_both_pick.itertuples():\n",
    "    stake = round(money * percentage_stake, -1)\n",
    "    money -= stake\n",
    "    total_staked += stake\n",
    "    if row.predict_draw_success_l and row.predict_draw_success_m:\n",
    "        money += stake * row.BbMxD * 0.99\n",
    "        total_won += stake * row.BbMxD * 0.99\n",
    "        current_winning_streak += 1\n",
    "        current_losing_streak = 0\n",
    "    else:\n",
    "        current_losing_streak += 1\n",
    "        current_winning_streak = 0\n",
    "    if current_winning_streak > longest_winning_streak:\n",
    "        longest_winning_streak = current_winning_streak\n",
    "    if current_losing_streak > longest_losing_streak:\n",
    "        longest_losing_streak = current_losing_streak\n",
    "    \n",
    "    money_history.append(money)\n",
    "    \n",
    "\n",
    "plt.plot(money_history)\n",
    "money_history[-1]"
   ]
  },
  {
   "cell_type": "markdown",
   "metadata": {},
   "source": [
    "Using Kelly Criterion"
   ]
  },
  {
   "cell_type": "code",
   "execution_count": 64,
   "metadata": {
    "collapsed": true
   },
   "outputs": [],
   "source": [
    "starting_money = 1000\n",
    "prob_winning = 0.417 # assume consant, but may fluctuate\n",
    "ratio_of_max = 0.99 # percentage of max draw odds we can get"
   ]
  },
  {
   "cell_type": "code",
   "execution_count": 65,
   "metadata": {},
   "outputs": [
    {
     "data": {
      "text/plain": [
       "117233.54999999999"
      ]
     },
     "execution_count": 65,
     "metadata": {},
     "output_type": "execute_result"
    },
    {
     "data": {
      "image/png": "[encoded data removed]",
      "text/plain": [
       "<Figure size 432x288 with 1 Axes>"
      ]
     },
     "metadata": {},
     "output_type": "display_data"
    }
   ],
   "source": [
    "money = starting_money\n",
    "money_history = [money]\n",
    "\n",
    "total_staked = 0\n",
    "total_won = 0\n",
    "\n",
    "for row in df_both_pick.itertuples():\n",
    "    kelly = ((prob_winning * row.BbMxD * ratio_of_max) - 1) / ((row.BbMxD * ratio_of_max) - 1)\n",
    "    stake = round(money * kelly, -1)\n",
    "    money -= stake\n",
    "    total_staked += stake\n",
    "    if row.predict_draw_success_l and row.predict_draw_success_m:\n",
    "        money += stake * row.BbMxD * ratio_of_max\n",
    "        total_won += stake * row.BbMxD * ratio_of_max\n",
    "\n",
    "    \n",
    "    money_history.append(money)\n",
    "    \n",
    "\n",
    "plt.plot(money_history)\n",
    "money_history[-1]"
   ]
  },
  {
   "cell_type": "code",
   "execution_count": 66,
   "metadata": {},
   "outputs": [
    {
     "data": {
      "text/plain": [
       "469.73199999999997"
      ]
     },
     "execution_count": 66,
     "metadata": {},
     "output_type": "execute_result"
    }
   ],
   "source": [
    "min(money_history)"
   ]
  },
  {
   "cell_type": "code",
   "execution_count": 69,
   "metadata": {},
   "outputs": [
    {
     "data": {
      "text/plain": [
       "370612.511"
      ]
     },
     "execution_count": 69,
     "metadata": {},
     "output_type": "execute_result"
    }
   ],
   "source": [
    "max(money_history)"
   ]
  },
  {
   "cell_type": "code",
   "execution_count": 67,
   "metadata": {},
   "outputs": [
    {
     "data": {
      "text/plain": [
       "128"
      ]
     },
     "execution_count": 67,
     "metadata": {},
     "output_type": "execute_result"
    }
   ],
   "source": [
    "money_history.index(max(money_history))"
   ]
  },
  {
   "cell_type": "code",
   "execution_count": 70,
   "metadata": {},
   "outputs": [
    {
     "data": {
      "text/plain": [
       "[<matplotlib.lines.Line2D at 0x1123ab9e8>]"
      ]
     },
     "execution_count": 70,
     "metadata": {},
     "output_type": "execute_result"
    },
    {
     "data": {
      "image/png": "[encoded data removed]",
      "text/plain": [
       "<Figure size 432x288 with 1 Axes>"
      ]
     },
     "metadata": {},
     "output_type": "display_data"
    }
   ],
   "source": [
    "plt.plot(money_history[30:100])"
   ]
  },
  {
   "cell_type": "code",
   "execution_count": 71,
   "metadata": {},
   "outputs": [
    {
     "data": {
      "text/plain": [
       "6"
      ]
     },
     "execution_count": 71,
     "metadata": {},
     "output_type": "execute_result"
    }
   ],
   "source": [
    "longest_losing_streak"
   ]
  },
  {
   "cell_type": "code",
   "execution_count": 72,
   "metadata": {},
   "outputs": [
    {
     "data": {
      "text/plain": [
       "5"
      ]
     },
     "execution_count": 72,
     "metadata": {},
     "output_type": "execute_result"
    }
   ],
   "source": [
    "longest_winning_streak"
   ]
  },
  {
   "cell_type": "code",
   "execution_count": 73,
   "metadata": {},
   "outputs": [
    {
     "data": {
      "text/plain": [
       "1.064201469247977"
      ]
     },
     "execution_count": 73,
     "metadata": {},
     "output_type": "execute_result"
    }
   ],
   "source": [
    "total_won / total_staked"
   ]
  },
  {
   "cell_type": "markdown",
   "metadata": {},
   "source": [
    "assume can't get best odds, see what 0.98 looks like"
   ]
  },
  {
   "cell_type": "code",
   "execution_count": 73,
   "metadata": {},
   "outputs": [
    {
     "data": {
      "text/plain": [
       "61420.23999999999"
      ]
     },
     "execution_count": 73,
     "metadata": {},
     "output_type": "execute_result"
    },
    {
     "data": {
      "image/png": "[encoded data removed]",
      "text/plain": [
       "<Figure size 432x288 with 1 Axes>"
      ]
     },
     "metadata": {},
     "output_type": "display_data"
    }
   ],
   "source": [
    "money = starting_money\n",
    "money_history = [money]\n",
    "for row in df_both_pick.itertuples():\n",
    "    stake = round(money * percentage_stake, -1)\n",
    "    money -= stake\n",
    "    if row.predict_draw_success_l and row.predict_draw_success_m:\n",
    "        money += stake * row.BbMxD * 0.98\n",
    "    money_history.append(money)\n",
    "\n",
    "plt.plot(money_history)\n",
    "money_history[-1]"
   ]
  },
  {
   "cell_type": "code",
   "execution_count": 74,
   "metadata": {},
   "outputs": [
    {
     "data": {
      "text/plain": [
       "41723.0"
      ]
     },
     "execution_count": 74,
     "metadata": {},
     "output_type": "execute_result"
    },
    {
     "data": {
      "image/png": "[encoded data removed]",
      "text/plain": [
       "<Figure size 432x288 with 1 Axes>"
      ]
     },
     "metadata": {},
     "output_type": "display_data"
    }
   ],
   "source": [
    "money = starting_money\n",
    "money_history = [money]\n",
    "for row in df_both_pick.itertuples():\n",
    "    stake = round(money * percentage_stake, -1)\n",
    "    money -= stake\n",
    "    if row.predict_draw_success_l and row.predict_draw_success_m:\n",
    "        money += stake * row.BbAvD\n",
    "    money_history.append(money)\n",
    "\n",
    "plt.plot(money_history)\n",
    "money_history[-1]"
   ]
  },
  {
   "cell_type": "markdown",
   "metadata": {},
   "source": [
    "Looks like AvD and 0.95 are roughly equal"
   ]
  },
  {
   "cell_type": "markdown",
   "metadata": {},
   "source": [
    "try taking out biggest 10% of odds (don't make them losses, just ignore)"
   ]
  },
  {
   "cell_type": "code",
   "execution_count": 75,
   "metadata": {},
   "outputs": [
    {
     "data": {
      "text/plain": [
       "3.645"
      ]
     },
     "execution_count": 75,
     "metadata": {},
     "output_type": "execute_result"
    }
   ],
   "source": [
    "df_both_pick.BbAvD.quantile(0.9)"
   ]
  },
  {
   "cell_type": "code",
   "execution_count": 76,
   "metadata": {},
   "outputs": [
    {
     "data": {
      "text/plain": [
       "11756.499999999995"
      ]
     },
     "execution_count": 76,
     "metadata": {},
     "output_type": "execute_result"
    },
    {
     "data": {
      "image/png": "[encoded data removed]",
      "text/plain": [
       "<Figure size 432x288 with 1 Axes>"
      ]
     },
     "metadata": {},
     "output_type": "display_data"
    }
   ],
   "source": [
    "money = starting_money\n",
    "money_history = [money]\n",
    "for row in df_both_pick.itertuples():\n",
    "    stake = round(money * percentage_stake, -1)\n",
    "    money -= stake\n",
    "    if row.predict_draw_success_l and row.predict_draw_success_m:\n",
    "        if row.BbAvD < 3.65:\n",
    "            money += stake * row.BbAvD\n",
    "        else:\n",
    "            money += stake\n",
    "    money_history.append(money)\n",
    "\n",
    "plt.plot(money_history)\n",
    "money_history[-1]"
   ]
  },
  {
   "cell_type": "markdown",
   "metadata": {},
   "source": [
    "Even Assuming average odds and missing out on top 10 largest wins, we make 12x in 4 seasons\n",
    "\n",
    "That's an average of tripling bank each season. Jesus"
   ]
  },
  {
   "cell_type": "code",
   "execution_count": 79,
   "metadata": {},
   "outputs": [
    {
     "data": {
      "text/plain": [
       "95.0"
      ]
     },
     "execution_count": 79,
     "metadata": {},
     "output_type": "execute_result"
    }
   ],
   "source": [
    "round(100 * (df_both_pick.BbAvD / df_both_pick.BbMxD).mean(), 0)"
   ]
  },
  {
   "cell_type": "markdown",
   "metadata": {},
   "source": [
    "Average is roughly 95% of max. \n",
    "\n",
    "If above 3.4, definitely take it"
   ]
  },
  {
   "cell_type": "markdown",
   "metadata": {},
   "source": [
    "look only at last season"
   ]
  },
  {
   "cell_type": "code",
   "execution_count": 77,
   "metadata": {
    "collapsed": true
   },
   "outputs": [],
   "source": [
    "df_both_pick_1718 = df_both_pick[df_both_pick.Season == 1718]"
   ]
  },
  {
   "cell_type": "code",
   "execution_count": 80,
   "metadata": {
    "collapsed": true
   },
   "outputs": [],
   "source": [
    "ratio_of_max = 1.0"
   ]
  },
  {
   "cell_type": "code",
   "execution_count": 81,
   "metadata": {},
   "outputs": [
    {
     "data": {
      "text/plain": [
       "610.0999999999999"
      ]
     },
     "execution_count": 81,
     "metadata": {},
     "output_type": "execute_result"
    },
    {
     "data": {
      "image/png": "[encoded data removed]",
      "text/plain": [
       "<Figure size 432x288 with 1 Axes>"
      ]
     },
     "metadata": {},
     "output_type": "display_data"
    }
   ],
   "source": [
    "money = starting_money\n",
    "money_history = [money]\n",
    "for row in df_both_pick_1718.itertuples():\n",
    "    kelly = ((prob_winning * row.BbMxD * ratio_of_max) - 1) / ((row.BbMxD * ratio_of_max) - 1)\n",
    "    stake = round(money * kelly, -1)\n",
    "    money -= stake\n",
    "    if row.predict_draw_success_l and row.predict_draw_success_m:\n",
    "        money += stake * row.BbMxD\n",
    "    money_history.append(money)\n",
    "    \n",
    "\n",
    "plt.plot(money_history)\n",
    "money_history[-1]"
   ]
  },
  {
   "cell_type": "code",
   "execution_count": 83,
   "metadata": {},
   "outputs": [
    {
     "data": {
      "text/plain": [
       "848.6750000000002"
      ]
     },
     "execution_count": 83,
     "metadata": {},
     "output_type": "execute_result"
    },
    {
     "data": {
      "image/png": "[encoded data removed]",
      "text/plain": [
       "<Figure size 432x288 with 1 Axes>"
      ]
     },
     "metadata": {},
     "output_type": "display_data"
    }
   ],
   "source": [
    "money = starting_money\n",
    "money_history = [money]\n",
    "for row in df_both_pick_1718.itertuples():\n",
    "    stake = round(money * percentage_stake, -1)\n",
    "    money -= stake\n",
    "    if row.predict_draw_success_l and row.predict_draw_success_m:\n",
    "        money += stake * row.BbMxD * 0.95\n",
    "    money_history.append(money)\n",
    "\n",
    "plt.plot(money_history)\n",
    "money_history[-1]"
   ]
  },
  {
   "cell_type": "code",
   "execution_count": 83,
   "metadata": {},
   "outputs": [
    {
     "data": {
      "text/plain": [
       "679.5000000000002"
      ]
     },
     "execution_count": 83,
     "metadata": {},
     "output_type": "execute_result"
    },
    {
     "data": {
      "image/png": "[encoded data removed]",
      "text/plain": [
       "<Figure size 432x288 with 1 Axes>"
      ]
     },
     "metadata": {},
     "output_type": "display_data"
    }
   ],
   "source": [
    "money = starting_money\n",
    "money_history = [money]\n",
    "for row in df_both_pick_1718.itertuples():\n",
    "    stake = round(money * percentage_stake, -1)\n",
    "    money -= stake\n",
    "    if row.predict_draw_success_l and row.predict_draw_success_m:\n",
    "        if row.BbAvD < 3.65:\n",
    "            money += stake * row.BbAvD\n",
    "        else:\n",
    "            money += stake\n",
    "    money_history.append(money)\n",
    "\n",
    "plt.plot(money_history)\n",
    "money_history[-1]"
   ]
  },
  {
   "cell_type": "markdown",
   "metadata": {},
   "source": [
    "only fails if miss out on big wins"
   ]
  },
  {
   "cell_type": "markdown",
   "metadata": {
    "collapsed": true
   },
   "source": [
    "How stable is their picking success?"
   ]
  },
  {
   "cell_type": "code",
   "execution_count": 74,
   "metadata": {
    "collapsed": true
   },
   "outputs": [],
   "source": [
    "success_rate = []\n",
    "for i in range(1, len(df_both_pick)):\n",
    "    picks_so_far = i\n",
    "    df_so_far = df_both_pick.iloc[:i]\n",
    "    successes_so_far = len(df_so_far[df_so_far.predict_draw_success_l & df_so_far.predict_draw_success_m])\n",
    "    rate_so_far = successes_so_far / picks_so_far\n",
    "    success_rate.append(rate_so_far)"
   ]
  },
  {
   "cell_type": "code",
   "execution_count": 75,
   "metadata": {},
   "outputs": [
    {
     "data": {
      "text/plain": [
       "[<matplotlib.lines.Line2D at 0x112446cc0>]"
      ]
     },
     "execution_count": 75,
     "metadata": {},
     "output_type": "execute_result"
    },
    {
     "data": {
      "image/png": "[encoded data removed]",
      "text/plain": [
       "<Figure size 432x288 with 1 Axes>"
      ]
     },
     "metadata": {},
     "output_type": "display_data"
    }
   ],
   "source": [
    "plt.plot(success_rate)"
   ]
  },
  {
   "cell_type": "code",
   "execution_count": 76,
   "metadata": {},
   "outputs": [
    {
     "data": {
      "text/plain": [
       "138"
      ]
     },
     "execution_count": 76,
     "metadata": {},
     "output_type": "execute_result"
    }
   ],
   "source": [
    "len(success_rate)"
   ]
  },
  {
   "cell_type": "code",
   "execution_count": 77,
   "metadata": {},
   "outputs": [
    {
     "data": {
      "text/plain": [
       "0.4047483646608209"
      ]
     },
     "execution_count": 77,
     "metadata": {},
     "output_type": "execute_result"
    }
   ],
   "source": [
    "np.mean(success_rate[0:int(len(success_rate)/2)])"
   ]
  },
  {
   "cell_type": "code",
   "execution_count": 78,
   "metadata": {},
   "outputs": [
    {
     "data": {
      "text/plain": [
       "0.4328414024608917"
      ]
     },
     "execution_count": 78,
     "metadata": {},
     "output_type": "execute_result"
    }
   ],
   "source": [
    "np.mean(success_rate[int(len(success_rate)/2):])"
   ]
  },
  {
   "cell_type": "code",
   "execution_count": 79,
   "metadata": {},
   "outputs": [
    {
     "data": {
      "text/plain": [
       "0.44619326408693694"
      ]
     },
     "execution_count": 79,
     "metadata": {},
     "output_type": "execute_result"
    }
   ],
   "source": [
    "np.mean(success_rate[40:92])"
   ]
  },
  {
   "cell_type": "code",
   "execution_count": 80,
   "metadata": {},
   "outputs": [
    {
     "data": {
      "text/plain": [
       "0.4330824003077656"
      ]
     },
     "execution_count": 80,
     "metadata": {},
     "output_type": "execute_result"
    }
   ],
   "source": [
    "np.mean(success_rate[92:])"
   ]
  },
  {
   "cell_type": "code",
   "execution_count": 81,
   "metadata": {},
   "outputs": [
    {
     "data": {
      "text/plain": [
       "0.43391193056021976"
      ]
     },
     "execution_count": 81,
     "metadata": {},
     "output_type": "execute_result"
    }
   ],
   "source": [
    "np.mean(success_rate[60:72])"
   ]
  },
  {
   "cell_type": "code",
   "execution_count": 82,
   "metadata": {},
   "outputs": [
    {
     "data": {
      "text/plain": [
       "0.43309688749101427"
      ]
     },
     "execution_count": 82,
     "metadata": {},
     "output_type": "execute_result"
    }
   ],
   "source": [
    "np.mean(success_rate[72:])"
   ]
  },
  {
   "cell_type": "code",
   "execution_count": 83,
   "metadata": {},
   "outputs": [
    {
     "name": "stdout",
     "output_type": "stream",
     "text": [
      "0.4878048780487805\n",
      "0.5\n",
      "0.4883720930232558\n",
      "0.5\n",
      "0.4888888888888889\n",
      "0.4782608695652174\n",
      "0.46808510638297873\n",
      "0.4791666666666667\n",
      "0.46938775510204084\n",
      "0.48\n",
      "0.47058823529411764\n",
      "0.46153846153846156\n",
      "0.4528301886792453\n",
      "0.46296296296296297\n",
      "0.45454545454545453\n",
      "0.44642857142857145\n",
      "0.43859649122807015\n",
      "0.43103448275862066\n",
      "0.4406779661016949\n",
      "0.43333333333333335\n",
      "0.4426229508196721\n",
      "0.45161290322580644\n",
      "0.4444444444444444\n",
      "0.4375\n",
      "0.4307692307692308\n",
      "0.42424242424242425\n",
      "0.43283582089552236\n",
      "0.4264705882352941\n",
      "0.43478260869565216\n",
      "0.42857142857142855\n",
      "0.4225352112676056\n",
      "0.4305555555555556\n",
      "0.4383561643835616\n",
      "0.43243243243243246\n",
      "0.44\n",
      "0.4342105263157895\n",
      "0.42857142857142855\n",
      "0.4358974358974359\n",
      "0.43037974683544306\n",
      "0.425\n",
      "0.41975308641975306\n",
      "0.4268292682926829\n",
      "0.42168674698795183\n",
      "0.4166666666666667\n",
      "0.4235294117647059\n",
      "0.43023255813953487\n",
      "0.4367816091954023\n",
      "0.4431818181818182\n",
      "0.449438202247191\n",
      "0.4444444444444444\n",
      "0.43956043956043955\n",
      "0.44565217391304346\n",
      "0.44086021505376344\n",
      "0.43617021276595747\n",
      "0.43157894736842106\n",
      "0.4270833333333333\n",
      "0.4329896907216495\n",
      "0.42857142857142855\n",
      "0.43434343434343436\n",
      "0.44\n",
      "0.44554455445544555\n",
      "0.4411764705882353\n",
      "0.44660194174757284\n",
      "0.4423076923076923\n",
      "0.4380952380952381\n",
      "0.4339622641509434\n",
      "0.4392523364485981\n",
      "0.4351851851851852\n",
      "0.44036697247706424\n",
      "0.44545454545454544\n",
      "0.44144144144144143\n",
      "0.4375\n",
      "0.4336283185840708\n",
      "0.4298245614035088\n",
      "0.43478260869565216\n",
      "0.43103448275862066\n",
      "0.4358974358974359\n",
      "0.4406779661016949\n",
      "0.4369747899159664\n",
      "0.43333333333333335\n",
      "0.4380165289256198\n",
      "0.4344262295081967\n",
      "0.43089430894308944\n",
      "0.4274193548387097\n",
      "0.424\n",
      "0.42857142857142855\n",
      "0.4330708661417323\n",
      "0.4375\n",
      "0.43410852713178294\n",
      "0.4307692307692308\n",
      "0.42748091603053434\n",
      "0.42424242424242425\n",
      "0.42105263157894735\n",
      "0.417910447761194\n",
      "0.4222222222222222\n",
      "0.41911764705882354\n",
      "0.41605839416058393\n",
      "0.42028985507246375\n"
     ]
    }
   ],
   "source": [
    "for i in success_rate[40:]:\n",
    "    print(i)"
   ]
  },
  {
   "cell_type": "code",
   "execution_count": 84,
   "metadata": {},
   "outputs": [
    {
     "data": {
      "text/plain": [
       "(0.4, 0.52)"
      ]
     },
     "execution_count": 84,
     "metadata": {},
     "output_type": "execute_result"
    },
    {
     "data": {
      "image/png": "[encoded data removed]",
      "text/plain": [
       "<Figure size 432x288 with 1 Axes>"
      ]
     },
     "metadata": {},
     "output_type": "display_data"
    }
   ],
   "source": [
    "plt.plot(success_rate)\n",
    "plt.ylim(0.40, 0.52)"
   ]
  },
  {
   "cell_type": "code",
   "execution_count": 85,
   "metadata": {},
   "outputs": [
    {
     "name": "stderr",
     "output_type": "stream",
     "text": [
      "/Users/alexandergreen/anaconda/lib/python3.6/site-packages/statsmodels/compat/pandas.py:56: FutureWarning: The pandas.core.datetools module is deprecated and will be removed in a future version. Please use the pandas.tseries module instead.\n",
      "  from pandas.core import datetools\n"
     ]
    }
   ],
   "source": [
    "from statsmodels.tsa.stattools import adfuller"
   ]
  },
  {
   "cell_type": "code",
   "execution_count": 110,
   "metadata": {},
   "outputs": [
    {
     "name": "stdout",
     "output_type": "stream",
     "text": [
      "ADF Statistic: -2.531152\n",
      "p-value: 0.108077\n",
      "Critical Values:\n",
      "\t1%: -3.482\n",
      "\t5%: -2.884\n",
      "\t10%: -2.579\n"
     ]
    }
   ],
   "source": [
    "result = adfuller(success_rate)\n",
    "\n",
    "print('ADF Statistic: %f' % result[0])\n",
    "print('p-value: %f' % result[1])\n",
    "print('Critical Values:')\n",
    "for key, value in result[4].items():\n",
    "\tprint('\\t%s: %.3f' % (key, value))"
   ]
  },
  {
   "cell_type": "code",
   "execution_count": 91,
   "metadata": {},
   "outputs": [
    {
     "data": {
      "text/plain": [
       "(array([ 2.,  0.,  0.,  2.,  0.,  0.,  2.,  0.,  0.,  0.,  0.,  1.,  0.,\n",
       "         0.,  0.,  0.,  1.,  0.,  0.,  0.,  1.,  4.,  8.,  9., 17., 20.,\n",
       "        18.,  8.,  7.,  2.,  1.,  3.,  1.,  2.,  1.,  3.,  0.,  3.,  0.,\n",
       "         2.]),\n",
       " array([0.31818182, 0.32272727, 0.32727273, 0.33181818, 0.33636364,\n",
       "        0.34090909, 0.34545455, 0.35      , 0.35454545, 0.35909091,\n",
       "        0.36363636, 0.36818182, 0.37272727, 0.37727273, 0.38181818,\n",
       "        0.38636364, 0.39090909, 0.39545455, 0.4       , 0.40454545,\n",
       "        0.40909091, 0.41363636, 0.41818182, 0.42272727, 0.42727273,\n",
       "        0.43181818, 0.43636364, 0.44090909, 0.44545455, 0.45      ,\n",
       "        0.45454545, 0.45909091, 0.46363636, 0.46818182, 0.47272727,\n",
       "        0.47727273, 0.48181818, 0.48636364, 0.49090909, 0.49545455,\n",
       "        0.5       ]),\n",
       " <a list of 40 Patch objects>)"
      ]
     },
     "execution_count": 91,
     "metadata": {},
     "output_type": "execute_result"
    },
    {
     "data": {
      "image/png": "[encoded data removed]",
      "text/plain": [
       "<Figure size 432x288 with 1 Axes>"
      ]
     },
     "metadata": {},
     "output_type": "display_data"
    }
   ],
   "source": [
    "plt.hist(success_rate[20:], bins=40)"
   ]
  },
  {
   "cell_type": "code",
   "execution_count": 54,
   "metadata": {
    "collapsed": true
   },
   "outputs": [],
   "source": [
    "df_l_pick = df_odds[df_odds.pred_result_l == \"D\"]"
   ]
  },
  {
   "cell_type": "code",
   "execution_count": 93,
   "metadata": {},
   "outputs": [
    {
     "data": {
      "text/plain": [
       "6119.476999999999"
      ]
     },
     "execution_count": 93,
     "metadata": {},
     "output_type": "execute_result"
    },
    {
     "data": {
      "image/png": "[encoded data removed]",
      "text/plain": [
       "<Figure size 432x288 with 1 Axes>"
      ]
     },
     "metadata": {},
     "output_type": "display_data"
    }
   ],
   "source": [
    "money = starting_money\n",
    "money_history = [money]\n",
    "for row in df_l_pick.itertuples():\n",
    "    stake = round(money * percentage_stake, -1)\n",
    "    money -= stake\n",
    "    if row.predict_draw_success_l:\n",
    "        money += stake * row.BbMxD * 0.99\n",
    "    money_history.append(money)\n",
    "    \n",
    "\n",
    "plt.plot(money_history)\n",
    "money_history[-1]"
   ]
  },
  {
   "cell_type": "code",
   "execution_count": 55,
   "metadata": {},
   "outputs": [],
   "source": [
    "df_m_pick = df_odds[df_odds.pred_result_m == \"D\"]"
   ]
  },
  {
   "cell_type": "code",
   "execution_count": 111,
   "metadata": {},
   "outputs": [
    {
     "data": {
      "text/plain": [
       "5447.599999999997"
      ]
     },
     "execution_count": 111,
     "metadata": {},
     "output_type": "execute_result"
    },
    {
     "data": {
      "image/png": "[encoded data removed]",
      "text/plain": [
       "<Figure size 432x288 with 1 Axes>"
      ]
     },
     "metadata": {},
     "output_type": "display_data"
    }
   ],
   "source": [
    "money = starting_money\n",
    "money_history = [money]\n",
    "for row in df_m_pick.itertuples():\n",
    "    stake = round(money * percentage_stake, -1)\n",
    "    money -= stake\n",
    "    if row.predict_draw_success_m:\n",
    "        money += stake * row.BbMxD\n",
    "    money_history.append(money)\n",
    "    \n",
    "\n",
    "plt.plot(money_history)\n",
    "money_history[-1]"
   ]
  },
  {
   "cell_type": "code",
   "execution_count": 94,
   "metadata": {
    "collapsed": true
   },
   "outputs": [],
   "source": [
    "success_rate_l = []\n",
    "for i in range(1, len(df_l_pick)):\n",
    "    picks_so_far = i\n",
    "    df_so_far = df_l_pick.iloc[:i]\n",
    "    successes_so_far = len(df_so_far[df_so_far.predict_draw_success_l])\n",
    "    rate_so_far = successes_so_far / picks_so_far\n",
    "    success_rate_l.append(rate_so_far)"
   ]
  },
  {
   "cell_type": "code",
   "execution_count": 95,
   "metadata": {},
   "outputs": [
    {
     "data": {
      "text/plain": [
       "[<matplotlib.lines.Line2D at 0x11a5e7668>]"
      ]
     },
     "execution_count": 95,
     "metadata": {},
     "output_type": "execute_result"
    },
    {
     "data": {
      "image/png": "[encoded data removed]",
      "text/plain": [
       "<Figure size 432x288 with 1 Axes>"
      ]
     },
     "metadata": {},
     "output_type": "display_data"
    }
   ],
   "source": [
    "plt.plot(success_rate_l)"
   ]
  },
  {
   "cell_type": "code",
   "execution_count": 97,
   "metadata": {},
   "outputs": [
    {
     "name": "stdout",
     "output_type": "stream",
     "text": [
      "ADF Statistic: -2.908569\n",
      "p-value: 0.044361\n",
      "Critical Values:\n",
      "\t1%: -3.456\n",
      "\t5%: -2.873\n",
      "\t10%: -2.573\n"
     ]
    }
   ],
   "source": [
    "result = adfuller(success_rate_l[150:])\n",
    "\n",
    "print('ADF Statistic: %f' % result[0])\n",
    "print('p-value: %f' % result[1])\n",
    "print('Critical Values:')\n",
    "for key, value in result[4].items():\n",
    "\tprint('\\t%s: %.3f' % (key, value))"
   ]
  },
  {
   "cell_type": "code",
   "execution_count": 100,
   "metadata": {},
   "outputs": [
    {
     "data": {
      "text/plain": [
       "[<matplotlib.lines.Line2D at 0x11a5920f0>]"
      ]
     },
     "execution_count": 100,
     "metadata": {},
     "output_type": "execute_result"
    },
    {
     "data": {
      "image/png": "[encoded data removed]",
      "text/plain": [
       "<Figure size 432x288 with 1 Axes>"
      ]
     },
     "metadata": {},
     "output_type": "display_data"
    }
   ],
   "source": [
    "plt.ylim(0.30, 0.4)\n",
    "plt.xlim(50,450)\n",
    "plt.plot(success_rate_l)"
   ]
  },
  {
   "cell_type": "code",
   "execution_count": 103,
   "metadata": {
    "collapsed": true
   },
   "outputs": [],
   "source": [
    "success_rate_m = []\n",
    "for i in range(1, len(df_m_pick)):\n",
    "    picks_so_far = i\n",
    "    df_so_far = df_m_pick.iloc[:i]\n",
    "    successes_so_far = len(df_so_far[df_so_far.predict_draw_success_m])\n",
    "    rate_so_far = successes_so_far / picks_so_far\n",
    "    success_rate_m.append(rate_so_far)"
   ]
  },
  {
   "cell_type": "code",
   "execution_count": 104,
   "metadata": {},
   "outputs": [
    {
     "data": {
      "text/plain": [
       "[<matplotlib.lines.Line2D at 0x111f6b6a0>]"
      ]
     },
     "execution_count": 104,
     "metadata": {},
     "output_type": "execute_result"
    },
    {
     "data": {
      "image/png": "[encoded data removed]",
      "text/plain": [
       "<Figure size 432x288 with 1 Axes>"
      ]
     },
     "metadata": {},
     "output_type": "display_data"
    }
   ],
   "source": [
    "plt.plot(success_rate_m)"
   ]
  },
  {
   "cell_type": "code",
   "execution_count": 105,
   "metadata": {},
   "outputs": [
    {
     "name": "stdout",
     "output_type": "stream",
     "text": [
      "ADF Statistic: -1.458417\n",
      "p-value: 0.553972\n",
      "Critical Values:\n",
      "\t1%: -3.458\n",
      "\t5%: -2.874\n",
      "\t10%: -2.573\n"
     ]
    }
   ],
   "source": [
    "result = adfuller(success_rate_m[100:])\n",
    "\n",
    "print('ADF Statistic: %f' % result[0])\n",
    "print('p-value: %f' % result[1])\n",
    "print('Critical Values:')\n",
    "for key, value in result[4].items():\n",
    "\tprint('\\t%s: %.3f' % (key, value))"
   ]
  },
  {
   "cell_type": "code",
   "execution_count": 106,
   "metadata": {},
   "outputs": [
    {
     "data": {
      "text/plain": [
       "[<matplotlib.lines.Line2D at 0x111fca908>]"
      ]
     },
     "execution_count": 106,
     "metadata": {},
     "output_type": "execute_result"
    },
    {
     "data": {
      "image/png": "[encoded data removed]",
      "text/plain": [
       "<Figure size 432x288 with 1 Axes>"
      ]
     },
     "metadata": {},
     "output_type": "display_data"
    }
   ],
   "source": [
    "plt.ylim(0.30, 0.4)\n",
    "plt.plot(success_rate_m[100:])"
   ]
  },
  {
   "cell_type": "markdown",
   "metadata": {},
   "source": [
    "MERSON IS NOT CONSTANT"
   ]
  },
  {
   "cell_type": "markdown",
   "metadata": {
    "collapsed": true
   },
   "source": [
    "# Analysis by team"
   ]
  },
  {
   "cell_type": "code",
   "execution_count": 67,
   "metadata": {
    "collapsed": true
   },
   "outputs": [],
   "source": [
    "from collections import Counter"
   ]
  },
  {
   "cell_type": "code",
   "execution_count": 69,
   "metadata": {
    "collapsed": true
   },
   "outputs": [],
   "source": [
    "a = Counter(list(df_both_pick.Home) + list(df_both_pick.Away))"
   ]
  },
  {
   "cell_type": "code",
   "execution_count": 71,
   "metadata": {},
   "outputs": [
    {
     "data": {
      "text/plain": [
       "[('Liverpool', 21),\n",
       " ('Everton', 20),\n",
       " ('Tottenham', 20),\n",
       " ('Arsenal', 16),\n",
       " ('Sunderland', 16),\n",
       " ('Newcastle', 15),\n",
       " ('Man United', 15),\n",
       " ('West Ham', 15),\n",
       " ('West Brom', 15),\n",
       " ('Swansea', 14),\n",
       " ('Chelsea', 13),\n",
       " ('Stoke', 12),\n",
       " ('Crystal Palace', 11),\n",
       " ('Leicester', 11),\n",
       " ('Man City', 11),\n",
       " ('Watford', 10),\n",
       " ('Bournemouth', 9),\n",
       " ('Southampton', 7),\n",
       " ('Aston Villa', 5),\n",
       " ('Burnley', 5),\n",
       " ('Brighton', 5),\n",
       " ('Middlesbrough', 3),\n",
       " ('QPR', 2),\n",
       " ('Norwich', 2),\n",
       " ('Hull', 2),\n",
       " ('Huddersfield', 2),\n",
       " ('Cardiff', 1)]"
      ]
     },
     "execution_count": 71,
     "metadata": {},
     "output_type": "execute_result"
    }
   ],
   "source": [
    "a.most_common()"
   ]
  },
  {
   "cell_type": "markdown",
   "metadata": {},
   "source": [
    "Hypothesis - their judgement is clouded. Liverpool, Everton Spurs and Arsenal. Check by team"
   ]
  },
  {
   "cell_type": "code",
   "execution_count": 73,
   "metadata": {
    "collapsed": true
   },
   "outputs": [],
   "source": [
    "df_both_pick_liverpool = df_both_pick[(df_both_pick.Home == \"Liverpool\") | (df_both_pick.Away == \"Liverpool\")]"
   ]
  },
  {
   "cell_type": "code",
   "execution_count": 74,
   "metadata": {
    "collapsed": true
   },
   "outputs": [],
   "source": [
    "df_both_pick_everton = df_both_pick[(df_both_pick.Home == \"Everton\") | (df_both_pick.Away == \"Everton\")]"
   ]
  },
  {
   "cell_type": "code",
   "execution_count": 75,
   "metadata": {
    "collapsed": true
   },
   "outputs": [],
   "source": [
    "df_both_pick_arsenal = df_both_pick[(df_both_pick.Home == \"Arsenal\") | (df_both_pick.Away == \"Arsenal\")]"
   ]
  },
  {
   "cell_type": "code",
   "execution_count": 76,
   "metadata": {
    "collapsed": true
   },
   "outputs": [],
   "source": [
    "df_both_pick_spurs = df_both_pick[(df_both_pick.Home == \"Tottenham\") | (df_both_pick.Away == \"Tottenham\")]"
   ]
  },
  {
   "cell_type": "code",
   "execution_count": 83,
   "metadata": {},
   "outputs": [
    {
     "data": {
      "text/plain": [
       "0.3333333333333333"
      ]
     },
     "execution_count": 83,
     "metadata": {},
     "output_type": "execute_result"
    }
   ],
   "source": [
    "len(df_both_pick_liverpool[df_both_pick_liverpool.predict_draw_success_m & df_both_pick_liverpool.predict_draw_success_l]) /len(df_both_pick_liverpool)"
   ]
  },
  {
   "cell_type": "code",
   "execution_count": 80,
   "metadata": {},
   "outputs": [
    {
     "data": {
      "text/plain": [
       "0.55"
      ]
     },
     "execution_count": 80,
     "metadata": {},
     "output_type": "execute_result"
    }
   ],
   "source": [
    "len(df_both_pick_everton[df_both_pick_everton.predict_draw_success_m & df_both_pick_everton.predict_draw_success_l])/len(df_bo)"
   ]
  },
  {
   "cell_type": "code",
   "execution_count": 81,
   "metadata": {},
   "outputs": [
    {
     "data": {
      "text/plain": [
       "0.4375"
      ]
     },
     "execution_count": 81,
     "metadata": {},
     "output_type": "execute_result"
    }
   ],
   "source": [
    "len(df_both_pick_arsenal[df_both_pick_arsenal.predict_draw_success_m & df_both_pick_arsenal.predict_draw_success_l])/len(df_both_pick_arsenal)"
   ]
  },
  {
   "cell_type": "code",
   "execution_count": 84,
   "metadata": {},
   "outputs": [
    {
     "data": {
      "text/plain": [
       "0.3"
      ]
     },
     "execution_count": 84,
     "metadata": {},
     "output_type": "execute_result"
    }
   ],
   "source": [
    "len(df_both_pick_spurs[df_both_pick_spurs.predict_draw_success_m & df_both_pick_spurs.predict_draw_success_l])/len(df_both_pick_spurs)"
   ]
  },
  {
   "cell_type": "code",
   "execution_count": 85,
   "metadata": {},
   "outputs": [
    {
     "data": {
      "text/plain": [
       "6"
      ]
     },
     "execution_count": 85,
     "metadata": {},
     "output_type": "execute_result"
    }
   ],
   "source": [
    "len(df_both_pick_spurs[df_both_pick_spurs.predict_draw_success_m & df_both_pick_spurs.predict_draw_success_l])"
   ]
  },
  {
   "cell_type": "code",
   "execution_count": 86,
   "metadata": {},
   "outputs": [
    {
     "data": {
      "text/plain": [
       "20"
      ]
     },
     "execution_count": 86,
     "metadata": {},
     "output_type": "execute_result"
    }
   ],
   "source": [
    "len(df_both_pick_spurs)"
   ]
  },
  {
   "cell_type": "code",
   "execution_count": 88,
   "metadata": {},
   "outputs": [
    {
     "data": {
      "text/plain": [
       "119"
      ]
     },
     "execution_count": 88,
     "metadata": {},
     "output_type": "execute_result"
    }
   ],
   "source": [
    "len(df_both_pick[~((df_both_pick.Home == \"Tottenham\") | (df_both_pick.Away == \"Tottenham\"))])"
   ]
  },
  {
   "cell_type": "markdown",
   "metadata": {
    "collapsed": true
   },
   "source": [
    "Is merson any better or worse with spurs/arsenal?"
   ]
  },
  {
   "cell_type": "code",
   "execution_count": 57,
   "metadata": {},
   "outputs": [],
   "source": [
    "df_m_pick_arsenal = df_m_pick[(df_m_pick.Home == \"Arsenal\") | (df_m_pick.Away == \"Arsenal\")]"
   ]
  },
  {
   "cell_type": "code",
   "execution_count": 59,
   "metadata": {},
   "outputs": [
    {
     "data": {
      "text/plain": [
       "23"
      ]
     },
     "execution_count": 59,
     "metadata": {},
     "output_type": "execute_result"
    }
   ],
   "source": [
    "len(df_m_pick_arsenal)"
   ]
  },
  {
   "cell_type": "code",
   "execution_count": 60,
   "metadata": {},
   "outputs": [
    {
     "data": {
      "text/plain": [
       "8"
      ]
     },
     "execution_count": 60,
     "metadata": {},
     "output_type": "execute_result"
    }
   ],
   "source": [
    "len(df_m_pick_arsenal[df_m_pick_arsenal.predict_draw_success_m])"
   ]
  },
  {
   "cell_type": "code",
   "execution_count": 63,
   "metadata": {},
   "outputs": [
    {
     "data": {
      "text/plain": [
       "0.35"
      ]
     },
     "execution_count": 63,
     "metadata": {},
     "output_type": "execute_result"
    }
   ],
   "source": [
    "round(8/23, 2)"
   ]
  },
  {
   "cell_type": "markdown",
   "metadata": {},
   "source": [
    "Same as his usual rate of 33%"
   ]
  },
  {
   "cell_type": "code",
   "execution_count": null,
   "metadata": {
    "collapsed": true
   },
   "outputs": [],
   "source": []
  },
  {
   "cell_type": "code",
   "execution_count": 65,
   "metadata": {
    "collapsed": true
   },
   "outputs": [],
   "source": [
    "df_m_pick_spurs = df_m_pick[(df_m_pick.Home == \"Tottenham\") | (df_m_pick.Away == \"Tottenham\")]"
   ]
  },
  {
   "cell_type": "code",
   "execution_count": 66,
   "metadata": {},
   "outputs": [
    {
     "data": {
      "text/plain": [
       "36"
      ]
     },
     "execution_count": 66,
     "metadata": {},
     "output_type": "execute_result"
    }
   ],
   "source": [
    "len(df_m_pick_spurs)"
   ]
  },
  {
   "cell_type": "code",
   "execution_count": 67,
   "metadata": {},
   "outputs": [
    {
     "data": {
      "text/plain": [
       "9"
      ]
     },
     "execution_count": 67,
     "metadata": {},
     "output_type": "execute_result"
    }
   ],
   "source": [
    "len(df_m_pick_spurs[df_m_pick_spurs.predict_draw_success_m])"
   ]
  },
  {
   "cell_type": "code",
   "execution_count": 68,
   "metadata": {},
   "outputs": [
    {
     "data": {
      "text/plain": [
       "0.25"
      ]
     },
     "execution_count": 68,
     "metadata": {},
     "output_type": "execute_result"
    }
   ],
   "source": [
    "round(9/36, 2)"
   ]
  },
  {
   "cell_type": "markdown",
   "metadata": {},
   "source": [
    "seems worse- let's see if it's true"
   ]
  },
  {
   "cell_type": "code",
   "execution_count": 72,
   "metadata": {
    "collapsed": true
   },
   "outputs": [],
   "source": [
    "df_m_pick_not_spurs = df_m_pick[~((df_m_pick.Home == \"Tottenham\") | (df_m_pick.Away == \"Tottenham\"))]"
   ]
  },
  {
   "cell_type": "code",
   "execution_count": 73,
   "metadata": {},
   "outputs": [
    {
     "data": {
      "text/plain": [
       "304"
      ]
     },
     "execution_count": 73,
     "metadata": {},
     "output_type": "execute_result"
    }
   ],
   "source": [
    "len(df_m_pick_not_spurs)"
   ]
  },
  {
   "cell_type": "code",
   "execution_count": 74,
   "metadata": {},
   "outputs": [
    {
     "data": {
      "text/plain": [
       "104"
      ]
     },
     "execution_count": 74,
     "metadata": {},
     "output_type": "execute_result"
    }
   ],
   "source": [
    "len(df_m_pick_not_spurs[df_m_pick_not_spurs.predict_draw_success_m])"
   ]
  },
  {
   "cell_type": "markdown",
   "metadata": {},
   "source": [
    "Not significant, p value= .26"
   ]
  },
  {
   "cell_type": "markdown",
   "metadata": {},
   "source": [
    "Is Lawro any better/worse with l/ e?"
   ]
  },
  {
   "cell_type": "code",
   "execution_count": 76,
   "metadata": {},
   "outputs": [],
   "source": [
    "df_l_pick_liv = df_l_pick[(df_l_pick.Home == \"Liverpool\") | (df_l_pick.Away == \"Liverpool\")]"
   ]
  },
  {
   "cell_type": "code",
   "execution_count": 77,
   "metadata": {},
   "outputs": [
    {
     "data": {
      "text/plain": [
       "58"
      ]
     },
     "execution_count": 77,
     "metadata": {},
     "output_type": "execute_result"
    }
   ],
   "source": [
    "len(df_l_pick_liv)"
   ]
  },
  {
   "cell_type": "code",
   "execution_count": 78,
   "metadata": {},
   "outputs": [
    {
     "data": {
      "text/plain": [
       "20"
      ]
     },
     "execution_count": 78,
     "metadata": {},
     "output_type": "execute_result"
    }
   ],
   "source": [
    "len(df_l_pick_liv[df_l_pick_liv.predict_draw_success_l])"
   ]
  },
  {
   "cell_type": "code",
   "execution_count": 79,
   "metadata": {},
   "outputs": [
    {
     "data": {
      "text/plain": [
       "0.34"
      ]
     },
     "execution_count": 79,
     "metadata": {},
     "output_type": "execute_result"
    }
   ],
   "source": [
    "round(20/58, 2)"
   ]
  },
  {
   "cell_type": "markdown",
   "metadata": {},
   "source": [
    "Exactly the same as his 34% regular rate"
   ]
  },
  {
   "cell_type": "code",
   "execution_count": null,
   "metadata": {
    "collapsed": true
   },
   "outputs": [],
   "source": []
  },
  {
   "cell_type": "code",
   "execution_count": 80,
   "metadata": {
    "collapsed": true
   },
   "outputs": [],
   "source": [
    "df_l_pick_ev = df_l_pick[(df_l_pick.Home == \"Everton\") | (df_l_pick.Away == \"Everton\")]"
   ]
  },
  {
   "cell_type": "code",
   "execution_count": 81,
   "metadata": {},
   "outputs": [
    {
     "data": {
      "text/plain": [
       "50"
      ]
     },
     "execution_count": 81,
     "metadata": {},
     "output_type": "execute_result"
    }
   ],
   "source": [
    "len(df_l_pick_ev)"
   ]
  },
  {
   "cell_type": "code",
   "execution_count": 82,
   "metadata": {},
   "outputs": [
    {
     "data": {
      "text/plain": [
       "22"
      ]
     },
     "execution_count": 82,
     "metadata": {},
     "output_type": "execute_result"
    }
   ],
   "source": [
    "len(df_l_pick_ev[df_l_pick_ev.predict_draw_success_l])"
   ]
  },
  {
   "cell_type": "code",
   "execution_count": 83,
   "metadata": {},
   "outputs": [
    {
     "data": {
      "text/plain": [
       "0.44"
      ]
     },
     "execution_count": 83,
     "metadata": {},
     "output_type": "execute_result"
    }
   ],
   "source": [
    "round(22/50, 2)"
   ]
  },
  {
   "cell_type": "code",
   "execution_count": null,
   "metadata": {
    "collapsed": true
   },
   "outputs": [],
   "source": []
  },
  {
   "cell_type": "markdown",
   "metadata": {},
   "source": [
    "A lot better than the usual average! Still not siginifcant though"
   ]
  },
  {
   "cell_type": "code",
   "execution_count": 84,
   "metadata": {
    "collapsed": true
   },
   "outputs": [],
   "source": [
    "df_l_pick_not_ev = df_l_pick[~((df_l_pick.Home == \"Everton\") | (df_l_pick.Away == \"Everton\"))]"
   ]
  },
  {
   "cell_type": "code",
   "execution_count": 85,
   "metadata": {},
   "outputs": [
    {
     "data": {
      "text/plain": [
       "360"
      ]
     },
     "execution_count": 85,
     "metadata": {},
     "output_type": "execute_result"
    }
   ],
   "source": [
    "len(df_l_pick_not_ev)"
   ]
  },
  {
   "cell_type": "code",
   "execution_count": 86,
   "metadata": {},
   "outputs": [
    {
     "data": {
      "text/plain": [
       "114"
      ]
     },
     "execution_count": 86,
     "metadata": {},
     "output_type": "execute_result"
    }
   ],
   "source": [
    "len(df_l_pick_not_ev[df_l_pick_not_ev.predict_draw_success_l])"
   ]
  },
  {
   "cell_type": "code",
   "execution_count": 87,
   "metadata": {},
   "outputs": [
    {
     "data": {
      "text/plain": [
       "410"
      ]
     },
     "execution_count": 87,
     "metadata": {},
     "output_type": "execute_result"
    }
   ],
   "source": [
    "len(df_l_pick)"
   ]
  },
  {
   "cell_type": "markdown",
   "metadata": {},
   "source": [
    "p-value is 0.08"
   ]
  }
 ],
 "metadata": {
  "kernelspec": {
   "display_name": "Python [default]",
   "language": "python",
   "name": "python3"
  },
  "language_info": {
   "codemirror_mode": {
    "name": "ipython",
    "version": 3
   },
   "file_extension": ".py",
   "mimetype": "text/x-python",
   "name": "python",
   "nbconvert_exporter": "python",
   "pygments_lexer": "ipython3",
   "version": "3.6.5"
  }
 },
 "nbformat": 4,
 "nbformat_minor": 2
}
